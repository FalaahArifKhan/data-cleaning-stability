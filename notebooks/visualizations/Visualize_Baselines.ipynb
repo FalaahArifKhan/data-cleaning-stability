{
 "cells": [
  {
   "cell_type": "code",
   "execution_count": 1,
   "id": "initial_id",
   "metadata": {
    "collapsed": true,
    "ExecuteTime": {
     "end_time": "2024-04-23T12:29:10.723656Z",
     "start_time": "2024-04-23T12:29:08.283604Z"
    }
   },
   "outputs": [],
   "source": [
    "import os\n",
    "import warnings\n",
    "\n",
    "warnings.filterwarnings('ignore')\n",
    "os.environ[\"PYTHONWARNINGS\"] = \"ignore\"\n",
    "\n",
    "import gradio as gr\n",
    "import pandas as pd\n",
    "\n",
    "from virny.datasets import ACSIncomeDataset, GermanCreditDataset, LawSchoolDataset, CardiovascularDiseaseDataset\n",
    "from virny.custom_classes.metrics_interactive_visualizer import MetricsInteractiveVisualizer\n",
    "from source.custom_classes.database_client import DatabaseClient\n",
    "from configs.constants import (EXP_COLLECTION_NAME, GERMAN_CREDIT_DATASET, BANK_MARKETING_DATASET, CARDIOVASCULAR_DISEASE_DATASET,\n",
    "                               DIABETES_DATASET, LAW_SCHOOL_DATASET, ACS_INCOME_DATASET)"
   ]
  },
  {
   "cell_type": "code",
   "execution_count": 9,
   "outputs": [],
   "source": [
    "def read_metrics_from_db(dataset_names: list, null_imputers: list, db_collection_name: str):\n",
    "    db = DatabaseClient()\n",
    "    db.connect()\n",
    "    \n",
    "    dataset_metrics_dct = dict()\n",
    "    for dataset_name in dataset_names:\n",
    "        dataset_metrics_dct[dataset_name] = dict()\n",
    "        for imputer_idx, null_imputer in enumerate(null_imputers):\n",
    "            # Extract experimental data for the defined dataset from MongoDB\n",
    "            query = {'dataset_name': dataset_name, 'null_imputer_name': null_imputer,  'tag': 'demo_20240423'}\n",
    "            records = db.execute_read_query(db_collection_name, query)\n",
    "            model_metric_df = pd.DataFrame(records)\n",
    "\n",
    "            # Capitalize column names to be consistent across the whole library\n",
    "            new_column_names = []\n",
    "            for col in model_metric_df.columns:\n",
    "                new_col_name = '_'.join([c.capitalize() for c in col.split('_')])\n",
    "                new_column_names.append(new_col_name)\n",
    "\n",
    "            model_metric_df.columns = new_column_names\n",
    "            model_metric_df = model_metric_df.drop(columns=['Model_Params', 'Tag', 'Model_Init_Seed', 'Runtime_In_Mins'])\n",
    "            model_metric_df['Model_Name'] = (model_metric_df['Model_Name'] + '__' + \n",
    "                                             model_metric_df['Null_Imputer_Name'] + '_' + \n",
    "                                             model_metric_df['Virny_Random_State'].astype(str))\n",
    "            if imputer_idx == 0:\n",
    "                dataset_metrics_dct[dataset_name][null_imputer] = model_metric_df\n",
    "            else:\n",
    "                dataset_metrics_dct[dataset_name][null_imputer] = (\n",
    "                    pd.concat([dataset_metrics_dct[dataset_name][null_imputer], model_metric_df], axis=0))\n",
    "                dataset_metrics_dct[dataset_name][null_imputer] = dataset_metrics_dct[dataset_name][null_imputer].reset_index(drop=True)\n",
    "\n",
    "            print(f'Extracted metrics for {dataset_name} dataset and {null_imputer} imputer')\n",
    "\n",
    "    db.close()\n",
    "\n",
    "    return dataset_metrics_dct"
   ],
   "metadata": {
    "collapsed": false,
    "ExecuteTime": {
     "end_time": "2024-04-23T12:31:42.754816Z",
     "start_time": "2024-04-23T12:31:42.748206Z"
    }
   },
   "id": "d0f7d735b9d50263"
  },
  {
   "cell_type": "code",
   "execution_count": 18,
   "outputs": [],
   "source": [
    "# Define configs for sample datasets\n",
    "demo_configs = {\n",
    "    ACS_INCOME_DATASET: {\n",
    "        'data_loader': ACSIncomeDataset(state=['GA'], year=2018, with_nulls=False,\n",
    "                                        subsample_size=15_000, subsample_seed=42),\n",
    "        'sensitive_attributes_dct': {'SEX': '2', 'RAC1P': ['2', '3', '4', '5', '6', '7', '8', '9'], 'SEX&RAC1P': None},\n",
    "    },\n",
    "    LAW_SCHOOL_DATASET: {\n",
    "        'data_loader': LawSchoolDataset(),\n",
    "        'sensitive_attributes_dct': {'male': '0', 'race': 'Non-White', 'male&race': None},\n",
    "    },\n",
    "    GERMAN_CREDIT_DATASET: {\n",
    "        'data_loader': GermanCreditDataset(),\n",
    "        'sensitive_attributes_dct': {'sex': 'female', 'age': [19, 20, 21, 22, 23, 24, 25], 'sex&age': None},\n",
    "    },\n",
    "    CARDIOVASCULAR_DISEASE_DATASET: {\n",
    "        'data_loader': CardiovascularDiseaseDataset(),\n",
    "        'sensitive_attributes_dct': {'gender': '1'},\n",
    "    },\n",
    "}"
   ],
   "metadata": {
    "collapsed": false,
    "ExecuteTime": {
     "end_time": "2024-04-23T12:41:42.589913Z",
     "start_time": "2024-04-23T12:41:40.844718Z"
    }
   },
   "id": "666836b8257cf788"
  },
  {
   "cell_type": "code",
   "execution_count": 19,
   "outputs": [
    {
     "name": "stdout",
     "output_type": "stream",
     "text": [
      "Extracted metrics for folk dataset and baseline imputer\n",
      "Extracted metrics for law_school dataset and baseline imputer\n",
      "Extracted metrics for german dataset and baseline imputer\n",
      "Extracted metrics for heart dataset and baseline imputer\n"
     ]
    }
   ],
   "source": [
    "dataset_metrics_dct = read_metrics_from_db(dataset_names=list(demo_configs.keys()),\n",
    "                                           null_imputers=['baseline'],\n",
    "                                           db_collection_name=EXP_COLLECTION_NAME)"
   ],
   "metadata": {
    "collapsed": false,
    "ExecuteTime": {
     "end_time": "2024-04-23T12:41:47.686196Z",
     "start_time": "2024-04-23T12:41:42.589595Z"
    }
   },
   "id": "44c2a12808d765ec"
  },
  {
   "cell_type": "code",
   "execution_count": 20,
   "outputs": [],
   "source": [
    "for dataset_name in dataset_metrics_dct.keys():\n",
    "    model_metric_df = dataset_metrics_dct[dataset_name]['baseline']\n",
    "    \n",
    "    # Create columns based on values in the Subgroup column\n",
    "    pivoted_model_metric_df = model_metric_df.pivot(columns='Subgroup', values='Metric_Value',\n",
    "                                                     index=[col for col in model_metric_df.columns\n",
    "                                                            if col not in ('Subgroup', 'Metric_Value')]).reset_index()\n",
    "    pivoted_model_metric_df = pivoted_model_metric_df.rename_axis(None, axis=1)\n",
    "\n",
    "    dataset_metrics_dct[dataset_name]['baseline'] = pivoted_model_metric_df"
   ],
   "metadata": {
    "collapsed": false,
    "ExecuteTime": {
     "end_time": "2024-04-23T12:41:48.249879Z",
     "start_time": "2024-04-23T12:41:48.223450Z"
    }
   },
   "id": "348bc2b2753b3be3"
  },
  {
   "cell_type": "code",
   "execution_count": 21,
   "outputs": [
    {
     "data": {
      "text/plain": "                  Metric            Model_Name  Virny_Random_State  \\\n0               Accuracy  lr_clf__baseline_100                 100   \n1               Accuracy  lr_clf__baseline_200                 200   \n2  Aleatoric_Uncertainty  lr_clf__baseline_100                 100   \n3  Aleatoric_Uncertainty  lr_clf__baseline_200                 200   \n4  Epistemic_Uncertainty  lr_clf__baseline_100                 100   \n\n  Dataset_Name  Num_Estimators Record_Create_Date_Time  \\\n0         folk              50 2024-04-23 11:39:36.338   \n1         folk              50 2024-04-23 12:24:26.037   \n2         folk              50 2024-04-23 11:39:36.338   \n3         folk              50 2024-04-23 12:24:26.037   \n4         folk              50 2024-04-23 11:39:36.338   \n\n                           Session_Uuid Null_Imputer_Name Evaluation_Scenario  \\\n0  be84ae66-0165-11ef-a016-ae7d8bf09115          baseline            baseline   \n1  be84ae66-0165-11ef-a016-ae7d8bf09115          baseline            baseline   \n2  be84ae66-0165-11ef-a016-ae7d8bf09115          baseline            baseline   \n3  be84ae66-0165-11ef-a016-ae7d8bf09115          baseline            baseline   \n4  be84ae66-0165-11ef-a016-ae7d8bf09115          baseline            baseline   \n\n  Experiment_Iteration  ...  SEX&RAC1P_priv SEX&RAC1P_priv_correct  \\\n0           exp_iter_1  ...        0.807987               1.000000   \n1           exp_iter_2  ...        0.811600               1.000000   \n2           exp_iter_1  ...        0.590708               0.535772   \n3           exp_iter_2  ...        0.572155               0.516852   \n4           exp_iter_1  ...        0.015859               0.014343   \n\n   SEX&RAC1P_priv_incorrect   SEX_dis  SEX_dis_correct  SEX_dis_incorrect  \\\n0                  0.000000  0.833797         1.000000           0.000000   \n1                  0.000000  0.826531         1.000000           0.000000   \n2                  0.821874  0.565570         0.515599           0.816258   \n3                  0.810392  0.555837         0.500843           0.817869   \n4                  0.022235  0.015082         0.013374           0.023649   \n\n   SEX_priv  SEX_priv_correct  SEX_priv_incorrect   overall  \n0  0.795134          1.000000            0.000000  0.813667  \n1  0.807843          1.000000            0.000000  0.817000  \n2  0.591517          0.534126            0.814268  0.579080  \n3  0.573127          0.519962            0.796637  0.564655  \n4  0.016275          0.014807            0.021970  0.015703  \n\n[5 rows x 31 columns]",
      "text/html": "<div>\n<style scoped>\n    .dataframe tbody tr th:only-of-type {\n        vertical-align: middle;\n    }\n\n    .dataframe tbody tr th {\n        vertical-align: top;\n    }\n\n    .dataframe thead th {\n        text-align: right;\n    }\n</style>\n<table border=\"1\" class=\"dataframe\">\n  <thead>\n    <tr style=\"text-align: right;\">\n      <th></th>\n      <th>Metric</th>\n      <th>Model_Name</th>\n      <th>Virny_Random_State</th>\n      <th>Dataset_Name</th>\n      <th>Num_Estimators</th>\n      <th>Record_Create_Date_Time</th>\n      <th>Session_Uuid</th>\n      <th>Null_Imputer_Name</th>\n      <th>Evaluation_Scenario</th>\n      <th>Experiment_Iteration</th>\n      <th>...</th>\n      <th>SEX&amp;RAC1P_priv</th>\n      <th>SEX&amp;RAC1P_priv_correct</th>\n      <th>SEX&amp;RAC1P_priv_incorrect</th>\n      <th>SEX_dis</th>\n      <th>SEX_dis_correct</th>\n      <th>SEX_dis_incorrect</th>\n      <th>SEX_priv</th>\n      <th>SEX_priv_correct</th>\n      <th>SEX_priv_incorrect</th>\n      <th>overall</th>\n    </tr>\n  </thead>\n  <tbody>\n    <tr>\n      <th>0</th>\n      <td>Accuracy</td>\n      <td>lr_clf__baseline_100</td>\n      <td>100</td>\n      <td>folk</td>\n      <td>50</td>\n      <td>2024-04-23 11:39:36.338</td>\n      <td>be84ae66-0165-11ef-a016-ae7d8bf09115</td>\n      <td>baseline</td>\n      <td>baseline</td>\n      <td>exp_iter_1</td>\n      <td>...</td>\n      <td>0.807987</td>\n      <td>1.000000</td>\n      <td>0.000000</td>\n      <td>0.833797</td>\n      <td>1.000000</td>\n      <td>0.000000</td>\n      <td>0.795134</td>\n      <td>1.000000</td>\n      <td>0.000000</td>\n      <td>0.813667</td>\n    </tr>\n    <tr>\n      <th>1</th>\n      <td>Accuracy</td>\n      <td>lr_clf__baseline_200</td>\n      <td>200</td>\n      <td>folk</td>\n      <td>50</td>\n      <td>2024-04-23 12:24:26.037</td>\n      <td>be84ae66-0165-11ef-a016-ae7d8bf09115</td>\n      <td>baseline</td>\n      <td>baseline</td>\n      <td>exp_iter_2</td>\n      <td>...</td>\n      <td>0.811600</td>\n      <td>1.000000</td>\n      <td>0.000000</td>\n      <td>0.826531</td>\n      <td>1.000000</td>\n      <td>0.000000</td>\n      <td>0.807843</td>\n      <td>1.000000</td>\n      <td>0.000000</td>\n      <td>0.817000</td>\n    </tr>\n    <tr>\n      <th>2</th>\n      <td>Aleatoric_Uncertainty</td>\n      <td>lr_clf__baseline_100</td>\n      <td>100</td>\n      <td>folk</td>\n      <td>50</td>\n      <td>2024-04-23 11:39:36.338</td>\n      <td>be84ae66-0165-11ef-a016-ae7d8bf09115</td>\n      <td>baseline</td>\n      <td>baseline</td>\n      <td>exp_iter_1</td>\n      <td>...</td>\n      <td>0.590708</td>\n      <td>0.535772</td>\n      <td>0.821874</td>\n      <td>0.565570</td>\n      <td>0.515599</td>\n      <td>0.816258</td>\n      <td>0.591517</td>\n      <td>0.534126</td>\n      <td>0.814268</td>\n      <td>0.579080</td>\n    </tr>\n    <tr>\n      <th>3</th>\n      <td>Aleatoric_Uncertainty</td>\n      <td>lr_clf__baseline_200</td>\n      <td>200</td>\n      <td>folk</td>\n      <td>50</td>\n      <td>2024-04-23 12:24:26.037</td>\n      <td>be84ae66-0165-11ef-a016-ae7d8bf09115</td>\n      <td>baseline</td>\n      <td>baseline</td>\n      <td>exp_iter_2</td>\n      <td>...</td>\n      <td>0.572155</td>\n      <td>0.516852</td>\n      <td>0.810392</td>\n      <td>0.555837</td>\n      <td>0.500843</td>\n      <td>0.817869</td>\n      <td>0.573127</td>\n      <td>0.519962</td>\n      <td>0.796637</td>\n      <td>0.564655</td>\n    </tr>\n    <tr>\n      <th>4</th>\n      <td>Epistemic_Uncertainty</td>\n      <td>lr_clf__baseline_100</td>\n      <td>100</td>\n      <td>folk</td>\n      <td>50</td>\n      <td>2024-04-23 11:39:36.338</td>\n      <td>be84ae66-0165-11ef-a016-ae7d8bf09115</td>\n      <td>baseline</td>\n      <td>baseline</td>\n      <td>exp_iter_1</td>\n      <td>...</td>\n      <td>0.015859</td>\n      <td>0.014343</td>\n      <td>0.022235</td>\n      <td>0.015082</td>\n      <td>0.013374</td>\n      <td>0.023649</td>\n      <td>0.016275</td>\n      <td>0.014807</td>\n      <td>0.021970</td>\n      <td>0.015703</td>\n    </tr>\n  </tbody>\n</table>\n<p>5 rows × 31 columns</p>\n</div>"
     },
     "execution_count": 21,
     "metadata": {},
     "output_type": "execute_result"
    }
   ],
   "source": [
    "dataset_metrics_dct[ACS_INCOME_DATASET]['baseline'].head()"
   ],
   "metadata": {
    "collapsed": false,
    "ExecuteTime": {
     "end_time": "2024-04-23T12:41:48.978801Z",
     "start_time": "2024-04-23T12:41:48.972389Z"
    }
   },
   "id": "e43ba24d4bb20f8d"
  },
  {
   "cell_type": "code",
   "execution_count": 22,
   "outputs": [],
   "source": [
    "# Create gradio demo objects for each sample dataset\n",
    "dataset_names = list(demo_configs.keys())\n",
    "sample_demos = []\n",
    "for dataset_name in dataset_names:\n",
    "    sample_demo = MetricsInteractiveVisualizer(\n",
    "        X_data=demo_configs[dataset_name]['data_loader'].X_data,\n",
    "        y_data=demo_configs[dataset_name]['data_loader'].y_data,\n",
    "        model_metrics=dataset_metrics_dct[dataset_name]['baseline'],\n",
    "        sensitive_attributes_dct=demo_configs[dataset_name]['sensitive_attributes_dct']\n",
    "    ).create_web_app(start_app=False)\n",
    "    sample_demos.append(sample_demo)"
   ],
   "metadata": {
    "collapsed": false,
    "ExecuteTime": {
     "end_time": "2024-04-23T12:41:50.293329Z",
     "start_time": "2024-04-23T12:41:49.975455Z"
    }
   },
   "id": "e34f8812fafeb7eb"
  },
  {
   "cell_type": "code",
   "execution_count": 23,
   "outputs": [
    {
     "name": "stdout",
     "output_type": "stream",
     "text": [
      "Running on local URL:  http://127.0.0.1:7860\n",
      "\n",
      "To create a public link, set `share=True` in `launch()`.\n",
      "Keyboard interruption in main thread... closing server.\n"
     ]
    },
    {
     "data": {
      "text/plain": ""
     },
     "execution_count": 23,
     "metadata": {},
     "output_type": "execute_result"
    }
   ],
   "source": [
    "# Build a web application with tabs for each sample dataset\n",
    "demo = gr.TabbedInterface(sample_demos, [name.replace('_', ' ') for name in dataset_names], theme=gr.themes.Soft())\n",
    "demo.launch(inline=False, debug=True, show_error=True)"
   ],
   "metadata": {
    "collapsed": false,
    "ExecuteTime": {
     "end_time": "2024-04-23T12:44:09.683868Z",
     "start_time": "2024-04-23T12:41:51.266115Z"
    }
   },
   "id": "c7cc0f8314cf99fc"
  },
  {
   "cell_type": "code",
   "execution_count": null,
   "outputs": [],
   "source": [],
   "metadata": {
    "collapsed": false,
    "ExecuteTime": {
     "start_time": "2024-04-23T12:29:12.520423Z"
    }
   },
   "id": "89ff26a64f23347"
  }
 ],
 "metadata": {
  "kernelspec": {
   "display_name": "Python 3",
   "language": "python",
   "name": "python3"
  },
  "language_info": {
   "codemirror_mode": {
    "name": "ipython",
    "version": 2
   },
   "file_extension": ".py",
   "mimetype": "text/x-python",
   "name": "python",
   "nbconvert_exporter": "python",
   "pygments_lexer": "ipython2",
   "version": "2.7.6"
  }
 },
 "nbformat": 4,
 "nbformat_minor": 5
}
