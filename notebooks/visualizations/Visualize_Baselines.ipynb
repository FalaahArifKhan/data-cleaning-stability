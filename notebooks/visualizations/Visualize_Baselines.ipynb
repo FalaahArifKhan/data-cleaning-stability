{
 "cells": [
  {
   "cell_type": "code",
   "execution_count": 1,
   "id": "initial_id",
   "metadata": {
    "collapsed": true,
    "ExecuteTime": {
     "end_time": "2024-06-29T21:51:54.643261Z",
     "start_time": "2024-06-29T21:51:50.024829Z"
    }
   },
   "outputs": [],
   "source": [
    "import os\n",
    "import warnings\n",
    "\n",
    "warnings.filterwarnings('ignore')\n",
    "os.environ[\"PYTHONWARNINGS\"] = \"ignore\"\n",
    "\n",
    "import gradio as gr\n",
    "import pandas as pd\n",
    "\n",
    "from virny.datasets import (ACSIncomeDataset, GermanCreditDataset, LawSchoolDataset, \n",
    "                            CardiovascularDiseaseDataset, BankMarketingDataset, DiabetesDataset2019)\n",
    "from virny.custom_classes.metrics_interactive_visualizer import MetricsInteractiveVisualizer\n",
    "from source.custom_classes.database_client import DatabaseClient\n",
    "from configs.constants import (EXP_COLLECTION_NAME, GERMAN_CREDIT_DATASET, BANK_MARKETING_DATASET, CARDIOVASCULAR_DISEASE_DATASET,\n",
    "                               DIABETES_DATASET, LAW_SCHOOL_DATASET, ACS_INCOME_DATASET)"
   ]
  },
  {
   "cell_type": "code",
   "execution_count": 2,
   "outputs": [],
   "source": [
    "def read_metrics_from_db(dataset_names: list, null_imputers: list, db_collection_name: str):\n",
    "    db = DatabaseClient()\n",
    "    db.connect()\n",
    "    \n",
    "    dataset_metrics_dct = dict()\n",
    "    for dataset_name in dataset_names:\n",
    "        dataset_metrics_dct[dataset_name] = dict()\n",
    "        for imputer_idx, null_imputer in enumerate(null_imputers):\n",
    "            # Extract experimental data for the defined dataset from MongoDB\n",
    "            # query = {'dataset_name': dataset_name, 'null_imputer_name': null_imputer,  'tag': 'demo_20240423'}\n",
    "            query = {'dataset_name': dataset_name, 'null_imputer_name': null_imputer,  'tag': 'OK'}\n",
    "            records = db.execute_read_query(db_collection_name, query)\n",
    "            model_metric_df = pd.DataFrame(records)\n",
    "\n",
    "            # Capitalize column names to be consistent across the whole library\n",
    "            new_column_names = []\n",
    "            for col in model_metric_df.columns:\n",
    "                new_col_name = '_'.join([c.capitalize() for c in col.split('_')])\n",
    "                new_column_names.append(new_col_name)\n",
    "\n",
    "            model_metric_df.columns = new_column_names\n",
    "            model_metric_df = model_metric_df.drop(columns=['Model_Params', 'Tag', 'Model_Init_Seed', 'Runtime_In_Mins'])\n",
    "            model_metric_df['Model_Name'] = (model_metric_df['Model_Name'] + '__' + \n",
    "                                             model_metric_df['Null_Imputer_Name'] + '_' + \n",
    "                                             model_metric_df['Virny_Random_State'].astype(str))\n",
    "            if imputer_idx == 0:\n",
    "                dataset_metrics_dct[dataset_name][null_imputer] = model_metric_df\n",
    "            else:\n",
    "                dataset_metrics_dct[dataset_name][null_imputer] = (\n",
    "                    pd.concat([dataset_metrics_dct[dataset_name][null_imputer], model_metric_df], axis=0))\n",
    "                dataset_metrics_dct[dataset_name][null_imputer] = dataset_metrics_dct[dataset_name][null_imputer].reset_index(drop=True)\n",
    "\n",
    "            print(f'Extracted metrics for {dataset_name} dataset and {null_imputer} imputer')\n",
    "\n",
    "    db.close()\n",
    "\n",
    "    return dataset_metrics_dct"
   ],
   "metadata": {
    "collapsed": false,
    "ExecuteTime": {
     "end_time": "2024-06-29T21:51:54.649128Z",
     "start_time": "2024-06-29T21:51:54.647874Z"
    }
   },
   "id": "d0f7d735b9d50263"
  },
  {
   "cell_type": "code",
   "execution_count": 3,
   "outputs": [],
   "source": [
    "# Define configs for sample datasets\n",
    "demo_configs = {\n",
    "    ACS_INCOME_DATASET: {\n",
    "        'data_loader': ACSIncomeDataset(state=['GA'], year=2018, with_nulls=False,\n",
    "                                        subsample_size=15_000, subsample_seed=42),\n",
    "        'sensitive_attributes_dct': {'SEX': '2', 'RAC1P': ['2', '3', '4', '5', '6', '7', '8', '9'], 'SEX&RAC1P': None},\n",
    "    },\n",
    "    LAW_SCHOOL_DATASET: {\n",
    "        'data_loader': LawSchoolDataset(),\n",
    "        'sensitive_attributes_dct': {'male': '0', 'race': 'Non-White', 'male&race': None},\n",
    "    },\n",
    "    GERMAN_CREDIT_DATASET: {\n",
    "        'data_loader': GermanCreditDataset(),\n",
    "        'sensitive_attributes_dct': {'sex': 'female', 'age': [19, 20, 21, 22, 23, 24, 25], 'sex&age': None},\n",
    "    },\n",
    "    CARDIOVASCULAR_DISEASE_DATASET: {\n",
    "        'data_loader': CardiovascularDiseaseDataset(),\n",
    "        'sensitive_attributes_dct': {'gender': '1'},\n",
    "    },\n",
    "    BANK_MARKETING_DATASET: {\n",
    "        'data_loader': BankMarketingDataset(),\n",
    "        'sensitive_attributes_dct': {'age': [18, 19, 20, 21, 22, 23, 24, 61, 62, 63, 64, 65, 66, 67, 68, 69, 70, 71, 72, 73, 74, 75,\n",
    "                                             76, 77, 78, 79, 80, 81, 82, 83, 84, 85, 86, 87, 88, 89, 95]} # gap between 89 and 95\n",
    "    },\n",
    "    DIABETES_DATASET: {\n",
    "        'data_loader': DiabetesDataset2019(),\n",
    "        'sensitive_attributes_dct': {'Gender': 'Female'},\n",
    "    },\n",
    "}"
   ],
   "metadata": {
    "collapsed": false,
    "ExecuteTime": {
     "end_time": "2024-06-29T21:51:56.256382Z",
     "start_time": "2024-06-29T21:51:54.652102Z"
    }
   },
   "id": "666836b8257cf788"
  },
  {
   "cell_type": "code",
   "execution_count": 4,
   "outputs": [
    {
     "ename": "KeyboardInterrupt",
     "evalue": "",
     "output_type": "error",
     "traceback": [
      "\u001B[0;31m---------------------------------------------------------------------------\u001B[0m",
      "\u001B[0;31mBlockingIOError\u001B[0m                           Traceback (most recent call last)",
      "File \u001B[0;32m~/Research/NYU/ML_Lifecycle_Project/Code/data-cleaning-stability/vldb_venv/lib/python3.9/site-packages/dns/query.py:513\u001B[0m, in \u001B[0;36m_udp_recv\u001B[0;34m(sock, max_size, expiration)\u001B[0m\n\u001B[1;32m    512\u001B[0m \u001B[38;5;28;01mtry\u001B[39;00m:\n\u001B[0;32m--> 513\u001B[0m     \u001B[38;5;28;01mreturn\u001B[39;00m \u001B[43msock\u001B[49m\u001B[38;5;241;43m.\u001B[39;49m\u001B[43mrecvfrom\u001B[49m\u001B[43m(\u001B[49m\u001B[43mmax_size\u001B[49m\u001B[43m)\u001B[49m\n\u001B[1;32m    514\u001B[0m \u001B[38;5;28;01mexcept\u001B[39;00m \u001B[38;5;167;01mBlockingIOError\u001B[39;00m:\n",
      "\u001B[0;31mBlockingIOError\u001B[0m: [Errno 35] Resource temporarily unavailable",
      "\nDuring handling of the above exception, another exception occurred:\n",
      "\u001B[0;31mKeyboardInterrupt\u001B[0m                         Traceback (most recent call last)",
      "Cell \u001B[0;32mIn[4], line 1\u001B[0m\n\u001B[0;32m----> 1\u001B[0m dataset_metrics_dct \u001B[38;5;241m=\u001B[39m \u001B[43mread_metrics_from_db\u001B[49m\u001B[43m(\u001B[49m\u001B[43mdataset_names\u001B[49m\u001B[38;5;241;43m=\u001B[39;49m\u001B[38;5;28;43mlist\u001B[39;49m\u001B[43m(\u001B[49m\u001B[43mdemo_configs\u001B[49m\u001B[38;5;241;43m.\u001B[39;49m\u001B[43mkeys\u001B[49m\u001B[43m(\u001B[49m\u001B[43m)\u001B[49m\u001B[43m)\u001B[49m\u001B[43m,\u001B[49m\n\u001B[1;32m      2\u001B[0m \u001B[43m                                           \u001B[49m\u001B[43mnull_imputers\u001B[49m\u001B[38;5;241;43m=\u001B[39;49m\u001B[43m[\u001B[49m\u001B[38;5;124;43m'\u001B[39;49m\u001B[38;5;124;43mbaseline\u001B[39;49m\u001B[38;5;124;43m'\u001B[39;49m\u001B[43m]\u001B[49m\u001B[43m,\u001B[49m\n\u001B[1;32m      3\u001B[0m \u001B[43m                                           \u001B[49m\u001B[43mdb_collection_name\u001B[49m\u001B[38;5;241;43m=\u001B[39;49m\u001B[43mEXP_COLLECTION_NAME\u001B[49m\u001B[43m)\u001B[49m\n",
      "Cell \u001B[0;32mIn[2], line 3\u001B[0m, in \u001B[0;36mread_metrics_from_db\u001B[0;34m(dataset_names, null_imputers, db_collection_name)\u001B[0m\n\u001B[1;32m      1\u001B[0m \u001B[38;5;28;01mdef\u001B[39;00m \u001B[38;5;21mread_metrics_from_db\u001B[39m(dataset_names: \u001B[38;5;28mlist\u001B[39m, null_imputers: \u001B[38;5;28mlist\u001B[39m, db_collection_name: \u001B[38;5;28mstr\u001B[39m):\n\u001B[1;32m      2\u001B[0m     db \u001B[38;5;241m=\u001B[39m DatabaseClient()\n\u001B[0;32m----> 3\u001B[0m     \u001B[43mdb\u001B[49m\u001B[38;5;241;43m.\u001B[39;49m\u001B[43mconnect\u001B[49m\u001B[43m(\u001B[49m\u001B[43m)\u001B[49m\n\u001B[1;32m      5\u001B[0m     dataset_metrics_dct \u001B[38;5;241m=\u001B[39m \u001B[38;5;28mdict\u001B[39m()\n\u001B[1;32m      6\u001B[0m     \u001B[38;5;28;01mfor\u001B[39;00m dataset_name \u001B[38;5;129;01min\u001B[39;00m dataset_names:\n",
      "File \u001B[0;32m~/Research/NYU/ML_Lifecycle_Project/Code/data-cleaning-stability/source/custom_classes/database_client.py:26\u001B[0m, in \u001B[0;36mDatabaseClient.connect\u001B[0;34m(self)\u001B[0m\n\u001B[1;32m     24\u001B[0m \u001B[38;5;28;01mdef\u001B[39;00m \u001B[38;5;21mconnect\u001B[39m(\u001B[38;5;28mself\u001B[39m):\n\u001B[1;32m     25\u001B[0m     \u001B[38;5;66;03m# Create a connection using MongoClient\u001B[39;00m\n\u001B[0;32m---> 26\u001B[0m     \u001B[38;5;28mself\u001B[39m\u001B[38;5;241m.\u001B[39mclient \u001B[38;5;241m=\u001B[39m \u001B[43mMongoClient\u001B[49m\u001B[43m(\u001B[49m\u001B[38;5;28;43mself\u001B[39;49m\u001B[38;5;241;43m.\u001B[39;49m\u001B[43mconnection_string\u001B[49m\u001B[43m,\u001B[49m\u001B[43m \u001B[49m\u001B[43mtlsCAFile\u001B[49m\u001B[38;5;241;43m=\u001B[39;49m\u001B[43mcertifi\u001B[49m\u001B[38;5;241;43m.\u001B[39;49m\u001B[43mwhere\u001B[49m\u001B[43m(\u001B[49m\u001B[43m)\u001B[49m\u001B[43m)\u001B[49m\n",
      "File \u001B[0;32m~/Research/NYU/ML_Lifecycle_Project/Code/data-cleaning-stability/vldb_venv/lib/python3.9/site-packages/pymongo/mongo_client.py:736\u001B[0m, in \u001B[0;36mMongoClient.__init__\u001B[0;34m(self, host, port, document_class, tz_aware, connect, type_registry, **kwargs)\u001B[0m\n\u001B[1;32m    732\u001B[0m \u001B[38;5;28;01mif\u001B[39;00m timeout \u001B[38;5;129;01mis\u001B[39;00m \u001B[38;5;129;01mnot\u001B[39;00m \u001B[38;5;28;01mNone\u001B[39;00m:\n\u001B[1;32m    733\u001B[0m     timeout \u001B[38;5;241m=\u001B[39m common\u001B[38;5;241m.\u001B[39mvalidate_timeout_or_none_or_zero(\n\u001B[1;32m    734\u001B[0m         keyword_opts\u001B[38;5;241m.\u001B[39mcased_key(\u001B[38;5;124m\"\u001B[39m\u001B[38;5;124mconnecttimeoutms\u001B[39m\u001B[38;5;124m\"\u001B[39m), timeout\n\u001B[1;32m    735\u001B[0m     )\n\u001B[0;32m--> 736\u001B[0m res \u001B[38;5;241m=\u001B[39m \u001B[43muri_parser\u001B[49m\u001B[38;5;241;43m.\u001B[39;49m\u001B[43mparse_uri\u001B[49m\u001B[43m(\u001B[49m\n\u001B[1;32m    737\u001B[0m \u001B[43m    \u001B[49m\u001B[43mentity\u001B[49m\u001B[43m,\u001B[49m\n\u001B[1;32m    738\u001B[0m \u001B[43m    \u001B[49m\u001B[43mport\u001B[49m\u001B[43m,\u001B[49m\n\u001B[1;32m    739\u001B[0m \u001B[43m    \u001B[49m\u001B[43mvalidate\u001B[49m\u001B[38;5;241;43m=\u001B[39;49m\u001B[38;5;28;43;01mTrue\u001B[39;49;00m\u001B[43m,\u001B[49m\n\u001B[1;32m    740\u001B[0m \u001B[43m    \u001B[49m\u001B[43mwarn\u001B[49m\u001B[38;5;241;43m=\u001B[39;49m\u001B[38;5;28;43;01mTrue\u001B[39;49;00m\u001B[43m,\u001B[49m\n\u001B[1;32m    741\u001B[0m \u001B[43m    \u001B[49m\u001B[43mnormalize\u001B[49m\u001B[38;5;241;43m=\u001B[39;49m\u001B[38;5;28;43;01mFalse\u001B[39;49;00m\u001B[43m,\u001B[49m\n\u001B[1;32m    742\u001B[0m \u001B[43m    \u001B[49m\u001B[43mconnect_timeout\u001B[49m\u001B[38;5;241;43m=\u001B[39;49m\u001B[43mtimeout\u001B[49m\u001B[43m,\u001B[49m\n\u001B[1;32m    743\u001B[0m \u001B[43m    \u001B[49m\u001B[43msrv_service_name\u001B[49m\u001B[38;5;241;43m=\u001B[39;49m\u001B[43msrv_service_name\u001B[49m\u001B[43m,\u001B[49m\n\u001B[1;32m    744\u001B[0m \u001B[43m    \u001B[49m\u001B[43msrv_max_hosts\u001B[49m\u001B[38;5;241;43m=\u001B[39;49m\u001B[43msrv_max_hosts\u001B[49m\u001B[43m,\u001B[49m\n\u001B[1;32m    745\u001B[0m \u001B[43m\u001B[49m\u001B[43m)\u001B[49m\n\u001B[1;32m    746\u001B[0m seeds\u001B[38;5;241m.\u001B[39mupdate(res[\u001B[38;5;124m\"\u001B[39m\u001B[38;5;124mnodelist\u001B[39m\u001B[38;5;124m\"\u001B[39m])\n\u001B[1;32m    747\u001B[0m username \u001B[38;5;241m=\u001B[39m res[\u001B[38;5;124m\"\u001B[39m\u001B[38;5;124musername\u001B[39m\u001B[38;5;124m\"\u001B[39m] \u001B[38;5;129;01mor\u001B[39;00m username\n",
      "File \u001B[0;32m~/Research/NYU/ML_Lifecycle_Project/Code/data-cleaning-stability/vldb_venv/lib/python3.9/site-packages/pymongo/uri_parser.py:542\u001B[0m, in \u001B[0;36mparse_uri\u001B[0;34m(uri, default_port, validate, warn, normalize, connect_timeout, srv_service_name, srv_max_hosts)\u001B[0m\n\u001B[1;32m    540\u001B[0m connect_timeout \u001B[38;5;241m=\u001B[39m connect_timeout \u001B[38;5;129;01mor\u001B[39;00m options\u001B[38;5;241m.\u001B[39mget(\u001B[38;5;124m\"\u001B[39m\u001B[38;5;124mconnectTimeoutMS\u001B[39m\u001B[38;5;124m\"\u001B[39m)\n\u001B[1;32m    541\u001B[0m dns_resolver \u001B[38;5;241m=\u001B[39m _SrvResolver(fqdn, connect_timeout, srv_service_name, srv_max_hosts)\n\u001B[0;32m--> 542\u001B[0m nodes \u001B[38;5;241m=\u001B[39m \u001B[43mdns_resolver\u001B[49m\u001B[38;5;241;43m.\u001B[39;49m\u001B[43mget_hosts\u001B[49m\u001B[43m(\u001B[49m\u001B[43m)\u001B[49m\n\u001B[1;32m    543\u001B[0m dns_options \u001B[38;5;241m=\u001B[39m dns_resolver\u001B[38;5;241m.\u001B[39mget_options()\n\u001B[1;32m    544\u001B[0m \u001B[38;5;28;01mif\u001B[39;00m dns_options:\n",
      "File \u001B[0;32m~/Research/NYU/ML_Lifecycle_Project/Code/data-cleaning-stability/vldb_venv/lib/python3.9/site-packages/pymongo/srv_resolver.py:121\u001B[0m, in \u001B[0;36m_SrvResolver.get_hosts\u001B[0;34m(self)\u001B[0m\n\u001B[1;32m    120\u001B[0m \u001B[38;5;28;01mdef\u001B[39;00m \u001B[38;5;21mget_hosts\u001B[39m(\u001B[38;5;28mself\u001B[39m):\n\u001B[0;32m--> 121\u001B[0m     _, nodes \u001B[38;5;241m=\u001B[39m \u001B[38;5;28;43mself\u001B[39;49m\u001B[38;5;241;43m.\u001B[39;49m\u001B[43m_get_srv_response_and_hosts\u001B[49m\u001B[43m(\u001B[49m\u001B[38;5;28;43;01mTrue\u001B[39;49;00m\u001B[43m)\u001B[49m\n\u001B[1;32m    122\u001B[0m     \u001B[38;5;28;01mreturn\u001B[39;00m nodes\n",
      "File \u001B[0;32m~/Research/NYU/ML_Lifecycle_Project/Code/data-cleaning-stability/vldb_venv/lib/python3.9/site-packages/pymongo/srv_resolver.py:101\u001B[0m, in \u001B[0;36m_SrvResolver._get_srv_response_and_hosts\u001B[0;34m(self, encapsulate_errors)\u001B[0m\n\u001B[1;32m    100\u001B[0m \u001B[38;5;28;01mdef\u001B[39;00m \u001B[38;5;21m_get_srv_response_and_hosts\u001B[39m(\u001B[38;5;28mself\u001B[39m, encapsulate_errors):\n\u001B[0;32m--> 101\u001B[0m     results \u001B[38;5;241m=\u001B[39m \u001B[38;5;28;43mself\u001B[39;49m\u001B[38;5;241;43m.\u001B[39;49m\u001B[43m_resolve_uri\u001B[49m\u001B[43m(\u001B[49m\u001B[43mencapsulate_errors\u001B[49m\u001B[43m)\u001B[49m\n\u001B[1;32m    103\u001B[0m     \u001B[38;5;66;03m# Construct address tuples\u001B[39;00m\n\u001B[1;32m    104\u001B[0m     nodes \u001B[38;5;241m=\u001B[39m [\n\u001B[1;32m    105\u001B[0m         (maybe_decode(res\u001B[38;5;241m.\u001B[39mtarget\u001B[38;5;241m.\u001B[39mto_text(omit_final_dot\u001B[38;5;241m=\u001B[39m\u001B[38;5;28;01mTrue\u001B[39;00m)), res\u001B[38;5;241m.\u001B[39mport) \u001B[38;5;28;01mfor\u001B[39;00m res \u001B[38;5;129;01min\u001B[39;00m results\n\u001B[1;32m    106\u001B[0m     ]\n",
      "File \u001B[0;32m~/Research/NYU/ML_Lifecycle_Project/Code/data-cleaning-stability/vldb_venv/lib/python3.9/site-packages/pymongo/srv_resolver.py:89\u001B[0m, in \u001B[0;36m_SrvResolver._resolve_uri\u001B[0;34m(self, encapsulate_errors)\u001B[0m\n\u001B[1;32m     87\u001B[0m \u001B[38;5;28;01mdef\u001B[39;00m \u001B[38;5;21m_resolve_uri\u001B[39m(\u001B[38;5;28mself\u001B[39m, encapsulate_errors):\n\u001B[1;32m     88\u001B[0m     \u001B[38;5;28;01mtry\u001B[39;00m:\n\u001B[0;32m---> 89\u001B[0m         results \u001B[38;5;241m=\u001B[39m \u001B[43m_resolve\u001B[49m\u001B[43m(\u001B[49m\n\u001B[1;32m     90\u001B[0m \u001B[43m            \u001B[49m\u001B[38;5;124;43m\"\u001B[39;49m\u001B[38;5;124;43m_\u001B[39;49m\u001B[38;5;124;43m\"\u001B[39;49m\u001B[43m \u001B[49m\u001B[38;5;241;43m+\u001B[39;49m\u001B[43m \u001B[49m\u001B[38;5;28;43mself\u001B[39;49m\u001B[38;5;241;43m.\u001B[39;49m\u001B[43m__srv\u001B[49m\u001B[43m \u001B[49m\u001B[38;5;241;43m+\u001B[39;49m\u001B[43m \u001B[49m\u001B[38;5;124;43m\"\u001B[39;49m\u001B[38;5;124;43m._tcp.\u001B[39;49m\u001B[38;5;124;43m\"\u001B[39;49m\u001B[43m \u001B[49m\u001B[38;5;241;43m+\u001B[39;49m\u001B[43m \u001B[49m\u001B[38;5;28;43mself\u001B[39;49m\u001B[38;5;241;43m.\u001B[39;49m\u001B[43m__fqdn\u001B[49m\u001B[43m,\u001B[49m\u001B[43m \u001B[49m\u001B[38;5;124;43m\"\u001B[39;49m\u001B[38;5;124;43mSRV\u001B[39;49m\u001B[38;5;124;43m\"\u001B[39;49m\u001B[43m,\u001B[49m\u001B[43m \u001B[49m\u001B[43mlifetime\u001B[49m\u001B[38;5;241;43m=\u001B[39;49m\u001B[38;5;28;43mself\u001B[39;49m\u001B[38;5;241;43m.\u001B[39;49m\u001B[43m__connect_timeout\u001B[49m\n\u001B[1;32m     91\u001B[0m \u001B[43m        \u001B[49m\u001B[43m)\u001B[49m\n\u001B[1;32m     92\u001B[0m     \u001B[38;5;28;01mexcept\u001B[39;00m \u001B[38;5;167;01mException\u001B[39;00m \u001B[38;5;28;01mas\u001B[39;00m exc:\n\u001B[1;32m     93\u001B[0m         \u001B[38;5;28;01mif\u001B[39;00m \u001B[38;5;129;01mnot\u001B[39;00m encapsulate_errors:\n\u001B[1;32m     94\u001B[0m             \u001B[38;5;66;03m# Raise the original error.\u001B[39;00m\n",
      "File \u001B[0;32m~/Research/NYU/ML_Lifecycle_Project/Code/data-cleaning-stability/vldb_venv/lib/python3.9/site-packages/pymongo/srv_resolver.py:43\u001B[0m, in \u001B[0;36m_resolve\u001B[0;34m(*args, **kwargs)\u001B[0m\n\u001B[1;32m     40\u001B[0m \u001B[38;5;28;01mdef\u001B[39;00m \u001B[38;5;21m_resolve\u001B[39m(\u001B[38;5;241m*\u001B[39margs, \u001B[38;5;241m*\u001B[39m\u001B[38;5;241m*\u001B[39mkwargs):\n\u001B[1;32m     41\u001B[0m     \u001B[38;5;28;01mif\u001B[39;00m \u001B[38;5;28mhasattr\u001B[39m(resolver, \u001B[38;5;124m\"\u001B[39m\u001B[38;5;124mresolve\u001B[39m\u001B[38;5;124m\"\u001B[39m):\n\u001B[1;32m     42\u001B[0m         \u001B[38;5;66;03m# dnspython >= 2\u001B[39;00m\n\u001B[0;32m---> 43\u001B[0m         \u001B[38;5;28;01mreturn\u001B[39;00m \u001B[43mresolver\u001B[49m\u001B[38;5;241;43m.\u001B[39;49m\u001B[43mresolve\u001B[49m\u001B[43m(\u001B[49m\u001B[38;5;241;43m*\u001B[39;49m\u001B[43margs\u001B[49m\u001B[43m,\u001B[49m\u001B[43m \u001B[49m\u001B[38;5;241;43m*\u001B[39;49m\u001B[38;5;241;43m*\u001B[39;49m\u001B[43mkwargs\u001B[49m\u001B[43m)\u001B[49m\n\u001B[1;32m     44\u001B[0m     \u001B[38;5;66;03m# dnspython 1.X\u001B[39;00m\n\u001B[1;32m     45\u001B[0m     \u001B[38;5;28;01mreturn\u001B[39;00m resolver\u001B[38;5;241m.\u001B[39mquery(\u001B[38;5;241m*\u001B[39margs, \u001B[38;5;241m*\u001B[39m\u001B[38;5;241m*\u001B[39mkwargs)\n",
      "File \u001B[0;32m~/Research/NYU/ML_Lifecycle_Project/Code/data-cleaning-stability/vldb_venv/lib/python3.9/site-packages/dns/resolver.py:1565\u001B[0m, in \u001B[0;36mresolve\u001B[0;34m(qname, rdtype, rdclass, tcp, source, raise_on_no_answer, source_port, lifetime, search)\u001B[0m\n\u001B[1;32m   1545\u001B[0m \u001B[38;5;28;01mdef\u001B[39;00m \u001B[38;5;21mresolve\u001B[39m(\n\u001B[1;32m   1546\u001B[0m     qname: Union[dns\u001B[38;5;241m.\u001B[39mname\u001B[38;5;241m.\u001B[39mName, \u001B[38;5;28mstr\u001B[39m],\n\u001B[1;32m   1547\u001B[0m     rdtype: Union[dns\u001B[38;5;241m.\u001B[39mrdatatype\u001B[38;5;241m.\u001B[39mRdataType, \u001B[38;5;28mstr\u001B[39m] \u001B[38;5;241m=\u001B[39m dns\u001B[38;5;241m.\u001B[39mrdatatype\u001B[38;5;241m.\u001B[39mA,\n\u001B[0;32m   (...)\u001B[0m\n\u001B[1;32m   1554\u001B[0m     search: Optional[\u001B[38;5;28mbool\u001B[39m] \u001B[38;5;241m=\u001B[39m \u001B[38;5;28;01mNone\u001B[39;00m,\n\u001B[1;32m   1555\u001B[0m ) \u001B[38;5;241m-\u001B[39m\u001B[38;5;241m>\u001B[39m Answer:  \u001B[38;5;66;03m# pragma: no cover\u001B[39;00m\n\u001B[1;32m   1556\u001B[0m \u001B[38;5;250m    \u001B[39m\u001B[38;5;124;03m\"\"\"Query nameservers to find the answer to the question.\u001B[39;00m\n\u001B[1;32m   1557\u001B[0m \n\u001B[1;32m   1558\u001B[0m \u001B[38;5;124;03m    This is a convenience function that uses the default resolver\u001B[39;00m\n\u001B[0;32m   (...)\u001B[0m\n\u001B[1;32m   1562\u001B[0m \u001B[38;5;124;03m    parameters.\u001B[39;00m\n\u001B[1;32m   1563\u001B[0m \u001B[38;5;124;03m    \"\"\"\u001B[39;00m\n\u001B[0;32m-> 1565\u001B[0m     \u001B[38;5;28;01mreturn\u001B[39;00m \u001B[43mget_default_resolver\u001B[49m\u001B[43m(\u001B[49m\u001B[43m)\u001B[49m\u001B[38;5;241;43m.\u001B[39;49m\u001B[43mresolve\u001B[49m\u001B[43m(\u001B[49m\n\u001B[1;32m   1566\u001B[0m \u001B[43m        \u001B[49m\u001B[43mqname\u001B[49m\u001B[43m,\u001B[49m\n\u001B[1;32m   1567\u001B[0m \u001B[43m        \u001B[49m\u001B[43mrdtype\u001B[49m\u001B[43m,\u001B[49m\n\u001B[1;32m   1568\u001B[0m \u001B[43m        \u001B[49m\u001B[43mrdclass\u001B[49m\u001B[43m,\u001B[49m\n\u001B[1;32m   1569\u001B[0m \u001B[43m        \u001B[49m\u001B[43mtcp\u001B[49m\u001B[43m,\u001B[49m\n\u001B[1;32m   1570\u001B[0m \u001B[43m        \u001B[49m\u001B[43msource\u001B[49m\u001B[43m,\u001B[49m\n\u001B[1;32m   1571\u001B[0m \u001B[43m        \u001B[49m\u001B[43mraise_on_no_answer\u001B[49m\u001B[43m,\u001B[49m\n\u001B[1;32m   1572\u001B[0m \u001B[43m        \u001B[49m\u001B[43msource_port\u001B[49m\u001B[43m,\u001B[49m\n\u001B[1;32m   1573\u001B[0m \u001B[43m        \u001B[49m\u001B[43mlifetime\u001B[49m\u001B[43m,\u001B[49m\n\u001B[1;32m   1574\u001B[0m \u001B[43m        \u001B[49m\u001B[43msearch\u001B[49m\u001B[43m,\u001B[49m\n\u001B[1;32m   1575\u001B[0m \u001B[43m    \u001B[49m\u001B[43m)\u001B[49m\n",
      "File \u001B[0;32m~/Research/NYU/ML_Lifecycle_Project/Code/data-cleaning-stability/vldb_venv/lib/python3.9/site-packages/dns/resolver.py:1323\u001B[0m, in \u001B[0;36mResolver.resolve\u001B[0;34m(self, qname, rdtype, rdclass, tcp, source, raise_on_no_answer, source_port, lifetime, search)\u001B[0m\n\u001B[1;32m   1321\u001B[0m timeout \u001B[38;5;241m=\u001B[39m \u001B[38;5;28mself\u001B[39m\u001B[38;5;241m.\u001B[39m_compute_timeout(start, lifetime, resolution\u001B[38;5;241m.\u001B[39merrors)\n\u001B[1;32m   1322\u001B[0m \u001B[38;5;28;01mtry\u001B[39;00m:\n\u001B[0;32m-> 1323\u001B[0m     response \u001B[38;5;241m=\u001B[39m \u001B[43mnameserver\u001B[49m\u001B[38;5;241;43m.\u001B[39;49m\u001B[43mquery\u001B[49m\u001B[43m(\u001B[49m\n\u001B[1;32m   1324\u001B[0m \u001B[43m        \u001B[49m\u001B[43mrequest\u001B[49m\u001B[43m,\u001B[49m\n\u001B[1;32m   1325\u001B[0m \u001B[43m        \u001B[49m\u001B[43mtimeout\u001B[49m\u001B[38;5;241;43m=\u001B[39;49m\u001B[43mtimeout\u001B[49m\u001B[43m,\u001B[49m\n\u001B[1;32m   1326\u001B[0m \u001B[43m        \u001B[49m\u001B[43msource\u001B[49m\u001B[38;5;241;43m=\u001B[39;49m\u001B[43msource\u001B[49m\u001B[43m,\u001B[49m\n\u001B[1;32m   1327\u001B[0m \u001B[43m        \u001B[49m\u001B[43msource_port\u001B[49m\u001B[38;5;241;43m=\u001B[39;49m\u001B[43msource_port\u001B[49m\u001B[43m,\u001B[49m\n\u001B[1;32m   1328\u001B[0m \u001B[43m        \u001B[49m\u001B[43mmax_size\u001B[49m\u001B[38;5;241;43m=\u001B[39;49m\u001B[43mtcp\u001B[49m\u001B[43m,\u001B[49m\n\u001B[1;32m   1329\u001B[0m \u001B[43m    \u001B[49m\u001B[43m)\u001B[49m\n\u001B[1;32m   1330\u001B[0m \u001B[38;5;28;01mexcept\u001B[39;00m \u001B[38;5;167;01mException\u001B[39;00m \u001B[38;5;28;01mas\u001B[39;00m ex:\n\u001B[1;32m   1331\u001B[0m     (_, done) \u001B[38;5;241m=\u001B[39m resolution\u001B[38;5;241m.\u001B[39mquery_result(\u001B[38;5;28;01mNone\u001B[39;00m, ex)\n",
      "File \u001B[0;32m~/Research/NYU/ML_Lifecycle_Project/Code/data-cleaning-stability/vldb_venv/lib/python3.9/site-packages/dns/nameserver.py:108\u001B[0m, in \u001B[0;36mDo53Nameserver.query\u001B[0;34m(self, request, timeout, source, source_port, max_size, one_rr_per_rrset, ignore_trailing)\u001B[0m\n\u001B[1;32m     97\u001B[0m     response \u001B[38;5;241m=\u001B[39m dns\u001B[38;5;241m.\u001B[39mquery\u001B[38;5;241m.\u001B[39mtcp(\n\u001B[1;32m     98\u001B[0m         request,\n\u001B[1;32m     99\u001B[0m         \u001B[38;5;28mself\u001B[39m\u001B[38;5;241m.\u001B[39maddress,\n\u001B[0;32m   (...)\u001B[0m\n\u001B[1;32m    105\u001B[0m         ignore_trailing\u001B[38;5;241m=\u001B[39mignore_trailing,\n\u001B[1;32m    106\u001B[0m     )\n\u001B[1;32m    107\u001B[0m \u001B[38;5;28;01melse\u001B[39;00m:\n\u001B[0;32m--> 108\u001B[0m     response \u001B[38;5;241m=\u001B[39m \u001B[43mdns\u001B[49m\u001B[38;5;241;43m.\u001B[39;49m\u001B[43mquery\u001B[49m\u001B[38;5;241;43m.\u001B[39;49m\u001B[43mudp\u001B[49m\u001B[43m(\u001B[49m\n\u001B[1;32m    109\u001B[0m \u001B[43m        \u001B[49m\u001B[43mrequest\u001B[49m\u001B[43m,\u001B[49m\n\u001B[1;32m    110\u001B[0m \u001B[43m        \u001B[49m\u001B[38;5;28;43mself\u001B[39;49m\u001B[38;5;241;43m.\u001B[39;49m\u001B[43maddress\u001B[49m\u001B[43m,\u001B[49m\n\u001B[1;32m    111\u001B[0m \u001B[43m        \u001B[49m\u001B[43mtimeout\u001B[49m\u001B[38;5;241;43m=\u001B[39;49m\u001B[43mtimeout\u001B[49m\u001B[43m,\u001B[49m\n\u001B[1;32m    112\u001B[0m \u001B[43m        \u001B[49m\u001B[43mport\u001B[49m\u001B[38;5;241;43m=\u001B[39;49m\u001B[38;5;28;43mself\u001B[39;49m\u001B[38;5;241;43m.\u001B[39;49m\u001B[43mport\u001B[49m\u001B[43m,\u001B[49m\n\u001B[1;32m    113\u001B[0m \u001B[43m        \u001B[49m\u001B[43msource\u001B[49m\u001B[38;5;241;43m=\u001B[39;49m\u001B[43msource\u001B[49m\u001B[43m,\u001B[49m\n\u001B[1;32m    114\u001B[0m \u001B[43m        \u001B[49m\u001B[43msource_port\u001B[49m\u001B[38;5;241;43m=\u001B[39;49m\u001B[43msource_port\u001B[49m\u001B[43m,\u001B[49m\n\u001B[1;32m    115\u001B[0m \u001B[43m        \u001B[49m\u001B[43mraise_on_truncation\u001B[49m\u001B[38;5;241;43m=\u001B[39;49m\u001B[38;5;28;43;01mTrue\u001B[39;49;00m\u001B[43m,\u001B[49m\n\u001B[1;32m    116\u001B[0m \u001B[43m        \u001B[49m\u001B[43mone_rr_per_rrset\u001B[49m\u001B[38;5;241;43m=\u001B[39;49m\u001B[43mone_rr_per_rrset\u001B[49m\u001B[43m,\u001B[49m\n\u001B[1;32m    117\u001B[0m \u001B[43m        \u001B[49m\u001B[43mignore_trailing\u001B[49m\u001B[38;5;241;43m=\u001B[39;49m\u001B[43mignore_trailing\u001B[49m\u001B[43m,\u001B[49m\n\u001B[1;32m    118\u001B[0m \u001B[43m        \u001B[49m\u001B[43mignore_errors\u001B[49m\u001B[38;5;241;43m=\u001B[39;49m\u001B[38;5;28;43;01mTrue\u001B[39;49;00m\u001B[43m,\u001B[49m\n\u001B[1;32m    119\u001B[0m \u001B[43m        \u001B[49m\u001B[43mignore_unexpected\u001B[49m\u001B[38;5;241;43m=\u001B[39;49m\u001B[38;5;28;43;01mTrue\u001B[39;49;00m\u001B[43m,\u001B[49m\n\u001B[1;32m    120\u001B[0m \u001B[43m    \u001B[49m\u001B[43m)\u001B[49m\n\u001B[1;32m    121\u001B[0m \u001B[38;5;28;01mreturn\u001B[39;00m response\n",
      "File \u001B[0;32m~/Research/NYU/ML_Lifecycle_Project/Code/data-cleaning-stability/vldb_venv/lib/python3.9/site-packages/dns/query.py:735\u001B[0m, in \u001B[0;36mudp\u001B[0;34m(q, where, timeout, port, source, source_port, ignore_unexpected, one_rr_per_rrset, ignore_trailing, raise_on_truncation, sock, ignore_errors)\u001B[0m\n\u001B[1;32m    733\u001B[0m \u001B[38;5;28;01mwith\u001B[39;00m cm \u001B[38;5;28;01mas\u001B[39;00m s:\n\u001B[1;32m    734\u001B[0m     send_udp(s, wire, destination, expiration)\n\u001B[0;32m--> 735\u001B[0m     (r, received_time) \u001B[38;5;241m=\u001B[39m \u001B[43mreceive_udp\u001B[49m\u001B[43m(\u001B[49m\n\u001B[1;32m    736\u001B[0m \u001B[43m        \u001B[49m\u001B[43ms\u001B[49m\u001B[43m,\u001B[49m\n\u001B[1;32m    737\u001B[0m \u001B[43m        \u001B[49m\u001B[43mdestination\u001B[49m\u001B[43m,\u001B[49m\n\u001B[1;32m    738\u001B[0m \u001B[43m        \u001B[49m\u001B[43mexpiration\u001B[49m\u001B[43m,\u001B[49m\n\u001B[1;32m    739\u001B[0m \u001B[43m        \u001B[49m\u001B[43mignore_unexpected\u001B[49m\u001B[43m,\u001B[49m\n\u001B[1;32m    740\u001B[0m \u001B[43m        \u001B[49m\u001B[43mone_rr_per_rrset\u001B[49m\u001B[43m,\u001B[49m\n\u001B[1;32m    741\u001B[0m \u001B[43m        \u001B[49m\u001B[43mq\u001B[49m\u001B[38;5;241;43m.\u001B[39;49m\u001B[43mkeyring\u001B[49m\u001B[43m,\u001B[49m\n\u001B[1;32m    742\u001B[0m \u001B[43m        \u001B[49m\u001B[43mq\u001B[49m\u001B[38;5;241;43m.\u001B[39;49m\u001B[43mmac\u001B[49m\u001B[43m,\u001B[49m\n\u001B[1;32m    743\u001B[0m \u001B[43m        \u001B[49m\u001B[43mignore_trailing\u001B[49m\u001B[43m,\u001B[49m\n\u001B[1;32m    744\u001B[0m \u001B[43m        \u001B[49m\u001B[43mraise_on_truncation\u001B[49m\u001B[43m,\u001B[49m\n\u001B[1;32m    745\u001B[0m \u001B[43m        \u001B[49m\u001B[43mignore_errors\u001B[49m\u001B[43m,\u001B[49m\n\u001B[1;32m    746\u001B[0m \u001B[43m        \u001B[49m\u001B[43mq\u001B[49m\u001B[43m,\u001B[49m\n\u001B[1;32m    747\u001B[0m \u001B[43m    \u001B[49m\u001B[43m)\u001B[49m\n\u001B[1;32m    748\u001B[0m     r\u001B[38;5;241m.\u001B[39mtime \u001B[38;5;241m=\u001B[39m received_time \u001B[38;5;241m-\u001B[39m begin_time\n\u001B[1;32m    749\u001B[0m     \u001B[38;5;66;03m# We don't need to check q.is_response() if we are in ignore_errors mode\u001B[39;00m\n\u001B[1;32m    750\u001B[0m     \u001B[38;5;66;03m# as receive_udp() will have checked it.\u001B[39;00m\n",
      "File \u001B[0;32m~/Research/NYU/ML_Lifecycle_Project/Code/data-cleaning-stability/vldb_venv/lib/python3.9/site-packages/dns/query.py:626\u001B[0m, in \u001B[0;36mreceive_udp\u001B[0;34m(sock, destination, expiration, ignore_unexpected, one_rr_per_rrset, keyring, request_mac, ignore_trailing, raise_on_truncation, ignore_errors, query)\u001B[0m\n\u001B[1;32m    624\u001B[0m wire \u001B[38;5;241m=\u001B[39m \u001B[38;5;124mb\u001B[39m\u001B[38;5;124m\"\u001B[39m\u001B[38;5;124m\"\u001B[39m\n\u001B[1;32m    625\u001B[0m \u001B[38;5;28;01mwhile\u001B[39;00m \u001B[38;5;28;01mTrue\u001B[39;00m:\n\u001B[0;32m--> 626\u001B[0m     (wire, from_address) \u001B[38;5;241m=\u001B[39m \u001B[43m_udp_recv\u001B[49m\u001B[43m(\u001B[49m\u001B[43msock\u001B[49m\u001B[43m,\u001B[49m\u001B[43m \u001B[49m\u001B[38;5;241;43m65535\u001B[39;49m\u001B[43m,\u001B[49m\u001B[43m \u001B[49m\u001B[43mexpiration\u001B[49m\u001B[43m)\u001B[49m\n\u001B[1;32m    627\u001B[0m     \u001B[38;5;28;01mif\u001B[39;00m \u001B[38;5;129;01mnot\u001B[39;00m _matches_destination(\n\u001B[1;32m    628\u001B[0m         sock\u001B[38;5;241m.\u001B[39mfamily, from_address, destination, ignore_unexpected\n\u001B[1;32m    629\u001B[0m     ):\n\u001B[1;32m    630\u001B[0m         \u001B[38;5;28;01mcontinue\u001B[39;00m\n",
      "File \u001B[0;32m~/Research/NYU/ML_Lifecycle_Project/Code/data-cleaning-stability/vldb_venv/lib/python3.9/site-packages/dns/query.py:515\u001B[0m, in \u001B[0;36m_udp_recv\u001B[0;34m(sock, max_size, expiration)\u001B[0m\n\u001B[1;32m    513\u001B[0m     \u001B[38;5;28;01mreturn\u001B[39;00m sock\u001B[38;5;241m.\u001B[39mrecvfrom(max_size)\n\u001B[1;32m    514\u001B[0m \u001B[38;5;28;01mexcept\u001B[39;00m \u001B[38;5;167;01mBlockingIOError\u001B[39;00m:\n\u001B[0;32m--> 515\u001B[0m     \u001B[43m_wait_for_readable\u001B[49m\u001B[43m(\u001B[49m\u001B[43msock\u001B[49m\u001B[43m,\u001B[49m\u001B[43m \u001B[49m\u001B[43mexpiration\u001B[49m\u001B[43m)\u001B[49m\n",
      "File \u001B[0;32m~/Research/NYU/ML_Lifecycle_Project/Code/data-cleaning-stability/vldb_venv/lib/python3.9/site-packages/dns/query.py:259\u001B[0m, in \u001B[0;36m_wait_for_readable\u001B[0;34m(s, expiration)\u001B[0m\n\u001B[1;32m    258\u001B[0m \u001B[38;5;28;01mdef\u001B[39;00m \u001B[38;5;21m_wait_for_readable\u001B[39m(s, expiration):\n\u001B[0;32m--> 259\u001B[0m     \u001B[43m_wait_for\u001B[49m\u001B[43m(\u001B[49m\u001B[43ms\u001B[49m\u001B[43m,\u001B[49m\u001B[43m \u001B[49m\u001B[38;5;28;43;01mTrue\u001B[39;49;00m\u001B[43m,\u001B[49m\u001B[43m \u001B[49m\u001B[38;5;28;43;01mFalse\u001B[39;49;00m\u001B[43m,\u001B[49m\u001B[43m \u001B[49m\u001B[38;5;28;43;01mTrue\u001B[39;49;00m\u001B[43m,\u001B[49m\u001B[43m \u001B[49m\u001B[43mexpiration\u001B[49m\u001B[43m)\u001B[49m\n",
      "File \u001B[0;32m~/Research/NYU/ML_Lifecycle_Project/Code/data-cleaning-stability/vldb_venv/lib/python3.9/site-packages/dns/query.py:234\u001B[0m, in \u001B[0;36m_wait_for\u001B[0;34m(fd, readable, writable, _, expiration)\u001B[0m\n\u001B[1;32m    232\u001B[0m     \u001B[38;5;28;01mif\u001B[39;00m timeout \u001B[38;5;241m<\u001B[39m\u001B[38;5;241m=\u001B[39m \u001B[38;5;241m0.0\u001B[39m:\n\u001B[1;32m    233\u001B[0m         \u001B[38;5;28;01mraise\u001B[39;00m dns\u001B[38;5;241m.\u001B[39mexception\u001B[38;5;241m.\u001B[39mTimeout\n\u001B[0;32m--> 234\u001B[0m \u001B[38;5;28;01mif\u001B[39;00m \u001B[38;5;129;01mnot\u001B[39;00m \u001B[43msel\u001B[49m\u001B[38;5;241;43m.\u001B[39;49m\u001B[43mselect\u001B[49m\u001B[43m(\u001B[49m\u001B[43mtimeout\u001B[49m\u001B[43m)\u001B[49m:\n\u001B[1;32m    235\u001B[0m     \u001B[38;5;28;01mraise\u001B[39;00m dns\u001B[38;5;241m.\u001B[39mexception\u001B[38;5;241m.\u001B[39mTimeout\n",
      "File \u001B[0;32m/Library/Developer/CommandLineTools/Library/Frameworks/Python3.framework/Versions/3.9/lib/python3.9/selectors.py:416\u001B[0m, in \u001B[0;36m_PollLikeSelector.select\u001B[0;34m(self, timeout)\u001B[0m\n\u001B[1;32m    414\u001B[0m ready \u001B[38;5;241m=\u001B[39m []\n\u001B[1;32m    415\u001B[0m \u001B[38;5;28;01mtry\u001B[39;00m:\n\u001B[0;32m--> 416\u001B[0m     fd_event_list \u001B[38;5;241m=\u001B[39m \u001B[38;5;28;43mself\u001B[39;49m\u001B[38;5;241;43m.\u001B[39;49m\u001B[43m_selector\u001B[49m\u001B[38;5;241;43m.\u001B[39;49m\u001B[43mpoll\u001B[49m\u001B[43m(\u001B[49m\u001B[43mtimeout\u001B[49m\u001B[43m)\u001B[49m\n\u001B[1;32m    417\u001B[0m \u001B[38;5;28;01mexcept\u001B[39;00m \u001B[38;5;167;01mInterruptedError\u001B[39;00m:\n\u001B[1;32m    418\u001B[0m     \u001B[38;5;28;01mreturn\u001B[39;00m ready\n",
      "\u001B[0;31mKeyboardInterrupt\u001B[0m: "
     ]
    }
   ],
   "source": [
    "dataset_metrics_dct = read_metrics_from_db(dataset_names=list(demo_configs.keys()),\n",
    "                                           null_imputers=['baseline'],\n",
    "                                           db_collection_name=EXP_COLLECTION_NAME)"
   ],
   "metadata": {
    "collapsed": false,
    "ExecuteTime": {
     "end_time": "2024-06-29T21:51:56.949536Z",
     "start_time": "2024-06-29T21:51:56.257108Z"
    }
   },
   "id": "44c2a12808d765ec"
  },
  {
   "cell_type": "code",
   "execution_count": null,
   "outputs": [],
   "source": [
    "for dataset_name in dataset_metrics_dct.keys():\n",
    "    model_metric_df = dataset_metrics_dct[dataset_name]['baseline']\n",
    "    \n",
    "    # Create columns based on values in the Subgroup column\n",
    "    pivoted_model_metric_df = model_metric_df.pivot(columns='Subgroup', values='Metric_Value',\n",
    "                                                     index=[col for col in model_metric_df.columns\n",
    "                                                            if col not in ('Subgroup', 'Metric_Value')]).reset_index()\n",
    "    pivoted_model_metric_df = pivoted_model_metric_df.rename_axis(None, axis=1)\n",
    "\n",
    "    dataset_metrics_dct[dataset_name]['baseline'] = pivoted_model_metric_df"
   ],
   "metadata": {
    "collapsed": false,
    "ExecuteTime": {
     "start_time": "2024-06-29T21:51:56.949383Z"
    }
   },
   "id": "348bc2b2753b3be3"
  },
  {
   "cell_type": "code",
   "execution_count": null,
   "outputs": [],
   "source": [
    "# Create gradio demo objects for each sample dataset\n",
    "dataset_names = list(demo_configs.keys())\n",
    "sample_demos = []\n",
    "for dataset_name in dataset_names:\n",
    "    sample_demo = MetricsInteractiveVisualizer(\n",
    "        X_data=demo_configs[dataset_name]['data_loader'].X_data,\n",
    "        y_data=demo_configs[dataset_name]['data_loader'].y_data,\n",
    "        model_metrics=dataset_metrics_dct[dataset_name]['baseline'],\n",
    "        sensitive_attributes_dct=demo_configs[dataset_name]['sensitive_attributes_dct']\n",
    "    ).create_web_app(start_app=False)\n",
    "    sample_demos.append(sample_demo)"
   ],
   "metadata": {
    "collapsed": false,
    "ExecuteTime": {
     "end_time": "2024-06-29T21:51:56.949896Z",
     "start_time": "2024-06-29T21:51:56.949736Z"
    }
   },
   "id": "e34f8812fafeb7eb"
  },
  {
   "cell_type": "code",
   "execution_count": null,
   "outputs": [],
   "source": [
    "# Build a web application with tabs for each sample dataset\n",
    "demo = gr.TabbedInterface(sample_demos, [name.replace('_', ' ') for name in dataset_names], theme=gr.themes.Soft())\n",
    "demo.launch(inline=False, debug=True, show_error=True)"
   ],
   "metadata": {
    "collapsed": false,
    "ExecuteTime": {
     "start_time": "2024-06-29T21:51:56.951076Z"
    }
   },
   "id": "c7cc0f8314cf99fc"
  },
  {
   "cell_type": "code",
   "execution_count": null,
   "outputs": [],
   "source": [],
   "metadata": {
    "collapsed": false,
    "ExecuteTime": {
     "start_time": "2024-06-29T21:51:56.951962Z"
    }
   },
   "id": "89ff26a64f23347"
  }
 ],
 "metadata": {
  "kernelspec": {
   "display_name": "Python 3",
   "language": "python",
   "name": "python3"
  },
  "language_info": {
   "codemirror_mode": {
    "name": "ipython",
    "version": 2
   },
   "file_extension": ".py",
   "mimetype": "text/x-python",
   "name": "python",
   "nbconvert_exporter": "python",
   "pygments_lexer": "ipython2",
   "version": "2.7.6"
  }
 },
 "nbformat": 4,
 "nbformat_minor": 5
}
