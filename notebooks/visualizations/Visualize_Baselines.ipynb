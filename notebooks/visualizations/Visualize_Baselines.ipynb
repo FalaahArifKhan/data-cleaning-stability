{
 "cells": [
  {
   "cell_type": "code",
   "execution_count": 1,
   "id": "initial_id",
   "metadata": {
    "collapsed": true,
    "ExecuteTime": {
     "end_time": "2024-04-23T19:34:11.431154Z",
     "start_time": "2024-04-23T19:34:08.850692Z"
    }
   },
   "outputs": [],
   "source": [
    "import os\n",
    "import warnings\n",
    "\n",
    "warnings.filterwarnings('ignore')\n",
    "os.environ[\"PYTHONWARNINGS\"] = \"ignore\"\n",
    "\n",
    "import gradio as gr\n",
    "import pandas as pd\n",
    "\n",
    "from virny.datasets import ACSIncomeDataset, GermanCreditDataset, LawSchoolDataset, CardiovascularDiseaseDataset\n",
    "from virny.custom_classes.metrics_interactive_visualizer import MetricsInteractiveVisualizer\n",
    "from source.custom_classes.database_client import DatabaseClient\n",
    "from configs.constants import (EXP_COLLECTION_NAME, GERMAN_CREDIT_DATASET, BANK_MARKETING_DATASET, CARDIOVASCULAR_DISEASE_DATASET,\n",
    "                               DIABETES_DATASET, LAW_SCHOOL_DATASET, ACS_INCOME_DATASET)"
   ]
  },
  {
   "cell_type": "code",
   "execution_count": 2,
   "outputs": [],
   "source": [
    "def read_metrics_from_db(dataset_names: list, null_imputers: list, db_collection_name: str):\n",
    "    db = DatabaseClient()\n",
    "    db.connect()\n",
    "    \n",
    "    dataset_metrics_dct = dict()\n",
    "    for dataset_name in dataset_names:\n",
    "        dataset_metrics_dct[dataset_name] = dict()\n",
    "        for imputer_idx, null_imputer in enumerate(null_imputers):\n",
    "            # Extract experimental data for the defined dataset from MongoDB\n",
    "            # query = {'dataset_name': dataset_name, 'null_imputer_name': null_imputer,  'tag': 'demo_20240423'}\n",
    "            query = {'dataset_name': dataset_name, 'null_imputer_name': null_imputer,  'tag': 'OK'}\n",
    "            records = db.execute_read_query(db_collection_name, query)\n",
    "            model_metric_df = pd.DataFrame(records)\n",
    "\n",
    "            # Capitalize column names to be consistent across the whole library\n",
    "            new_column_names = []\n",
    "            for col in model_metric_df.columns:\n",
    "                new_col_name = '_'.join([c.capitalize() for c in col.split('_')])\n",
    "                new_column_names.append(new_col_name)\n",
    "\n",
    "            model_metric_df.columns = new_column_names\n",
    "            model_metric_df = model_metric_df.drop(columns=['Model_Params', 'Tag', 'Model_Init_Seed', 'Runtime_In_Mins'])\n",
    "            model_metric_df['Model_Name'] = (model_metric_df['Model_Name'] + '__' + \n",
    "                                             model_metric_df['Null_Imputer_Name'] + '_' + \n",
    "                                             model_metric_df['Virny_Random_State'].astype(str))\n",
    "            if imputer_idx == 0:\n",
    "                dataset_metrics_dct[dataset_name][null_imputer] = model_metric_df\n",
    "            else:\n",
    "                dataset_metrics_dct[dataset_name][null_imputer] = (\n",
    "                    pd.concat([dataset_metrics_dct[dataset_name][null_imputer], model_metric_df], axis=0))\n",
    "                dataset_metrics_dct[dataset_name][null_imputer] = dataset_metrics_dct[dataset_name][null_imputer].reset_index(drop=True)\n",
    "\n",
    "            print(f'Extracted metrics for {dataset_name} dataset and {null_imputer} imputer')\n",
    "\n",
    "    db.close()\n",
    "\n",
    "    return dataset_metrics_dct"
   ],
   "metadata": {
    "collapsed": false,
    "ExecuteTime": {
     "end_time": "2024-04-23T19:34:11.437523Z",
     "start_time": "2024-04-23T19:34:11.436145Z"
    }
   },
   "id": "d0f7d735b9d50263"
  },
  {
   "cell_type": "code",
   "execution_count": 3,
   "outputs": [],
   "source": [
    "# Define configs for sample datasets\n",
    "demo_configs = {\n",
    "    ACS_INCOME_DATASET: {\n",
    "        'data_loader': ACSIncomeDataset(state=['GA'], year=2018, with_nulls=False,\n",
    "                                        subsample_size=15_000, subsample_seed=42),\n",
    "        'sensitive_attributes_dct': {'SEX': '2', 'RAC1P': ['2', '3', '4', '5', '6', '7', '8', '9'], 'SEX&RAC1P': None},\n",
    "    },\n",
    "    LAW_SCHOOL_DATASET: {\n",
    "        'data_loader': LawSchoolDataset(),\n",
    "        'sensitive_attributes_dct': {'male': '0', 'race': 'Non-White', 'male&race': None},\n",
    "    },\n",
    "    GERMAN_CREDIT_DATASET: {\n",
    "        'data_loader': GermanCreditDataset(),\n",
    "        'sensitive_attributes_dct': {'sex': 'female', 'age': [19, 20, 21, 22, 23, 24, 25], 'sex&age': None},\n",
    "    },\n",
    "    CARDIOVASCULAR_DISEASE_DATASET: {\n",
    "        'data_loader': CardiovascularDiseaseDataset(),\n",
    "        'sensitive_attributes_dct': {'gender': '1'},\n",
    "    },\n",
    "}"
   ],
   "metadata": {
    "collapsed": false,
    "ExecuteTime": {
     "end_time": "2024-04-23T19:34:13.104693Z",
     "start_time": "2024-04-23T19:34:11.439534Z"
    }
   },
   "id": "666836b8257cf788"
  },
  {
   "cell_type": "code",
   "execution_count": 4,
   "outputs": [
    {
     "name": "stdout",
     "output_type": "stream",
     "text": [
      "Extracted metrics for folk dataset and baseline imputer\n",
      "Extracted metrics for law_school dataset and baseline imputer\n",
      "Extracted metrics for german dataset and baseline imputer\n",
      "Extracted metrics for heart dataset and baseline imputer\n"
     ]
    }
   ],
   "source": [
    "dataset_metrics_dct = read_metrics_from_db(dataset_names=list(demo_configs.keys()),\n",
    "                                           null_imputers=['baseline'],\n",
    "                                           db_collection_name=EXP_COLLECTION_NAME)"
   ],
   "metadata": {
    "collapsed": false,
    "ExecuteTime": {
     "end_time": "2024-04-23T19:34:21.280069Z",
     "start_time": "2024-04-23T19:34:13.102047Z"
    }
   },
   "id": "44c2a12808d765ec"
  },
  {
   "cell_type": "code",
   "execution_count": 5,
   "outputs": [],
   "source": [
    "for dataset_name in dataset_metrics_dct.keys():\n",
    "    model_metric_df = dataset_metrics_dct[dataset_name]['baseline']\n",
    "    \n",
    "    # Create columns based on values in the Subgroup column\n",
    "    pivoted_model_metric_df = model_metric_df.pivot(columns='Subgroup', values='Metric_Value',\n",
    "                                                     index=[col for col in model_metric_df.columns\n",
    "                                                            if col not in ('Subgroup', 'Metric_Value')]).reset_index()\n",
    "    pivoted_model_metric_df = pivoted_model_metric_df.rename_axis(None, axis=1)\n",
    "\n",
    "    dataset_metrics_dct[dataset_name]['baseline'] = pivoted_model_metric_df"
   ],
   "metadata": {
    "collapsed": false,
    "ExecuteTime": {
     "end_time": "2024-04-23T19:34:21.325338Z",
     "start_time": "2024-04-23T19:34:21.278728Z"
    }
   },
   "id": "348bc2b2753b3be3"
  },
  {
   "cell_type": "code",
   "execution_count": 6,
   "outputs": [],
   "source": [
    "# Create gradio demo objects for each sample dataset\n",
    "dataset_names = list(demo_configs.keys())\n",
    "sample_demos = []\n",
    "for dataset_name in dataset_names:\n",
    "    sample_demo = MetricsInteractiveVisualizer(\n",
    "        X_data=demo_configs[dataset_name]['data_loader'].X_data,\n",
    "        y_data=demo_configs[dataset_name]['data_loader'].y_data,\n",
    "        model_metrics=dataset_metrics_dct[dataset_name]['baseline'],\n",
    "        sensitive_attributes_dct=demo_configs[dataset_name]['sensitive_attributes_dct']\n",
    "    ).create_web_app(start_app=False)\n",
    "    sample_demos.append(sample_demo)"
   ],
   "metadata": {
    "collapsed": false,
    "ExecuteTime": {
     "end_time": "2024-04-23T19:34:21.724382Z",
     "start_time": "2024-04-23T19:34:21.327204Z"
    }
   },
   "id": "e34f8812fafeb7eb"
  },
  {
   "cell_type": "code",
   "execution_count": 7,
   "outputs": [
    {
     "name": "stdout",
     "output_type": "stream",
     "text": [
      "Running on local URL:  http://127.0.0.1:7860\n",
      "\n",
      "To create a public link, set `share=True` in `launch()`.\n",
      "Keyboard interruption in main thread... closing server.\n"
     ]
    },
    {
     "data": {
      "text/plain": ""
     },
     "execution_count": 7,
     "metadata": {},
     "output_type": "execute_result"
    }
   ],
   "source": [
    "# Build a web application with tabs for each sample dataset\n",
    "demo = gr.TabbedInterface(sample_demos, [name.replace('_', ' ') for name in dataset_names], theme=gr.themes.Soft())\n",
    "demo.launch(inline=False, debug=True, show_error=True)"
   ],
   "metadata": {
    "collapsed": false,
    "ExecuteTime": {
     "end_time": "2024-04-23T19:42:21.084514Z",
     "start_time": "2024-04-23T19:34:21.727779Z"
    }
   },
   "id": "c7cc0f8314cf99fc"
  },
  {
   "cell_type": "code",
   "execution_count": 7,
   "outputs": [],
   "source": [],
   "metadata": {
    "collapsed": false,
    "ExecuteTime": {
     "end_time": "2024-04-23T19:42:21.092350Z",
     "start_time": "2024-04-23T19:42:21.037833Z"
    }
   },
   "id": "89ff26a64f23347"
  }
 ],
 "metadata": {
  "kernelspec": {
   "display_name": "Python 3",
   "language": "python",
   "name": "python3"
  },
  "language_info": {
   "codemirror_mode": {
    "name": "ipython",
    "version": 2
   },
   "file_extension": ".py",
   "mimetype": "text/x-python",
   "name": "python",
   "nbconvert_exporter": "python",
   "pygments_lexer": "ipython2",
   "version": "2.7.6"
  }
 },
 "nbformat": 4,
 "nbformat_minor": 5
}
