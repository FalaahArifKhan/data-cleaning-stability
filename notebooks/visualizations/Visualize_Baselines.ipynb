{
 "cells": [
  {
   "cell_type": "code",
   "id": "initial_id",
   "metadata": {
    "collapsed": true,
    "ExecuteTime": {
     "end_time": "2024-09-25T09:20:32.466600Z",
     "start_time": "2024-09-25T09:20:30.378008Z"
    }
   },
   "source": [
    "import os\n",
    "import warnings\n",
    "\n",
    "warnings.filterwarnings('ignore')\n",
    "os.environ[\"PYTHONWARNINGS\"] = \"ignore\"\n",
    "\n",
    "import gradio as gr\n",
    "import pandas as pd\n",
    "\n",
    "from virny.datasets import (ACSIncomeDataset, GermanCreditDataset, LawSchoolDataset, \n",
    "                            CardiovascularDiseaseDataset, BankMarketingDataset, DiabetesDataset2019)\n",
    "from virny.custom_classes.metrics_interactive_visualizer import MetricsInteractiveVisualizer\n",
    "from source.custom_classes.database_client import DatabaseClient\n",
    "from configs.constants import (EXP_COLLECTION_NAME, GERMAN_CREDIT_DATASET, BANK_MARKETING_DATASET, CARDIOVASCULAR_DISEASE_DATASET,\n",
    "                               DIABETES_DATASET, LAW_SCHOOL_DATASET, ACS_INCOME_DATASET)"
   ],
   "outputs": [],
   "execution_count": 1
  },
  {
   "cell_type": "code",
   "source": [
    "def read_metrics_from_db(dataset_names: list, null_imputers: list, db_collection_name: str):\n",
    "    db = DatabaseClient()\n",
    "    db.connect()\n",
    "    \n",
    "    dataset_metrics_dct = dict()\n",
    "    for dataset_name in dataset_names:\n",
    "        dataset_metrics_dct[dataset_name] = dict()\n",
    "        for imputer_idx, null_imputer in enumerate(null_imputers):\n",
    "            # Extract experimental data for the defined dataset from MongoDB\n",
    "            # query = {'dataset_name': dataset_name, 'null_imputer_name': null_imputer,  'tag': 'demo_20240423'}\n",
    "            query = {'dataset_name': dataset_name, 'null_imputer_name': null_imputer,  'tag': 'OK'}\n",
    "            records = db.execute_read_query(db_collection_name, query)\n",
    "            model_metric_df = pd.DataFrame(records)\n",
    "\n",
    "            # Capitalize column names to be consistent across the whole library\n",
    "            new_column_names = []\n",
    "            for col in model_metric_df.columns:\n",
    "                new_col_name = '_'.join([c.capitalize() for c in col.split('_')])\n",
    "                new_column_names.append(new_col_name)\n",
    "\n",
    "            model_metric_df.columns = new_column_names\n",
    "            model_metric_df = model_metric_df.drop(columns=['Model_Params', 'Tag', 'Model_Init_Seed', 'Runtime_In_Mins'])\n",
    "            model_metric_df['Model_Name'] = (model_metric_df['Model_Name'] + '__' + \n",
    "                                             model_metric_df['Null_Imputer_Name'] + '_' + \n",
    "                                             model_metric_df['Virny_Random_State'].astype(str))\n",
    "            if imputer_idx == 0:\n",
    "                dataset_metrics_dct[dataset_name][null_imputer] = model_metric_df\n",
    "            else:\n",
    "                dataset_metrics_dct[dataset_name][null_imputer] = (\n",
    "                    pd.concat([dataset_metrics_dct[dataset_name][null_imputer], model_metric_df], axis=0))\n",
    "                dataset_metrics_dct[dataset_name][null_imputer] = dataset_metrics_dct[dataset_name][null_imputer].reset_index(drop=True)\n",
    "\n",
    "            print(f'Extracted metrics for {dataset_name} dataset and {null_imputer} imputer')\n",
    "\n",
    "    db.close()\n",
    "\n",
    "    return dataset_metrics_dct"
   ],
   "metadata": {
    "collapsed": false,
    "ExecuteTime": {
     "end_time": "2024-09-25T09:20:32.476175Z",
     "start_time": "2024-09-25T09:20:32.470600Z"
    }
   },
   "id": "d0f7d735b9d50263",
   "outputs": [],
   "execution_count": 2
  },
  {
   "cell_type": "code",
   "source": [
    "# Define configs for sample datasets\n",
    "demo_configs = {\n",
    "    ACS_INCOME_DATASET: {\n",
    "        'data_loader': ACSIncomeDataset(state=['GA'], year=2018, with_nulls=False,\n",
    "                                        subsample_size=15_000, subsample_seed=42),\n",
    "        'sensitive_attributes_dct': {'SEX': '2', 'RAC1P': ['2', '3', '4', '5', '6', '7', '8', '9'], 'SEX&RAC1P': None},\n",
    "    },\n",
    "    LAW_SCHOOL_DATASET: {\n",
    "        'data_loader': LawSchoolDataset(),\n",
    "        'sensitive_attributes_dct': {'male': '0', 'race': 'Non-White', 'male&race': None},\n",
    "    },\n",
    "    GERMAN_CREDIT_DATASET: {\n",
    "        'data_loader': GermanCreditDataset(),\n",
    "        'sensitive_attributes_dct': {'sex': 'female', 'age': [19, 20, 21, 22, 23, 24, 25], 'sex&age': None},\n",
    "    },\n",
    "    CARDIOVASCULAR_DISEASE_DATASET: {\n",
    "        'data_loader': CardiovascularDiseaseDataset(),\n",
    "        'sensitive_attributes_dct': {'gender': '1'},\n",
    "    },\n",
    "    BANK_MARKETING_DATASET: {\n",
    "        'data_loader': BankMarketingDataset(),\n",
    "        'sensitive_attributes_dct': {'age': [18, 19, 20, 21, 22, 23, 24, 61, 62, 63, 64, 65, 66, 67, 68, 69, 70, 71, 72, 73, 74, 75,\n",
    "                                             76, 77, 78, 79, 80, 81, 82, 83, 84, 85, 86, 87, 88, 89, 95]} # gap between 89 and 95\n",
    "    },\n",
    "    DIABETES_DATASET: {\n",
    "        'data_loader': DiabetesDataset2019(),\n",
    "        'sensitive_attributes_dct': {'Gender': 'Female'},\n",
    "    },\n",
    "}"
   ],
   "metadata": {
    "collapsed": false,
    "ExecuteTime": {
     "end_time": "2024-09-25T09:20:34.102186Z",
     "start_time": "2024-09-25T09:20:32.548684Z"
    }
   },
   "id": "666836b8257cf788",
   "outputs": [],
   "execution_count": 3
  },
  {
   "cell_type": "code",
   "source": [
    "dataset_metrics_dct = read_metrics_from_db(dataset_names=list(demo_configs.keys()),\n",
    "                                           null_imputers=['baseline'],\n",
    "                                           db_collection_name=EXP_COLLECTION_NAME)"
   ],
   "metadata": {
    "collapsed": false,
    "ExecuteTime": {
     "end_time": "2024-09-25T09:22:16.051132Z",
     "start_time": "2024-09-25T09:20:34.107961Z"
    }
   },
   "id": "44c2a12808d765ec",
   "outputs": [
    {
     "name": "stdout",
     "output_type": "stream",
     "text": [
      "Extracted metrics for folk dataset and baseline imputer\n",
      "Extracted metrics for law_school dataset and baseline imputer\n",
      "Extracted metrics for german dataset and baseline imputer\n",
      "Extracted metrics for heart dataset and baseline imputer\n",
      "Extracted metrics for bank dataset and baseline imputer\n",
      "Extracted metrics for diabetes dataset and baseline imputer\n"
     ]
    }
   ],
   "execution_count": 4
  },
  {
   "cell_type": "code",
   "source": [
    "for dataset_name in dataset_metrics_dct.keys():\n",
    "    model_metric_df = dataset_metrics_dct[dataset_name]['baseline']\n",
    "    \n",
    "    # Create columns based on values in the Subgroup column\n",
    "    pivoted_model_metric_df = model_metric_df.pivot(columns='Subgroup', values='Metric_Value',\n",
    "                                                     index=[col for col in model_metric_df.columns\n",
    "                                                            if col not in ('Subgroup', 'Metric_Value')]).reset_index()\n",
    "    pivoted_model_metric_df = pivoted_model_metric_df.rename_axis(None, axis=1)\n",
    "\n",
    "    dataset_metrics_dct[dataset_name]['baseline'] = pivoted_model_metric_df"
   ],
   "metadata": {
    "collapsed": false,
    "ExecuteTime": {
     "end_time": "2024-09-25T09:22:16.157346Z",
     "start_time": "2024-09-25T09:22:16.082215Z"
    }
   },
   "id": "348bc2b2753b3be3",
   "outputs": [],
   "execution_count": 5
  },
  {
   "cell_type": "code",
   "source": [
    "# Create gradio demo objects for each sample dataset\n",
    "dataset_names = list(demo_configs.keys())\n",
    "sample_demos = []\n",
    "for dataset_name in dataset_names:\n",
    "    sample_demo = MetricsInteractiveVisualizer(\n",
    "        X_data=demo_configs[dataset_name]['data_loader'].X_data,\n",
    "        y_data=demo_configs[dataset_name]['data_loader'].y_data,\n",
    "        model_metrics=dataset_metrics_dct[dataset_name]['baseline'],\n",
    "        sensitive_attributes_dct=demo_configs[dataset_name]['sensitive_attributes_dct']\n",
    "    ).create_web_app(start_app=False)\n",
    "    sample_demos.append(sample_demo)"
   ],
   "metadata": {
    "collapsed": false,
    "ExecuteTime": {
     "end_time": "2024-09-25T09:22:17.142244Z",
     "start_time": "2024-09-25T09:22:16.161332Z"
    }
   },
   "id": "e34f8812fafeb7eb",
   "outputs": [
    {
     "name": "stdout",
     "output_type": "stream",
     "text": [
      "IMPORTANT: You are using gradio version 4.10.0, however version 4.29.0 is available, please upgrade.\n",
      "--------\n"
     ]
    }
   ],
   "execution_count": 6
  },
  {
   "cell_type": "code",
   "source": [
    "# Build a web application with tabs for each sample dataset\n",
    "demo = gr.TabbedInterface(sample_demos, [name.replace('_', ' ') for name in dataset_names], theme=gr.themes.Soft())\n",
    "demo.launch(inline=False, debug=True, show_error=True)"
   ],
   "metadata": {
    "collapsed": false,
    "ExecuteTime": {
     "end_time": "2024-09-25T09:23:19.583573Z",
     "start_time": "2024-09-25T09:22:17.212715Z"
    }
   },
   "id": "c7cc0f8314cf99fc",
   "outputs": [
    {
     "name": "stdout",
     "output_type": "stream",
     "text": [
      "Running on local URL:  http://127.0.0.1:7860\n",
      "\n",
      "To create a public link, set `share=True` in `launch()`.\n",
      "IMPORTANT: You are using gradio version 4.10.0, however version 4.29.0 is available, please upgrade.\n",
      "--------\n"
     ]
    },
    {
     "name": "stderr",
     "output_type": "stream",
     "text": [
      "Traceback (most recent call last):\n",
      "  File \"/Users/denys_herasymuk/Research/NYU/ML_Lifecycle_Project/Code/data-cleaning-stability/vldb_venv/lib/python3.9/site-packages/gradio/queueing.py\", line 459, in call_prediction\n",
      "    output = await route_utils.call_process_api(\n",
      "  File \"/Users/denys_herasymuk/Research/NYU/ML_Lifecycle_Project/Code/data-cleaning-stability/vldb_venv/lib/python3.9/site-packages/gradio/route_utils.py\", line 232, in call_process_api\n",
      "    output = await app.get_blocks().process_api(\n",
      "  File \"/Users/denys_herasymuk/Research/NYU/ML_Lifecycle_Project/Code/data-cleaning-stability/vldb_venv/lib/python3.9/site-packages/gradio/blocks.py\", line 1533, in process_api\n",
      "    result = await self.call_function(\n",
      "  File \"/Users/denys_herasymuk/Research/NYU/ML_Lifecycle_Project/Code/data-cleaning-stability/vldb_venv/lib/python3.9/site-packages/gradio/blocks.py\", line 1151, in call_function\n",
      "    prediction = await anyio.to_thread.run_sync(\n",
      "  File \"/Users/denys_herasymuk/Research/NYU/ML_Lifecycle_Project/Code/data-cleaning-stability/vldb_venv/lib/python3.9/site-packages/anyio/to_thread.py\", line 56, in run_sync\n",
      "    return await get_async_backend().run_sync_in_worker_thread(\n",
      "  File \"/Users/denys_herasymuk/Research/NYU/ML_Lifecycle_Project/Code/data-cleaning-stability/vldb_venv/lib/python3.9/site-packages/anyio/_backends/_asyncio.py\", line 2144, in run_sync_in_worker_thread\n",
      "    return await future\n",
      "  File \"/Users/denys_herasymuk/Research/NYU/ML_Lifecycle_Project/Code/data-cleaning-stability/vldb_venv/lib/python3.9/site-packages/anyio/_backends/_asyncio.py\", line 851, in run\n",
      "    result = context.run(func, *args)\n",
      "  File \"/Users/denys_herasymuk/Research/NYU/ML_Lifecycle_Project/Code/data-cleaning-stability/vldb_venv/lib/python3.9/site-packages/gradio/utils.py\", line 678, in wrapper\n",
      "    response = f(*args, **kwargs)\n",
      "  File \"/Users/denys_herasymuk/Research/NYU/ML_Lifecycle_Project/Code/data-cleaning-stability/vldb_venv/lib/python3.9/site-packages/virny/custom_classes/metrics_interactive_visualizer.py\", line 529, in _create_dataset_proportions_bar_chart\n",
      "    protected_groups = create_test_protected_groups(self.X_data, self.X_data, input_sensitive_attrs_dct)\n",
      "  File \"/Users/denys_herasymuk/Research/NYU/ML_Lifecycle_Project/Code/data-cleaning-stability/vldb_venv/lib/python3.9/site-packages/virny/utils/protected_groups_partitioning.py\", line 80, in create_test_protected_groups\n",
      "    raise ValueError(f\"At least one of sensitive attributes is not in dataset columns. Check spelling of {attrs_with_errors} attributes.\")\n",
      "ValueError: At least one of sensitive attributes is not in dataset columns. Check spelling of ['DIS', 'DREM'] attributes.\n",
      "Traceback (most recent call last):\n",
      "  File \"/Users/denys_herasymuk/Research/NYU/ML_Lifecycle_Project/Code/data-cleaning-stability/vldb_venv/lib/python3.9/site-packages/gradio/queueing.py\", line 459, in call_prediction\n",
      "    output = await route_utils.call_process_api(\n",
      "  File \"/Users/denys_herasymuk/Research/NYU/ML_Lifecycle_Project/Code/data-cleaning-stability/vldb_venv/lib/python3.9/site-packages/gradio/route_utils.py\", line 232, in call_process_api\n",
      "    output = await app.get_blocks().process_api(\n",
      "  File \"/Users/denys_herasymuk/Research/NYU/ML_Lifecycle_Project/Code/data-cleaning-stability/vldb_venv/lib/python3.9/site-packages/gradio/blocks.py\", line 1533, in process_api\n",
      "    result = await self.call_function(\n",
      "  File \"/Users/denys_herasymuk/Research/NYU/ML_Lifecycle_Project/Code/data-cleaning-stability/vldb_venv/lib/python3.9/site-packages/gradio/blocks.py\", line 1151, in call_function\n",
      "    prediction = await anyio.to_thread.run_sync(\n",
      "  File \"/Users/denys_herasymuk/Research/NYU/ML_Lifecycle_Project/Code/data-cleaning-stability/vldb_venv/lib/python3.9/site-packages/anyio/to_thread.py\", line 56, in run_sync\n",
      "    return await get_async_backend().run_sync_in_worker_thread(\n",
      "  File \"/Users/denys_herasymuk/Research/NYU/ML_Lifecycle_Project/Code/data-cleaning-stability/vldb_venv/lib/python3.9/site-packages/anyio/_backends/_asyncio.py\", line 2144, in run_sync_in_worker_thread\n",
      "    return await future\n",
      "  File \"/Users/denys_herasymuk/Research/NYU/ML_Lifecycle_Project/Code/data-cleaning-stability/vldb_venv/lib/python3.9/site-packages/anyio/_backends/_asyncio.py\", line 851, in run\n",
      "    result = context.run(func, *args)\n",
      "  File \"/Users/denys_herasymuk/Research/NYU/ML_Lifecycle_Project/Code/data-cleaning-stability/vldb_venv/lib/python3.9/site-packages/gradio/utils.py\", line 678, in wrapper\n",
      "    response = f(*args, **kwargs)\n",
      "  File \"/Users/denys_herasymuk/Research/NYU/ML_Lifecycle_Project/Code/data-cleaning-stability/vldb_venv/lib/python3.9/site-packages/virny/custom_classes/metrics_interactive_visualizer.py\", line 529, in _create_dataset_proportions_bar_chart\n",
      "    protected_groups = create_test_protected_groups(self.X_data, self.X_data, input_sensitive_attrs_dct)\n",
      "  File \"/Users/denys_herasymuk/Research/NYU/ML_Lifecycle_Project/Code/data-cleaning-stability/vldb_venv/lib/python3.9/site-packages/virny/utils/protected_groups_partitioning.py\", line 80, in create_test_protected_groups\n",
      "    raise ValueError(f\"At least one of sensitive attributes is not in dataset columns. Check spelling of {attrs_with_errors} attributes.\")\n",
      "ValueError: At least one of sensitive attributes is not in dataset columns. Check spelling of ['DIS', 'DREM'] attributes.\n",
      "\n",
      "The above exception was the direct cause of the following exception:\n",
      "\n",
      "Traceback (most recent call last):\n",
      "  File \"/Users/denys_herasymuk/Research/NYU/ML_Lifecycle_Project/Code/data-cleaning-stability/vldb_venv/lib/python3.9/site-packages/gradio/queueing.py\", line 497, in process_events\n",
      "    response = await self.call_prediction(awake_events, batch)\n",
      "  File \"/Users/denys_herasymuk/Research/NYU/ML_Lifecycle_Project/Code/data-cleaning-stability/vldb_venv/lib/python3.9/site-packages/gradio/queueing.py\", line 468, in call_prediction\n",
      "    raise Exception(str(error) if show_error else None) from error\n",
      "Exception: At least one of sensitive attributes is not in dataset columns. Check spelling of ['DIS', 'DREM'] attributes.\n"
     ]
    },
    {
     "name": "stdout",
     "output_type": "stream",
     "text": [
      "Keyboard interruption in main thread... closing server.\n"
     ]
    },
    {
     "data": {
      "text/plain": []
     },
     "execution_count": 7,
     "metadata": {},
     "output_type": "execute_result"
    }
   ],
   "execution_count": 7
  },
  {
   "cell_type": "code",
   "execution_count": null,
   "outputs": [],
   "source": [],
   "metadata": {
    "collapsed": false,
    "ExecuteTime": {
     "end_time": "2024-09-25T09:23:19.395497Z",
     "start_time": "2024-06-29T21:51:56.951962Z"
    }
   },
   "id": "89ff26a64f23347"
  }
 ],
 "metadata": {
  "kernelspec": {
   "display_name": "Python 3",
   "language": "python",
   "name": "python3"
  },
  "language_info": {
   "codemirror_mode": {
    "name": "ipython",
    "version": 2
   },
   "file_extension": ".py",
   "mimetype": "text/x-python",
   "name": "python",
   "nbconvert_exporter": "python",
   "pygments_lexer": "ipython2",
   "version": "2.7.6"
  }
 },
 "nbformat": 4,
 "nbformat_minor": 5
}
