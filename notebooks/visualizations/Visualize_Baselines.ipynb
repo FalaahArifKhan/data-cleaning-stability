{
 "cells": [
  {
   "cell_type": "code",
   "execution_count": 1,
   "id": "initial_id",
   "metadata": {
    "collapsed": true,
    "ExecuteTime": {
     "end_time": "2024-04-23T19:19:16.606588Z",
     "start_time": "2024-04-23T19:19:12.609395Z"
    }
   },
   "outputs": [],
   "source": [
    "import os\n",
    "import warnings\n",
    "\n",
    "warnings.filterwarnings('ignore')\n",
    "os.environ[\"PYTHONWARNINGS\"] = \"ignore\"\n",
    "\n",
    "import gradio as gr\n",
    "import pandas as pd\n",
    "\n",
    "from virny.datasets import ACSIncomeDataset, GermanCreditDataset, LawSchoolDataset, CardiovascularDiseaseDataset\n",
    "from virny.custom_classes.metrics_interactive_visualizer import MetricsInteractiveVisualizer\n",
    "from source.custom_classes.database_client import DatabaseClient\n",
    "from configs.constants import (EXP_COLLECTION_NAME, GERMAN_CREDIT_DATASET, BANK_MARKETING_DATASET, CARDIOVASCULAR_DISEASE_DATASET,\n",
    "                               DIABETES_DATASET, LAW_SCHOOL_DATASET, ACS_INCOME_DATASET)"
   ]
  },
  {
   "cell_type": "code",
   "execution_count": 2,
   "outputs": [],
   "source": [
    "def read_metrics_from_db(dataset_names: list, null_imputers: list, db_collection_name: str):\n",
    "    db = DatabaseClient()\n",
    "    db.connect()\n",
    "    \n",
    "    dataset_metrics_dct = dict()\n",
    "    for dataset_name in dataset_names:\n",
    "        dataset_metrics_dct[dataset_name] = dict()\n",
    "        for imputer_idx, null_imputer in enumerate(null_imputers):\n",
    "            # Extract experimental data for the defined dataset from MongoDB\n",
    "            # query = {'dataset_name': dataset_name, 'null_imputer_name': null_imputer,  'tag': 'demo_20240423'}\n",
    "            query = {'dataset_name': dataset_name, 'null_imputer_name': null_imputer,  'tag': 'OK'}\n",
    "            records = db.execute_read_query(db_collection_name, query)\n",
    "            model_metric_df = pd.DataFrame(records)\n",
    "\n",
    "            # Capitalize column names to be consistent across the whole library\n",
    "            new_column_names = []\n",
    "            for col in model_metric_df.columns:\n",
    "                new_col_name = '_'.join([c.capitalize() for c in col.split('_')])\n",
    "                new_column_names.append(new_col_name)\n",
    "\n",
    "            model_metric_df.columns = new_column_names\n",
    "            model_metric_df = model_metric_df.drop(columns=['Model_Params', 'Tag', 'Model_Init_Seed', 'Runtime_In_Mins'])\n",
    "            model_metric_df['Model_Name'] = (model_metric_df['Model_Name'] + '__' + \n",
    "                                             model_metric_df['Null_Imputer_Name'] + '_' + \n",
    "                                             model_metric_df['Virny_Random_State'].astype(str))\n",
    "            if imputer_idx == 0:\n",
    "                dataset_metrics_dct[dataset_name][null_imputer] = model_metric_df\n",
    "            else:\n",
    "                dataset_metrics_dct[dataset_name][null_imputer] = (\n",
    "                    pd.concat([dataset_metrics_dct[dataset_name][null_imputer], model_metric_df], axis=0))\n",
    "                dataset_metrics_dct[dataset_name][null_imputer] = dataset_metrics_dct[dataset_name][null_imputer].reset_index(drop=True)\n",
    "\n",
    "            print(f'Extracted metrics for {dataset_name} dataset and {null_imputer} imputer')\n",
    "\n",
    "    db.close()\n",
    "\n",
    "    return dataset_metrics_dct"
   ],
   "metadata": {
    "collapsed": false,
    "ExecuteTime": {
     "end_time": "2024-04-23T19:19:16.611906Z",
     "start_time": "2024-04-23T19:19:16.609857Z"
    }
   },
   "id": "d0f7d735b9d50263"
  },
  {
   "cell_type": "code",
   "execution_count": 3,
   "outputs": [],
   "source": [
    "# Define configs for sample datasets\n",
    "demo_configs = {\n",
    "    ACS_INCOME_DATASET: {\n",
    "        'data_loader': ACSIncomeDataset(state=['GA'], year=2018, with_nulls=False,\n",
    "                                        subsample_size=15_000, subsample_seed=42),\n",
    "        'sensitive_attributes_dct': {'SEX': '2', 'RAC1P': ['2', '3', '4', '5', '6', '7', '8', '9'], 'SEX&RAC1P': None},\n",
    "    },\n",
    "    LAW_SCHOOL_DATASET: {\n",
    "        'data_loader': LawSchoolDataset(),\n",
    "        'sensitive_attributes_dct': {'male': '0', 'race': 'Non-White', 'male&race': None},\n",
    "    },\n",
    "    GERMAN_CREDIT_DATASET: {\n",
    "        'data_loader': GermanCreditDataset(),\n",
    "        'sensitive_attributes_dct': {'sex': 'female', 'age': [19, 20, 21, 22, 23, 24, 25], 'sex&age': None},\n",
    "    },\n",
    "    CARDIOVASCULAR_DISEASE_DATASET: {\n",
    "        'data_loader': CardiovascularDiseaseDataset(),\n",
    "        'sensitive_attributes_dct': {'gender': '1'},\n",
    "    },\n",
    "}"
   ],
   "metadata": {
    "collapsed": false,
    "ExecuteTime": {
     "end_time": "2024-04-23T19:19:18.181956Z",
     "start_time": "2024-04-23T19:19:16.613460Z"
    }
   },
   "id": "666836b8257cf788"
  },
  {
   "cell_type": "code",
   "execution_count": 4,
   "outputs": [
    {
     "name": "stdout",
     "output_type": "stream",
     "text": [
      "Extracted metrics for folk dataset and baseline imputer\n",
      "Extracted metrics for law_school dataset and baseline imputer\n",
      "Extracted metrics for german dataset and baseline imputer\n",
      "Extracted metrics for heart dataset and baseline imputer\n"
     ]
    }
   ],
   "source": [
    "dataset_metrics_dct = read_metrics_from_db(dataset_names=list(demo_configs.keys()),\n",
    "                                           null_imputers=['baseline'],\n",
    "                                           db_collection_name=EXP_COLLECTION_NAME)"
   ],
   "metadata": {
    "collapsed": false,
    "ExecuteTime": {
     "end_time": "2024-04-23T19:19:26.836065Z",
     "start_time": "2024-04-23T19:19:18.182282Z"
    }
   },
   "id": "44c2a12808d765ec"
  },
  {
   "cell_type": "code",
   "execution_count": 5,
   "outputs": [],
   "source": [
    "for dataset_name in dataset_metrics_dct.keys():\n",
    "    model_metric_df = dataset_metrics_dct[dataset_name]['baseline']\n",
    "    \n",
    "    # Create columns based on values in the Subgroup column\n",
    "    pivoted_model_metric_df = model_metric_df.pivot(columns='Subgroup', values='Metric_Value',\n",
    "                                                     index=[col for col in model_metric_df.columns\n",
    "                                                            if col not in ('Subgroup', 'Metric_Value')]).reset_index()\n",
    "    pivoted_model_metric_df = pivoted_model_metric_df.rename_axis(None, axis=1)\n",
    "\n",
    "    dataset_metrics_dct[dataset_name]['baseline'] = pivoted_model_metric_df"
   ],
   "metadata": {
    "collapsed": false,
    "ExecuteTime": {
     "end_time": "2024-04-23T19:19:26.878579Z",
     "start_time": "2024-04-23T19:19:26.829196Z"
    }
   },
   "id": "348bc2b2753b3be3"
  },
  {
   "cell_type": "code",
   "execution_count": 10,
   "outputs": [
    {
     "data": {
      "text/plain": "array(['dt_clf__baseline_100', 'dt_clf__baseline_200',\n       'dt_clf__baseline_300', 'dt_clf__baseline_400',\n       'dt_clf__baseline_500', 'dt_clf__baseline_600',\n       'lr_clf__baseline_100', 'lr_clf__baseline_200',\n       'lr_clf__baseline_300', 'lr_clf__baseline_400',\n       'lr_clf__baseline_500', 'lr_clf__baseline_600'], dtype=object)"
     },
     "execution_count": 10,
     "metadata": {},
     "output_type": "execute_result"
    }
   ],
   "source": [
    "dataset_metrics_dct[GERMAN_CREDIT_DATASET]['baseline']['Model_Name'].unique()"
   ],
   "metadata": {
    "collapsed": false,
    "ExecuteTime": {
     "end_time": "2024-04-23T19:23:01.184049Z",
     "start_time": "2024-04-23T19:23:01.177083Z"
    }
   },
   "id": "b8ea2d6384f54415"
  },
  {
   "cell_type": "code",
   "execution_count": 9,
   "outputs": [
    {
     "data": {
      "text/plain": "     Metric            Model_Name  Virny_Random_State Dataset_Name  \\\n0  Accuracy  dt_clf__baseline_100                 100       german   \n1  Accuracy  dt_clf__baseline_200                 200       german   \n2  Accuracy  dt_clf__baseline_300                 300       german   \n3  Accuracy  dt_clf__baseline_400                 400       german   \n4  Accuracy  dt_clf__baseline_500                 500       german   \n\n   Num_Estimators Record_Create_Date_Time  \\\n0              50 2024-04-23 13:33:04.028   \n1              50 2024-04-23 13:33:09.186   \n2              50 2024-04-23 13:33:14.137   \n3              50 2024-04-23 13:33:18.439   \n4              50 2024-04-23 13:33:21.790   \n\n                           Session_Uuid Null_Imputer_Name Evaluation_Scenario  \\\n0  00a7a284-0176-11ef-831e-3cfdfe6139a0          baseline            baseline   \n1  00a7a284-0176-11ef-831e-3cfdfe6139a0          baseline            baseline   \n2  00a7a284-0176-11ef-831e-3cfdfe6139a0          baseline            baseline   \n3  00a7a284-0176-11ef-831e-3cfdfe6139a0          baseline            baseline   \n4  00a7a284-0176-11ef-831e-3cfdfe6139a0          baseline            baseline   \n\n  Experiment_Iteration  ...  sex&age_dis_incorrect sex&age_priv  \\\n0           exp_iter_1  ...                    0.0     0.723247   \n1           exp_iter_2  ...                    0.0     0.770370   \n2           exp_iter_3  ...                    0.0     0.781955   \n3           exp_iter_4  ...                    0.0     0.778195   \n4           exp_iter_5  ...                    0.0     0.750929   \n\n   sex&age_priv_correct  sex&age_priv_incorrect   sex_dis  sex_dis_correct  \\\n0                   1.0                     0.0  0.722892              1.0   \n1                   1.0                     0.0  0.689655              1.0   \n2                   1.0                     0.0  0.773196              1.0   \n3                   1.0                     0.0  0.776596              1.0   \n4                   1.0                     0.0  0.730769              1.0   \n\n   sex_dis_incorrect  sex_priv  sex_priv_correct  sex_priv_incorrect  \n0                0.0  0.709677               1.0                 0.0  \n1                0.0  0.784038               1.0                 0.0  \n2                0.0  0.773399               1.0                 0.0  \n3                0.0  0.762136               1.0                 0.0  \n4                0.0  0.739796               1.0                 0.0  \n\n[5 rows x 31 columns]",
      "text/html": "<div>\n<style scoped>\n    .dataframe tbody tr th:only-of-type {\n        vertical-align: middle;\n    }\n\n    .dataframe tbody tr th {\n        vertical-align: top;\n    }\n\n    .dataframe thead th {\n        text-align: right;\n    }\n</style>\n<table border=\"1\" class=\"dataframe\">\n  <thead>\n    <tr style=\"text-align: right;\">\n      <th></th>\n      <th>Metric</th>\n      <th>Model_Name</th>\n      <th>Virny_Random_State</th>\n      <th>Dataset_Name</th>\n      <th>Num_Estimators</th>\n      <th>Record_Create_Date_Time</th>\n      <th>Session_Uuid</th>\n      <th>Null_Imputer_Name</th>\n      <th>Evaluation_Scenario</th>\n      <th>Experiment_Iteration</th>\n      <th>...</th>\n      <th>sex&amp;age_dis_incorrect</th>\n      <th>sex&amp;age_priv</th>\n      <th>sex&amp;age_priv_correct</th>\n      <th>sex&amp;age_priv_incorrect</th>\n      <th>sex_dis</th>\n      <th>sex_dis_correct</th>\n      <th>sex_dis_incorrect</th>\n      <th>sex_priv</th>\n      <th>sex_priv_correct</th>\n      <th>sex_priv_incorrect</th>\n    </tr>\n  </thead>\n  <tbody>\n    <tr>\n      <th>0</th>\n      <td>Accuracy</td>\n      <td>dt_clf__baseline_100</td>\n      <td>100</td>\n      <td>german</td>\n      <td>50</td>\n      <td>2024-04-23 13:33:04.028</td>\n      <td>00a7a284-0176-11ef-831e-3cfdfe6139a0</td>\n      <td>baseline</td>\n      <td>baseline</td>\n      <td>exp_iter_1</td>\n      <td>...</td>\n      <td>0.0</td>\n      <td>0.723247</td>\n      <td>1.0</td>\n      <td>0.0</td>\n      <td>0.722892</td>\n      <td>1.0</td>\n      <td>0.0</td>\n      <td>0.709677</td>\n      <td>1.0</td>\n      <td>0.0</td>\n    </tr>\n    <tr>\n      <th>1</th>\n      <td>Accuracy</td>\n      <td>dt_clf__baseline_200</td>\n      <td>200</td>\n      <td>german</td>\n      <td>50</td>\n      <td>2024-04-23 13:33:09.186</td>\n      <td>00a7a284-0176-11ef-831e-3cfdfe6139a0</td>\n      <td>baseline</td>\n      <td>baseline</td>\n      <td>exp_iter_2</td>\n      <td>...</td>\n      <td>0.0</td>\n      <td>0.770370</td>\n      <td>1.0</td>\n      <td>0.0</td>\n      <td>0.689655</td>\n      <td>1.0</td>\n      <td>0.0</td>\n      <td>0.784038</td>\n      <td>1.0</td>\n      <td>0.0</td>\n    </tr>\n    <tr>\n      <th>2</th>\n      <td>Accuracy</td>\n      <td>dt_clf__baseline_300</td>\n      <td>300</td>\n      <td>german</td>\n      <td>50</td>\n      <td>2024-04-23 13:33:14.137</td>\n      <td>00a7a284-0176-11ef-831e-3cfdfe6139a0</td>\n      <td>baseline</td>\n      <td>baseline</td>\n      <td>exp_iter_3</td>\n      <td>...</td>\n      <td>0.0</td>\n      <td>0.781955</td>\n      <td>1.0</td>\n      <td>0.0</td>\n      <td>0.773196</td>\n      <td>1.0</td>\n      <td>0.0</td>\n      <td>0.773399</td>\n      <td>1.0</td>\n      <td>0.0</td>\n    </tr>\n    <tr>\n      <th>3</th>\n      <td>Accuracy</td>\n      <td>dt_clf__baseline_400</td>\n      <td>400</td>\n      <td>german</td>\n      <td>50</td>\n      <td>2024-04-23 13:33:18.439</td>\n      <td>00a7a284-0176-11ef-831e-3cfdfe6139a0</td>\n      <td>baseline</td>\n      <td>baseline</td>\n      <td>exp_iter_4</td>\n      <td>...</td>\n      <td>0.0</td>\n      <td>0.778195</td>\n      <td>1.0</td>\n      <td>0.0</td>\n      <td>0.776596</td>\n      <td>1.0</td>\n      <td>0.0</td>\n      <td>0.762136</td>\n      <td>1.0</td>\n      <td>0.0</td>\n    </tr>\n    <tr>\n      <th>4</th>\n      <td>Accuracy</td>\n      <td>dt_clf__baseline_500</td>\n      <td>500</td>\n      <td>german</td>\n      <td>50</td>\n      <td>2024-04-23 13:33:21.790</td>\n      <td>00a7a284-0176-11ef-831e-3cfdfe6139a0</td>\n      <td>baseline</td>\n      <td>baseline</td>\n      <td>exp_iter_5</td>\n      <td>...</td>\n      <td>0.0</td>\n      <td>0.750929</td>\n      <td>1.0</td>\n      <td>0.0</td>\n      <td>0.730769</td>\n      <td>1.0</td>\n      <td>0.0</td>\n      <td>0.739796</td>\n      <td>1.0</td>\n      <td>0.0</td>\n    </tr>\n  </tbody>\n</table>\n<p>5 rows × 31 columns</p>\n</div>"
     },
     "execution_count": 9,
     "metadata": {},
     "output_type": "execute_result"
    }
   ],
   "source": [
    "dataset_metrics_dct[GERMAN_CREDIT_DATASET]['baseline'].head()"
   ],
   "metadata": {
    "collapsed": false,
    "ExecuteTime": {
     "end_time": "2024-04-23T19:22:06.923412Z",
     "start_time": "2024-04-23T19:22:06.887350Z"
    }
   },
   "id": "e43ba24d4bb20f8d"
  },
  {
   "cell_type": "code",
   "execution_count": 7,
   "outputs": [],
   "source": [
    "# Create gradio demo objects for each sample dataset\n",
    "dataset_names = list(demo_configs.keys())\n",
    "sample_demos = []\n",
    "for dataset_name in dataset_names:\n",
    "    sample_demo = MetricsInteractiveVisualizer(\n",
    "        X_data=demo_configs[dataset_name]['data_loader'].X_data,\n",
    "        y_data=demo_configs[dataset_name]['data_loader'].y_data,\n",
    "        model_metrics=dataset_metrics_dct[dataset_name]['baseline'],\n",
    "        sensitive_attributes_dct=demo_configs[dataset_name]['sensitive_attributes_dct']\n",
    "    ).create_web_app(start_app=False)\n",
    "    sample_demos.append(sample_demo)"
   ],
   "metadata": {
    "collapsed": false,
    "ExecuteTime": {
     "end_time": "2024-04-23T19:19:27.305673Z",
     "start_time": "2024-04-23T19:19:26.900193Z"
    }
   },
   "id": "e34f8812fafeb7eb"
  },
  {
   "cell_type": "code",
   "execution_count": 8,
   "outputs": [
    {
     "name": "stdout",
     "output_type": "stream",
     "text": [
      "Running on local URL:  http://127.0.0.1:7860\n",
      "\n",
      "To create a public link, set `share=True` in `launch()`.\n"
     ]
    },
    {
     "name": "stderr",
     "output_type": "stream",
     "text": [
      "Traceback (most recent call last):\n",
      "  File \"/Users/denys_herasymuk/Research/NYU/ML_Lifecycle_Project/Code/data-cleaning-stability/vldb_venv/lib/python3.9/site-packages/gradio/queueing.py\", line 459, in call_prediction\n",
      "    output = await route_utils.call_process_api(\n",
      "  File \"/Users/denys_herasymuk/Research/NYU/ML_Lifecycle_Project/Code/data-cleaning-stability/vldb_venv/lib/python3.9/site-packages/gradio/route_utils.py\", line 232, in call_process_api\n",
      "    output = await app.get_blocks().process_api(\n",
      "  File \"/Users/denys_herasymuk/Research/NYU/ML_Lifecycle_Project/Code/data-cleaning-stability/vldb_venv/lib/python3.9/site-packages/gradio/blocks.py\", line 1533, in process_api\n",
      "    result = await self.call_function(\n",
      "  File \"/Users/denys_herasymuk/Research/NYU/ML_Lifecycle_Project/Code/data-cleaning-stability/vldb_venv/lib/python3.9/site-packages/gradio/blocks.py\", line 1151, in call_function\n",
      "    prediction = await anyio.to_thread.run_sync(\n",
      "  File \"/Users/denys_herasymuk/Research/NYU/ML_Lifecycle_Project/Code/data-cleaning-stability/vldb_venv/lib/python3.9/site-packages/anyio/to_thread.py\", line 56, in run_sync\n",
      "    return await get_async_backend().run_sync_in_worker_thread(\n",
      "  File \"/Users/denys_herasymuk/Research/NYU/ML_Lifecycle_Project/Code/data-cleaning-stability/vldb_venv/lib/python3.9/site-packages/anyio/_backends/_asyncio.py\", line 2144, in run_sync_in_worker_thread\n",
      "    return await future\n",
      "  File \"/Users/denys_herasymuk/Research/NYU/ML_Lifecycle_Project/Code/data-cleaning-stability/vldb_venv/lib/python3.9/site-packages/anyio/_backends/_asyncio.py\", line 851, in run\n",
      "    result = context.run(func, *args)\n",
      "  File \"/Users/denys_herasymuk/Research/NYU/ML_Lifecycle_Project/Code/data-cleaning-stability/vldb_venv/lib/python3.9/site-packages/gradio/utils.py\", line 678, in wrapper\n",
      "    response = f(*args, **kwargs)\n",
      "  File \"/Users/denys_herasymuk/Research/NYU/ML_Lifecycle_Project/Code/data-cleaning-stability/vldb_venv/lib/python3.9/site-packages/virny/custom_classes/metrics_interactive_visualizer.py\", line 596, in _create_bar_plot_for_model_selection\n",
      "    return create_flexible_bar_plot_for_model_selection(melted_all_subgroup_metrics_per_model_dct,\n",
      "  File \"/Users/denys_herasymuk/Research/NYU/ML_Lifecycle_Project/Code/data-cleaning-stability/vldb_venv/lib/python3.9/site-packages/virny/utils/data_viz_utils.py\", line 366, in create_flexible_bar_plot_for_model_selection\n",
      "    create_models_in_range_dct(all_subgroup_metrics_per_model_dct, all_group_metrics_per_model_dct,\n",
      "  File \"/Users/denys_herasymuk/Research/NYU/ML_Lifecycle_Project/Code/data-cleaning-stability/vldb_venv/lib/python3.9/site-packages/virny/utils/data_viz_utils.py\", line 515, in create_models_in_range_dct\n",
      "    pivoted_model_metrics_df = all_metrics_for_all_models_df.pivot(columns='Metric', values='Value',\n",
      "  File \"/Users/denys_herasymuk/Research/NYU/ML_Lifecycle_Project/Code/data-cleaning-stability/vldb_venv/lib/python3.9/site-packages/pandas/util/_decorators.py\", line 331, in wrapper\n",
      "    return func(*args, **kwargs)\n",
      "  File \"/Users/denys_herasymuk/Research/NYU/ML_Lifecycle_Project/Code/data-cleaning-stability/vldb_venv/lib/python3.9/site-packages/pandas/core/frame.py\", line 8567, in pivot\n",
      "    return pivot(self, index=index, columns=columns, values=values)\n",
      "  File \"/Users/denys_herasymuk/Research/NYU/ML_Lifecycle_Project/Code/data-cleaning-stability/vldb_venv/lib/python3.9/site-packages/pandas/util/_decorators.py\", line 331, in wrapper\n",
      "    return func(*args, **kwargs)\n",
      "  File \"/Users/denys_herasymuk/Research/NYU/ML_Lifecycle_Project/Code/data-cleaning-stability/vldb_venv/lib/python3.9/site-packages/pandas/core/reshape/pivot.py\", line 540, in pivot\n",
      "    return indexed.unstack(columns_listlike)  # type: ignore[arg-type]\n",
      "  File \"/Users/denys_herasymuk/Research/NYU/ML_Lifecycle_Project/Code/data-cleaning-stability/vldb_venv/lib/python3.9/site-packages/pandas/core/series.py\", line 4455, in unstack\n",
      "    return unstack(self, level, fill_value)\n",
      "  File \"/Users/denys_herasymuk/Research/NYU/ML_Lifecycle_Project/Code/data-cleaning-stability/vldb_venv/lib/python3.9/site-packages/pandas/core/reshape/reshape.py\", line 489, in unstack\n",
      "    unstacker = _Unstacker(\n",
      "  File \"/Users/denys_herasymuk/Research/NYU/ML_Lifecycle_Project/Code/data-cleaning-stability/vldb_venv/lib/python3.9/site-packages/pandas/core/reshape/reshape.py\", line 137, in __init__\n",
      "    self._make_selectors()\n",
      "  File \"/Users/denys_herasymuk/Research/NYU/ML_Lifecycle_Project/Code/data-cleaning-stability/vldb_venv/lib/python3.9/site-packages/pandas/core/reshape/reshape.py\", line 189, in _make_selectors\n",
      "    raise ValueError(\"Index contains duplicate entries, cannot reshape\")\n",
      "ValueError: Index contains duplicate entries, cannot reshape\n",
      "Traceback (most recent call last):\n",
      "  File \"/Users/denys_herasymuk/Research/NYU/ML_Lifecycle_Project/Code/data-cleaning-stability/vldb_venv/lib/python3.9/site-packages/gradio/queueing.py\", line 459, in call_prediction\n",
      "    output = await route_utils.call_process_api(\n",
      "  File \"/Users/denys_herasymuk/Research/NYU/ML_Lifecycle_Project/Code/data-cleaning-stability/vldb_venv/lib/python3.9/site-packages/gradio/route_utils.py\", line 232, in call_process_api\n",
      "    output = await app.get_blocks().process_api(\n",
      "  File \"/Users/denys_herasymuk/Research/NYU/ML_Lifecycle_Project/Code/data-cleaning-stability/vldb_venv/lib/python3.9/site-packages/gradio/blocks.py\", line 1533, in process_api\n",
      "    result = await self.call_function(\n",
      "  File \"/Users/denys_herasymuk/Research/NYU/ML_Lifecycle_Project/Code/data-cleaning-stability/vldb_venv/lib/python3.9/site-packages/gradio/blocks.py\", line 1151, in call_function\n",
      "    prediction = await anyio.to_thread.run_sync(\n",
      "  File \"/Users/denys_herasymuk/Research/NYU/ML_Lifecycle_Project/Code/data-cleaning-stability/vldb_venv/lib/python3.9/site-packages/anyio/to_thread.py\", line 56, in run_sync\n",
      "    return await get_async_backend().run_sync_in_worker_thread(\n",
      "  File \"/Users/denys_herasymuk/Research/NYU/ML_Lifecycle_Project/Code/data-cleaning-stability/vldb_venv/lib/python3.9/site-packages/anyio/_backends/_asyncio.py\", line 2144, in run_sync_in_worker_thread\n",
      "    return await future\n",
      "  File \"/Users/denys_herasymuk/Research/NYU/ML_Lifecycle_Project/Code/data-cleaning-stability/vldb_venv/lib/python3.9/site-packages/anyio/_backends/_asyncio.py\", line 851, in run\n",
      "    result = context.run(func, *args)\n",
      "  File \"/Users/denys_herasymuk/Research/NYU/ML_Lifecycle_Project/Code/data-cleaning-stability/vldb_venv/lib/python3.9/site-packages/gradio/utils.py\", line 678, in wrapper\n",
      "    response = f(*args, **kwargs)\n",
      "  File \"/Users/denys_herasymuk/Research/NYU/ML_Lifecycle_Project/Code/data-cleaning-stability/vldb_venv/lib/python3.9/site-packages/virny/custom_classes/metrics_interactive_visualizer.py\", line 596, in _create_bar_plot_for_model_selection\n",
      "    return create_flexible_bar_plot_for_model_selection(melted_all_subgroup_metrics_per_model_dct,\n",
      "  File \"/Users/denys_herasymuk/Research/NYU/ML_Lifecycle_Project/Code/data-cleaning-stability/vldb_venv/lib/python3.9/site-packages/virny/utils/data_viz_utils.py\", line 366, in create_flexible_bar_plot_for_model_selection\n",
      "    create_models_in_range_dct(all_subgroup_metrics_per_model_dct, all_group_metrics_per_model_dct,\n",
      "  File \"/Users/denys_herasymuk/Research/NYU/ML_Lifecycle_Project/Code/data-cleaning-stability/vldb_venv/lib/python3.9/site-packages/virny/utils/data_viz_utils.py\", line 515, in create_models_in_range_dct\n",
      "    pivoted_model_metrics_df = all_metrics_for_all_models_df.pivot(columns='Metric', values='Value',\n",
      "  File \"/Users/denys_herasymuk/Research/NYU/ML_Lifecycle_Project/Code/data-cleaning-stability/vldb_venv/lib/python3.9/site-packages/pandas/util/_decorators.py\", line 331, in wrapper\n",
      "    return func(*args, **kwargs)\n",
      "  File \"/Users/denys_herasymuk/Research/NYU/ML_Lifecycle_Project/Code/data-cleaning-stability/vldb_venv/lib/python3.9/site-packages/pandas/core/frame.py\", line 8567, in pivot\n",
      "    return pivot(self, index=index, columns=columns, values=values)\n",
      "  File \"/Users/denys_herasymuk/Research/NYU/ML_Lifecycle_Project/Code/data-cleaning-stability/vldb_venv/lib/python3.9/site-packages/pandas/util/_decorators.py\", line 331, in wrapper\n",
      "    return func(*args, **kwargs)\n",
      "  File \"/Users/denys_herasymuk/Research/NYU/ML_Lifecycle_Project/Code/data-cleaning-stability/vldb_venv/lib/python3.9/site-packages/pandas/core/reshape/pivot.py\", line 540, in pivot\n",
      "    return indexed.unstack(columns_listlike)  # type: ignore[arg-type]\n",
      "  File \"/Users/denys_herasymuk/Research/NYU/ML_Lifecycle_Project/Code/data-cleaning-stability/vldb_venv/lib/python3.9/site-packages/pandas/core/series.py\", line 4455, in unstack\n",
      "    return unstack(self, level, fill_value)\n",
      "  File \"/Users/denys_herasymuk/Research/NYU/ML_Lifecycle_Project/Code/data-cleaning-stability/vldb_venv/lib/python3.9/site-packages/pandas/core/reshape/reshape.py\", line 489, in unstack\n",
      "    unstacker = _Unstacker(\n",
      "  File \"/Users/denys_herasymuk/Research/NYU/ML_Lifecycle_Project/Code/data-cleaning-stability/vldb_venv/lib/python3.9/site-packages/pandas/core/reshape/reshape.py\", line 137, in __init__\n",
      "    self._make_selectors()\n",
      "  File \"/Users/denys_herasymuk/Research/NYU/ML_Lifecycle_Project/Code/data-cleaning-stability/vldb_venv/lib/python3.9/site-packages/pandas/core/reshape/reshape.py\", line 189, in _make_selectors\n",
      "    raise ValueError(\"Index contains duplicate entries, cannot reshape\")\n",
      "ValueError: Index contains duplicate entries, cannot reshape\n",
      "\n",
      "The above exception was the direct cause of the following exception:\n",
      "\n",
      "Traceback (most recent call last):\n",
      "  File \"/Users/denys_herasymuk/Research/NYU/ML_Lifecycle_Project/Code/data-cleaning-stability/vldb_venv/lib/python3.9/site-packages/gradio/queueing.py\", line 497, in process_events\n",
      "    response = await self.call_prediction(awake_events, batch)\n",
      "  File \"/Users/denys_herasymuk/Research/NYU/ML_Lifecycle_Project/Code/data-cleaning-stability/vldb_venv/lib/python3.9/site-packages/gradio/queueing.py\", line 468, in call_prediction\n",
      "    raise Exception(str(error) if show_error else None) from error\n",
      "Exception: Index contains duplicate entries, cannot reshape\n",
      "Traceback (most recent call last):\n",
      "  File \"/Users/denys_herasymuk/Research/NYU/ML_Lifecycle_Project/Code/data-cleaning-stability/vldb_venv/lib/python3.9/site-packages/gradio/queueing.py\", line 459, in call_prediction\n",
      "    output = await route_utils.call_process_api(\n",
      "  File \"/Users/denys_herasymuk/Research/NYU/ML_Lifecycle_Project/Code/data-cleaning-stability/vldb_venv/lib/python3.9/site-packages/gradio/route_utils.py\", line 232, in call_process_api\n",
      "    output = await app.get_blocks().process_api(\n",
      "  File \"/Users/denys_herasymuk/Research/NYU/ML_Lifecycle_Project/Code/data-cleaning-stability/vldb_venv/lib/python3.9/site-packages/gradio/blocks.py\", line 1533, in process_api\n",
      "    result = await self.call_function(\n",
      "  File \"/Users/denys_herasymuk/Research/NYU/ML_Lifecycle_Project/Code/data-cleaning-stability/vldb_venv/lib/python3.9/site-packages/gradio/blocks.py\", line 1151, in call_function\n",
      "    prediction = await anyio.to_thread.run_sync(\n",
      "  File \"/Users/denys_herasymuk/Research/NYU/ML_Lifecycle_Project/Code/data-cleaning-stability/vldb_venv/lib/python3.9/site-packages/anyio/to_thread.py\", line 56, in run_sync\n",
      "    return await get_async_backend().run_sync_in_worker_thread(\n",
      "  File \"/Users/denys_herasymuk/Research/NYU/ML_Lifecycle_Project/Code/data-cleaning-stability/vldb_venv/lib/python3.9/site-packages/anyio/_backends/_asyncio.py\", line 2144, in run_sync_in_worker_thread\n",
      "    return await future\n",
      "  File \"/Users/denys_herasymuk/Research/NYU/ML_Lifecycle_Project/Code/data-cleaning-stability/vldb_venv/lib/python3.9/site-packages/anyio/_backends/_asyncio.py\", line 851, in run\n",
      "    result = context.run(func, *args)\n",
      "  File \"/Users/denys_herasymuk/Research/NYU/ML_Lifecycle_Project/Code/data-cleaning-stability/vldb_venv/lib/python3.9/site-packages/gradio/utils.py\", line 678, in wrapper\n",
      "    response = f(*args, **kwargs)\n",
      "  File \"/Users/denys_herasymuk/Research/NYU/ML_Lifecycle_Project/Code/data-cleaning-stability/vldb_venv/lib/python3.9/site-packages/virny/custom_classes/metrics_interactive_visualizer.py\", line 596, in _create_bar_plot_for_model_selection\n",
      "    return create_flexible_bar_plot_for_model_selection(melted_all_subgroup_metrics_per_model_dct,\n",
      "  File \"/Users/denys_herasymuk/Research/NYU/ML_Lifecycle_Project/Code/data-cleaning-stability/vldb_venv/lib/python3.9/site-packages/virny/utils/data_viz_utils.py\", line 366, in create_flexible_bar_plot_for_model_selection\n",
      "    create_models_in_range_dct(all_subgroup_metrics_per_model_dct, all_group_metrics_per_model_dct,\n",
      "  File \"/Users/denys_herasymuk/Research/NYU/ML_Lifecycle_Project/Code/data-cleaning-stability/vldb_venv/lib/python3.9/site-packages/virny/utils/data_viz_utils.py\", line 515, in create_models_in_range_dct\n",
      "    pivoted_model_metrics_df = all_metrics_for_all_models_df.pivot(columns='Metric', values='Value',\n",
      "  File \"/Users/denys_herasymuk/Research/NYU/ML_Lifecycle_Project/Code/data-cleaning-stability/vldb_venv/lib/python3.9/site-packages/pandas/util/_decorators.py\", line 331, in wrapper\n",
      "    return func(*args, **kwargs)\n",
      "  File \"/Users/denys_herasymuk/Research/NYU/ML_Lifecycle_Project/Code/data-cleaning-stability/vldb_venv/lib/python3.9/site-packages/pandas/core/frame.py\", line 8567, in pivot\n",
      "    return pivot(self, index=index, columns=columns, values=values)\n",
      "  File \"/Users/denys_herasymuk/Research/NYU/ML_Lifecycle_Project/Code/data-cleaning-stability/vldb_venv/lib/python3.9/site-packages/pandas/util/_decorators.py\", line 331, in wrapper\n",
      "    return func(*args, **kwargs)\n",
      "  File \"/Users/denys_herasymuk/Research/NYU/ML_Lifecycle_Project/Code/data-cleaning-stability/vldb_venv/lib/python3.9/site-packages/pandas/core/reshape/pivot.py\", line 540, in pivot\n",
      "    return indexed.unstack(columns_listlike)  # type: ignore[arg-type]\n",
      "  File \"/Users/denys_herasymuk/Research/NYU/ML_Lifecycle_Project/Code/data-cleaning-stability/vldb_venv/lib/python3.9/site-packages/pandas/core/series.py\", line 4455, in unstack\n",
      "    return unstack(self, level, fill_value)\n",
      "  File \"/Users/denys_herasymuk/Research/NYU/ML_Lifecycle_Project/Code/data-cleaning-stability/vldb_venv/lib/python3.9/site-packages/pandas/core/reshape/reshape.py\", line 489, in unstack\n",
      "    unstacker = _Unstacker(\n",
      "  File \"/Users/denys_herasymuk/Research/NYU/ML_Lifecycle_Project/Code/data-cleaning-stability/vldb_venv/lib/python3.9/site-packages/pandas/core/reshape/reshape.py\", line 137, in __init__\n",
      "    self._make_selectors()\n",
      "  File \"/Users/denys_herasymuk/Research/NYU/ML_Lifecycle_Project/Code/data-cleaning-stability/vldb_venv/lib/python3.9/site-packages/pandas/core/reshape/reshape.py\", line 189, in _make_selectors\n",
      "    raise ValueError(\"Index contains duplicate entries, cannot reshape\")\n",
      "ValueError: Index contains duplicate entries, cannot reshape\n",
      "Traceback (most recent call last):\n",
      "  File \"/Users/denys_herasymuk/Research/NYU/ML_Lifecycle_Project/Code/data-cleaning-stability/vldb_venv/lib/python3.9/site-packages/gradio/queueing.py\", line 459, in call_prediction\n",
      "    output = await route_utils.call_process_api(\n",
      "  File \"/Users/denys_herasymuk/Research/NYU/ML_Lifecycle_Project/Code/data-cleaning-stability/vldb_venv/lib/python3.9/site-packages/gradio/route_utils.py\", line 232, in call_process_api\n",
      "    output = await app.get_blocks().process_api(\n",
      "  File \"/Users/denys_herasymuk/Research/NYU/ML_Lifecycle_Project/Code/data-cleaning-stability/vldb_venv/lib/python3.9/site-packages/gradio/blocks.py\", line 1533, in process_api\n",
      "    result = await self.call_function(\n",
      "  File \"/Users/denys_herasymuk/Research/NYU/ML_Lifecycle_Project/Code/data-cleaning-stability/vldb_venv/lib/python3.9/site-packages/gradio/blocks.py\", line 1151, in call_function\n",
      "    prediction = await anyio.to_thread.run_sync(\n",
      "  File \"/Users/denys_herasymuk/Research/NYU/ML_Lifecycle_Project/Code/data-cleaning-stability/vldb_venv/lib/python3.9/site-packages/anyio/to_thread.py\", line 56, in run_sync\n",
      "    return await get_async_backend().run_sync_in_worker_thread(\n",
      "  File \"/Users/denys_herasymuk/Research/NYU/ML_Lifecycle_Project/Code/data-cleaning-stability/vldb_venv/lib/python3.9/site-packages/anyio/_backends/_asyncio.py\", line 2144, in run_sync_in_worker_thread\n",
      "    return await future\n",
      "  File \"/Users/denys_herasymuk/Research/NYU/ML_Lifecycle_Project/Code/data-cleaning-stability/vldb_venv/lib/python3.9/site-packages/anyio/_backends/_asyncio.py\", line 851, in run\n",
      "    result = context.run(func, *args)\n",
      "  File \"/Users/denys_herasymuk/Research/NYU/ML_Lifecycle_Project/Code/data-cleaning-stability/vldb_venv/lib/python3.9/site-packages/gradio/utils.py\", line 678, in wrapper\n",
      "    response = f(*args, **kwargs)\n",
      "  File \"/Users/denys_herasymuk/Research/NYU/ML_Lifecycle_Project/Code/data-cleaning-stability/vldb_venv/lib/python3.9/site-packages/virny/custom_classes/metrics_interactive_visualizer.py\", line 596, in _create_bar_plot_for_model_selection\n",
      "    return create_flexible_bar_plot_for_model_selection(melted_all_subgroup_metrics_per_model_dct,\n",
      "  File \"/Users/denys_herasymuk/Research/NYU/ML_Lifecycle_Project/Code/data-cleaning-stability/vldb_venv/lib/python3.9/site-packages/virny/utils/data_viz_utils.py\", line 366, in create_flexible_bar_plot_for_model_selection\n",
      "    create_models_in_range_dct(all_subgroup_metrics_per_model_dct, all_group_metrics_per_model_dct,\n",
      "  File \"/Users/denys_herasymuk/Research/NYU/ML_Lifecycle_Project/Code/data-cleaning-stability/vldb_venv/lib/python3.9/site-packages/virny/utils/data_viz_utils.py\", line 515, in create_models_in_range_dct\n",
      "    pivoted_model_metrics_df = all_metrics_for_all_models_df.pivot(columns='Metric', values='Value',\n",
      "  File \"/Users/denys_herasymuk/Research/NYU/ML_Lifecycle_Project/Code/data-cleaning-stability/vldb_venv/lib/python3.9/site-packages/pandas/util/_decorators.py\", line 331, in wrapper\n",
      "    return func(*args, **kwargs)\n",
      "  File \"/Users/denys_herasymuk/Research/NYU/ML_Lifecycle_Project/Code/data-cleaning-stability/vldb_venv/lib/python3.9/site-packages/pandas/core/frame.py\", line 8567, in pivot\n",
      "    return pivot(self, index=index, columns=columns, values=values)\n",
      "  File \"/Users/denys_herasymuk/Research/NYU/ML_Lifecycle_Project/Code/data-cleaning-stability/vldb_venv/lib/python3.9/site-packages/pandas/util/_decorators.py\", line 331, in wrapper\n",
      "    return func(*args, **kwargs)\n",
      "  File \"/Users/denys_herasymuk/Research/NYU/ML_Lifecycle_Project/Code/data-cleaning-stability/vldb_venv/lib/python3.9/site-packages/pandas/core/reshape/pivot.py\", line 540, in pivot\n",
      "    return indexed.unstack(columns_listlike)  # type: ignore[arg-type]\n",
      "  File \"/Users/denys_herasymuk/Research/NYU/ML_Lifecycle_Project/Code/data-cleaning-stability/vldb_venv/lib/python3.9/site-packages/pandas/core/series.py\", line 4455, in unstack\n",
      "    return unstack(self, level, fill_value)\n",
      "  File \"/Users/denys_herasymuk/Research/NYU/ML_Lifecycle_Project/Code/data-cleaning-stability/vldb_venv/lib/python3.9/site-packages/pandas/core/reshape/reshape.py\", line 489, in unstack\n",
      "    unstacker = _Unstacker(\n",
      "  File \"/Users/denys_herasymuk/Research/NYU/ML_Lifecycle_Project/Code/data-cleaning-stability/vldb_venv/lib/python3.9/site-packages/pandas/core/reshape/reshape.py\", line 137, in __init__\n",
      "    self._make_selectors()\n",
      "  File \"/Users/denys_herasymuk/Research/NYU/ML_Lifecycle_Project/Code/data-cleaning-stability/vldb_venv/lib/python3.9/site-packages/pandas/core/reshape/reshape.py\", line 189, in _make_selectors\n",
      "    raise ValueError(\"Index contains duplicate entries, cannot reshape\")\n",
      "ValueError: Index contains duplicate entries, cannot reshape\n",
      "\n",
      "The above exception was the direct cause of the following exception:\n",
      "\n",
      "Traceback (most recent call last):\n",
      "  File \"/Users/denys_herasymuk/Research/NYU/ML_Lifecycle_Project/Code/data-cleaning-stability/vldb_venv/lib/python3.9/site-packages/gradio/queueing.py\", line 497, in process_events\n",
      "    response = await self.call_prediction(awake_events, batch)\n",
      "  File \"/Users/denys_herasymuk/Research/NYU/ML_Lifecycle_Project/Code/data-cleaning-stability/vldb_venv/lib/python3.9/site-packages/gradio/queueing.py\", line 468, in call_prediction\n",
      "    raise Exception(str(error) if show_error else None) from error\n",
      "Exception: Index contains duplicate entries, cannot reshape\n"
     ]
    },
    {
     "name": "stdout",
     "output_type": "stream",
     "text": [
      "Keyboard interruption in main thread... closing server.\n"
     ]
    },
    {
     "data": {
      "text/plain": ""
     },
     "execution_count": 8,
     "metadata": {},
     "output_type": "execute_result"
    }
   ],
   "source": [
    "# Build a web application with tabs for each sample dataset\n",
    "demo = gr.TabbedInterface(sample_demos, [name.replace('_', ' ') for name in dataset_names], theme=gr.themes.Soft())\n",
    "demo.launch(inline=False, debug=True, show_error=True)"
   ],
   "metadata": {
    "collapsed": false,
    "ExecuteTime": {
     "end_time": "2024-04-23T19:22:06.877805Z",
     "start_time": "2024-04-23T19:19:27.307783Z"
    }
   },
   "id": "c7cc0f8314cf99fc"
  },
  {
   "cell_type": "code",
   "execution_count": 8,
   "outputs": [],
   "source": [],
   "metadata": {
    "collapsed": false,
    "ExecuteTime": {
     "end_time": "2024-04-23T19:22:06.881952Z",
     "start_time": "2024-04-23T19:22:06.877287Z"
    }
   },
   "id": "89ff26a64f23347"
  }
 ],
 "metadata": {
  "kernelspec": {
   "display_name": "Python 3",
   "language": "python",
   "name": "python3"
  },
  "language_info": {
   "codemirror_mode": {
    "name": "ipython",
    "version": 2
   },
   "file_extension": ".py",
   "mimetype": "text/x-python",
   "name": "python",
   "nbconvert_exporter": "python",
   "pygments_lexer": "ipython2",
   "version": "2.7.6"
  }
 },
 "nbformat": 4,
 "nbformat_minor": 5
}
