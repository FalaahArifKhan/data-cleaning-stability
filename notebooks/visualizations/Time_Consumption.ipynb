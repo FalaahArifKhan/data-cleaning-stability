{
 "cells": [
  {
   "cell_type": "markdown",
   "id": "b2a8aecec904061c",
   "metadata": {},
   "source": [
    "# Time Consumption"
   ]
  },
  {
   "cell_type": "code",
   "id": "initial_id",
   "metadata": {
    "ExecuteTime": {
     "end_time": "2025-01-17T22:35:39.980681Z",
     "start_time": "2025-01-17T22:35:39.715890Z"
    }
   },
   "source": [
    "%matplotlib inline\n",
    "%load_ext autoreload\n",
    "%autoreload 2"
   ],
   "outputs": [],
   "execution_count": 1
  },
  {
   "cell_type": "code",
   "id": "1d810dc95173833f",
   "metadata": {
    "ExecuteTime": {
     "end_time": "2025-01-17T22:35:40.005409Z",
     "start_time": "2025-01-17T22:35:39.992275Z"
    }
   },
   "source": [
    "import os\n",
    "import warnings\n",
    "warnings.filterwarnings('ignore')\n",
    "os.environ[\"PYTHONWARNINGS\"] = \"ignore\""
   ],
   "outputs": [],
   "execution_count": 2
  },
  {
   "cell_type": "code",
   "id": "480717c3e86829e6",
   "metadata": {
    "ExecuteTime": {
     "end_time": "2025-01-17T22:35:40.268474Z",
     "start_time": "2025-01-17T22:35:40.094278Z"
    }
   },
   "source": [
    "cur_folder_name = os.getcwd().split('/')[-1]\n",
    "if cur_folder_name != \"data-cleaning-stability\":\n",
    "    os.chdir(\"../..\")\n",
    "\n",
    "print('Current location: ', os.getcwd())"
   ],
   "outputs": [
    {
     "name": "stdout",
     "output_type": "stream",
     "text": [
      "Current location:  /Users/denys_herasymuk/Research/NYU/ML_Lifecycle_Project/Code/data-cleaning-stability\n"
     ]
    }
   ],
   "execution_count": 3
  },
  {
   "cell_type": "code",
   "id": "d7841dd7bede7600",
   "metadata": {
    "ExecuteTime": {
     "end_time": "2025-01-17T22:35:42.299153Z",
     "start_time": "2025-01-17T22:35:40.415871Z"
    }
   },
   "source": [
    "import pandas as pd\n",
    "from tabulate import tabulate\n",
    "from source.visualizations.imputers_viz import get_data_for_box_plots_for_diff_imputers_and_datasets_for_mixed_exp\n",
    "from configs.constants import (ACS_INCOME_DATASET, ACS_EMPLOYMENT_DATASET, LAW_SCHOOL_DATASET, GERMAN_CREDIT_DATASET,\n",
    "                               CARDIOVASCULAR_DISEASE_DATASET, BANK_MARKETING_DATASET, DIABETES_DATASET, IMPUTERS_ORDER)"
   ],
   "outputs": [],
   "execution_count": 4
  },
  {
   "cell_type": "markdown",
   "id": "f85cd56ebc8cc3c1",
   "metadata": {},
   "source": [
    "## Define global configs"
   ]
  },
  {
   "cell_type": "code",
   "id": "ae8d5b84692f82b",
   "metadata": {
    "ExecuteTime": {
     "end_time": "2025-01-17T22:35:42.513737Z",
     "start_time": "2025-01-17T22:35:42.448414Z"
    }
   },
   "source": [
    "from source.custom_classes.database_client import DatabaseClient, get_secrets_path\n",
    "\n",
    "db_client_1 = DatabaseClient()\n",
    "db_client_3 = DatabaseClient(secrets_path=get_secrets_path('secrets_3.env'))\n",
    "db_client_1.connect()\n",
    "db_client_3.connect()"
   ],
   "outputs": [],
   "execution_count": 5
  },
  {
   "cell_type": "code",
   "id": "3d9dec5e81bc63df",
   "metadata": {
    "ExecuteTime": {
     "end_time": "2025-01-17T22:35:42.551512Z",
     "start_time": "2025-01-17T22:35:42.527458Z"
    }
   },
   "source": [
    "DATASETS_ALL_SENSITIVE_ATTRS = {\n",
    "    ACS_INCOME_DATASET: ['SEX', 'RAC1P', 'SEX&RAC1P'],\n",
    "    LAW_SCHOOL_DATASET: ['male', 'race', 'male&race'],\n",
    "    GERMAN_CREDIT_DATASET: ['sex', 'age', 'sex&age'],\n",
    "    CARDIOVASCULAR_DISEASE_DATASET: ['gender'],\n",
    "    BANK_MARKETING_DATASET: ['age'],\n",
    "    DIABETES_DATASET: ['Gender'],\n",
    "    ACS_EMPLOYMENT_DATASET: ['SEX', 'RAC1P', 'SEX&RAC1P'],\n",
    "}\n",
    "\n",
    "DATASETS_SENSITIVE_ATTRS = {\n",
    "    ACS_INCOME_DATASET: 'SEX&RAC1P',\n",
    "    LAW_SCHOOL_DATASET: 'male&race',\n",
    "    GERMAN_CREDIT_DATASET: 'sex',\n",
    "    CARDIOVASCULAR_DISEASE_DATASET: 'gender',\n",
    "    BANK_MARKETING_DATASET: 'age',\n",
    "    DIABETES_DATASET: 'Gender',\n",
    "    ACS_EMPLOYMENT_DATASET: 'SEX&RAC1P',\n",
    "}\n",
    "\n",
    "DATASET_TO_COLUMN_NAME = {\n",
    "    DIABETES_DATASET: {'cat': ['Family_Diabetes', 'PhysicallyActive', 'RegularMedicine'], 'num': ['SoundSleep']},\n",
    "    GERMAN_CREDIT_DATASET: {'cat': ['checking-account', 'savings-account', 'employment-since'], 'num': ['duration', 'credit-amount']},\n",
    "    ACS_INCOME_DATASET: {'cat': ['SCHL', 'MAR'], 'num': ['AGEP', 'WKHP']},\n",
    "    LAW_SCHOOL_DATASET: {'cat': ['fam_inc', 'tier'], 'num': ['zfygpa', 'ugpa']},\n",
    "    BANK_MARKETING_DATASET: {'cat': ['education', 'job'], 'num': ['balance', 'campaign']},\n",
    "    CARDIOVASCULAR_DISEASE_DATASET: {'cat': ['cholesterol', 'gluc'], 'num': ['weight', 'height']},\n",
    "    ACS_EMPLOYMENT_DATASET: {'cat': ['SCHL', 'DIS', 'MIL'], 'num': ['AGEP']},\n",
    "}"
   ],
   "outputs": [],
   "execution_count": 6
  },
  {
   "cell_type": "markdown",
   "id": "5a9d74e761ae5ab9",
   "metadata": {},
   "source": [
    "## Metric Visualizations"
   ]
  },
  {
   "metadata": {
    "ExecuteTime": {
     "end_time": "2025-01-17T22:35:47.796536Z",
     "start_time": "2025-01-17T22:35:42.563504Z"
    }
   },
   "cell_type": "code",
   "source": [
    "from source.custom_classes.benchmark import Benchmark\n",
    "\n",
    "\n",
    "def get_mean_sample_size():\n",
    "    # experiment_seeds = [100, 200, 300, 400, 500, 600]\n",
    "    experiment_seed = 100\n",
    "    dataset_names = [DIABETES_DATASET, GERMAN_CREDIT_DATASET, ACS_INCOME_DATASET, LAW_SCHOOL_DATASET,\n",
    "                     BANK_MARKETING_DATASET, CARDIOVASCULAR_DISEASE_DATASET, ACS_EMPLOYMENT_DATASET]\n",
    "    evaluation_scenarios = ['mixed_exp', 'exp1_mcar3', 'exp1_mar3', 'exp1_mnar3']\n",
    "\n",
    "    rows_without_nulls_dct = dict()\n",
    "    for dataset_name in dataset_names:\n",
    "        rows_without_nulls_dct[dataset_name] = []\n",
    "        for evaluation_scenario in evaluation_scenarios:\n",
    "            # for experiment_seed in experiment_seeds:\n",
    "            benchmark = Benchmark(dataset_name=dataset_name,\n",
    "                                  null_imputers=[],\n",
    "                                  model_names=[])\n",
    "            X_train_val, X_test, y_train_val, y_test = benchmark._split_dataset(benchmark.init_data_loader, experiment_seed)\n",
    "            X_train_val_with_nulls, _ = benchmark._inject_nulls(X_train_val=X_train_val,\n",
    "                                                                X_test=X_test,\n",
    "                                                                evaluation_scenario=evaluation_scenario,\n",
    "                                                                experiment_seed=experiment_seed)\n",
    "            rows_without_nulls = len(X_train_val_with_nulls.dropna())\n",
    "            rows_without_nulls_dct[dataset_name].append(rows_without_nulls)\n",
    "\n",
    "    avg_rows_without_nulls_dct = {k: sum(v) / len(v) for k, v in rows_without_nulls_dct.items()}\n",
    "    return avg_rows_without_nulls_dct\n",
    "\n",
    "\n",
    "def get_training_sample_size():\n",
    "    experiment_seed = 100\n",
    "    dataset_names = [DIABETES_DATASET, GERMAN_CREDIT_DATASET, ACS_INCOME_DATASET, LAW_SCHOOL_DATASET,\n",
    "                     BANK_MARKETING_DATASET, CARDIOVASCULAR_DISEASE_DATASET, ACS_EMPLOYMENT_DATASET]\n",
    "\n",
    "    training_set_shape_dct = dict()\n",
    "    for dataset_name in dataset_names:\n",
    "        training_set_shape_dct[dataset_name] = []\n",
    "\n",
    "        # for experiment_seed in experiment_seeds:\n",
    "        benchmark = Benchmark(dataset_name=dataset_name,\n",
    "                              null_imputers=[],\n",
    "                              model_names=[])\n",
    "        X_train_val, X_test, y_train_val, y_test = benchmark._split_dataset(benchmark.init_data_loader, experiment_seed)\n",
    "        training_set_shape_dct[dataset_name] = X_train_val.shape\n",
    "\n",
    "    return training_set_shape_dct"
   ],
   "id": "95fe80ff8b1f2e85",
   "outputs": [],
   "execution_count": 7
  },
  {
   "metadata": {
    "ExecuteTime": {
     "end_time": "2025-01-17T22:35:48.138110Z",
     "start_time": "2025-01-17T22:35:48.090209Z"
    }
   },
   "cell_type": "code",
   "source": "# avg_rows_without_nulls_dct = get_mean_sample_size()",
   "id": "c079e87478887ff4",
   "outputs": [],
   "execution_count": 8
  },
  {
   "metadata": {
    "ExecuteTime": {
     "end_time": "2025-01-17T22:35:57.001482Z",
     "start_time": "2025-01-17T22:35:48.169776Z"
    }
   },
   "cell_type": "code",
   "source": [
    "training_set_shape_dct = get_training_sample_size()\n",
    "training_set_shape_dct"
   ],
   "id": "ea530a6579306d13",
   "outputs": [
    {
     "name": "stdout",
     "output_type": "stream",
     "text": [
      "Session UUID for all results of experiments in the current benchmark session: 65eb9cbe-d523-11ef-b480-ae7d8bf09116\n",
      "Session UUID for all results of experiments in the current benchmark session: 65ecb7ca-d523-11ef-b480-ae7d8bf09116\n",
      "Session UUID for all results of experiments in the current benchmark session: 66c286f2-d523-11ef-b480-ae7d8bf09116\n",
      "Session UUID for all results of experiments in the current benchmark session: 66c8b978-d523-11ef-b480-ae7d8bf09116\n",
      "Session UUID for all results of experiments in the current benchmark session: 66d68ef4-d523-11ef-b480-ae7d8bf09116\n",
      "Session UUID for all results of experiments in the current benchmark session: 66ead120-d523-11ef-b480-ae7d8bf09116\n",
      "Session UUID for all results of experiments in the current benchmark session: 6b038d6a-d523-11ef-b480-ae7d8bf09116\n"
     ]
    },
    {
     "data": {
      "text/plain": [
       "{'diabetes': (633, 17),\n",
       " 'german': (700, 21),\n",
       " 'folk': (12000, 10),\n",
       " 'law_school': (16638, 11),\n",
       " 'bank': (32003, 13),\n",
       " 'heart': (56000, 11),\n",
       " 'folk_emp': (242112, 16)}"
      ]
     },
     "execution_count": 9,
     "metadata": {},
     "output_type": "execute_result"
    }
   ],
   "execution_count": 9
  },
  {
   "metadata": {
    "ExecuteTime": {
     "end_time": "2025-01-17T22:35:57.198324Z",
     "start_time": "2025-01-17T22:35:57.108819Z"
    }
   },
   "cell_type": "code",
   "source": [
    "def get_imputer_time_data(missingness_types: list, dataset_to_column_name: dict, imputation_quality_metric_name: str,\n",
    "                          db_client_1, db_client_3, dataset_to_group: dict = None, without_dummy: bool = False):\n",
    "    imputation_quality_metrics_df = pd.DataFrame()\n",
    "    for missingness_type in missingness_types:\n",
    "        train_injection_scenario, test_injection_scenario = missingness_type['train'], missingness_type['test']\n",
    "        if train_injection_scenario != 'mixed_exp':\n",
    "            train_injection_scenario = train_injection_scenario.upper()\n",
    "        test_injection_scenario = test_injection_scenario.upper()\n",
    "\n",
    "        db_client = db_client_3 if train_injection_scenario == 'mixed_exp' else db_client_1\n",
    "        imputation_quality_metrics_sub_df, _ = (\n",
    "            get_data_for_box_plots_for_diff_imputers_and_datasets_for_mixed_exp(train_injection_scenario=train_injection_scenario,\n",
    "                                                                                test_injection_scenario=test_injection_scenario,\n",
    "                                                                                metric_name=imputation_quality_metric_name,\n",
    "                                                                                dataset_to_column_name=dataset_to_column_name,\n",
    "                                                                                db_client=db_client,\n",
    "                                                                                dataset_to_group=dataset_to_group,\n",
    "                                                                                without_dummy=without_dummy))\n",
    "\n",
    "        imputation_quality_metrics_sub_df['Missingness_Type'] = train_injection_scenario + ' - ' + test_injection_scenario\n",
    "        imputation_quality_metrics_df = pd.concat([imputation_quality_metrics_df, imputation_quality_metrics_sub_df])\n",
    "\n",
    "        print(f'Extraction for {missingness_type} is completed\\n\\n')\n",
    "\n",
    "    return imputation_quality_metrics_df"
   ],
   "id": "bb26d01ed76768df",
   "outputs": [],
   "execution_count": 10
  },
  {
   "metadata": {
    "ExecuteTime": {
     "end_time": "2025-01-17T22:36:01.968342Z",
     "start_time": "2025-01-17T22:35:57.217916Z"
    }
   },
   "cell_type": "code",
   "source": [
    "imputation_quality_metrics_df = get_imputer_time_data(missingness_types=[\n",
    "                                                         {'train': 'MCAR3', 'test': 'MCAR3'},\n",
    "                                                         {'train': 'MAR3', 'test': 'MAR3'},\n",
    "                                                         {'train': 'MNAR3', 'test': 'MNAR3'},\n",
    "                                                         {'train': 'mixed_exp', 'test': 'MCAR1 & MAR1 & MNAR1'}\n",
    "                                                      ],\n",
    "                                                      dataset_to_column_name=DATASET_TO_COLUMN_NAME,\n",
    "                                                      imputation_quality_metric_name='runtime_in_mins',\n",
    "                                                      db_client_1=db_client_1,\n",
    "                                                      db_client_3=db_client_3)"
   ],
   "id": "ed746156dda6697a",
   "outputs": [
    {
     "name": "stdout",
     "output_type": "stream",
     "text": [
      "Extracted data for german\n",
      "Extracted data for bank\n",
      "Extracted data for heart\n",
      "Extracted data for diabetes\n",
      "Extracted data for law_school\n",
      "Extracted data for folk\n",
      "Extracted data for folk_emp\n",
      "Extraction for {'train': 'mixed_exp', 'test': 'MCAR1 & MAR1 & MNAR1'} is completed\n",
      "\n",
      "\n"
     ]
    }
   ],
   "execution_count": 11
  },
  {
   "metadata": {
    "ExecuteTime": {
     "end_time": "2025-01-17T22:36:02.053295Z",
     "start_time": "2025-01-17T22:36:01.990344Z"
    }
   },
   "cell_type": "code",
   "source": "imputation_quality_metrics_df.head()",
   "id": "d641338ebf4fddd3",
   "outputs": [
    {
     "data": {
      "text/plain": [
       "  Dataset_Name Null_Imputer_Name Evaluation_Scenario  Experiment_Seed  \\\n",
       "0         bank            automl           mixed_exp              100   \n",
       "1         bank            automl           mixed_exp              200   \n",
       "2         bank            automl           mixed_exp              300   \n",
       "3         bank            automl           mixed_exp              400   \n",
       "4         bank            automl           mixed_exp              500   \n",
       "\n",
       "                  Dataset_Part  Sample_Size  Kl_Divergence_Pred  \\\n",
       "0  X_test_MCAR1 & MAR1 & MNAR1        639.5            1.045818   \n",
       "1  X_test_MCAR1 & MAR1 & MNAR1        622.0            1.014260   \n",
       "2  X_test_MCAR1 & MAR1 & MNAR1        633.0            2.285223   \n",
       "3  X_test_MCAR1 & MAR1 & MNAR1        635.0            2.313469   \n",
       "4  X_test_MCAR1 & MAR1 & MNAR1        627.5            2.340687   \n",
       "\n",
       "   Kl_Divergence_Total  Rmse  Precision    Recall  F1_Score  Runtime_In_Mins  \\\n",
       "0             0.001907   NaN   0.490005  0.490005  0.490005       239.620521   \n",
       "1             0.002607   NaN   0.495821  0.495821  0.495821       212.400844   \n",
       "2             0.002284   NaN   0.502379  0.502379  0.502379       187.875222   \n",
       "3             0.002266   NaN   0.489497  0.489497  0.489497       201.724812   \n",
       "4             0.002203   NaN   0.515463  0.515463  0.515463       225.469161   \n",
       "\n",
       "   Null_Imputer_Params_Dct                  Missingness_Type  \n",
       "0                      NaN  mixed_exp - MCAR1 & MAR1 & MNAR1  \n",
       "1                      NaN  mixed_exp - MCAR1 & MAR1 & MNAR1  \n",
       "2                      NaN  mixed_exp - MCAR1 & MAR1 & MNAR1  \n",
       "3                      NaN  mixed_exp - MCAR1 & MAR1 & MNAR1  \n",
       "4                      NaN  mixed_exp - MCAR1 & MAR1 & MNAR1  "
      ],
      "text/html": [
       "<div>\n",
       "<style scoped>\n",
       "    .dataframe tbody tr th:only-of-type {\n",
       "        vertical-align: middle;\n",
       "    }\n",
       "\n",
       "    .dataframe tbody tr th {\n",
       "        vertical-align: top;\n",
       "    }\n",
       "\n",
       "    .dataframe thead th {\n",
       "        text-align: right;\n",
       "    }\n",
       "</style>\n",
       "<table border=\"1\" class=\"dataframe\">\n",
       "  <thead>\n",
       "    <tr style=\"text-align: right;\">\n",
       "      <th></th>\n",
       "      <th>Dataset_Name</th>\n",
       "      <th>Null_Imputer_Name</th>\n",
       "      <th>Evaluation_Scenario</th>\n",
       "      <th>Experiment_Seed</th>\n",
       "      <th>Dataset_Part</th>\n",
       "      <th>Sample_Size</th>\n",
       "      <th>Kl_Divergence_Pred</th>\n",
       "      <th>Kl_Divergence_Total</th>\n",
       "      <th>Rmse</th>\n",
       "      <th>Precision</th>\n",
       "      <th>Recall</th>\n",
       "      <th>F1_Score</th>\n",
       "      <th>Runtime_In_Mins</th>\n",
       "      <th>Null_Imputer_Params_Dct</th>\n",
       "      <th>Missingness_Type</th>\n",
       "    </tr>\n",
       "  </thead>\n",
       "  <tbody>\n",
       "    <tr>\n",
       "      <th>0</th>\n",
       "      <td>bank</td>\n",
       "      <td>automl</td>\n",
       "      <td>mixed_exp</td>\n",
       "      <td>100</td>\n",
       "      <td>X_test_MCAR1 &amp; MAR1 &amp; MNAR1</td>\n",
       "      <td>639.5</td>\n",
       "      <td>1.045818</td>\n",
       "      <td>0.001907</td>\n",
       "      <td>NaN</td>\n",
       "      <td>0.490005</td>\n",
       "      <td>0.490005</td>\n",
       "      <td>0.490005</td>\n",
       "      <td>239.620521</td>\n",
       "      <td>NaN</td>\n",
       "      <td>mixed_exp - MCAR1 &amp; MAR1 &amp; MNAR1</td>\n",
       "    </tr>\n",
       "    <tr>\n",
       "      <th>1</th>\n",
       "      <td>bank</td>\n",
       "      <td>automl</td>\n",
       "      <td>mixed_exp</td>\n",
       "      <td>200</td>\n",
       "      <td>X_test_MCAR1 &amp; MAR1 &amp; MNAR1</td>\n",
       "      <td>622.0</td>\n",
       "      <td>1.014260</td>\n",
       "      <td>0.002607</td>\n",
       "      <td>NaN</td>\n",
       "      <td>0.495821</td>\n",
       "      <td>0.495821</td>\n",
       "      <td>0.495821</td>\n",
       "      <td>212.400844</td>\n",
       "      <td>NaN</td>\n",
       "      <td>mixed_exp - MCAR1 &amp; MAR1 &amp; MNAR1</td>\n",
       "    </tr>\n",
       "    <tr>\n",
       "      <th>2</th>\n",
       "      <td>bank</td>\n",
       "      <td>automl</td>\n",
       "      <td>mixed_exp</td>\n",
       "      <td>300</td>\n",
       "      <td>X_test_MCAR1 &amp; MAR1 &amp; MNAR1</td>\n",
       "      <td>633.0</td>\n",
       "      <td>2.285223</td>\n",
       "      <td>0.002284</td>\n",
       "      <td>NaN</td>\n",
       "      <td>0.502379</td>\n",
       "      <td>0.502379</td>\n",
       "      <td>0.502379</td>\n",
       "      <td>187.875222</td>\n",
       "      <td>NaN</td>\n",
       "      <td>mixed_exp - MCAR1 &amp; MAR1 &amp; MNAR1</td>\n",
       "    </tr>\n",
       "    <tr>\n",
       "      <th>3</th>\n",
       "      <td>bank</td>\n",
       "      <td>automl</td>\n",
       "      <td>mixed_exp</td>\n",
       "      <td>400</td>\n",
       "      <td>X_test_MCAR1 &amp; MAR1 &amp; MNAR1</td>\n",
       "      <td>635.0</td>\n",
       "      <td>2.313469</td>\n",
       "      <td>0.002266</td>\n",
       "      <td>NaN</td>\n",
       "      <td>0.489497</td>\n",
       "      <td>0.489497</td>\n",
       "      <td>0.489497</td>\n",
       "      <td>201.724812</td>\n",
       "      <td>NaN</td>\n",
       "      <td>mixed_exp - MCAR1 &amp; MAR1 &amp; MNAR1</td>\n",
       "    </tr>\n",
       "    <tr>\n",
       "      <th>4</th>\n",
       "      <td>bank</td>\n",
       "      <td>automl</td>\n",
       "      <td>mixed_exp</td>\n",
       "      <td>500</td>\n",
       "      <td>X_test_MCAR1 &amp; MAR1 &amp; MNAR1</td>\n",
       "      <td>627.5</td>\n",
       "      <td>2.340687</td>\n",
       "      <td>0.002203</td>\n",
       "      <td>NaN</td>\n",
       "      <td>0.515463</td>\n",
       "      <td>0.515463</td>\n",
       "      <td>0.515463</td>\n",
       "      <td>225.469161</td>\n",
       "      <td>NaN</td>\n",
       "      <td>mixed_exp - MCAR1 &amp; MAR1 &amp; MNAR1</td>\n",
       "    </tr>\n",
       "  </tbody>\n",
       "</table>\n",
       "</div>"
      ]
     },
     "execution_count": 12,
     "metadata": {},
     "output_type": "execute_result"
    }
   ],
   "execution_count": 12
  },
  {
   "metadata": {
    "ExecuteTime": {
     "end_time": "2025-01-17T22:36:02.148176Z",
     "start_time": "2025-01-17T22:36:02.092916Z"
    }
   },
   "cell_type": "code",
   "source": "imputation_quality_metrics_df.shape",
   "id": "1874f503cd73cdbb",
   "outputs": [
    {
     "data": {
      "text/plain": [
       "(587, 15)"
      ]
     },
     "execution_count": 13,
     "metadata": {},
     "output_type": "execute_result"
    }
   ],
   "execution_count": 13
  },
  {
   "cell_type": "code",
   "id": "8e148cc099b55127",
   "metadata": {
    "ExecuteTime": {
     "end_time": "2025-01-17T22:36:02.230560Z",
     "start_time": "2025-01-17T22:36:02.170933Z"
    }
   },
   "source": [
    "imputation_quality_metrics_df['Runtime_In_Secs'] = imputation_quality_metrics_df['Runtime_In_Mins'] * 60.0\n",
    "imp_runtime_df = (\n",
    "    imputation_quality_metrics_df[\n",
    "        ['Dataset_Name', 'Null_Imputer_Name', 'Evaluation_Scenario',\n",
    "         'Experiment_Seed', 'Runtime_In_Secs', 'Missingness_Type']\n",
    "    ].groupby(['Dataset_Name', 'Null_Imputer_Name', 'Missingness_Type'])\n",
    "    .agg(mean_runtime=('Runtime_In_Secs', 'mean'), std_runtime=('Runtime_In_Secs', 'std'))\n",
    "    .groupby(['Dataset_Name', 'Null_Imputer_Name'])\n",
    "    .agg(avg_mean_runtime=('mean_runtime', 'mean'), avg_std_runtime=('std_runtime', 'mean'))\n",
    "    .reset_index()\n",
    ")"
   ],
   "outputs": [],
   "execution_count": 14
  },
  {
   "cell_type": "code",
   "id": "bf0bb9f262a36a21",
   "metadata": {
    "ExecuteTime": {
     "end_time": "2025-01-17T22:36:02.335074Z",
     "start_time": "2025-01-17T22:36:02.281009Z"
    }
   },
   "source": [
    "imp_runtime_df.shape"
   ],
   "outputs": [
    {
     "data": {
      "text/plain": [
       "(98, 4)"
      ]
     },
     "execution_count": 15,
     "metadata": {},
     "output_type": "execute_result"
    }
   ],
   "execution_count": 15
  },
  {
   "cell_type": "code",
   "id": "1d4685b6ed6c0155",
   "metadata": {
    "ExecuteTime": {
     "end_time": "2025-01-17T22:36:02.409885Z",
     "start_time": "2025-01-17T22:36:02.355266Z"
    }
   },
   "source": [
    "imp_runtime_df.head(20)"
   ],
   "outputs": [
    {
     "data": {
      "text/plain": [
       "   Dataset_Name   Null_Imputer_Name  avg_mean_runtime  avg_std_runtime\n",
       "0          bank              automl      12888.432229      1099.781717\n",
       "1          bank             datawig       5892.518570       480.435842\n",
       "2          bank            deletion          0.039361         0.000616\n",
       "3          bank           edit_gain         29.035677         1.959976\n",
       "4          bank                gain       2106.398085        38.569102\n",
       "5          bank               hivae       2405.321782       111.218301\n",
       "6          bank  k_means_clustering       3914.635583       194.343107\n",
       "7          bank        median-dummy          0.021424         0.000636\n",
       "8          bank         median-mode          0.024178         0.000484\n",
       "9          bank         miss_forest       3966.557256      1017.057177\n",
       "10         bank           mnar_pvae         22.013663         0.775991\n",
       "11         bank                nomi         19.664714         0.961856\n",
       "12         bank            notmiwae        502.524852       128.008712\n",
       "13         bank                 tdm       1281.730028        40.267976\n",
       "14     diabetes              automl       1715.801580       149.872976\n",
       "15     diabetes             datawig       1627.286105       541.831572\n",
       "16     diabetes            deletion          0.007894         0.000282\n",
       "17     diabetes           edit_gain          2.221207         0.126478\n",
       "18     diabetes                gain        241.666894         7.097431\n",
       "19     diabetes               hivae         68.614660         0.623967"
      ],
      "text/html": [
       "<div>\n",
       "<style scoped>\n",
       "    .dataframe tbody tr th:only-of-type {\n",
       "        vertical-align: middle;\n",
       "    }\n",
       "\n",
       "    .dataframe tbody tr th {\n",
       "        vertical-align: top;\n",
       "    }\n",
       "\n",
       "    .dataframe thead th {\n",
       "        text-align: right;\n",
       "    }\n",
       "</style>\n",
       "<table border=\"1\" class=\"dataframe\">\n",
       "  <thead>\n",
       "    <tr style=\"text-align: right;\">\n",
       "      <th></th>\n",
       "      <th>Dataset_Name</th>\n",
       "      <th>Null_Imputer_Name</th>\n",
       "      <th>avg_mean_runtime</th>\n",
       "      <th>avg_std_runtime</th>\n",
       "    </tr>\n",
       "  </thead>\n",
       "  <tbody>\n",
       "    <tr>\n",
       "      <th>0</th>\n",
       "      <td>bank</td>\n",
       "      <td>automl</td>\n",
       "      <td>12888.432229</td>\n",
       "      <td>1099.781717</td>\n",
       "    </tr>\n",
       "    <tr>\n",
       "      <th>1</th>\n",
       "      <td>bank</td>\n",
       "      <td>datawig</td>\n",
       "      <td>5892.518570</td>\n",
       "      <td>480.435842</td>\n",
       "    </tr>\n",
       "    <tr>\n",
       "      <th>2</th>\n",
       "      <td>bank</td>\n",
       "      <td>deletion</td>\n",
       "      <td>0.039361</td>\n",
       "      <td>0.000616</td>\n",
       "    </tr>\n",
       "    <tr>\n",
       "      <th>3</th>\n",
       "      <td>bank</td>\n",
       "      <td>edit_gain</td>\n",
       "      <td>29.035677</td>\n",
       "      <td>1.959976</td>\n",
       "    </tr>\n",
       "    <tr>\n",
       "      <th>4</th>\n",
       "      <td>bank</td>\n",
       "      <td>gain</td>\n",
       "      <td>2106.398085</td>\n",
       "      <td>38.569102</td>\n",
       "    </tr>\n",
       "    <tr>\n",
       "      <th>5</th>\n",
       "      <td>bank</td>\n",
       "      <td>hivae</td>\n",
       "      <td>2405.321782</td>\n",
       "      <td>111.218301</td>\n",
       "    </tr>\n",
       "    <tr>\n",
       "      <th>6</th>\n",
       "      <td>bank</td>\n",
       "      <td>k_means_clustering</td>\n",
       "      <td>3914.635583</td>\n",
       "      <td>194.343107</td>\n",
       "    </tr>\n",
       "    <tr>\n",
       "      <th>7</th>\n",
       "      <td>bank</td>\n",
       "      <td>median-dummy</td>\n",
       "      <td>0.021424</td>\n",
       "      <td>0.000636</td>\n",
       "    </tr>\n",
       "    <tr>\n",
       "      <th>8</th>\n",
       "      <td>bank</td>\n",
       "      <td>median-mode</td>\n",
       "      <td>0.024178</td>\n",
       "      <td>0.000484</td>\n",
       "    </tr>\n",
       "    <tr>\n",
       "      <th>9</th>\n",
       "      <td>bank</td>\n",
       "      <td>miss_forest</td>\n",
       "      <td>3966.557256</td>\n",
       "      <td>1017.057177</td>\n",
       "    </tr>\n",
       "    <tr>\n",
       "      <th>10</th>\n",
       "      <td>bank</td>\n",
       "      <td>mnar_pvae</td>\n",
       "      <td>22.013663</td>\n",
       "      <td>0.775991</td>\n",
       "    </tr>\n",
       "    <tr>\n",
       "      <th>11</th>\n",
       "      <td>bank</td>\n",
       "      <td>nomi</td>\n",
       "      <td>19.664714</td>\n",
       "      <td>0.961856</td>\n",
       "    </tr>\n",
       "    <tr>\n",
       "      <th>12</th>\n",
       "      <td>bank</td>\n",
       "      <td>notmiwae</td>\n",
       "      <td>502.524852</td>\n",
       "      <td>128.008712</td>\n",
       "    </tr>\n",
       "    <tr>\n",
       "      <th>13</th>\n",
       "      <td>bank</td>\n",
       "      <td>tdm</td>\n",
       "      <td>1281.730028</td>\n",
       "      <td>40.267976</td>\n",
       "    </tr>\n",
       "    <tr>\n",
       "      <th>14</th>\n",
       "      <td>diabetes</td>\n",
       "      <td>automl</td>\n",
       "      <td>1715.801580</td>\n",
       "      <td>149.872976</td>\n",
       "    </tr>\n",
       "    <tr>\n",
       "      <th>15</th>\n",
       "      <td>diabetes</td>\n",
       "      <td>datawig</td>\n",
       "      <td>1627.286105</td>\n",
       "      <td>541.831572</td>\n",
       "    </tr>\n",
       "    <tr>\n",
       "      <th>16</th>\n",
       "      <td>diabetes</td>\n",
       "      <td>deletion</td>\n",
       "      <td>0.007894</td>\n",
       "      <td>0.000282</td>\n",
       "    </tr>\n",
       "    <tr>\n",
       "      <th>17</th>\n",
       "      <td>diabetes</td>\n",
       "      <td>edit_gain</td>\n",
       "      <td>2.221207</td>\n",
       "      <td>0.126478</td>\n",
       "    </tr>\n",
       "    <tr>\n",
       "      <th>18</th>\n",
       "      <td>diabetes</td>\n",
       "      <td>gain</td>\n",
       "      <td>241.666894</td>\n",
       "      <td>7.097431</td>\n",
       "    </tr>\n",
       "    <tr>\n",
       "      <th>19</th>\n",
       "      <td>diabetes</td>\n",
       "      <td>hivae</td>\n",
       "      <td>68.614660</td>\n",
       "      <td>0.623967</td>\n",
       "    </tr>\n",
       "  </tbody>\n",
       "</table>\n",
       "</div>"
      ]
     },
     "execution_count": 16,
     "metadata": {},
     "output_type": "execute_result"
    }
   ],
   "execution_count": 16
  },
  {
   "metadata": {
    "ExecuteTime": {
     "end_time": "2025-01-17T22:36:02.504644Z",
     "start_time": "2025-01-17T22:36:02.446050Z"
    }
   },
   "cell_type": "code",
   "source": [
    "# Pivot the DataFrame to organize datasets on X-axis and imputers on Y-axis\n",
    "pivot_table = imp_runtime_df.pivot(\n",
    "    index='Null_Imputer_Name',\n",
    "    columns='Dataset_Name',\n",
    "    values=['avg_mean_runtime', 'avg_std_runtime']\n",
    ")"
   ],
   "id": "bc4b27cb23fbbc3c",
   "outputs": [],
   "execution_count": 17
  },
  {
   "metadata": {
    "ExecuteTime": {
     "end_time": "2025-01-17T22:36:02.580951Z",
     "start_time": "2025-01-17T22:36:02.525040Z"
    }
   },
   "cell_type": "code",
   "source": [
    "# Sort by values in the column ('avg_mean_runtime', 'folk_emp')\n",
    "sorted_pivot_table = pivot_table.sort_values(by=('avg_mean_runtime', 'folk_emp'))\n",
    "sorted_imputer_names = sorted_pivot_table.index\n",
    "print(sorted_imputer_names)"
   ],
   "id": "85896a3f44b10aae",
   "outputs": [
    {
     "name": "stdout",
     "output_type": "stream",
     "text": [
      "Index(['median-dummy', 'median-mode', 'deletion', 'mnar_pvae', 'edit_gain',\n",
      "       'nomi', 'tdm', 'notmiwae', 'gain', 'hivae', 'k_means_clustering',\n",
      "       'miss_forest', 'datawig', 'automl'],\n",
      "      dtype='object', name='Null_Imputer_Name')\n"
     ]
    }
   ],
   "execution_count": 18
  },
  {
   "cell_type": "code",
   "id": "442d7ac35140dab7",
   "metadata": {
    "ExecuteTime": {
     "end_time": "2025-01-17T22:36:02.686344Z",
     "start_time": "2025-01-17T22:36:02.620960Z"
    }
   },
   "source": [
    "# Sort X-axis (Datasets) and Y-axis (Imputers)\n",
    "x_axis_order = ['diabetes', 'german', 'folk', 'law_school', 'bank', 'heart', 'folk_emp']\n",
    "# y_axis_order = IMPUTERS_ORDER\n",
    "y_axis_order = sorted_imputer_names\n",
    "\n",
    "# Pivot the table and reindex\n",
    "pivot_table = pivot_table.reindex(index=y_axis_order,\n",
    "                                  columns=pd.MultiIndex.from_product([['avg_mean_runtime', 'avg_std_runtime'], x_axis_order]))\n",
    "\n",
    "# Escape underscores in LaTeX\n",
    "def escape_latex(text):\n",
    "    return text.replace(\"_\", \"$\\\\_$\")\n",
    "\n",
    "# Generate LaTeX table with sorting, escaping, rounding, and bold formatting for each column\n",
    "latex_data = []\n",
    "columns = ['\\\\textbf{Imputer}'] + [\n",
    "    '\\\\makecell[tl]{\\\\textbf{' + escape_latex(\"folk_inc\" if col == \"folk\" else col) + '}' + '\\\\\\\\' +\n",
    "    '\\\\textbf{' + f\"({training_set_shape_dct[col][0]}, {training_set_shape_dct[col][1]})\" + '}}'\n",
    "    for col in x_axis_order\n",
    "]\n",
    "\n",
    "# Generate rows with bold formatting for minimum values\n",
    "for imputer in pivot_table.index:\n",
    "    row = [escape_latex(imputer)]\n",
    "\n",
    "    for dataset in x_axis_order:\n",
    "        mean_val = pivot_table.loc[imputer, ('avg_mean_runtime', dataset)]\n",
    "        std_val = pivot_table.loc[imputer, ('avg_std_runtime', dataset)]\n",
    "        if pd.notnull(mean_val) and pd.notnull(std_val):\n",
    "            # Apply custom rounding\n",
    "            mean_str = f\"{int(mean_val):d}\" if mean_val > 1 else f\"{mean_val:.3f}\"\n",
    "            std_str = f\"{int(std_val):d}\" if std_val > 1 else f\"{std_val:.3f}\"\n",
    "            row.append(f\"${mean_str} \\\\pm {std_str}$\")\n",
    "        else:\n",
    "            row.append(\"-\")\n",
    "    latex_data.append(row)"
   ],
   "outputs": [],
   "execution_count": 19
  },
  {
   "cell_type": "code",
   "id": "da24fe6ee1c56871",
   "metadata": {
    "ExecuteTime": {
     "end_time": "2025-01-17T22:36:02.762292Z",
     "start_time": "2025-01-17T22:36:02.705263Z"
    }
   },
   "source": [
    "# Use tabulate to generate LaTeX code\n",
    "latex_table = tabulate(latex_data, headers=columns, tablefmt=\"latex_raw\")\n",
    "\n",
    "# Output the LaTeX table code\n",
    "print(\"Generated LaTeX Table:\")\n",
    "print(latex_table)"
   ],
   "outputs": [
    {
     "name": "stdout",
     "output_type": "stream",
     "text": [
      "Generated LaTeX Table:\n",
      "\\begin{tabular}{llllllll}\n",
      "\\hline\n",
      " \\textbf{Imputer}         & \\makecell[tl]{\\textbf{diabetes}\\\\\\textbf{(633, 17)}}   & \\makecell[tl]{\\textbf{german}\\\\\\textbf{(700, 21)}}   & \\makecell[tl]{\\textbf{folk$\\_$inc}\\\\\\textbf{(12000, 10)}}   & \\makecell[tl]{\\textbf{law$\\_$school}\\\\\\textbf{(16638, 11)}}   & \\makecell[tl]{\\textbf{bank}\\\\\\textbf{(32003, 13)}}   & \\makecell[tl]{\\textbf{heart}\\\\\\textbf{(56000, 11)}}   & \\makecell[tl]{\\textbf{folk$\\_$emp}\\\\\\textbf{(242112, 16)}}   \\\\\n",
      "\\hline\n",
      " median-dummy             & $0.009 \\pm 0.000$                                      & $0.010 \\pm 0.001$                                    & $0.019 \\pm 0.002$                                           & $0.021 \\pm 0.000$                                             & $0.021 \\pm 0.001$                                    & $0.040 \\pm 0.001$                                     & $0.590 \\pm 0.007$                                            \\\\\n",
      " median-mode              & $0.009 \\pm 0.000$                                      & $0.010 \\pm 0.000$                                    & $0.023 \\pm 0.002$                                           & $0.019 \\pm 0.000$                                             & $0.024 \\pm 0.000$                                    & $0.059 \\pm 0.003$                                     & $0.748 \\pm 0.015$                                            \\\\\n",
      " deletion                 & $0.008 \\pm 0.000$                                      & $0.009 \\pm 0.001$                                    & $0.017 \\pm 0.001$                                           & $0.018 \\pm 0.000$                                             & $0.039 \\pm 0.001$                                    & $0.067 \\pm 0.002$                                     & $0.927 \\pm 0.013$                                            \\\\\n",
      " mnar$\\_$pvae             & $8 \\pm 0.717$                                          & $9 \\pm 0.997$                                        & $18 \\pm 4$                                                  & $12 \\pm 0.505$                                                & $22 \\pm 0.776$                                       & $33 \\pm 0.939$                                        & $169 \\pm 3$                                                  \\\\\n",
      " edit$\\_$gain             & $2 \\pm 0.126$                                          & $2 \\pm 0.145$                                        & $14 \\pm 0.252$                                              & $21 \\pm 2$                                                    & $29 \\pm 1$                                           & $62 \\pm 9$                                            & $215 \\pm 2$                                                  \\\\\n",
      " nomi                     & $10 \\pm 2$                                             & $13 \\pm 5$                                           & $17 \\pm 1$                                                  & $16 \\pm 0.530$                                                & $19 \\pm 0.962$                                       & $26 \\pm 1$                                            & $306 \\pm 38$                                                 \\\\\n",
      " tdm                      & $1048 \\pm 260$                                         & $1024 \\pm 16$                                        & $1236 \\pm 21$                                               & $1114 \\pm 20$                                                 & $1281 \\pm 40$                                        & $1212 \\pm 16$                                         & $1463 \\pm 24$                                                \\\\\n",
      " notmiwae                 & $122 \\pm 81$                                           & $123 \\pm 83$                                         & $507 \\pm 0.743$                                             & $618 \\pm 1$                                                   & $502 \\pm 128$                                        & $1082 \\pm 406$                                        & $2492 \\pm 1023$                                              \\\\\n",
      " gain                     & $241 \\pm 7$                                            & $294 \\pm 7$                                          & $1126 \\pm 26$                                               & $1392 \\pm 19$                                                 & $2106 \\pm 38$                                        & $2960 \\pm 43$                                         & $6396 \\pm 241$                                               \\\\\n",
      " hivae                    & $68 \\pm 0.624$                                         & $93 \\pm 1$                                           & $785 \\pm 31$                                                & $1119 \\pm 16$                                                 & $2405 \\pm 111$                                       & $3828 \\pm 264$                                        & $6559 \\pm 119$                                               \\\\\n",
      " k$\\_$means$\\_$clustering & $39 \\pm 0.618$                                         & $50 \\pm 0.800$                                       & $104 \\pm 2$                                                 & $1239 \\pm 23$                                                 & $3914 \\pm 194$                                       & $3820 \\pm 185$                                        & $7432 \\pm 873$                                               \\\\\n",
      " miss$\\_$forest           & $114 \\pm 13$                                           & $207 \\pm 76$                                         & $1878 \\pm 553$                                              & $2434 \\pm 685$                                                & $3966 \\pm 1017$                                      & $7253 \\pm 1789$                                       & $27730 \\pm 5046$                                             \\\\\n",
      " datawig                  & $1627 \\pm 541$                                         & $272 \\pm 55$                                         & $591 \\pm 46$                                                & $2802 \\pm 518$                                                & $5892 \\pm 480$                                       & $7708 \\pm 468$                                        & $31086 \\pm 4558$                                             \\\\\n",
      " automl                   & $1715 \\pm 149$                                         & $1750 \\pm 172$                                       & $5843 \\pm 461$                                              & $6531 \\pm 509$                                                & $12888 \\pm 1099$                                     & $18248 \\pm 1324$                                      & $110488 \\pm 14166$                                           \\\\\n",
      "\\hline\n",
      "\\end{tabular}\n"
     ]
    }
   ],
   "execution_count": 20
  },
  {
   "cell_type": "code",
   "id": "2c855a9d-2ffa-4ee2-b12b-771da502c3f9",
   "metadata": {
    "ExecuteTime": {
     "end_time": "2025-01-17T22:36:02.827896Z",
     "start_time": "2025-01-17T22:36:02.825978Z"
    }
   },
   "source": [],
   "outputs": [],
   "execution_count": null
  }
 ],
 "metadata": {
  "kernelspec": {
   "display_name": "Python 3 (ipykernel)",
   "language": "python",
   "name": "python3"
  },
  "language_info": {
   "codemirror_mode": {
    "name": "ipython",
    "version": 3
   },
   "file_extension": ".py",
   "mimetype": "text/x-python",
   "name": "python",
   "nbconvert_exporter": "python",
   "pygments_lexer": "ipython3",
   "version": "3.9.6"
  }
 },
 "nbformat": 4,
 "nbformat_minor": 5
}
