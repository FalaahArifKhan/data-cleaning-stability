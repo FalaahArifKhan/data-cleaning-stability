{
 "cells": [
  {
   "cell_type": "markdown",
   "id": "b2a8aecec904061c",
   "metadata": {},
   "source": [
    "# Time Consumption"
   ]
  },
  {
   "cell_type": "code",
   "id": "initial_id",
   "metadata": {
    "ExecuteTime": {
     "end_time": "2025-01-10T21:35:22.590378Z",
     "start_time": "2025-01-10T21:35:22.296606Z"
    }
   },
   "source": [
    "%matplotlib inline\n",
    "%load_ext autoreload\n",
    "%autoreload 2"
   ],
   "outputs": [],
   "execution_count": 1
  },
  {
   "cell_type": "code",
   "id": "1d810dc95173833f",
   "metadata": {
    "ExecuteTime": {
     "end_time": "2025-01-10T21:35:22.601971Z",
     "start_time": "2025-01-10T21:35:22.593907Z"
    }
   },
   "source": [
    "import os\n",
    "import warnings\n",
    "warnings.filterwarnings('ignore')\n",
    "os.environ[\"PYTHONWARNINGS\"] = \"ignore\""
   ],
   "outputs": [],
   "execution_count": 2
  },
  {
   "cell_type": "code",
   "id": "480717c3e86829e6",
   "metadata": {
    "ExecuteTime": {
     "end_time": "2025-01-10T21:35:22.927084Z",
     "start_time": "2025-01-10T21:35:22.746598Z"
    }
   },
   "source": [
    "cur_folder_name = os.getcwd().split('/')[-1]\n",
    "if cur_folder_name != \"data-cleaning-stability\":\n",
    "    os.chdir(\"../../../..\")\n",
    "\n",
    "print('Current location: ', os.getcwd())"
   ],
   "outputs": [
    {
     "name": "stdout",
     "output_type": "stream",
     "text": [
      "Current location:  /Users/denys_herasymuk/Research/NYU/ML_Lifecycle_Project\n"
     ]
    }
   ],
   "execution_count": 3
  },
  {
   "cell_type": "code",
   "id": "d7841dd7bede7600",
   "metadata": {
    "ExecuteTime": {
     "end_time": "2025-01-10T21:35:25.066478Z",
     "start_time": "2025-01-10T21:35:23.076053Z"
    }
   },
   "source": [
    "import pandas as pd\n",
    "from tabulate import tabulate\n",
    "from source.visualizations.imputers_viz import get_data_for_box_plots_for_diff_imputers_and_datasets_for_mixed_exp\n",
    "from configs.constants import (ACS_INCOME_DATASET, ACS_EMPLOYMENT_DATASET, LAW_SCHOOL_DATASET, GERMAN_CREDIT_DATASET,\n",
    "                               CARDIOVASCULAR_DISEASE_DATASET, BANK_MARKETING_DATASET, DIABETES_DATASET)"
   ],
   "outputs": [],
   "execution_count": 4
  },
  {
   "cell_type": "markdown",
   "id": "f85cd56ebc8cc3c1",
   "metadata": {},
   "source": [
    "## Define global configs"
   ]
  },
  {
   "cell_type": "code",
   "id": "ae8d5b84692f82b",
   "metadata": {
    "ExecuteTime": {
     "end_time": "2025-01-10T21:35:25.286158Z",
     "start_time": "2025-01-10T21:35:25.232832Z"
    }
   },
   "source": [
    "from source.custom_classes.database_client import DatabaseClient, get_secrets_path\n",
    "\n",
    "db_client_1 = DatabaseClient()\n",
    "db_client_3 = DatabaseClient(secrets_path=get_secrets_path('secrets_3.env'))\n",
    "db_client_1.connect()\n",
    "db_client_3.connect()"
   ],
   "outputs": [],
   "execution_count": 5
  },
  {
   "cell_type": "code",
   "id": "3d9dec5e81bc63df",
   "metadata": {
    "ExecuteTime": {
     "end_time": "2025-01-10T21:35:25.325587Z",
     "start_time": "2025-01-10T21:35:25.300187Z"
    }
   },
   "source": [
    "DATASETS_ALL_SENSITIVE_ATTRS = {\n",
    "    ACS_INCOME_DATASET: ['SEX', 'RAC1P', 'SEX&RAC1P'],\n",
    "    LAW_SCHOOL_DATASET: ['male', 'race', 'male&race'],\n",
    "    GERMAN_CREDIT_DATASET: ['sex', 'age', 'sex&age'],\n",
    "    CARDIOVASCULAR_DISEASE_DATASET: ['gender'],\n",
    "    BANK_MARKETING_DATASET: ['age'],\n",
    "    DIABETES_DATASET: ['Gender'],\n",
    "    ACS_EMPLOYMENT_DATASET: ['SEX', 'RAC1P', 'SEX&RAC1P'],\n",
    "}\n",
    "\n",
    "DATASETS_SENSITIVE_ATTRS = {\n",
    "    ACS_INCOME_DATASET: 'SEX&RAC1P',\n",
    "    LAW_SCHOOL_DATASET: 'male&race',\n",
    "    GERMAN_CREDIT_DATASET: 'sex',\n",
    "    CARDIOVASCULAR_DISEASE_DATASET: 'gender',\n",
    "    BANK_MARKETING_DATASET: 'age',\n",
    "    DIABETES_DATASET: 'Gender',\n",
    "    ACS_EMPLOYMENT_DATASET: 'SEX&RAC1P',\n",
    "}\n",
    "\n",
    "DATASET_TO_COLUMN_NAME = {\n",
    "    DIABETES_DATASET: {'cat': ['Family_Diabetes', 'PhysicallyActive', 'RegularMedicine'], 'num': ['SoundSleep']},\n",
    "    GERMAN_CREDIT_DATASET: {'cat': ['checking-account', 'savings-account', 'employment-since'], 'num': ['duration', 'credit-amount']},\n",
    "    ACS_INCOME_DATASET: {'cat': ['SCHL', 'MAR'], 'num': ['AGEP', 'WKHP']},\n",
    "    LAW_SCHOOL_DATASET: {'cat': ['fam_inc', 'tier'], 'num': ['zfygpa', 'ugpa']},\n",
    "    BANK_MARKETING_DATASET: {'cat': ['education', 'job'], 'num': ['balance', 'campaign']},\n",
    "    CARDIOVASCULAR_DISEASE_DATASET: {'cat': ['cholesterol', 'gluc'], 'num': ['weight', 'height']},\n",
    "    ACS_EMPLOYMENT_DATASET: {'cat': ['SCHL', 'DIS', 'MIL'], 'num': ['AGEP']},\n",
    "}"
   ],
   "outputs": [],
   "execution_count": 6
  },
  {
   "cell_type": "markdown",
   "id": "5a9d74e761ae5ab9",
   "metadata": {},
   "source": [
    "## Metric Visualizations"
   ]
  },
  {
   "cell_type": "code",
   "id": "bb26d01ed76768df",
   "metadata": {
    "ExecuteTime": {
     "end_time": "2025-01-10T21:35:25.359281Z",
     "start_time": "2025-01-10T21:35:25.337240Z"
    }
   },
   "source": [
    "def get_imputer_time_data(missingness_types: list, dataset_to_column_name: dict, imputation_quality_metric_name: str,\n",
    "                          db_client_1, db_client_3, dataset_to_group: dict = None, without_dummy: bool = False):\n",
    "    imputation_quality_metrics_df = pd.DataFrame()\n",
    "    for missingness_type in missingness_types:\n",
    "        train_injection_scenario, test_injection_scenario = missingness_type['train'], missingness_type['test']\n",
    "        if train_injection_scenario != 'mixed_exp':\n",
    "            train_injection_scenario = train_injection_scenario.upper()\n",
    "        test_injection_scenario = test_injection_scenario.upper()\n",
    "\n",
    "        db_client = db_client_3 if train_injection_scenario == 'mixed_exp' else db_client_1\n",
    "        imputation_quality_metrics_sub_df, _ = (\n",
    "            get_data_for_box_plots_for_diff_imputers_and_datasets_for_mixed_exp(train_injection_scenario=train_injection_scenario,\n",
    "                                                                                test_injection_scenario=test_injection_scenario,\n",
    "                                                                                metric_name=imputation_quality_metric_name,\n",
    "                                                                                dataset_to_column_name=dataset_to_column_name,\n",
    "                                                                                db_client=db_client,\n",
    "                                                                                dataset_to_group=dataset_to_group,\n",
    "                                                                                without_dummy=without_dummy))\n",
    "\n",
    "        imputation_quality_metrics_sub_df['Missingness_Type'] = train_injection_scenario + ' - ' + test_injection_scenario\n",
    "        imputation_quality_metrics_df = pd.concat([imputation_quality_metrics_df, imputation_quality_metrics_sub_df])\n",
    "\n",
    "        print(f'Extraction for {missingness_type} is completed\\n\\n')\n",
    "\n",
    "    return imputation_quality_metrics_df"
   ],
   "outputs": [],
   "execution_count": 7
  },
  {
   "cell_type": "code",
   "id": "ed746156dda6697a",
   "metadata": {
    "ExecuteTime": {
     "end_time": "2025-01-10T21:35:46.519706Z",
     "start_time": "2025-01-10T21:35:25.372404Z"
    }
   },
   "source": [
    "imputation_quality_metrics_df = get_imputer_time_data(missingness_types=[\n",
    "                                                         {'train': 'MCAR3', 'test': 'MCAR3'},\n",
    "                                                         {'train': 'MAR3', 'test': 'MAR3'},\n",
    "                                                         {'train': 'MNAR3', 'test': 'MNAR3'},\n",
    "                                                         {'train': 'mixed_exp', 'test': 'MCAR1 & MAR1 & MNAR1'}\n",
    "                                                      ],\n",
    "                                                      dataset_to_column_name=DATASET_TO_COLUMN_NAME,\n",
    "                                                      imputation_quality_metric_name='runtime_in_mins',\n",
    "                                                      db_client_1=db_client_1,\n",
    "                                                      db_client_3=db_client_3)"
   ],
   "outputs": [
    {
     "name": "stdout",
     "output_type": "stream",
     "text": [
      "Extracted data for german\n",
      "Extracted data for bank\n",
      "Extracted data for heart\n",
      "Extracted data for diabetes\n",
      "Extracted data for law_school\n",
      "Extracted data for folk\n",
      "Extracted data for folk_emp\n",
      "Extraction for {'train': 'MCAR3', 'test': 'MCAR3'} is completed\n",
      "\n",
      "\n",
      "Extracted data for german\n",
      "Extracted data for bank\n",
      "Extracted data for heart\n",
      "Extracted data for diabetes\n",
      "Extracted data for law_school\n",
      "Extracted data for folk\n",
      "Extracted data for folk_emp\n",
      "Extraction for {'train': 'MAR3', 'test': 'MAR3'} is completed\n",
      "\n",
      "\n",
      "Extracted data for german\n",
      "Extracted data for bank\n",
      "Extracted data for heart\n",
      "Extracted data for diabetes\n",
      "Extracted data for law_school\n",
      "Extracted data for folk\n",
      "Extracted data for folk_emp\n",
      "Extraction for {'train': 'MNAR3', 'test': 'MNAR3'} is completed\n",
      "\n",
      "\n",
      "Extracted data for german\n",
      "Extracted data for bank\n",
      "Extracted data for heart\n",
      "Extracted data for diabetes\n",
      "Extracted data for law_school\n",
      "Extracted data for folk\n",
      "Extracted data for folk_emp\n",
      "Extraction for {'train': 'mixed_exp', 'test': 'MCAR1 & MAR1 & MNAR1'} is completed\n",
      "\n",
      "\n"
     ]
    }
   ],
   "execution_count": 8
  },
  {
   "cell_type": "code",
   "id": "d641338ebf4fddd3",
   "metadata": {
    "ExecuteTime": {
     "end_time": "2025-01-10T21:35:46.627601Z",
     "start_time": "2025-01-10T21:35:46.582709Z"
    }
   },
   "source": [
    "imputation_quality_metrics_df.head()"
   ],
   "outputs": [
    {
     "data": {
      "text/plain": [
       "  Dataset_Name Null_Imputer_Name Evaluation_Scenario  Experiment_Seed  \\\n",
       "0         bank            automl          exp1_mcar3              100   \n",
       "1         bank            automl          exp1_mcar3              200   \n",
       "2         bank            automl          exp1_mcar3              300   \n",
       "3         bank            automl          exp1_mcar3              400   \n",
       "4         bank            automl          exp1_mcar3              500   \n",
       "\n",
       "   Dataset_Part  Sample_Size  Kl_Divergence_Pred  Kl_Divergence_Total  Rmse  \\\n",
       "0  X_test_MCAR3        621.0            1.941451             0.001093   NaN   \n",
       "1  X_test_MCAR3        571.0            2.919792             0.001259   NaN   \n",
       "2  X_test_MCAR3        574.5            1.918285             0.000813   NaN   \n",
       "3  X_test_MCAR3        592.5            1.680980             0.000946   NaN   \n",
       "4  X_test_MCAR3        578.5            0.295556             0.000444   NaN   \n",
       "\n",
       "   Precision    Recall  F1_Score  Runtime_In_Mins  Null_Imputer_Params_Dct  \\\n",
       "0   0.554362  0.554362  0.554362       259.697079                      NaN   \n",
       "1   0.559408  0.559408  0.559408       240.951897                      NaN   \n",
       "2   0.510851  0.510851  0.510851       219.435821                      NaN   \n",
       "3   0.547457  0.547457  0.547457       231.788785                      NaN   \n",
       "4   0.557334  0.557334  0.557334       254.405097                      NaN   \n",
       "\n",
       "  Missingness_Type  \n",
       "0    MCAR3 - MCAR3  \n",
       "1    MCAR3 - MCAR3  \n",
       "2    MCAR3 - MCAR3  \n",
       "3    MCAR3 - MCAR3  \n",
       "4    MCAR3 - MCAR3  "
      ],
      "text/html": [
       "<div>\n",
       "<style scoped>\n",
       "    .dataframe tbody tr th:only-of-type {\n",
       "        vertical-align: middle;\n",
       "    }\n",
       "\n",
       "    .dataframe tbody tr th {\n",
       "        vertical-align: top;\n",
       "    }\n",
       "\n",
       "    .dataframe thead th {\n",
       "        text-align: right;\n",
       "    }\n",
       "</style>\n",
       "<table border=\"1\" class=\"dataframe\">\n",
       "  <thead>\n",
       "    <tr style=\"text-align: right;\">\n",
       "      <th></th>\n",
       "      <th>Dataset_Name</th>\n",
       "      <th>Null_Imputer_Name</th>\n",
       "      <th>Evaluation_Scenario</th>\n",
       "      <th>Experiment_Seed</th>\n",
       "      <th>Dataset_Part</th>\n",
       "      <th>Sample_Size</th>\n",
       "      <th>Kl_Divergence_Pred</th>\n",
       "      <th>Kl_Divergence_Total</th>\n",
       "      <th>Rmse</th>\n",
       "      <th>Precision</th>\n",
       "      <th>Recall</th>\n",
       "      <th>F1_Score</th>\n",
       "      <th>Runtime_In_Mins</th>\n",
       "      <th>Null_Imputer_Params_Dct</th>\n",
       "      <th>Missingness_Type</th>\n",
       "    </tr>\n",
       "  </thead>\n",
       "  <tbody>\n",
       "    <tr>\n",
       "      <th>0</th>\n",
       "      <td>bank</td>\n",
       "      <td>automl</td>\n",
       "      <td>exp1_mcar3</td>\n",
       "      <td>100</td>\n",
       "      <td>X_test_MCAR3</td>\n",
       "      <td>621.0</td>\n",
       "      <td>1.941451</td>\n",
       "      <td>0.001093</td>\n",
       "      <td>NaN</td>\n",
       "      <td>0.554362</td>\n",
       "      <td>0.554362</td>\n",
       "      <td>0.554362</td>\n",
       "      <td>259.697079</td>\n",
       "      <td>NaN</td>\n",
       "      <td>MCAR3 - MCAR3</td>\n",
       "    </tr>\n",
       "    <tr>\n",
       "      <th>1</th>\n",
       "      <td>bank</td>\n",
       "      <td>automl</td>\n",
       "      <td>exp1_mcar3</td>\n",
       "      <td>200</td>\n",
       "      <td>X_test_MCAR3</td>\n",
       "      <td>571.0</td>\n",
       "      <td>2.919792</td>\n",
       "      <td>0.001259</td>\n",
       "      <td>NaN</td>\n",
       "      <td>0.559408</td>\n",
       "      <td>0.559408</td>\n",
       "      <td>0.559408</td>\n",
       "      <td>240.951897</td>\n",
       "      <td>NaN</td>\n",
       "      <td>MCAR3 - MCAR3</td>\n",
       "    </tr>\n",
       "    <tr>\n",
       "      <th>2</th>\n",
       "      <td>bank</td>\n",
       "      <td>automl</td>\n",
       "      <td>exp1_mcar3</td>\n",
       "      <td>300</td>\n",
       "      <td>X_test_MCAR3</td>\n",
       "      <td>574.5</td>\n",
       "      <td>1.918285</td>\n",
       "      <td>0.000813</td>\n",
       "      <td>NaN</td>\n",
       "      <td>0.510851</td>\n",
       "      <td>0.510851</td>\n",
       "      <td>0.510851</td>\n",
       "      <td>219.435821</td>\n",
       "      <td>NaN</td>\n",
       "      <td>MCAR3 - MCAR3</td>\n",
       "    </tr>\n",
       "    <tr>\n",
       "      <th>3</th>\n",
       "      <td>bank</td>\n",
       "      <td>automl</td>\n",
       "      <td>exp1_mcar3</td>\n",
       "      <td>400</td>\n",
       "      <td>X_test_MCAR3</td>\n",
       "      <td>592.5</td>\n",
       "      <td>1.680980</td>\n",
       "      <td>0.000946</td>\n",
       "      <td>NaN</td>\n",
       "      <td>0.547457</td>\n",
       "      <td>0.547457</td>\n",
       "      <td>0.547457</td>\n",
       "      <td>231.788785</td>\n",
       "      <td>NaN</td>\n",
       "      <td>MCAR3 - MCAR3</td>\n",
       "    </tr>\n",
       "    <tr>\n",
       "      <th>4</th>\n",
       "      <td>bank</td>\n",
       "      <td>automl</td>\n",
       "      <td>exp1_mcar3</td>\n",
       "      <td>500</td>\n",
       "      <td>X_test_MCAR3</td>\n",
       "      <td>578.5</td>\n",
       "      <td>0.295556</td>\n",
       "      <td>0.000444</td>\n",
       "      <td>NaN</td>\n",
       "      <td>0.557334</td>\n",
       "      <td>0.557334</td>\n",
       "      <td>0.557334</td>\n",
       "      <td>254.405097</td>\n",
       "      <td>NaN</td>\n",
       "      <td>MCAR3 - MCAR3</td>\n",
       "    </tr>\n",
       "  </tbody>\n",
       "</table>\n",
       "</div>"
      ]
     },
     "execution_count": 9,
     "metadata": {},
     "output_type": "execute_result"
    }
   ],
   "execution_count": 9
  },
  {
   "cell_type": "code",
   "id": "1874f503cd73cdbb",
   "metadata": {
    "ExecuteTime": {
     "end_time": "2025-01-10T21:35:46.677001Z",
     "start_time": "2025-01-10T21:35:46.652799Z"
    }
   },
   "source": [
    "imputation_quality_metrics_df.shape"
   ],
   "outputs": [
    {
     "data": {
      "text/plain": [
       "(2015, 15)"
      ]
     },
     "execution_count": 10,
     "metadata": {},
     "output_type": "execute_result"
    }
   ],
   "execution_count": 10
  },
  {
   "cell_type": "code",
   "id": "8e148cc099b55127",
   "metadata": {
    "ExecuteTime": {
     "end_time": "2025-01-10T21:35:46.781863Z",
     "start_time": "2025-01-10T21:35:46.752199Z"
    }
   },
   "source": [
    "imputation_quality_metrics_df['Runtime_In_Secs'] = imputation_quality_metrics_df['Runtime_In_Mins'] * 60.0\n",
    "imp_runtime_df = (\n",
    "    imputation_quality_metrics_df[\n",
    "        ['Dataset_Name', 'Null_Imputer_Name', 'Evaluation_Scenario',\n",
    "         'Experiment_Seed', 'Runtime_In_Secs', 'Missingness_Type']\n",
    "    ].groupby(['Dataset_Name', 'Null_Imputer_Name', 'Missingness_Type'])\n",
    "    .agg(mean_runtime=('Runtime_In_Secs', 'mean'), std_runtime=('Runtime_In_Secs', 'std'))\n",
    "    .groupby(['Dataset_Name', 'Null_Imputer_Name'])\n",
    "    .agg(avg_mean_runtime=('mean_runtime', 'mean'), avg_std_runtime=('std_runtime', 'mean'))\n",
    "    .reset_index()\n",
    ")"
   ],
   "outputs": [],
   "execution_count": 11
  },
  {
   "cell_type": "code",
   "id": "bf0bb9f262a36a21",
   "metadata": {
    "ExecuteTime": {
     "end_time": "2025-01-10T21:35:46.946716Z",
     "start_time": "2025-01-10T21:35:46.923382Z"
    }
   },
   "source": [
    "imp_runtime_df.shape"
   ],
   "outputs": [
    {
     "data": {
      "text/plain": [
       "(84, 4)"
      ]
     },
     "execution_count": 12,
     "metadata": {},
     "output_type": "execute_result"
    }
   ],
   "execution_count": 12
  },
  {
   "cell_type": "code",
   "id": "1d4685b6ed6c0155",
   "metadata": {
    "ExecuteTime": {
     "end_time": "2025-01-10T21:35:46.993383Z",
     "start_time": "2025-01-10T21:35:46.966636Z"
    }
   },
   "source": [
    "imp_runtime_df.head(20)"
   ],
   "outputs": [
    {
     "data": {
      "text/plain": [
       "   Dataset_Name   Null_Imputer_Name  avg_mean_runtime  avg_std_runtime\n",
       "0          bank              automl      13893.074535      1687.444203\n",
       "1          bank             datawig       5089.524323       651.516873\n",
       "2          bank            deletion          0.045568         0.000603\n",
       "3          bank                gain       1964.192909        36.911565\n",
       "4          bank  k_means_clustering        998.505111        49.659836\n",
       "5          bank        median-dummy          0.027105         0.000418\n",
       "6          bank         median-mode          0.031075         0.000670\n",
       "7          bank         miss_forest       4307.551992      1310.523492\n",
       "8          bank           mnar_pvae         55.554037        30.966291\n",
       "9          bank                nomi         29.776917         1.489259\n",
       "10         bank            notmiwae        665.957011       284.948204\n",
       "11         bank                 tdm       1412.506980        34.425277\n",
       "12     diabetes              automl       1953.058754       195.823624\n",
       "13     diabetes             datawig        596.441591       185.313361\n",
       "14     diabetes            deletion          0.012597         0.000466\n",
       "15     diabetes                gain        261.946598        12.552229\n",
       "16     diabetes  k_means_clustering         10.524880         0.401521\n",
       "17     diabetes        median-dummy          0.013253         0.000473\n",
       "18     diabetes         median-mode          0.012444         0.000469\n",
       "19     diabetes         miss_forest        111.292693        17.983804"
      ],
      "text/html": [
       "<div>\n",
       "<style scoped>\n",
       "    .dataframe tbody tr th:only-of-type {\n",
       "        vertical-align: middle;\n",
       "    }\n",
       "\n",
       "    .dataframe tbody tr th {\n",
       "        vertical-align: top;\n",
       "    }\n",
       "\n",
       "    .dataframe thead th {\n",
       "        text-align: right;\n",
       "    }\n",
       "</style>\n",
       "<table border=\"1\" class=\"dataframe\">\n",
       "  <thead>\n",
       "    <tr style=\"text-align: right;\">\n",
       "      <th></th>\n",
       "      <th>Dataset_Name</th>\n",
       "      <th>Null_Imputer_Name</th>\n",
       "      <th>avg_mean_runtime</th>\n",
       "      <th>avg_std_runtime</th>\n",
       "    </tr>\n",
       "  </thead>\n",
       "  <tbody>\n",
       "    <tr>\n",
       "      <th>0</th>\n",
       "      <td>bank</td>\n",
       "      <td>automl</td>\n",
       "      <td>13893.074535</td>\n",
       "      <td>1687.444203</td>\n",
       "    </tr>\n",
       "    <tr>\n",
       "      <th>1</th>\n",
       "      <td>bank</td>\n",
       "      <td>datawig</td>\n",
       "      <td>5089.524323</td>\n",
       "      <td>651.516873</td>\n",
       "    </tr>\n",
       "    <tr>\n",
       "      <th>2</th>\n",
       "      <td>bank</td>\n",
       "      <td>deletion</td>\n",
       "      <td>0.045568</td>\n",
       "      <td>0.000603</td>\n",
       "    </tr>\n",
       "    <tr>\n",
       "      <th>3</th>\n",
       "      <td>bank</td>\n",
       "      <td>gain</td>\n",
       "      <td>1964.192909</td>\n",
       "      <td>36.911565</td>\n",
       "    </tr>\n",
       "    <tr>\n",
       "      <th>4</th>\n",
       "      <td>bank</td>\n",
       "      <td>k_means_clustering</td>\n",
       "      <td>998.505111</td>\n",
       "      <td>49.659836</td>\n",
       "    </tr>\n",
       "    <tr>\n",
       "      <th>5</th>\n",
       "      <td>bank</td>\n",
       "      <td>median-dummy</td>\n",
       "      <td>0.027105</td>\n",
       "      <td>0.000418</td>\n",
       "    </tr>\n",
       "    <tr>\n",
       "      <th>6</th>\n",
       "      <td>bank</td>\n",
       "      <td>median-mode</td>\n",
       "      <td>0.031075</td>\n",
       "      <td>0.000670</td>\n",
       "    </tr>\n",
       "    <tr>\n",
       "      <th>7</th>\n",
       "      <td>bank</td>\n",
       "      <td>miss_forest</td>\n",
       "      <td>4307.551992</td>\n",
       "      <td>1310.523492</td>\n",
       "    </tr>\n",
       "    <tr>\n",
       "      <th>8</th>\n",
       "      <td>bank</td>\n",
       "      <td>mnar_pvae</td>\n",
       "      <td>55.554037</td>\n",
       "      <td>30.966291</td>\n",
       "    </tr>\n",
       "    <tr>\n",
       "      <th>9</th>\n",
       "      <td>bank</td>\n",
       "      <td>nomi</td>\n",
       "      <td>29.776917</td>\n",
       "      <td>1.489259</td>\n",
       "    </tr>\n",
       "    <tr>\n",
       "      <th>10</th>\n",
       "      <td>bank</td>\n",
       "      <td>notmiwae</td>\n",
       "      <td>665.957011</td>\n",
       "      <td>284.948204</td>\n",
       "    </tr>\n",
       "    <tr>\n",
       "      <th>11</th>\n",
       "      <td>bank</td>\n",
       "      <td>tdm</td>\n",
       "      <td>1412.506980</td>\n",
       "      <td>34.425277</td>\n",
       "    </tr>\n",
       "    <tr>\n",
       "      <th>12</th>\n",
       "      <td>diabetes</td>\n",
       "      <td>automl</td>\n",
       "      <td>1953.058754</td>\n",
       "      <td>195.823624</td>\n",
       "    </tr>\n",
       "    <tr>\n",
       "      <th>13</th>\n",
       "      <td>diabetes</td>\n",
       "      <td>datawig</td>\n",
       "      <td>596.441591</td>\n",
       "      <td>185.313361</td>\n",
       "    </tr>\n",
       "    <tr>\n",
       "      <th>14</th>\n",
       "      <td>diabetes</td>\n",
       "      <td>deletion</td>\n",
       "      <td>0.012597</td>\n",
       "      <td>0.000466</td>\n",
       "    </tr>\n",
       "    <tr>\n",
       "      <th>15</th>\n",
       "      <td>diabetes</td>\n",
       "      <td>gain</td>\n",
       "      <td>261.946598</td>\n",
       "      <td>12.552229</td>\n",
       "    </tr>\n",
       "    <tr>\n",
       "      <th>16</th>\n",
       "      <td>diabetes</td>\n",
       "      <td>k_means_clustering</td>\n",
       "      <td>10.524880</td>\n",
       "      <td>0.401521</td>\n",
       "    </tr>\n",
       "    <tr>\n",
       "      <th>17</th>\n",
       "      <td>diabetes</td>\n",
       "      <td>median-dummy</td>\n",
       "      <td>0.013253</td>\n",
       "      <td>0.000473</td>\n",
       "    </tr>\n",
       "    <tr>\n",
       "      <th>18</th>\n",
       "      <td>diabetes</td>\n",
       "      <td>median-mode</td>\n",
       "      <td>0.012444</td>\n",
       "      <td>0.000469</td>\n",
       "    </tr>\n",
       "    <tr>\n",
       "      <th>19</th>\n",
       "      <td>diabetes</td>\n",
       "      <td>miss_forest</td>\n",
       "      <td>111.292693</td>\n",
       "      <td>17.983804</td>\n",
       "    </tr>\n",
       "  </tbody>\n",
       "</table>\n",
       "</div>"
      ]
     },
     "execution_count": 13,
     "metadata": {},
     "output_type": "execute_result"
    }
   ],
   "execution_count": 13
  },
  {
   "cell_type": "code",
   "id": "442d7ac35140dab7",
   "metadata": {
    "ExecuteTime": {
     "end_time": "2025-01-10T21:52:43.606426Z",
     "start_time": "2025-01-10T21:52:43.559532Z"
    }
   },
   "source": [
    "# Pivot the DataFrame to organize datasets on X-axis and imputers on Y-axis\n",
    "pivot_table = imp_runtime_df.pivot(\n",
    "    index='Null_Imputer_Name',\n",
    "    columns='Dataset_Name',\n",
    "    values=['avg_mean_runtime', 'avg_std_runtime']\n",
    ")\n",
    "\n",
    "# Sort X-axis (Datasets) and Y-axis (Imputers)\n",
    "x_axis_order = ['diabetes', 'german', 'folk', 'law_school', 'bank', 'heart', 'folk_emp']\n",
    "y_axis_order = ['deletion', 'median-mode', 'median-dummy', 'miss_forest',\n",
    "                'k_means_clustering', 'datawig', 'automl', 'nomi', 'tdm', 'gain', 'notmiwae', 'mnar_pvae']\n",
    "\n",
    "# Pivot the table and reindex\n",
    "pivot_table = pivot_table.reindex(index=y_axis_order,\n",
    "                                  columns=pd.MultiIndex.from_product([['avg_mean_runtime', 'avg_std_runtime'], x_axis_order]))\n",
    "\n",
    "# Escape underscores in LaTeX\n",
    "def escape_latex(text):\n",
    "    return text.replace(\"_\", \"\\\\_\")\n",
    "\n",
    "# Generate LaTeX table with sorting, escaping, rounding, and bold formatting for each column\n",
    "latex_data = []\n",
    "columns = ['\\\\textbf{Imputer}'] + ['\\\\textbf{' + escape_latex(col) + '}' for col in x_axis_order]\n",
    "\n",
    "# Generate rows with bold formatting for minimum values\n",
    "for imputer in pivot_table.index:\n",
    "    row = [escape_latex(imputer)]\n",
    "\n",
    "    for dataset in x_axis_order:\n",
    "        mean_val = pivot_table.loc[imputer, ('avg_mean_runtime', dataset)]\n",
    "        std_val = pivot_table.loc[imputer, ('avg_std_runtime', dataset)]\n",
    "        if pd.notnull(mean_val) and pd.notnull(std_val):\n",
    "            # Apply custom rounding\n",
    "            mean_str = f\"{int(mean_val):d}\" if mean_val > 1 else f\"{mean_val:.3f}\"\n",
    "            std_str = f\"{int(std_val):d}\" if std_val > 1 else f\"{std_val:.3f}\"\n",
    "            row.append(f\"${mean_str} \\\\pm {std_str}$\")\n",
    "        else:\n",
    "            row.append(\"-\")\n",
    "    latex_data.append(row)"
   ],
   "outputs": [],
   "execution_count": 18
  },
  {
   "cell_type": "code",
   "id": "da24fe6ee1c56871",
   "metadata": {
    "ExecuteTime": {
     "end_time": "2025-01-10T21:52:43.850670Z",
     "start_time": "2025-01-10T21:52:43.818789Z"
    }
   },
   "source": [
    "# Use tabulate to generate LaTeX code\n",
    "latex_table = tabulate(latex_data, headers=columns, tablefmt=\"latex_raw\")\n",
    "\n",
    "# Output the LaTeX table code\n",
    "print(\"Generated LaTeX Table:\")\n",
    "print(latex_table)"
   ],
   "outputs": [
    {
     "name": "stdout",
     "output_type": "stream",
     "text": [
      "Generated LaTeX Table:\n",
      "\\begin{tabular}{llllllll}\n",
      "\\hline\n",
      " \\textbf{Imputer}     & \\textbf{diabetes}   & \\textbf{german}   & \\textbf{folk}     & \\textbf{law\\_school}   & \\textbf{bank}     & \\textbf{heart}    & \\textbf{folk\\_emp}   \\\\\n",
      "\\hline\n",
      " deletion             & $0.013 \\pm 0.000$   & $0.013 \\pm 0.001$ & $0.024 \\pm 0.001$ & $0.025 \\pm 0.000$      & $0.046 \\pm 0.001$ & $0.087 \\pm 0.004$ & $1 \\pm 0.049$        \\\\\n",
      " median-mode          & $0.012 \\pm 0.000$   & $0.014 \\pm 0.001$ & $0.023 \\pm 0.001$ & $0.025 \\pm 0.001$      & $0.031 \\pm 0.001$ & $0.067 \\pm 0.003$ & $0.933 \\pm 0.019$    \\\\\n",
      " median-dummy         & $0.013 \\pm 0.000$   & $0.014 \\pm 0.001$ & $0.021 \\pm 0.001$ & $0.024 \\pm 0.001$      & $0.027 \\pm 0.000$ & $0.053 \\pm 0.001$ & $0.773 \\pm 0.024$    \\\\\n",
      " miss\\_forest         & $111 \\pm 17$        & $244 \\pm 86$      & $1758 \\pm 526$    & $2530 \\pm 851$         & $4307 \\pm 1310$   & $6337 \\pm 1601$   & $20358 \\pm 4934$     \\\\\n",
      " k\\_means\\_clustering & $10 \\pm 0.402$      & $13 \\pm 0.442$    & $27 \\pm 0.640$    & $323 \\pm 7$            & $998 \\pm 49$      & $1037 \\pm 64$     & $7427 \\pm 778$       \\\\\n",
      " datawig              & $596 \\pm 185$       & $277 \\pm 59$      & $604 \\pm 46$      & $2361 \\pm 492$         & $5089 \\pm 651$    & $7592 \\pm 854$    & $31060 \\pm 3743$     \\\\\n",
      " automl               & $1953 \\pm 195$      & $1805 \\pm 212$    & $5559 \\pm 581$    & $6803 \\pm 565$         & $13893 \\pm 1687$  & $19055 \\pm 2710$  & $104476 \\pm 14743$   \\\\\n",
      " nomi                 & $11 \\pm 3$          & $14 \\pm 7$        & $22 \\pm 2$        & $22 \\pm 2$             & $29 \\pm 1$        & $38 \\pm 2$        & $356 \\pm 20$         \\\\\n",
      " tdm                  & $932 \\pm 74$        & $1023 \\pm 11$     & $1297 \\pm 22$     & $1172 \\pm 92$          & $1412 \\pm 34$     & $1310 \\pm 42$     & $1449 \\pm 31$        \\\\\n",
      " gain                 & $261 \\pm 12$        & $298 \\pm 5$       & $1115 \\pm 38$     & $1484 \\pm 30$          & $1964 \\pm 36$     & $2892 \\pm 48$     & $6148 \\pm 178$       \\\\\n",
      " notmiwae             & $161 \\pm 101$       & $217 \\pm 82$      & $555 \\pm 2$       & $804 \\pm 8$            & $665 \\pm 284$     & $1393 \\pm 535$    & $2944 \\pm 725$       \\\\\n",
      " mnar\\_pvae           & $8 \\pm 0.705$       & $14 \\pm 11$       & $14 \\pm 1$        & $22 \\pm 11$            & $55 \\pm 30$       & $42 \\pm 6$        & $206 \\pm 7$          \\\\\n",
      "\\hline\n",
      "\\end{tabular}\n"
     ]
    }
   ],
   "execution_count": 19
  },
  {
   "cell_type": "code",
   "id": "2c855a9d-2ffa-4ee2-b12b-771da502c3f9",
   "metadata": {
    "ExecuteTime": {
     "end_time": "2025-01-10T21:35:47.151033Z",
     "start_time": "2025-01-10T21:35:47.149607Z"
    }
   },
   "source": [],
   "outputs": [],
   "execution_count": null
  }
 ],
 "metadata": {
  "kernelspec": {
   "display_name": "Python 3 (ipykernel)",
   "language": "python",
   "name": "python3"
  },
  "language_info": {
   "codemirror_mode": {
    "name": "ipython",
    "version": 3
   },
   "file_extension": ".py",
   "mimetype": "text/x-python",
   "name": "python",
   "nbconvert_exporter": "python",
   "pygments_lexer": "ipython3",
   "version": "3.9.6"
  }
 },
 "nbformat": 4,
 "nbformat_minor": 5
}
