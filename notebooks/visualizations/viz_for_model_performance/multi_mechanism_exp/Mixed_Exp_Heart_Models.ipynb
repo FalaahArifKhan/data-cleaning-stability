{
 "cells": [
  {
   "cell_type": "markdown",
   "id": "16c6dbd6e3a7c4b9",
   "metadata": {
    "collapsed": false,
    "jupyter": {
     "outputs_hidden": false
    }
   },
   "source": "# Visualizations for Heart Models"
  },
  {
   "cell_type": "code",
   "id": "initial_id",
   "metadata": {
    "collapsed": false,
    "jupyter": {
     "outputs_hidden": false
    },
    "ExecuteTime": {
     "end_time": "2024-09-22T09:27:51.604918Z",
     "start_time": "2024-09-22T09:27:51.261290Z"
    }
   },
   "source": [
    "%matplotlib inline\n",
    "%load_ext autoreload\n",
    "%autoreload 2"
   ],
   "outputs": [],
   "execution_count": 1
  },
  {
   "cell_type": "code",
   "id": "1265cf0fe4eed7df",
   "metadata": {
    "collapsed": false,
    "jupyter": {
     "outputs_hidden": false
    },
    "ExecuteTime": {
     "end_time": "2024-09-22T09:27:51.617978Z",
     "start_time": "2024-09-22T09:27:51.608587Z"
    }
   },
   "source": [
    "import os\n",
    "import warnings\n",
    "warnings.filterwarnings('ignore')\n",
    "os.environ[\"PYTHONWARNINGS\"] = \"ignore\""
   ],
   "outputs": [],
   "execution_count": 2
  },
  {
   "cell_type": "code",
   "id": "f0eaaba404ea8a33",
   "metadata": {
    "collapsed": false,
    "jupyter": {
     "outputs_hidden": false
    },
    "ExecuteTime": {
     "end_time": "2024-09-22T09:27:51.936647Z",
     "start_time": "2024-09-22T09:27:51.743537Z"
    }
   },
   "source": [
    "cur_folder_name = os.getcwd().split('/')[-1]\n",
    "if cur_folder_name != \"data-cleaning-stability\":\n",
    "    os.chdir(\"../../../..\")\n",
    "\n",
    "print('Current location: ', os.getcwd())"
   ],
   "outputs": [
    {
     "name": "stdout",
     "output_type": "stream",
     "text": [
      "Current location:  /Users/denys_herasymuk/Research/NYU/ML_Lifecycle_Project/Code/data-cleaning-stability\n"
     ]
    }
   ],
   "execution_count": 3
  },
  {
   "cell_type": "code",
   "id": "9b15cd5fc9688a78",
   "metadata": {
    "collapsed": false,
    "jupyter": {
     "outputs_hidden": false
    },
    "ExecuteTime": {
     "end_time": "2024-09-22T09:27:54.290161Z",
     "start_time": "2024-09-22T09:27:52.089380Z"
    }
   },
   "source": [
    "from source.visualizations.models_viz import create_box_plots_for_diff_imputers_and_models\n",
    "from configs.constants import (ACS_INCOME_DATASET, LAW_SCHOOL_DATASET, GERMAN_CREDIT_DATASET,\n",
    "                               CARDIOVASCULAR_DISEASE_DATASET, BANK_MARKETING_DATASET, DIABETES_DATASET)"
   ],
   "outputs": [],
   "execution_count": 4
  },
  {
   "cell_type": "markdown",
   "id": "314436639a088474",
   "metadata": {
    "collapsed": false,
    "jupyter": {
     "outputs_hidden": false
    }
   },
   "source": [
    "## Initialize Configs"
   ]
  },
  {
   "cell_type": "code",
   "id": "8bb630838771304f",
   "metadata": {
    "collapsed": false,
    "jupyter": {
     "outputs_hidden": false
    },
    "ExecuteTime": {
     "end_time": "2024-09-22T09:27:54.465161Z",
     "start_time": "2024-09-22T09:27:54.444632Z"
    }
   },
   "source": [
    "DATASET_NAME = CARDIOVASCULAR_DISEASE_DATASET\n",
    "DATASETS_SENSITIVE_ATTRS = {\n",
    "    ACS_INCOME_DATASET: ['SEX', 'RAC1P', 'SEX&RAC1P'],\n",
    "    LAW_SCHOOL_DATASET: ['male', 'race', 'male&race'],\n",
    "    GERMAN_CREDIT_DATASET: ['sex', 'age', 'sex&age'],\n",
    "    CARDIOVASCULAR_DISEASE_DATASET: ['gender'],\n",
    "    BANK_MARKETING_DATASET: ['age'],\n",
    "    DIABETES_DATASET: ['Gender'],\n",
    "}\n",
    "SENSITIVE_ATTR_FOR_DISPARITY_METRICS = DATASETS_SENSITIVE_ATTRS[DATASET_NAME][-1]"
   ],
   "outputs": [],
   "execution_count": 5
  },
  {
   "cell_type": "code",
   "id": "d0c7ea11eea130f7",
   "metadata": {
    "collapsed": false,
    "jupyter": {
     "outputs_hidden": false
    },
    "ExecuteTime": {
     "end_time": "2024-09-22T09:27:54.645293Z",
     "start_time": "2024-09-22T09:27:54.476939Z"
    }
   },
   "source": [
    "from source.custom_classes.database_client import DatabaseClient, get_secrets_path\n",
    "\n",
    "db_client = DatabaseClient(secrets_path=get_secrets_path('secrets_3.env'))\n",
    "db_client.connect()"
   ],
   "outputs": [],
   "execution_count": 6
  },
  {
   "cell_type": "markdown",
   "id": "3a479516acefba91",
   "metadata": {
    "collapsed": false,
    "jupyter": {
     "outputs_hidden": false
    }
   },
   "source": [
    "## Metric Visualizations"
   ]
  },
  {
   "cell_type": "markdown",
   "id": "f64b182ffef59f88",
   "metadata": {
    "collapsed": false,
    "jupyter": {
     "outputs_hidden": false
    }
   },
   "source": [
    "### Overall Metrics"
   ]
  },
  {
   "cell_type": "code",
   "id": "173d7b0055b96f29",
   "metadata": {
    "collapsed": false,
    "jupyter": {
     "outputs_hidden": false
    },
    "ExecuteTime": {
     "end_time": "2024-09-22T09:27:57.428556Z",
     "start_time": "2024-09-22T09:27:54.663729Z"
    }
   },
   "source": [
    "create_box_plots_for_diff_imputers_and_models(dataset_name=DATASET_NAME,\n",
    "                                              metric_name='accuracy',\n",
    "                                              db_client=db_client)"
   ],
   "outputs": [
    {
     "data": {
      "text/html": [
       "\n",
       "<div id=\"altair-viz-193c70f5313047ae8fc5d60adfa69e4f\"></div>\n",
       "<script type=\"text/javascript\">\n",
       "  var VEGA_DEBUG = (typeof VEGA_DEBUG == \"undefined\") ? {} : VEGA_DEBUG;\n",
       "  (function(spec, embedOpt){\n",
       "    let outputDiv = document.currentScript.previousElementSibling;\n",
       "    if (outputDiv.id !== \"altair-viz-193c70f5313047ae8fc5d60adfa69e4f\") {\n",
       "      outputDiv = document.getElementById(\"altair-viz-193c70f5313047ae8fc5d60adfa69e4f\");\n",
       "    }\n",
       "    const paths = {\n",
       "      \"vega\": \"https://cdn.jsdelivr.net/npm//vega@5?noext\",\n",
       "      \"vega-lib\": \"https://cdn.jsdelivr.net/npm//vega-lib?noext\",\n",
       "      \"vega-lite\": \"https://cdn.jsdelivr.net/npm//vega-lite@4.17.0?noext\",\n",
       "      \"vega-embed\": \"https://cdn.jsdelivr.net/npm//vega-embed@6?noext\",\n",
       "    };\n",
       "\n",
       "    function maybeLoadScript(lib, version) {\n",
       "      var key = `${lib.replace(\"-\", \"\")}_version`;\n",
       "      return (VEGA_DEBUG[key] == version) ?\n",
       "        Promise.resolve(paths[lib]) :\n",
       "        new Promise(function(resolve, reject) {\n",
       "          var s = document.createElement('script');\n",
       "          document.getElementsByTagName(\"head\")[0].appendChild(s);\n",
       "          s.async = true;\n",
       "          s.onload = () => {\n",
       "            VEGA_DEBUG[key] = version;\n",
       "            return resolve(paths[lib]);\n",
       "          };\n",
       "          s.onerror = () => reject(`Error loading script: ${paths[lib]}`);\n",
       "          s.src = paths[lib];\n",
       "        });\n",
       "    }\n",
       "\n",
       "    function showError(err) {\n",
       "      outputDiv.innerHTML = `<div class=\"error\" style=\"color:red;\">${err}</div>`;\n",
       "      throw err;\n",
       "    }\n",
       "\n",
       "    function displayChart(vegaEmbed) {\n",
       "      vegaEmbed(outputDiv, spec, embedOpt)\n",
       "        .catch(err => showError(`Javascript Error: ${err.message}<br>This usually means there's a typo in your chart specification. See the javascript console for the full traceback.`));\n",
       "    }\n",
       "\n",
       "    if(typeof define === \"function\" && define.amd) {\n",
       "      requirejs.config({paths});\n",
       "      require([\"vega-embed\"], displayChart, err => showError(`Error loading script: ${err.message}`));\n",
       "    } else {\n",
       "      maybeLoadScript(\"vega\", \"5\")\n",
       "        .then(() => maybeLoadScript(\"vega-lite\", \"4.17.0\"))\n",
       "        .then(() => maybeLoadScript(\"vega-embed\", \"6\"))\n",
       "        .catch(showError)\n",
       "        .then(() => displayChart(vegaEmbed));\n",
       "    }\n",
       "  })({\"config\": {\"view\": {\"continuousWidth\": 400, \"continuousHeight\": 300, \"stroke\": null}, \"axis\": {\"labelFontSize\": 22, \"labelFontWeight\": \"normal\", \"titleFontSize\": 24, \"titleFontWeight\": \"normal\"}, \"facet\": {\"spacing\": 5}, \"header\": {\"labelFontSize\": 20, \"labelOrient\": \"bottom\", \"labelPadding\": 5, \"titleFontSize\": 24}, \"legend\": {\"columns\": 4, \"direction\": \"horizontal\", \"labelFontSize\": 20, \"labelLimit\": 400, \"orient\": \"top\", \"symbolOffset\": 50, \"symbolStrokeWidth\": 10, \"titleAnchor\": \"middle\", \"titleFontSize\": 22, \"titleLimit\": 300}, \"title\": {\"fontSize\": 24}}, \"data\": {\"name\": \"data-528163ddb25bdb7947feda4a0929ac95\"}, \"facet\": {\"column\": {\"field\": \"Model_Name\", \"sort\": [\"dt_clf\", \"lr_clf\", \"lgbm_clf\", \"rf_clf\", \"mlp_clf\"], \"title\": null, \"type\": \"nominal\"}}, \"spec\": {\"layer\": [{\"mark\": {\"type\": \"boxplot\", \"median\": {\"stroke\": \"black\", \"strokeWidth\": 0.7}, \"ticks\": true}, \"encoding\": {\"color\": {\"field\": \"Null_Imputer_Name\", \"sort\": [\"deletion\", \"median-mode\", \"median-dummy\", \"miss_forest\", \"k_means_clustering\", \"datawig\", \"automl\", \"boost_clean\"], \"title\": null, \"type\": \"nominal\"}, \"x\": {\"axis\": {\"labels\": false}, \"field\": \"Null_Imputer_Name\", \"sort\": [\"deletion\", \"median-mode\", \"median-dummy\", \"miss_forest\", \"k_means_clustering\", \"datawig\", \"automl\", \"boost_clean\"], \"title\": null, \"type\": \"nominal\"}, \"y\": {\"field\": \"Metric_Value\", \"scale\": {\"zero\": false}, \"title\": \"Accuracy\", \"type\": \"quantitative\"}}}, {\"mark\": \"rule\", \"encoding\": {\"color\": {\"value\": \"blue\"}, \"size\": {\"value\": 2}, \"y\": {\"field\": \"Baseline_Median\", \"type\": \"quantitative\"}}}, {\"mark\": \"rule\", \"encoding\": {\"color\": {\"value\": \"red\"}, \"size\": {\"value\": 2}, \"y\": {\"field\": \"Base_Rate\", \"type\": \"quantitative\"}}}], \"width\": 150}, \"resolve\": {\"scale\": {\"x\": \"independent\"}}, \"$schema\": \"https://vega.github.io/schema/vega-lite/v4.17.0.json\", \"datasets\": {\"data-528163ddb25bdb7947feda4a0929ac95\": [{\"Dataset_Name\": \"heart\", \"Null_Imputer_Name\": \"deletion\", \"Evaluation_Scenario\": \"mixed_exp\", \"Virny_Random_State\": 400, \"Model_Name\": \"gandalf_clf\", \"Subgroup\": \"overall\", \"Metric\": \"Accuracy\", \"Metric_Value\": 0.7289285714285715, \"Test_Set_Index\": 0, \"Baseline_Median\": 0.7271428571428571, \"Base_Rate\": 0.5003}, {\"Dataset_Name\": \"heart\", \"Null_Imputer_Name\": \"datawig\", \"Evaluation_Scenario\": \"mixed_exp\", \"Virny_Random_State\": 500, \"Model_Name\": \"gandalf_clf\", \"Subgroup\": \"overall\", \"Metric\": \"Accuracy\", \"Metric_Value\": 0.7308571428571429, \"Test_Set_Index\": 0, \"Baseline_Median\": 0.7271428571428571, \"Base_Rate\": 0.5003}, {\"Dataset_Name\": \"heart\", \"Null_Imputer_Name\": \"deletion\", \"Evaluation_Scenario\": \"mixed_exp\", \"Virny_Random_State\": 100, \"Model_Name\": \"gandalf_clf\", \"Subgroup\": \"overall\", \"Metric\": \"Accuracy\", \"Metric_Value\": 0.7241428571428571, \"Test_Set_Index\": 0, \"Baseline_Median\": 0.7271428571428571, \"Base_Rate\": 0.5003}, {\"Dataset_Name\": \"heart\", \"Null_Imputer_Name\": \"datawig\", \"Evaluation_Scenario\": \"mixed_exp\", \"Virny_Random_State\": 300, \"Model_Name\": \"gandalf_clf\", \"Subgroup\": \"overall\", \"Metric\": \"Accuracy\", \"Metric_Value\": 0.7257857142857143, \"Test_Set_Index\": 0, \"Baseline_Median\": 0.7271428571428571, \"Base_Rate\": 0.5003}, {\"Dataset_Name\": \"heart\", \"Null_Imputer_Name\": \"datawig\", \"Evaluation_Scenario\": \"mixed_exp\", \"Virny_Random_State\": 200, \"Model_Name\": \"gandalf_clf\", \"Subgroup\": \"overall\", \"Metric\": \"Accuracy\", \"Metric_Value\": 0.7272142857142857, \"Test_Set_Index\": 0, \"Baseline_Median\": 0.7271428571428571, \"Base_Rate\": 0.5003}, {\"Dataset_Name\": \"heart\", \"Null_Imputer_Name\": \"datawig\", \"Evaluation_Scenario\": \"mixed_exp\", \"Virny_Random_State\": 400, \"Model_Name\": \"gandalf_clf\", \"Subgroup\": \"overall\", \"Metric\": \"Accuracy\", \"Metric_Value\": 0.7251428571428571, \"Test_Set_Index\": 0, \"Baseline_Median\": 0.7271428571428571, \"Base_Rate\": 0.5003}, {\"Dataset_Name\": \"heart\", \"Null_Imputer_Name\": \"datawig\", \"Evaluation_Scenario\": \"mixed_exp\", \"Virny_Random_State\": 100, \"Model_Name\": \"gandalf_clf\", \"Subgroup\": \"overall\", \"Metric\": \"Accuracy\", \"Metric_Value\": 0.7230714285714286, \"Test_Set_Index\": 0, \"Baseline_Median\": 0.7271428571428571, \"Base_Rate\": 0.5003}, {\"Dataset_Name\": \"heart\", \"Null_Imputer_Name\": \"deletion\", \"Evaluation_Scenario\": \"mixed_exp\", \"Virny_Random_State\": 500, \"Model_Name\": \"gandalf_clf\", \"Subgroup\": \"overall\", \"Metric\": \"Accuracy\", \"Metric_Value\": 0.734, \"Test_Set_Index\": 0, \"Baseline_Median\": 0.7271428571428571, \"Base_Rate\": 0.5003}, {\"Dataset_Name\": \"heart\", \"Null_Imputer_Name\": \"k_means_clustering\", \"Evaluation_Scenario\": \"mixed_exp\", \"Virny_Random_State\": 200, \"Model_Name\": \"gandalf_clf\", \"Subgroup\": \"overall\", \"Metric\": \"Accuracy\", \"Metric_Value\": 0.725, \"Test_Set_Index\": 0, \"Baseline_Median\": 0.7271428571428571, \"Base_Rate\": 0.5003}, {\"Dataset_Name\": \"heart\", \"Null_Imputer_Name\": \"automl\", \"Evaluation_Scenario\": \"mixed_exp\", \"Virny_Random_State\": 200, \"Model_Name\": \"gandalf_clf\", \"Subgroup\": \"overall\", \"Metric\": \"Accuracy\", \"Metric_Value\": 0.7271428571428571, \"Test_Set_Index\": 0, \"Baseline_Median\": 0.7271428571428571, \"Base_Rate\": 0.5003}, {\"Dataset_Name\": \"heart\", \"Null_Imputer_Name\": \"median-dummy\", \"Evaluation_Scenario\": \"mixed_exp\", \"Virny_Random_State\": 100, \"Model_Name\": \"gandalf_clf\", \"Subgroup\": \"overall\", \"Metric\": \"Accuracy\", \"Metric_Value\": 0.724, \"Test_Set_Index\": 0, \"Baseline_Median\": 0.7271428571428571, \"Base_Rate\": 0.5003}, {\"Dataset_Name\": \"heart\", \"Null_Imputer_Name\": \"miss_forest\", \"Evaluation_Scenario\": \"mixed_exp\", \"Virny_Random_State\": 500, \"Model_Name\": \"gandalf_clf\", \"Subgroup\": \"overall\", \"Metric\": \"Accuracy\", \"Metric_Value\": 0.7306428571428571, \"Test_Set_Index\": 0, \"Baseline_Median\": 0.7271428571428571, \"Base_Rate\": 0.5003}, {\"Dataset_Name\": \"heart\", \"Null_Imputer_Name\": \"automl\", \"Evaluation_Scenario\": \"mixed_exp\", \"Virny_Random_State\": 300, \"Model_Name\": \"gandalf_clf\", \"Subgroup\": \"overall\", \"Metric\": \"Accuracy\", \"Metric_Value\": 0.7255714285714285, \"Test_Set_Index\": 0, \"Baseline_Median\": 0.7271428571428571, \"Base_Rate\": 0.5003}, {\"Dataset_Name\": \"heart\", \"Null_Imputer_Name\": \"miss_forest\", \"Evaluation_Scenario\": \"mixed_exp\", \"Virny_Random_State\": 100, \"Model_Name\": \"gandalf_clf\", \"Subgroup\": \"overall\", \"Metric\": \"Accuracy\", \"Metric_Value\": 0.7225, \"Test_Set_Index\": 0, \"Baseline_Median\": 0.7271428571428571, \"Base_Rate\": 0.5003}, {\"Dataset_Name\": \"heart\", \"Null_Imputer_Name\": \"k_means_clustering\", \"Evaluation_Scenario\": \"mixed_exp\", \"Virny_Random_State\": 300, \"Model_Name\": \"gandalf_clf\", \"Subgroup\": \"overall\", \"Metric\": \"Accuracy\", \"Metric_Value\": 0.7201428571428572, \"Test_Set_Index\": 0, \"Baseline_Median\": 0.7271428571428571, \"Base_Rate\": 0.5003}, {\"Dataset_Name\": \"heart\", \"Null_Imputer_Name\": \"automl\", \"Evaluation_Scenario\": \"mixed_exp\", \"Virny_Random_State\": 600, \"Model_Name\": \"gandalf_clf\", \"Subgroup\": \"overall\", \"Metric\": \"Accuracy\", \"Metric_Value\": 0.7235714285714285, \"Test_Set_Index\": 0, \"Baseline_Median\": 0.7271428571428571, \"Base_Rate\": 0.5003}, {\"Dataset_Name\": \"heart\", \"Null_Imputer_Name\": \"miss_forest\", \"Evaluation_Scenario\": \"mixed_exp\", \"Virny_Random_State\": 300, \"Model_Name\": \"gandalf_clf\", \"Subgroup\": \"overall\", \"Metric\": \"Accuracy\", \"Metric_Value\": 0.7260714285714286, \"Test_Set_Index\": 0, \"Baseline_Median\": 0.7271428571428571, \"Base_Rate\": 0.5003}, {\"Dataset_Name\": \"heart\", \"Null_Imputer_Name\": \"median-dummy\", \"Evaluation_Scenario\": \"mixed_exp\", \"Virny_Random_State\": 300, \"Model_Name\": \"gandalf_clf\", \"Subgroup\": \"overall\", \"Metric\": \"Accuracy\", \"Metric_Value\": 0.7254285714285714, \"Test_Set_Index\": 0, \"Baseline_Median\": 0.7271428571428571, \"Base_Rate\": 0.5003}, {\"Dataset_Name\": \"heart\", \"Null_Imputer_Name\": \"median-mode\", \"Evaluation_Scenario\": \"mixed_exp\", \"Virny_Random_State\": 100, \"Model_Name\": \"gandalf_clf\", \"Subgroup\": \"overall\", \"Metric\": \"Accuracy\", \"Metric_Value\": 0.7226428571428571, \"Test_Set_Index\": 0, \"Baseline_Median\": 0.7271428571428571, \"Base_Rate\": 0.5003}, {\"Dataset_Name\": \"heart\", \"Null_Imputer_Name\": \"median-mode\", \"Evaluation_Scenario\": \"mixed_exp\", \"Virny_Random_State\": 400, \"Model_Name\": \"gandalf_clf\", \"Subgroup\": \"overall\", \"Metric\": \"Accuracy\", \"Metric_Value\": 0.7251428571428571, \"Test_Set_Index\": 0, \"Baseline_Median\": 0.7271428571428571, \"Base_Rate\": 0.5003}, {\"Dataset_Name\": \"heart\", \"Null_Imputer_Name\": \"median-dummy\", \"Evaluation_Scenario\": \"mixed_exp\", \"Virny_Random_State\": 500, \"Model_Name\": \"gandalf_clf\", \"Subgroup\": \"overall\", \"Metric\": \"Accuracy\", \"Metric_Value\": 0.7331428571428571, \"Test_Set_Index\": 0, \"Baseline_Median\": 0.7271428571428571, \"Base_Rate\": 0.5003}, {\"Dataset_Name\": \"heart\", \"Null_Imputer_Name\": \"median-dummy\", \"Evaluation_Scenario\": \"mixed_exp\", \"Virny_Random_State\": 200, \"Model_Name\": \"gandalf_clf\", \"Subgroup\": \"overall\", \"Metric\": \"Accuracy\", \"Metric_Value\": 0.726, \"Test_Set_Index\": 0, \"Baseline_Median\": 0.7271428571428571, \"Base_Rate\": 0.5003}, {\"Dataset_Name\": \"heart\", \"Null_Imputer_Name\": \"deletion\", \"Evaluation_Scenario\": \"mixed_exp\", \"Virny_Random_State\": 200, \"Model_Name\": \"gandalf_clf\", \"Subgroup\": \"overall\", \"Metric\": \"Accuracy\", \"Metric_Value\": 0.7258571428571429, \"Test_Set_Index\": 0, \"Baseline_Median\": 0.7271428571428571, \"Base_Rate\": 0.5003}, {\"Dataset_Name\": \"heart\", \"Null_Imputer_Name\": \"median-mode\", \"Evaluation_Scenario\": \"mixed_exp\", \"Virny_Random_State\": 600, \"Model_Name\": \"gandalf_clf\", \"Subgroup\": \"overall\", \"Metric\": \"Accuracy\", \"Metric_Value\": 0.7242857142857143, \"Test_Set_Index\": 0, \"Baseline_Median\": 0.7271428571428571, \"Base_Rate\": 0.5003}, {\"Dataset_Name\": \"heart\", \"Null_Imputer_Name\": \"k_means_clustering\", \"Evaluation_Scenario\": \"mixed_exp\", \"Virny_Random_State\": 400, \"Model_Name\": \"gandalf_clf\", \"Subgroup\": \"overall\", \"Metric\": \"Accuracy\", \"Metric_Value\": 0.7216428571428571, \"Test_Set_Index\": 0, \"Baseline_Median\": 0.7271428571428571, \"Base_Rate\": 0.5003}, {\"Dataset_Name\": \"heart\", \"Null_Imputer_Name\": \"median-mode\", \"Evaluation_Scenario\": \"mixed_exp\", \"Virny_Random_State\": 300, \"Model_Name\": \"gandalf_clf\", \"Subgroup\": \"overall\", \"Metric\": \"Accuracy\", \"Metric_Value\": 0.7257857142857143, \"Test_Set_Index\": 0, \"Baseline_Median\": 0.7271428571428571, \"Base_Rate\": 0.5003}, {\"Dataset_Name\": \"heart\", \"Null_Imputer_Name\": \"median-dummy\", \"Evaluation_Scenario\": \"mixed_exp\", \"Virny_Random_State\": 400, \"Model_Name\": \"gandalf_clf\", \"Subgroup\": \"overall\", \"Metric\": \"Accuracy\", \"Metric_Value\": 0.7281428571428571, \"Test_Set_Index\": 0, \"Baseline_Median\": 0.7271428571428571, \"Base_Rate\": 0.5003}, {\"Dataset_Name\": \"heart\", \"Null_Imputer_Name\": \"median-mode\", \"Evaluation_Scenario\": \"mixed_exp\", \"Virny_Random_State\": 500, \"Model_Name\": \"gandalf_clf\", \"Subgroup\": \"overall\", \"Metric\": \"Accuracy\", \"Metric_Value\": 0.7325714285714285, \"Test_Set_Index\": 0, \"Baseline_Median\": 0.7271428571428571, \"Base_Rate\": 0.5003}, {\"Dataset_Name\": \"heart\", \"Null_Imputer_Name\": \"datawig\", \"Evaluation_Scenario\": \"mixed_exp\", \"Virny_Random_State\": 600, \"Model_Name\": \"gandalf_clf\", \"Subgroup\": \"overall\", \"Metric\": \"Accuracy\", \"Metric_Value\": 0.7238571428571429, \"Test_Set_Index\": 0, \"Baseline_Median\": 0.7271428571428571, \"Base_Rate\": 0.5003}, {\"Dataset_Name\": \"heart\", \"Null_Imputer_Name\": \"k_means_clustering\", \"Evaluation_Scenario\": \"mixed_exp\", \"Virny_Random_State\": 500, \"Model_Name\": \"gandalf_clf\", \"Subgroup\": \"overall\", \"Metric\": \"Accuracy\", \"Metric_Value\": 0.7292142857142857, \"Test_Set_Index\": 0, \"Baseline_Median\": 0.7271428571428571, \"Base_Rate\": 0.5003}, {\"Dataset_Name\": \"heart\", \"Null_Imputer_Name\": \"k_means_clustering\", \"Evaluation_Scenario\": \"mixed_exp\", \"Virny_Random_State\": 600, \"Model_Name\": \"gandalf_clf\", \"Subgroup\": \"overall\", \"Metric\": \"Accuracy\", \"Metric_Value\": 0.7175714285714285, \"Test_Set_Index\": 0, \"Baseline_Median\": 0.7271428571428571, \"Base_Rate\": 0.5003}, {\"Dataset_Name\": \"heart\", \"Null_Imputer_Name\": \"automl\", \"Evaluation_Scenario\": \"mixed_exp\", \"Virny_Random_State\": 100, \"Model_Name\": \"gandalf_clf\", \"Subgroup\": \"overall\", \"Metric\": \"Accuracy\", \"Metric_Value\": 0.7233571428571428, \"Test_Set_Index\": 0, \"Baseline_Median\": 0.7271428571428571, \"Base_Rate\": 0.5003}, {\"Dataset_Name\": \"heart\", \"Null_Imputer_Name\": \"automl\", \"Evaluation_Scenario\": \"mixed_exp\", \"Virny_Random_State\": 400, \"Model_Name\": \"gandalf_clf\", \"Subgroup\": \"overall\", \"Metric\": \"Accuracy\", \"Metric_Value\": 0.7251428571428571, \"Test_Set_Index\": 0, \"Baseline_Median\": 0.7271428571428571, \"Base_Rate\": 0.5003}, {\"Dataset_Name\": \"heart\", \"Null_Imputer_Name\": \"k_means_clustering\", \"Evaluation_Scenario\": \"mixed_exp\", \"Virny_Random_State\": 100, \"Model_Name\": \"gandalf_clf\", \"Subgroup\": \"overall\", \"Metric\": \"Accuracy\", \"Metric_Value\": 0.7215, \"Test_Set_Index\": 0, \"Baseline_Median\": 0.7271428571428571, \"Base_Rate\": 0.5003}, {\"Dataset_Name\": \"heart\", \"Null_Imputer_Name\": \"median-mode\", \"Evaluation_Scenario\": \"mixed_exp\", \"Virny_Random_State\": 200, \"Model_Name\": \"gandalf_clf\", \"Subgroup\": \"overall\", \"Metric\": \"Accuracy\", \"Metric_Value\": 0.7271428571428571, \"Test_Set_Index\": 0, \"Baseline_Median\": 0.7271428571428571, \"Base_Rate\": 0.5003}, {\"Dataset_Name\": \"heart\", \"Null_Imputer_Name\": \"median-dummy\", \"Evaluation_Scenario\": \"mixed_exp\", \"Virny_Random_State\": 600, \"Model_Name\": \"gandalf_clf\", \"Subgroup\": \"overall\", \"Metric\": \"Accuracy\", \"Metric_Value\": 0.7251428571428571, \"Test_Set_Index\": 0, \"Baseline_Median\": 0.7271428571428571, \"Base_Rate\": 0.5003}, {\"Dataset_Name\": \"heart\", \"Null_Imputer_Name\": \"deletion\", \"Evaluation_Scenario\": \"mixed_exp\", \"Virny_Random_State\": 300, \"Model_Name\": \"gandalf_clf\", \"Subgroup\": \"overall\", \"Metric\": \"Accuracy\", \"Metric_Value\": 0.7188571428571429, \"Test_Set_Index\": 0, \"Baseline_Median\": 0.7271428571428571, \"Base_Rate\": 0.5003}, {\"Dataset_Name\": \"heart\", \"Null_Imputer_Name\": \"deletion\", \"Evaluation_Scenario\": \"mixed_exp\", \"Virny_Random_State\": 600, \"Model_Name\": \"gandalf_clf\", \"Subgroup\": \"overall\", \"Metric\": \"Accuracy\", \"Metric_Value\": 0.7261428571428571, \"Test_Set_Index\": 0, \"Baseline_Median\": 0.7271428571428571, \"Base_Rate\": 0.5003}, {\"Dataset_Name\": \"heart\", \"Null_Imputer_Name\": \"miss_forest\", \"Evaluation_Scenario\": \"mixed_exp\", \"Virny_Random_State\": 200, \"Model_Name\": \"gandalf_clf\", \"Subgroup\": \"overall\", \"Metric\": \"Accuracy\", \"Metric_Value\": 0.7274285714285714, \"Test_Set_Index\": 0, \"Baseline_Median\": 0.7271428571428571, \"Base_Rate\": 0.5003}, {\"Dataset_Name\": \"heart\", \"Null_Imputer_Name\": \"miss_forest\", \"Evaluation_Scenario\": \"mixed_exp\", \"Virny_Random_State\": 600, \"Model_Name\": \"gandalf_clf\", \"Subgroup\": \"overall\", \"Metric\": \"Accuracy\", \"Metric_Value\": 0.7232142857142857, \"Test_Set_Index\": 0, \"Baseline_Median\": 0.7271428571428571, \"Base_Rate\": 0.5003}, {\"Dataset_Name\": \"heart\", \"Null_Imputer_Name\": \"miss_forest\", \"Evaluation_Scenario\": \"mixed_exp\", \"Virny_Random_State\": 400, \"Model_Name\": \"gandalf_clf\", \"Subgroup\": \"overall\", \"Metric\": \"Accuracy\", \"Metric_Value\": 0.7262142857142857, \"Test_Set_Index\": 0, \"Baseline_Median\": 0.7271428571428571, \"Base_Rate\": 0.5003}, {\"Dataset_Name\": \"heart\", \"Null_Imputer_Name\": \"boost_clean\", \"Evaluation_Scenario\": \"mixed_exp\", \"Virny_Random_State\": 100, \"Model_Name\": \"boost_clean\", \"Subgroup\": \"overall\", \"Metric\": \"Accuracy\", \"Metric_Value\": 0.7269285714285715, \"Test_Set_Index\": 0, \"Baseline_Median\": null, \"Base_Rate\": 0.5003}, {\"Dataset_Name\": \"heart\", \"Null_Imputer_Name\": \"boost_clean\", \"Evaluation_Scenario\": \"mixed_exp\", \"Virny_Random_State\": 200, \"Model_Name\": \"boost_clean\", \"Subgroup\": \"overall\", \"Metric\": \"Accuracy\", \"Metric_Value\": 0.7292857142857143, \"Test_Set_Index\": 0, \"Baseline_Median\": null, \"Base_Rate\": 0.5003}, {\"Dataset_Name\": \"heart\", \"Null_Imputer_Name\": \"boost_clean\", \"Evaluation_Scenario\": \"mixed_exp\", \"Virny_Random_State\": 500, \"Model_Name\": \"boost_clean\", \"Subgroup\": \"overall\", \"Metric\": \"Accuracy\", \"Metric_Value\": 0.7356428571428572, \"Test_Set_Index\": 0, \"Baseline_Median\": null, \"Base_Rate\": 0.5003}, {\"Dataset_Name\": \"heart\", \"Null_Imputer_Name\": \"boost_clean\", \"Evaluation_Scenario\": \"mixed_exp\", \"Virny_Random_State\": 300, \"Model_Name\": \"boost_clean\", \"Subgroup\": \"overall\", \"Metric\": \"Accuracy\", \"Metric_Value\": 0.7342857142857143, \"Test_Set_Index\": 0, \"Baseline_Median\": null, \"Base_Rate\": 0.5003}, {\"Dataset_Name\": \"heart\", \"Null_Imputer_Name\": \"boost_clean\", \"Evaluation_Scenario\": \"mixed_exp\", \"Virny_Random_State\": 600, \"Model_Name\": \"boost_clean\", \"Subgroup\": \"overall\", \"Metric\": \"Accuracy\", \"Metric_Value\": 0.7273571428571428, \"Test_Set_Index\": 0, \"Baseline_Median\": null, \"Base_Rate\": 0.5003}, {\"Dataset_Name\": \"heart\", \"Null_Imputer_Name\": \"boost_clean\", \"Evaluation_Scenario\": \"mixed_exp\", \"Virny_Random_State\": 400, \"Model_Name\": \"boost_clean\", \"Subgroup\": \"overall\", \"Metric\": \"Accuracy\", \"Metric_Value\": 0.7363571428571428, \"Test_Set_Index\": 0, \"Baseline_Median\": null, \"Base_Rate\": 0.5003}, {\"Dataset_Name\": \"heart\", \"Null_Imputer_Name\": \"automl\", \"Evaluation_Scenario\": \"mixed_exp\", \"Virny_Random_State\": 500, \"Model_Name\": \"gandalf_clf\", \"Subgroup\": \"overall\", \"Metric\": \"Accuracy\", \"Metric_Value\": 0.7318571428571429, \"Test_Set_Index\": 0, \"Baseline_Median\": 0.7271428571428571, \"Base_Rate\": 0.5003}]}}, {\"mode\": \"vega-lite\"});\n",
       "</script>"
      ],
      "text/plain": [
       "alt.FacetChart(...)"
      ]
     },
     "execution_count": 7,
     "metadata": {},
     "output_type": "execute_result"
    }
   ],
   "execution_count": 7
  },
  {
   "cell_type": "code",
   "id": "ee6092efcb0416f1",
   "metadata": {
    "collapsed": false,
    "jupyter": {
     "outputs_hidden": false
    },
    "ExecuteTime": {
     "end_time": "2024-09-22T09:27:58.120700Z",
     "start_time": "2024-09-22T09:27:57.443113Z"
    }
   },
   "source": [
    "create_box_plots_for_diff_imputers_and_models(dataset_name=DATASET_NAME,\n",
    "                                              metric_name='f1',\n",
    "                                              db_client=db_client)"
   ],
   "outputs": [
    {
     "data": {
      "text/html": [
       "\n",
       "<div id=\"altair-viz-82561513fd434f6aab04721246e46ea7\"></div>\n",
       "<script type=\"text/javascript\">\n",
       "  var VEGA_DEBUG = (typeof VEGA_DEBUG == \"undefined\") ? {} : VEGA_DEBUG;\n",
       "  (function(spec, embedOpt){\n",
       "    let outputDiv = document.currentScript.previousElementSibling;\n",
       "    if (outputDiv.id !== \"altair-viz-82561513fd434f6aab04721246e46ea7\") {\n",
       "      outputDiv = document.getElementById(\"altair-viz-82561513fd434f6aab04721246e46ea7\");\n",
       "    }\n",
       "    const paths = {\n",
       "      \"vega\": \"https://cdn.jsdelivr.net/npm//vega@5?noext\",\n",
       "      \"vega-lib\": \"https://cdn.jsdelivr.net/npm//vega-lib?noext\",\n",
       "      \"vega-lite\": \"https://cdn.jsdelivr.net/npm//vega-lite@4.17.0?noext\",\n",
       "      \"vega-embed\": \"https://cdn.jsdelivr.net/npm//vega-embed@6?noext\",\n",
       "    };\n",
       "\n",
       "    function maybeLoadScript(lib, version) {\n",
       "      var key = `${lib.replace(\"-\", \"\")}_version`;\n",
       "      return (VEGA_DEBUG[key] == version) ?\n",
       "        Promise.resolve(paths[lib]) :\n",
       "        new Promise(function(resolve, reject) {\n",
       "          var s = document.createElement('script');\n",
       "          document.getElementsByTagName(\"head\")[0].appendChild(s);\n",
       "          s.async = true;\n",
       "          s.onload = () => {\n",
       "            VEGA_DEBUG[key] = version;\n",
       "            return resolve(paths[lib]);\n",
       "          };\n",
       "          s.onerror = () => reject(`Error loading script: ${paths[lib]}`);\n",
       "          s.src = paths[lib];\n",
       "        });\n",
       "    }\n",
       "\n",
       "    function showError(err) {\n",
       "      outputDiv.innerHTML = `<div class=\"error\" style=\"color:red;\">${err}</div>`;\n",
       "      throw err;\n",
       "    }\n",
       "\n",
       "    function displayChart(vegaEmbed) {\n",
       "      vegaEmbed(outputDiv, spec, embedOpt)\n",
       "        .catch(err => showError(`Javascript Error: ${err.message}<br>This usually means there's a typo in your chart specification. See the javascript console for the full traceback.`));\n",
       "    }\n",
       "\n",
       "    if(typeof define === \"function\" && define.amd) {\n",
       "      requirejs.config({paths});\n",
       "      require([\"vega-embed\"], displayChart, err => showError(`Error loading script: ${err.message}`));\n",
       "    } else {\n",
       "      maybeLoadScript(\"vega\", \"5\")\n",
       "        .then(() => maybeLoadScript(\"vega-lite\", \"4.17.0\"))\n",
       "        .then(() => maybeLoadScript(\"vega-embed\", \"6\"))\n",
       "        .catch(showError)\n",
       "        .then(() => displayChart(vegaEmbed));\n",
       "    }\n",
       "  })({\"config\": {\"view\": {\"continuousWidth\": 400, \"continuousHeight\": 300, \"stroke\": null}, \"axis\": {\"labelFontSize\": 22, \"labelFontWeight\": \"normal\", \"titleFontSize\": 24, \"titleFontWeight\": \"normal\"}, \"facet\": {\"spacing\": 5}, \"header\": {\"labelFontSize\": 20, \"labelOrient\": \"bottom\", \"labelPadding\": 5, \"titleFontSize\": 24}, \"legend\": {\"columns\": 4, \"direction\": \"horizontal\", \"labelFontSize\": 20, \"labelLimit\": 400, \"orient\": \"top\", \"symbolOffset\": 50, \"symbolStrokeWidth\": 10, \"titleAnchor\": \"middle\", \"titleFontSize\": 22, \"titleLimit\": 300}, \"title\": {\"fontSize\": 24}}, \"data\": {\"name\": \"data-3547c2d77593e47bb1d8ff55890b82c4\"}, \"facet\": {\"column\": {\"field\": \"Model_Name\", \"sort\": [\"dt_clf\", \"lr_clf\", \"lgbm_clf\", \"rf_clf\", \"mlp_clf\"], \"title\": null, \"type\": \"nominal\"}}, \"spec\": {\"layer\": [{\"mark\": {\"type\": \"boxplot\", \"median\": {\"stroke\": \"black\", \"strokeWidth\": 0.7}, \"ticks\": true}, \"encoding\": {\"color\": {\"field\": \"Null_Imputer_Name\", \"sort\": [\"deletion\", \"median-mode\", \"median-dummy\", \"miss_forest\", \"k_means_clustering\", \"datawig\", \"automl\", \"boost_clean\"], \"title\": null, \"type\": \"nominal\"}, \"x\": {\"axis\": {\"labels\": false}, \"field\": \"Null_Imputer_Name\", \"sort\": [\"deletion\", \"median-mode\", \"median-dummy\", \"miss_forest\", \"k_means_clustering\", \"datawig\", \"automl\", \"boost_clean\"], \"title\": null, \"type\": \"nominal\"}, \"y\": {\"field\": \"Metric_Value\", \"scale\": {\"zero\": false}, \"title\": \"F1\", \"type\": \"quantitative\"}}}, {\"mark\": \"rule\", \"encoding\": {\"color\": {\"value\": \"blue\"}, \"size\": {\"value\": 2}, \"y\": {\"field\": \"Baseline_Median\", \"type\": \"quantitative\"}}}], \"width\": 150}, \"resolve\": {\"scale\": {\"x\": \"independent\"}}, \"$schema\": \"https://vega.github.io/schema/vega-lite/v4.17.0.json\", \"datasets\": {\"data-3547c2d77593e47bb1d8ff55890b82c4\": [{\"Dataset_Name\": \"heart\", \"Null_Imputer_Name\": \"deletion\", \"Evaluation_Scenario\": \"mixed_exp\", \"Virny_Random_State\": 400, \"Model_Name\": \"gandalf_clf\", \"Subgroup\": \"overall\", \"Metric\": \"F1\", \"Metric_Value\": 0.7226485419864065, \"Test_Set_Index\": 0, \"Baseline_Median\": 0.728172615289252}, {\"Dataset_Name\": \"heart\", \"Null_Imputer_Name\": \"datawig\", \"Evaluation_Scenario\": \"mixed_exp\", \"Virny_Random_State\": 500, \"Model_Name\": \"gandalf_clf\", \"Subgroup\": \"overall\", \"Metric\": \"F1\", \"Metric_Value\": 0.7337855023314964, \"Test_Set_Index\": 0, \"Baseline_Median\": 0.728172615289252}, {\"Dataset_Name\": \"heart\", \"Null_Imputer_Name\": \"deletion\", \"Evaluation_Scenario\": \"mixed_exp\", \"Virny_Random_State\": 100, \"Model_Name\": \"gandalf_clf\", \"Subgroup\": \"overall\", \"Metric\": \"F1\", \"Metric_Value\": 0.7208730847065626, \"Test_Set_Index\": 0, \"Baseline_Median\": 0.728172615289252}, {\"Dataset_Name\": \"heart\", \"Null_Imputer_Name\": \"datawig\", \"Evaluation_Scenario\": \"mixed_exp\", \"Virny_Random_State\": 300, \"Model_Name\": \"gandalf_clf\", \"Subgroup\": \"overall\", \"Metric\": \"F1\", \"Metric_Value\": 0.7279812938425565, \"Test_Set_Index\": 0, \"Baseline_Median\": 0.728172615289252}, {\"Dataset_Name\": \"heart\", \"Null_Imputer_Name\": \"datawig\", \"Evaluation_Scenario\": \"mixed_exp\", \"Virny_Random_State\": 200, \"Model_Name\": \"gandalf_clf\", \"Subgroup\": \"overall\", \"Metric\": \"F1\", \"Metric_Value\": 0.7272337690164988, \"Test_Set_Index\": 0, \"Baseline_Median\": 0.728172615289252}, {\"Dataset_Name\": \"heart\", \"Null_Imputer_Name\": \"datawig\", \"Evaluation_Scenario\": \"mixed_exp\", \"Virny_Random_State\": 400, \"Model_Name\": \"gandalf_clf\", \"Subgroup\": \"overall\", \"Metric\": \"F1\", \"Metric_Value\": 0.7274015301785208, \"Test_Set_Index\": 0, \"Baseline_Median\": 0.728172615289252}, {\"Dataset_Name\": \"heart\", \"Null_Imputer_Name\": \"datawig\", \"Evaluation_Scenario\": \"mixed_exp\", \"Virny_Random_State\": 100, \"Model_Name\": \"gandalf_clf\", \"Subgroup\": \"overall\", \"Metric\": \"F1\", \"Metric_Value\": 0.7236044770799173, \"Test_Set_Index\": 0, \"Baseline_Median\": 0.728172615289252}, {\"Dataset_Name\": \"heart\", \"Null_Imputer_Name\": \"deletion\", \"Evaluation_Scenario\": \"mixed_exp\", \"Virny_Random_State\": 500, \"Model_Name\": \"gandalf_clf\", \"Subgroup\": \"overall\", \"Metric\": \"F1\", \"Metric_Value\": 0.7312743541636599, \"Test_Set_Index\": 0, \"Baseline_Median\": 0.728172615289252}, {\"Dataset_Name\": \"heart\", \"Null_Imputer_Name\": \"k_means_clustering\", \"Evaluation_Scenario\": \"mixed_exp\", \"Virny_Random_State\": 200, \"Model_Name\": \"gandalf_clf\", \"Subgroup\": \"overall\", \"Metric\": \"F1\", \"Metric_Value\": 0.7263292578902474, \"Test_Set_Index\": 0, \"Baseline_Median\": 0.728172615289252}, {\"Dataset_Name\": \"heart\", \"Null_Imputer_Name\": \"automl\", \"Evaluation_Scenario\": \"mixed_exp\", \"Virny_Random_State\": 200, \"Model_Name\": \"gandalf_clf\", \"Subgroup\": \"overall\", \"Metric\": \"F1\", \"Metric_Value\": 0.7272597458232186, \"Test_Set_Index\": 0, \"Baseline_Median\": 0.728172615289252}, {\"Dataset_Name\": \"heart\", \"Null_Imputer_Name\": \"median-dummy\", \"Evaluation_Scenario\": \"mixed_exp\", \"Virny_Random_State\": 100, \"Model_Name\": \"gandalf_clf\", \"Subgroup\": \"overall\", \"Metric\": \"F1\", \"Metric_Value\": 0.72403942293958, \"Test_Set_Index\": 0, \"Baseline_Median\": 0.728172615289252}, {\"Dataset_Name\": \"heart\", \"Null_Imputer_Name\": \"miss_forest\", \"Evaluation_Scenario\": \"mixed_exp\", \"Virny_Random_State\": 500, \"Model_Name\": \"gandalf_clf\", \"Subgroup\": \"overall\", \"Metric\": \"F1\", \"Metric_Value\": 0.7337052468046042, \"Test_Set_Index\": 0, \"Baseline_Median\": 0.728172615289252}, {\"Dataset_Name\": \"heart\", \"Null_Imputer_Name\": \"automl\", \"Evaluation_Scenario\": \"mixed_exp\", \"Virny_Random_State\": 300, \"Model_Name\": \"gandalf_clf\", \"Subgroup\": \"overall\", \"Metric\": \"F1\", \"Metric_Value\": 0.7280962491153574, \"Test_Set_Index\": 0, \"Baseline_Median\": 0.728172615289252}, {\"Dataset_Name\": \"heart\", \"Null_Imputer_Name\": \"miss_forest\", \"Evaluation_Scenario\": \"mixed_exp\", \"Virny_Random_State\": 100, \"Model_Name\": \"gandalf_clf\", \"Subgroup\": \"overall\", \"Metric\": \"F1\", \"Metric_Value\": 0.723546573685334, \"Test_Set_Index\": 0, \"Baseline_Median\": 0.728172615289252}, {\"Dataset_Name\": \"heart\", \"Null_Imputer_Name\": \"k_means_clustering\", \"Evaluation_Scenario\": \"mixed_exp\", \"Virny_Random_State\": 300, \"Model_Name\": \"gandalf_clf\", \"Subgroup\": \"overall\", \"Metric\": \"F1\", \"Metric_Value\": 0.7235003528581511, \"Test_Set_Index\": 0, \"Baseline_Median\": 0.728172615289252}, {\"Dataset_Name\": \"heart\", \"Null_Imputer_Name\": \"automl\", \"Evaluation_Scenario\": \"mixed_exp\", \"Virny_Random_State\": 600, \"Model_Name\": \"gandalf_clf\", \"Subgroup\": \"overall\", \"Metric\": \"F1\", \"Metric_Value\": 0.7206986143187067, \"Test_Set_Index\": 0, \"Baseline_Median\": 0.728172615289252}, {\"Dataset_Name\": \"heart\", \"Null_Imputer_Name\": \"miss_forest\", \"Evaluation_Scenario\": \"mixed_exp\", \"Virny_Random_State\": 300, \"Model_Name\": \"gandalf_clf\", \"Subgroup\": \"overall\", \"Metric\": \"F1\", \"Metric_Value\": 0.7280334728033473, \"Test_Set_Index\": 0, \"Baseline_Median\": 0.728172615289252}, {\"Dataset_Name\": \"heart\", \"Null_Imputer_Name\": \"median-dummy\", \"Evaluation_Scenario\": \"mixed_exp\", \"Virny_Random_State\": 300, \"Model_Name\": \"gandalf_clf\", \"Subgroup\": \"overall\", \"Metric\": \"F1\", \"Metric_Value\": 0.7259375445601026, \"Test_Set_Index\": 0, \"Baseline_Median\": 0.728172615289252}, {\"Dataset_Name\": \"heart\", \"Null_Imputer_Name\": \"median-mode\", \"Evaluation_Scenario\": \"mixed_exp\", \"Virny_Random_State\": 100, \"Model_Name\": \"gandalf_clf\", \"Subgroup\": \"overall\", \"Metric\": \"F1\", \"Metric_Value\": 0.723295090144659, \"Test_Set_Index\": 0, \"Baseline_Median\": 0.728172615289252}, {\"Dataset_Name\": \"heart\", \"Null_Imputer_Name\": \"median-mode\", \"Evaluation_Scenario\": \"mixed_exp\", \"Virny_Random_State\": 400, \"Model_Name\": \"gandalf_clf\", \"Subgroup\": \"overall\", \"Metric\": \"F1\", \"Metric_Value\": 0.7277101613359751, \"Test_Set_Index\": 0, \"Baseline_Median\": 0.728172615289252}, {\"Dataset_Name\": \"heart\", \"Null_Imputer_Name\": \"median-dummy\", \"Evaluation_Scenario\": \"mixed_exp\", \"Virny_Random_State\": 500, \"Model_Name\": \"gandalf_clf\", \"Subgroup\": \"overall\", \"Metric\": \"F1\", \"Metric_Value\": 0.7338273012254204, \"Test_Set_Index\": 0, \"Baseline_Median\": 0.728172615289252}, {\"Dataset_Name\": \"heart\", \"Null_Imputer_Name\": \"median-dummy\", \"Evaluation_Scenario\": \"mixed_exp\", \"Virny_Random_State\": 200, \"Model_Name\": \"gandalf_clf\", \"Subgroup\": \"overall\", \"Metric\": \"F1\", \"Metric_Value\": 0.7282516293567582, \"Test_Set_Index\": 0, \"Baseline_Median\": 0.728172615289252}, {\"Dataset_Name\": \"heart\", \"Null_Imputer_Name\": \"deletion\", \"Evaluation_Scenario\": \"mixed_exp\", \"Virny_Random_State\": 200, \"Model_Name\": \"gandalf_clf\", \"Subgroup\": \"overall\", \"Metric\": \"F1\", \"Metric_Value\": 0.7235666954768079, \"Test_Set_Index\": 0, \"Baseline_Median\": 0.728172615289252}, {\"Dataset_Name\": \"heart\", \"Null_Imputer_Name\": \"median-mode\", \"Evaluation_Scenario\": \"mixed_exp\", \"Virny_Random_State\": 600, \"Model_Name\": \"gandalf_clf\", \"Subgroup\": \"overall\", \"Metric\": \"F1\", \"Metric_Value\": 0.7215007215007215, \"Test_Set_Index\": 0, \"Baseline_Median\": 0.728172615289252}, {\"Dataset_Name\": \"heart\", \"Null_Imputer_Name\": \"k_means_clustering\", \"Evaluation_Scenario\": \"mixed_exp\", \"Virny_Random_State\": 400, \"Model_Name\": \"gandalf_clf\", \"Subgroup\": \"overall\", \"Metric\": \"F1\", \"Metric_Value\": 0.7255053884623512, \"Test_Set_Index\": 0, \"Baseline_Median\": 0.728172615289252}, {\"Dataset_Name\": \"heart\", \"Null_Imputer_Name\": \"median-dummy\", \"Evaluation_Scenario\": \"mixed_exp\", \"Virny_Random_State\": 400, \"Model_Name\": \"gandalf_clf\", \"Subgroup\": \"overall\", \"Metric\": \"F1\", \"Metric_Value\": 0.7277149806839319, \"Test_Set_Index\": 0, \"Baseline_Median\": 0.728172615289252}, {\"Dataset_Name\": \"heart\", \"Null_Imputer_Name\": \"median-mode\", \"Evaluation_Scenario\": \"mixed_exp\", \"Virny_Random_State\": 300, \"Model_Name\": \"gandalf_clf\", \"Subgroup\": \"overall\", \"Metric\": \"F1\", \"Metric_Value\": 0.7285199066544091, \"Test_Set_Index\": 0, \"Baseline_Median\": 0.728172615289252}, {\"Dataset_Name\": \"heart\", \"Null_Imputer_Name\": \"median-mode\", \"Evaluation_Scenario\": \"mixed_exp\", \"Virny_Random_State\": 500, \"Model_Name\": \"gandalf_clf\", \"Subgroup\": \"overall\", \"Metric\": \"F1\", \"Metric_Value\": 0.7340153452685422, \"Test_Set_Index\": 0, \"Baseline_Median\": 0.728172615289252}, {\"Dataset_Name\": \"heart\", \"Null_Imputer_Name\": \"datawig\", \"Evaluation_Scenario\": \"mixed_exp\", \"Virny_Random_State\": 600, \"Model_Name\": \"gandalf_clf\", \"Subgroup\": \"overall\", \"Metric\": \"F1\", \"Metric_Value\": 0.7219505178365938, \"Test_Set_Index\": 0, \"Baseline_Median\": 0.728172615289252}, {\"Dataset_Name\": \"heart\", \"Null_Imputer_Name\": \"k_means_clustering\", \"Evaluation_Scenario\": \"mixed_exp\", \"Virny_Random_State\": 500, \"Model_Name\": \"gandalf_clf\", \"Subgroup\": \"overall\", \"Metric\": \"F1\", \"Metric_Value\": 0.7327835342214704, \"Test_Set_Index\": 0, \"Baseline_Median\": 0.728172615289252}, {\"Dataset_Name\": \"heart\", \"Null_Imputer_Name\": \"k_means_clustering\", \"Evaluation_Scenario\": \"mixed_exp\", \"Virny_Random_State\": 600, \"Model_Name\": \"gandalf_clf\", \"Subgroup\": \"overall\", \"Metric\": \"F1\", \"Metric_Value\": 0.7158257869771453, \"Test_Set_Index\": 0, \"Baseline_Median\": 0.728172615289252}, {\"Dataset_Name\": \"heart\", \"Null_Imputer_Name\": \"automl\", \"Evaluation_Scenario\": \"mixed_exp\", \"Virny_Random_State\": 100, \"Model_Name\": \"gandalf_clf\", \"Subgroup\": \"overall\", \"Metric\": \"F1\", \"Metric_Value\": 0.7245572861105185, \"Test_Set_Index\": 0, \"Baseline_Median\": 0.728172615289252}, {\"Dataset_Name\": \"heart\", \"Null_Imputer_Name\": \"automl\", \"Evaluation_Scenario\": \"mixed_exp\", \"Virny_Random_State\": 400, \"Model_Name\": \"gandalf_clf\", \"Subgroup\": \"overall\", \"Metric\": \"F1\", \"Metric_Value\": 0.7284020327498588, \"Test_Set_Index\": 0, \"Baseline_Median\": 0.728172615289252}, {\"Dataset_Name\": \"heart\", \"Null_Imputer_Name\": \"k_means_clustering\", \"Evaluation_Scenario\": \"mixed_exp\", \"Virny_Random_State\": 100, \"Model_Name\": \"gandalf_clf\", \"Subgroup\": \"overall\", \"Metric\": \"F1\", \"Metric_Value\": 0.7219171243135297, \"Test_Set_Index\": 0, \"Baseline_Median\": 0.728172615289252}, {\"Dataset_Name\": \"heart\", \"Null_Imputer_Name\": \"median-mode\", \"Evaluation_Scenario\": \"mixed_exp\", \"Virny_Random_State\": 200, \"Model_Name\": \"gandalf_clf\", \"Subgroup\": \"overall\", \"Metric\": \"F1\", \"Metric_Value\": 0.7273376159885796, \"Test_Set_Index\": 0, \"Baseline_Median\": 0.728172615289252}, {\"Dataset_Name\": \"heart\", \"Null_Imputer_Name\": \"median-dummy\", \"Evaluation_Scenario\": \"mixed_exp\", \"Virny_Random_State\": 600, \"Model_Name\": \"gandalf_clf\", \"Subgroup\": \"overall\", \"Metric\": \"F1\", \"Metric_Value\": 0.722045651545796, \"Test_Set_Index\": 0, \"Baseline_Median\": 0.728172615289252}, {\"Dataset_Name\": \"heart\", \"Null_Imputer_Name\": \"deletion\", \"Evaluation_Scenario\": \"mixed_exp\", \"Virny_Random_State\": 300, \"Model_Name\": \"gandalf_clf\", \"Subgroup\": \"overall\", \"Metric\": \"F1\", \"Metric_Value\": 0.7163856463467358, \"Test_Set_Index\": 0, \"Baseline_Median\": 0.728172615289252}, {\"Dataset_Name\": \"heart\", \"Null_Imputer_Name\": \"deletion\", \"Evaluation_Scenario\": \"mixed_exp\", \"Virny_Random_State\": 600, \"Model_Name\": \"gandalf_clf\", \"Subgroup\": \"overall\", \"Metric\": \"F1\", \"Metric_Value\": 0.7179223072395526, \"Test_Set_Index\": 0, \"Baseline_Median\": 0.728172615289252}, {\"Dataset_Name\": \"heart\", \"Null_Imputer_Name\": \"miss_forest\", \"Evaluation_Scenario\": \"mixed_exp\", \"Virny_Random_State\": 200, \"Model_Name\": \"gandalf_clf\", \"Subgroup\": \"overall\", \"Metric\": \"F1\", \"Metric_Value\": 0.7275453377124089, \"Test_Set_Index\": 0, \"Baseline_Median\": 0.728172615289252}, {\"Dataset_Name\": \"heart\", \"Null_Imputer_Name\": \"miss_forest\", \"Evaluation_Scenario\": \"mixed_exp\", \"Virny_Random_State\": 600, \"Model_Name\": \"gandalf_clf\", \"Subgroup\": \"overall\", \"Metric\": \"F1\", \"Metric_Value\": 0.7212430760376951, \"Test_Set_Index\": 0, \"Baseline_Median\": 0.728172615289252}, {\"Dataset_Name\": \"heart\", \"Null_Imputer_Name\": \"miss_forest\", \"Evaluation_Scenario\": \"mixed_exp\", \"Virny_Random_State\": 400, \"Model_Name\": \"gandalf_clf\", \"Subgroup\": \"overall\", \"Metric\": \"F1\", \"Metric_Value\": 0.7287139924976997, \"Test_Set_Index\": 0, \"Baseline_Median\": 0.728172615289252}, {\"Dataset_Name\": \"heart\", \"Null_Imputer_Name\": \"boost_clean\", \"Evaluation_Scenario\": \"mixed_exp\", \"Virny_Random_State\": 100, \"Model_Name\": \"boost_clean\", \"Subgroup\": \"overall\", \"Metric\": \"F1\", \"Metric_Value\": 0.7169615754793811, \"Test_Set_Index\": 0, \"Baseline_Median\": null}, {\"Dataset_Name\": \"heart\", \"Null_Imputer_Name\": \"boost_clean\", \"Evaluation_Scenario\": \"mixed_exp\", \"Virny_Random_State\": 200, \"Model_Name\": \"boost_clean\", \"Subgroup\": \"overall\", \"Metric\": \"F1\", \"Metric_Value\": 0.7122247532270312, \"Test_Set_Index\": 0, \"Baseline_Median\": null}, {\"Dataset_Name\": \"heart\", \"Null_Imputer_Name\": \"boost_clean\", \"Evaluation_Scenario\": \"mixed_exp\", \"Virny_Random_State\": 500, \"Model_Name\": \"boost_clean\", \"Subgroup\": \"overall\", \"Metric\": \"F1\", \"Metric_Value\": 0.7218338970311913, \"Test_Set_Index\": 0, \"Baseline_Median\": null}, {\"Dataset_Name\": \"heart\", \"Null_Imputer_Name\": \"boost_clean\", \"Evaluation_Scenario\": \"mixed_exp\", \"Virny_Random_State\": 300, \"Model_Name\": \"boost_clean\", \"Subgroup\": \"overall\", \"Metric\": \"F1\", \"Metric_Value\": 0.7190332326283988, \"Test_Set_Index\": 0, \"Baseline_Median\": null}, {\"Dataset_Name\": \"heart\", \"Null_Imputer_Name\": \"boost_clean\", \"Evaluation_Scenario\": \"mixed_exp\", \"Virny_Random_State\": 600, \"Model_Name\": \"boost_clean\", \"Subgroup\": \"overall\", \"Metric\": \"F1\", \"Metric_Value\": 0.7089592070148685, \"Test_Set_Index\": 0, \"Baseline_Median\": null}, {\"Dataset_Name\": \"heart\", \"Null_Imputer_Name\": \"boost_clean\", \"Evaluation_Scenario\": \"mixed_exp\", \"Virny_Random_State\": 400, \"Model_Name\": \"boost_clean\", \"Subgroup\": \"overall\", \"Metric\": \"F1\", \"Metric_Value\": 0.7188237982783576, \"Test_Set_Index\": 0, \"Baseline_Median\": null}, {\"Dataset_Name\": \"heart\", \"Null_Imputer_Name\": \"automl\", \"Evaluation_Scenario\": \"mixed_exp\", \"Virny_Random_State\": 500, \"Model_Name\": \"gandalf_clf\", \"Subgroup\": \"overall\", \"Metric\": \"F1\", \"Metric_Value\": 0.7340983142088114, \"Test_Set_Index\": 0, \"Baseline_Median\": 0.728172615289252}]}}, {\"mode\": \"vega-lite\"});\n",
       "</script>"
      ],
      "text/plain": [
       "alt.FacetChart(...)"
      ]
     },
     "execution_count": 8,
     "metadata": {},
     "output_type": "execute_result"
    }
   ],
   "execution_count": 8
  },
  {
   "cell_type": "code",
   "id": "88e9fbc47beca1d2",
   "metadata": {
    "collapsed": false,
    "jupyter": {
     "outputs_hidden": false
    },
    "ExecuteTime": {
     "end_time": "2024-09-22T09:27:58.783643Z",
     "start_time": "2024-09-22T09:27:58.135640Z"
    }
   },
   "source": [
    "create_box_plots_for_diff_imputers_and_models(dataset_name=DATASET_NAME,\n",
    "                                              metric_name='label_stability',\n",
    "                                              db_client=db_client)"
   ],
   "outputs": [
    {
     "data": {
      "text/html": [
       "\n",
       "<div id=\"altair-viz-ee9489c12e78443080dbebd054c9a022\"></div>\n",
       "<script type=\"text/javascript\">\n",
       "  var VEGA_DEBUG = (typeof VEGA_DEBUG == \"undefined\") ? {} : VEGA_DEBUG;\n",
       "  (function(spec, embedOpt){\n",
       "    let outputDiv = document.currentScript.previousElementSibling;\n",
       "    if (outputDiv.id !== \"altair-viz-ee9489c12e78443080dbebd054c9a022\") {\n",
       "      outputDiv = document.getElementById(\"altair-viz-ee9489c12e78443080dbebd054c9a022\");\n",
       "    }\n",
       "    const paths = {\n",
       "      \"vega\": \"https://cdn.jsdelivr.net/npm//vega@5?noext\",\n",
       "      \"vega-lib\": \"https://cdn.jsdelivr.net/npm//vega-lib?noext\",\n",
       "      \"vega-lite\": \"https://cdn.jsdelivr.net/npm//vega-lite@4.17.0?noext\",\n",
       "      \"vega-embed\": \"https://cdn.jsdelivr.net/npm//vega-embed@6?noext\",\n",
       "    };\n",
       "\n",
       "    function maybeLoadScript(lib, version) {\n",
       "      var key = `${lib.replace(\"-\", \"\")}_version`;\n",
       "      return (VEGA_DEBUG[key] == version) ?\n",
       "        Promise.resolve(paths[lib]) :\n",
       "        new Promise(function(resolve, reject) {\n",
       "          var s = document.createElement('script');\n",
       "          document.getElementsByTagName(\"head\")[0].appendChild(s);\n",
       "          s.async = true;\n",
       "          s.onload = () => {\n",
       "            VEGA_DEBUG[key] = version;\n",
       "            return resolve(paths[lib]);\n",
       "          };\n",
       "          s.onerror = () => reject(`Error loading script: ${paths[lib]}`);\n",
       "          s.src = paths[lib];\n",
       "        });\n",
       "    }\n",
       "\n",
       "    function showError(err) {\n",
       "      outputDiv.innerHTML = `<div class=\"error\" style=\"color:red;\">${err}</div>`;\n",
       "      throw err;\n",
       "    }\n",
       "\n",
       "    function displayChart(vegaEmbed) {\n",
       "      vegaEmbed(outputDiv, spec, embedOpt)\n",
       "        .catch(err => showError(`Javascript Error: ${err.message}<br>This usually means there's a typo in your chart specification. See the javascript console for the full traceback.`));\n",
       "    }\n",
       "\n",
       "    if(typeof define === \"function\" && define.amd) {\n",
       "      requirejs.config({paths});\n",
       "      require([\"vega-embed\"], displayChart, err => showError(`Error loading script: ${err.message}`));\n",
       "    } else {\n",
       "      maybeLoadScript(\"vega\", \"5\")\n",
       "        .then(() => maybeLoadScript(\"vega-lite\", \"4.17.0\"))\n",
       "        .then(() => maybeLoadScript(\"vega-embed\", \"6\"))\n",
       "        .catch(showError)\n",
       "        .then(() => displayChart(vegaEmbed));\n",
       "    }\n",
       "  })({\"config\": {\"view\": {\"continuousWidth\": 400, \"continuousHeight\": 300, \"stroke\": null}, \"axis\": {\"labelFontSize\": 22, \"labelFontWeight\": \"normal\", \"titleFontSize\": 24, \"titleFontWeight\": \"normal\"}, \"facet\": {\"spacing\": 5}, \"header\": {\"labelFontSize\": 20, \"labelOrient\": \"bottom\", \"labelPadding\": 5, \"titleFontSize\": 24}, \"legend\": {\"columns\": 4, \"direction\": \"horizontal\", \"labelFontSize\": 20, \"labelLimit\": 400, \"orient\": \"top\", \"symbolOffset\": 50, \"symbolStrokeWidth\": 10, \"titleAnchor\": \"middle\", \"titleFontSize\": 22, \"titleLimit\": 300}, \"title\": {\"fontSize\": 24}}, \"data\": {\"name\": \"data-930551c3e53fa43bc603306d2c312108\"}, \"facet\": {\"column\": {\"field\": \"Model_Name\", \"sort\": [\"dt_clf\", \"lr_clf\", \"lgbm_clf\", \"rf_clf\", \"mlp_clf\"], \"title\": null, \"type\": \"nominal\"}}, \"spec\": {\"layer\": [{\"mark\": {\"type\": \"boxplot\", \"median\": {\"stroke\": \"black\", \"strokeWidth\": 0.7}, \"ticks\": true}, \"encoding\": {\"color\": {\"field\": \"Null_Imputer_Name\", \"sort\": [\"deletion\", \"median-mode\", \"median-dummy\", \"miss_forest\", \"k_means_clustering\", \"datawig\", \"automl\", \"boost_clean\"], \"title\": null, \"type\": \"nominal\"}, \"x\": {\"axis\": {\"labels\": false}, \"field\": \"Null_Imputer_Name\", \"sort\": [\"deletion\", \"median-mode\", \"median-dummy\", \"miss_forest\", \"k_means_clustering\", \"datawig\", \"automl\", \"boost_clean\"], \"title\": null, \"type\": \"nominal\"}, \"y\": {\"field\": \"Metric_Value\", \"scale\": {\"zero\": false}, \"title\": \"Label Stability\", \"type\": \"quantitative\"}}}, {\"mark\": \"rule\", \"encoding\": {\"color\": {\"value\": \"blue\"}, \"size\": {\"value\": 2}, \"y\": {\"field\": \"Baseline_Median\", \"type\": \"quantitative\"}}}], \"width\": 150}, \"resolve\": {\"scale\": {\"x\": \"independent\"}}, \"$schema\": \"https://vega.github.io/schema/vega-lite/v4.17.0.json\", \"datasets\": {\"data-930551c3e53fa43bc603306d2c312108\": [{\"Dataset_Name\": \"heart\", \"Null_Imputer_Name\": \"deletion\", \"Evaluation_Scenario\": \"mixed_exp\", \"Virny_Random_State\": 400, \"Model_Name\": \"gandalf_clf\", \"Subgroup\": \"overall\", \"Metric\": \"Label_Stability\", \"Metric_Value\": 0.8975457142857144, \"Test_Set_Index\": 0, \"Baseline_Median\": 0.8894557142857142}, {\"Dataset_Name\": \"heart\", \"Null_Imputer_Name\": \"datawig\", \"Evaluation_Scenario\": \"mixed_exp\", \"Virny_Random_State\": 500, \"Model_Name\": \"gandalf_clf\", \"Subgroup\": \"overall\", \"Metric\": \"Label_Stability\", \"Metric_Value\": 0.9035342857142857, \"Test_Set_Index\": 0, \"Baseline_Median\": 0.8894557142857142}, {\"Dataset_Name\": \"heart\", \"Null_Imputer_Name\": \"deletion\", \"Evaluation_Scenario\": \"mixed_exp\", \"Virny_Random_State\": 100, \"Model_Name\": \"gandalf_clf\", \"Subgroup\": \"overall\", \"Metric\": \"Label_Stability\", \"Metric_Value\": 0.8756085714285715, \"Test_Set_Index\": 0, \"Baseline_Median\": 0.8894557142857142}, {\"Dataset_Name\": \"heart\", \"Null_Imputer_Name\": \"datawig\", \"Evaluation_Scenario\": \"mixed_exp\", \"Virny_Random_State\": 300, \"Model_Name\": \"gandalf_clf\", \"Subgroup\": \"overall\", \"Metric\": \"Label_Stability\", \"Metric_Value\": 0.8841628571428571, \"Test_Set_Index\": 0, \"Baseline_Median\": 0.8894557142857142}, {\"Dataset_Name\": \"heart\", \"Null_Imputer_Name\": \"datawig\", \"Evaluation_Scenario\": \"mixed_exp\", \"Virny_Random_State\": 200, \"Model_Name\": \"gandalf_clf\", \"Subgroup\": \"overall\", \"Metric\": \"Label_Stability\", \"Metric_Value\": 0.8974885714285714, \"Test_Set_Index\": 0, \"Baseline_Median\": 0.8894557142857142}, {\"Dataset_Name\": \"heart\", \"Null_Imputer_Name\": \"datawig\", \"Evaluation_Scenario\": \"mixed_exp\", \"Virny_Random_State\": 400, \"Model_Name\": \"gandalf_clf\", \"Subgroup\": \"overall\", \"Metric\": \"Label_Stability\", \"Metric_Value\": 0.8854571428571428, \"Test_Set_Index\": 0, \"Baseline_Median\": 0.8894557142857142}, {\"Dataset_Name\": \"heart\", \"Null_Imputer_Name\": \"datawig\", \"Evaluation_Scenario\": \"mixed_exp\", \"Virny_Random_State\": 100, \"Model_Name\": \"gandalf_clf\", \"Subgroup\": \"overall\", \"Metric\": \"Label_Stability\", \"Metric_Value\": 0.8887371428571428, \"Test_Set_Index\": 0, \"Baseline_Median\": 0.8894557142857142}, {\"Dataset_Name\": \"heart\", \"Null_Imputer_Name\": \"deletion\", \"Evaluation_Scenario\": \"mixed_exp\", \"Virny_Random_State\": 500, \"Model_Name\": \"gandalf_clf\", \"Subgroup\": \"overall\", \"Metric\": \"Label_Stability\", \"Metric_Value\": 0.8856742857142856, \"Test_Set_Index\": 0, \"Baseline_Median\": 0.8894557142857142}, {\"Dataset_Name\": \"heart\", \"Null_Imputer_Name\": \"k_means_clustering\", \"Evaluation_Scenario\": \"mixed_exp\", \"Virny_Random_State\": 200, \"Model_Name\": \"gandalf_clf\", \"Subgroup\": \"overall\", \"Metric\": \"Label_Stability\", \"Metric_Value\": 0.8872085714285716, \"Test_Set_Index\": 0, \"Baseline_Median\": 0.8894557142857142}, {\"Dataset_Name\": \"heart\", \"Null_Imputer_Name\": \"automl\", \"Evaluation_Scenario\": \"mixed_exp\", \"Virny_Random_State\": 200, \"Model_Name\": \"gandalf_clf\", \"Subgroup\": \"overall\", \"Metric\": \"Label_Stability\", \"Metric_Value\": 0.8964971428571428, \"Test_Set_Index\": 0, \"Baseline_Median\": 0.8894557142857142}, {\"Dataset_Name\": \"heart\", \"Null_Imputer_Name\": \"median-dummy\", \"Evaluation_Scenario\": \"mixed_exp\", \"Virny_Random_State\": 100, \"Model_Name\": \"gandalf_clf\", \"Subgroup\": \"overall\", \"Metric\": \"Label_Stability\", \"Metric_Value\": 0.8928457142857142, \"Test_Set_Index\": 0, \"Baseline_Median\": 0.8894557142857142}, {\"Dataset_Name\": \"heart\", \"Null_Imputer_Name\": \"miss_forest\", \"Evaluation_Scenario\": \"mixed_exp\", \"Virny_Random_State\": 500, \"Model_Name\": \"gandalf_clf\", \"Subgroup\": \"overall\", \"Metric\": \"Label_Stability\", \"Metric_Value\": 0.9037057142857142, \"Test_Set_Index\": 0, \"Baseline_Median\": 0.8894557142857142}, {\"Dataset_Name\": \"heart\", \"Null_Imputer_Name\": \"automl\", \"Evaluation_Scenario\": \"mixed_exp\", \"Virny_Random_State\": 300, \"Model_Name\": \"gandalf_clf\", \"Subgroup\": \"overall\", \"Metric\": \"Label_Stability\", \"Metric_Value\": 0.8841657142857142, \"Test_Set_Index\": 0, \"Baseline_Median\": 0.8894557142857142}, {\"Dataset_Name\": \"heart\", \"Null_Imputer_Name\": \"miss_forest\", \"Evaluation_Scenario\": \"mixed_exp\", \"Virny_Random_State\": 100, \"Model_Name\": \"gandalf_clf\", \"Subgroup\": \"overall\", \"Metric\": \"Label_Stability\", \"Metric_Value\": 0.8887942857142856, \"Test_Set_Index\": 0, \"Baseline_Median\": 0.8894557142857142}, {\"Dataset_Name\": \"heart\", \"Null_Imputer_Name\": \"k_means_clustering\", \"Evaluation_Scenario\": \"mixed_exp\", \"Virny_Random_State\": 300, \"Model_Name\": \"gandalf_clf\", \"Subgroup\": \"overall\", \"Metric\": \"Label_Stability\", \"Metric_Value\": 0.8762171428571429, \"Test_Set_Index\": 0, \"Baseline_Median\": 0.8894557142857142}, {\"Dataset_Name\": \"heart\", \"Null_Imputer_Name\": \"automl\", \"Evaluation_Scenario\": \"mixed_exp\", \"Virny_Random_State\": 600, \"Model_Name\": \"gandalf_clf\", \"Subgroup\": \"overall\", \"Metric\": \"Label_Stability\", \"Metric_Value\": 0.8882571428571429, \"Test_Set_Index\": 0, \"Baseline_Median\": 0.8894557142857142}, {\"Dataset_Name\": \"heart\", \"Null_Imputer_Name\": \"miss_forest\", \"Evaluation_Scenario\": \"mixed_exp\", \"Virny_Random_State\": 300, \"Model_Name\": \"gandalf_clf\", \"Subgroup\": \"overall\", \"Metric\": \"Label_Stability\", \"Metric_Value\": 0.8828571428571429, \"Test_Set_Index\": 0, \"Baseline_Median\": 0.8894557142857142}, {\"Dataset_Name\": \"heart\", \"Null_Imputer_Name\": \"median-dummy\", \"Evaluation_Scenario\": \"mixed_exp\", \"Virny_Random_State\": 300, \"Model_Name\": \"gandalf_clf\", \"Subgroup\": \"overall\", \"Metric\": \"Label_Stability\", \"Metric_Value\": 0.8825828571428571, \"Test_Set_Index\": 0, \"Baseline_Median\": 0.8894557142857142}, {\"Dataset_Name\": \"heart\", \"Null_Imputer_Name\": \"median-mode\", \"Evaluation_Scenario\": \"mixed_exp\", \"Virny_Random_State\": 100, \"Model_Name\": \"gandalf_clf\", \"Subgroup\": \"overall\", \"Metric\": \"Label_Stability\", \"Metric_Value\": 0.8882485714285714, \"Test_Set_Index\": 0, \"Baseline_Median\": 0.8894557142857142}, {\"Dataset_Name\": \"heart\", \"Null_Imputer_Name\": \"median-mode\", \"Evaluation_Scenario\": \"mixed_exp\", \"Virny_Random_State\": 400, \"Model_Name\": \"gandalf_clf\", \"Subgroup\": \"overall\", \"Metric\": \"Label_Stability\", \"Metric_Value\": 0.8848142857142858, \"Test_Set_Index\": 0, \"Baseline_Median\": 0.8894557142857142}, {\"Dataset_Name\": \"heart\", \"Null_Imputer_Name\": \"median-dummy\", \"Evaluation_Scenario\": \"mixed_exp\", \"Virny_Random_State\": 500, \"Model_Name\": \"gandalf_clf\", \"Subgroup\": \"overall\", \"Metric\": \"Label_Stability\", \"Metric_Value\": 0.8853257142857144, \"Test_Set_Index\": 0, \"Baseline_Median\": 0.8894557142857142}, {\"Dataset_Name\": \"heart\", \"Null_Imputer_Name\": \"median-dummy\", \"Evaluation_Scenario\": \"mixed_exp\", \"Virny_Random_State\": 200, \"Model_Name\": \"gandalf_clf\", \"Subgroup\": \"overall\", \"Metric\": \"Label_Stability\", \"Metric_Value\": 0.8923914285714287, \"Test_Set_Index\": 0, \"Baseline_Median\": 0.8894557142857142}, {\"Dataset_Name\": \"heart\", \"Null_Imputer_Name\": \"deletion\", \"Evaluation_Scenario\": \"mixed_exp\", \"Virny_Random_State\": 200, \"Model_Name\": \"gandalf_clf\", \"Subgroup\": \"overall\", \"Metric\": \"Label_Stability\", \"Metric_Value\": 0.8858485714285713, \"Test_Set_Index\": 0, \"Baseline_Median\": 0.8894557142857142}, {\"Dataset_Name\": \"heart\", \"Null_Imputer_Name\": \"median-mode\", \"Evaluation_Scenario\": \"mixed_exp\", \"Virny_Random_State\": 600, \"Model_Name\": \"gandalf_clf\", \"Subgroup\": \"overall\", \"Metric\": \"Label_Stability\", \"Metric_Value\": 0.8876028571428571, \"Test_Set_Index\": 0, \"Baseline_Median\": 0.8894557142857142}, {\"Dataset_Name\": \"heart\", \"Null_Imputer_Name\": \"k_means_clustering\", \"Evaluation_Scenario\": \"mixed_exp\", \"Virny_Random_State\": 400, \"Model_Name\": \"gandalf_clf\", \"Subgroup\": \"overall\", \"Metric\": \"Label_Stability\", \"Metric_Value\": 0.8837285714285715, \"Test_Set_Index\": 0, \"Baseline_Median\": 0.8894557142857142}, {\"Dataset_Name\": \"heart\", \"Null_Imputer_Name\": \"median-dummy\", \"Evaluation_Scenario\": \"mixed_exp\", \"Virny_Random_State\": 400, \"Model_Name\": \"gandalf_clf\", \"Subgroup\": \"overall\", \"Metric\": \"Label_Stability\", \"Metric_Value\": 0.8914400000000001, \"Test_Set_Index\": 0, \"Baseline_Median\": 0.8894557142857142}, {\"Dataset_Name\": \"heart\", \"Null_Imputer_Name\": \"median-mode\", \"Evaluation_Scenario\": \"mixed_exp\", \"Virny_Random_State\": 300, \"Model_Name\": \"gandalf_clf\", \"Subgroup\": \"overall\", \"Metric\": \"Label_Stability\", \"Metric_Value\": 0.8814485714285716, \"Test_Set_Index\": 0, \"Baseline_Median\": 0.8894557142857142}, {\"Dataset_Name\": \"heart\", \"Null_Imputer_Name\": \"median-mode\", \"Evaluation_Scenario\": \"mixed_exp\", \"Virny_Random_State\": 500, \"Model_Name\": \"gandalf_clf\", \"Subgroup\": \"overall\", \"Metric\": \"Label_Stability\", \"Metric_Value\": 0.9060628571428571, \"Test_Set_Index\": 0, \"Baseline_Median\": 0.8894557142857142}, {\"Dataset_Name\": \"heart\", \"Null_Imputer_Name\": \"datawig\", \"Evaluation_Scenario\": \"mixed_exp\", \"Virny_Random_State\": 600, \"Model_Name\": \"gandalf_clf\", \"Subgroup\": \"overall\", \"Metric\": \"Label_Stability\", \"Metric_Value\": 0.8869657142857144, \"Test_Set_Index\": 0, \"Baseline_Median\": 0.8894557142857142}, {\"Dataset_Name\": \"heart\", \"Null_Imputer_Name\": \"k_means_clustering\", \"Evaluation_Scenario\": \"mixed_exp\", \"Virny_Random_State\": 500, \"Model_Name\": \"gandalf_clf\", \"Subgroup\": \"overall\", \"Metric\": \"Label_Stability\", \"Metric_Value\": 0.8983142857142858, \"Test_Set_Index\": 0, \"Baseline_Median\": 0.8894557142857142}, {\"Dataset_Name\": \"heart\", \"Null_Imputer_Name\": \"k_means_clustering\", \"Evaluation_Scenario\": \"mixed_exp\", \"Virny_Random_State\": 600, \"Model_Name\": \"gandalf_clf\", \"Subgroup\": \"overall\", \"Metric\": \"Label_Stability\", \"Metric_Value\": 0.8773942857142858, \"Test_Set_Index\": 0, \"Baseline_Median\": 0.8894557142857142}, {\"Dataset_Name\": \"heart\", \"Null_Imputer_Name\": \"automl\", \"Evaluation_Scenario\": \"mixed_exp\", \"Virny_Random_State\": 100, \"Model_Name\": \"gandalf_clf\", \"Subgroup\": \"overall\", \"Metric\": \"Label_Stability\", \"Metric_Value\": 0.8887971428571428, \"Test_Set_Index\": 0, \"Baseline_Median\": 0.8894557142857142}, {\"Dataset_Name\": \"heart\", \"Null_Imputer_Name\": \"automl\", \"Evaluation_Scenario\": \"mixed_exp\", \"Virny_Random_State\": 400, \"Model_Name\": \"gandalf_clf\", \"Subgroup\": \"overall\", \"Metric\": \"Label_Stability\", \"Metric_Value\": 0.8873314285714285, \"Test_Set_Index\": 0, \"Baseline_Median\": 0.8894557142857142}, {\"Dataset_Name\": \"heart\", \"Null_Imputer_Name\": \"k_means_clustering\", \"Evaluation_Scenario\": \"mixed_exp\", \"Virny_Random_State\": 100, \"Model_Name\": \"gandalf_clf\", \"Subgroup\": \"overall\", \"Metric\": \"Label_Stability\", \"Metric_Value\": 0.8825885714285714, \"Test_Set_Index\": 0, \"Baseline_Median\": 0.8894557142857142}, {\"Dataset_Name\": \"heart\", \"Null_Imputer_Name\": \"median-mode\", \"Evaluation_Scenario\": \"mixed_exp\", \"Virny_Random_State\": 200, \"Model_Name\": \"gandalf_clf\", \"Subgroup\": \"overall\", \"Metric\": \"Label_Stability\", \"Metric_Value\": 0.8976171428571428, \"Test_Set_Index\": 0, \"Baseline_Median\": 0.8894557142857142}, {\"Dataset_Name\": \"heart\", \"Null_Imputer_Name\": \"median-dummy\", \"Evaluation_Scenario\": \"mixed_exp\", \"Virny_Random_State\": 600, \"Model_Name\": \"gandalf_clf\", \"Subgroup\": \"overall\", \"Metric\": \"Label_Stability\", \"Metric_Value\": 0.8841028571428572, \"Test_Set_Index\": 0, \"Baseline_Median\": 0.8894557142857142}, {\"Dataset_Name\": \"heart\", \"Null_Imputer_Name\": \"deletion\", \"Evaluation_Scenario\": \"mixed_exp\", \"Virny_Random_State\": 300, \"Model_Name\": \"gandalf_clf\", \"Subgroup\": \"overall\", \"Metric\": \"Label_Stability\", \"Metric_Value\": 0.8701228571428572, \"Test_Set_Index\": 0, \"Baseline_Median\": 0.8894557142857142}, {\"Dataset_Name\": \"heart\", \"Null_Imputer_Name\": \"deletion\", \"Evaluation_Scenario\": \"mixed_exp\", \"Virny_Random_State\": 600, \"Model_Name\": \"gandalf_clf\", \"Subgroup\": \"overall\", \"Metric\": \"Label_Stability\", \"Metric_Value\": 0.8946342857142858, \"Test_Set_Index\": 0, \"Baseline_Median\": 0.8894557142857142}, {\"Dataset_Name\": \"heart\", \"Null_Imputer_Name\": \"miss_forest\", \"Evaluation_Scenario\": \"mixed_exp\", \"Virny_Random_State\": 200, \"Model_Name\": \"gandalf_clf\", \"Subgroup\": \"overall\", \"Metric\": \"Label_Stability\", \"Metric_Value\": 0.8962657142857143, \"Test_Set_Index\": 0, \"Baseline_Median\": 0.8894557142857142}, {\"Dataset_Name\": \"heart\", \"Null_Imputer_Name\": \"miss_forest\", \"Evaluation_Scenario\": \"mixed_exp\", \"Virny_Random_State\": 600, \"Model_Name\": \"gandalf_clf\", \"Subgroup\": \"overall\", \"Metric\": \"Label_Stability\", \"Metric_Value\": 0.8867457142857144, \"Test_Set_Index\": 0, \"Baseline_Median\": 0.8894557142857142}, {\"Dataset_Name\": \"heart\", \"Null_Imputer_Name\": \"miss_forest\", \"Evaluation_Scenario\": \"mixed_exp\", \"Virny_Random_State\": 400, \"Model_Name\": \"gandalf_clf\", \"Subgroup\": \"overall\", \"Metric\": \"Label_Stability\", \"Metric_Value\": 0.8861057142857143, \"Test_Set_Index\": 0, \"Baseline_Median\": 0.8894557142857142}, {\"Dataset_Name\": \"heart\", \"Null_Imputer_Name\": \"boost_clean\", \"Evaluation_Scenario\": \"mixed_exp\", \"Virny_Random_State\": 100, \"Model_Name\": \"boost_clean\", \"Subgroup\": \"overall\", \"Metric\": \"Label_Stability\", \"Metric_Value\": 0.8862085714285715, \"Test_Set_Index\": 0, \"Baseline_Median\": null}, {\"Dataset_Name\": \"heart\", \"Null_Imputer_Name\": \"boost_clean\", \"Evaluation_Scenario\": \"mixed_exp\", \"Virny_Random_State\": 200, \"Model_Name\": \"boost_clean\", \"Subgroup\": \"overall\", \"Metric\": \"Label_Stability\", \"Metric_Value\": 0.9380228571428572, \"Test_Set_Index\": 0, \"Baseline_Median\": null}, {\"Dataset_Name\": \"heart\", \"Null_Imputer_Name\": \"boost_clean\", \"Evaluation_Scenario\": \"mixed_exp\", \"Virny_Random_State\": 500, \"Model_Name\": \"boost_clean\", \"Subgroup\": \"overall\", \"Metric\": \"Label_Stability\", \"Metric_Value\": 0.9442342857142856, \"Test_Set_Index\": 0, \"Baseline_Median\": null}, {\"Dataset_Name\": \"heart\", \"Null_Imputer_Name\": \"boost_clean\", \"Evaluation_Scenario\": \"mixed_exp\", \"Virny_Random_State\": 300, \"Model_Name\": \"boost_clean\", \"Subgroup\": \"overall\", \"Metric\": \"Label_Stability\", \"Metric_Value\": 0.9415771428571429, \"Test_Set_Index\": 0, \"Baseline_Median\": null}, {\"Dataset_Name\": \"heart\", \"Null_Imputer_Name\": \"boost_clean\", \"Evaluation_Scenario\": \"mixed_exp\", \"Virny_Random_State\": 600, \"Model_Name\": \"boost_clean\", \"Subgroup\": \"overall\", \"Metric\": \"Label_Stability\", \"Metric_Value\": 0.9449685714285714, \"Test_Set_Index\": 0, \"Baseline_Median\": null}, {\"Dataset_Name\": \"heart\", \"Null_Imputer_Name\": \"boost_clean\", \"Evaluation_Scenario\": \"mixed_exp\", \"Virny_Random_State\": 400, \"Model_Name\": \"boost_clean\", \"Subgroup\": \"overall\", \"Metric\": \"Label_Stability\", \"Metric_Value\": 0.9472257142857142, \"Test_Set_Index\": 0, \"Baseline_Median\": null}, {\"Dataset_Name\": \"heart\", \"Null_Imputer_Name\": \"automl\", \"Evaluation_Scenario\": \"mixed_exp\", \"Virny_Random_State\": 500, \"Model_Name\": \"gandalf_clf\", \"Subgroup\": \"overall\", \"Metric\": \"Label_Stability\", \"Metric_Value\": 0.9069942857142858, \"Test_Set_Index\": 0, \"Baseline_Median\": 0.8894557142857142}]}}, {\"mode\": \"vega-lite\"});\n",
       "</script>"
      ],
      "text/plain": [
       "alt.FacetChart(...)"
      ]
     },
     "execution_count": 9,
     "metadata": {},
     "output_type": "execute_result"
    }
   ],
   "execution_count": 9
  },
  {
   "cell_type": "code",
   "id": "820130135b3e1884",
   "metadata": {
    "collapsed": false,
    "jupyter": {
     "outputs_hidden": false
    },
    "ExecuteTime": {
     "end_time": "2024-09-22T09:27:59.217517Z",
     "start_time": "2024-09-22T09:27:58.799685Z"
    }
   },
   "source": [
    "create_box_plots_for_diff_imputers_and_models(dataset_name=DATASET_NAME,\n",
    "                                              metric_name='aleatoric_uncertainty',\n",
    "                                              db_client=db_client)"
   ],
   "outputs": [
    {
     "data": {
      "text/html": [
       "\n",
       "<div id=\"altair-viz-e44c9af3e500465fa143a8fe439158c2\"></div>\n",
       "<script type=\"text/javascript\">\n",
       "  var VEGA_DEBUG = (typeof VEGA_DEBUG == \"undefined\") ? {} : VEGA_DEBUG;\n",
       "  (function(spec, embedOpt){\n",
       "    let outputDiv = document.currentScript.previousElementSibling;\n",
       "    if (outputDiv.id !== \"altair-viz-e44c9af3e500465fa143a8fe439158c2\") {\n",
       "      outputDiv = document.getElementById(\"altair-viz-e44c9af3e500465fa143a8fe439158c2\");\n",
       "    }\n",
       "    const paths = {\n",
       "      \"vega\": \"https://cdn.jsdelivr.net/npm//vega@5?noext\",\n",
       "      \"vega-lib\": \"https://cdn.jsdelivr.net/npm//vega-lib?noext\",\n",
       "      \"vega-lite\": \"https://cdn.jsdelivr.net/npm//vega-lite@4.17.0?noext\",\n",
       "      \"vega-embed\": \"https://cdn.jsdelivr.net/npm//vega-embed@6?noext\",\n",
       "    };\n",
       "\n",
       "    function maybeLoadScript(lib, version) {\n",
       "      var key = `${lib.replace(\"-\", \"\")}_version`;\n",
       "      return (VEGA_DEBUG[key] == version) ?\n",
       "        Promise.resolve(paths[lib]) :\n",
       "        new Promise(function(resolve, reject) {\n",
       "          var s = document.createElement('script');\n",
       "          document.getElementsByTagName(\"head\")[0].appendChild(s);\n",
       "          s.async = true;\n",
       "          s.onload = () => {\n",
       "            VEGA_DEBUG[key] = version;\n",
       "            return resolve(paths[lib]);\n",
       "          };\n",
       "          s.onerror = () => reject(`Error loading script: ${paths[lib]}`);\n",
       "          s.src = paths[lib];\n",
       "        });\n",
       "    }\n",
       "\n",
       "    function showError(err) {\n",
       "      outputDiv.innerHTML = `<div class=\"error\" style=\"color:red;\">${err}</div>`;\n",
       "      throw err;\n",
       "    }\n",
       "\n",
       "    function displayChart(vegaEmbed) {\n",
       "      vegaEmbed(outputDiv, spec, embedOpt)\n",
       "        .catch(err => showError(`Javascript Error: ${err.message}<br>This usually means there's a typo in your chart specification. See the javascript console for the full traceback.`));\n",
       "    }\n",
       "\n",
       "    if(typeof define === \"function\" && define.amd) {\n",
       "      requirejs.config({paths});\n",
       "      require([\"vega-embed\"], displayChart, err => showError(`Error loading script: ${err.message}`));\n",
       "    } else {\n",
       "      maybeLoadScript(\"vega\", \"5\")\n",
       "        .then(() => maybeLoadScript(\"vega-lite\", \"4.17.0\"))\n",
       "        .then(() => maybeLoadScript(\"vega-embed\", \"6\"))\n",
       "        .catch(showError)\n",
       "        .then(() => displayChart(vegaEmbed));\n",
       "    }\n",
       "  })({\"config\": {\"view\": {\"continuousWidth\": 400, \"continuousHeight\": 300, \"stroke\": null}, \"axis\": {\"labelFontSize\": 22, \"labelFontWeight\": \"normal\", \"titleFontSize\": 24, \"titleFontWeight\": \"normal\"}, \"facet\": {\"spacing\": 5}, \"header\": {\"labelFontSize\": 20, \"labelOrient\": \"bottom\", \"labelPadding\": 5, \"titleFontSize\": 24}, \"legend\": {\"columns\": 4, \"direction\": \"horizontal\", \"labelFontSize\": 20, \"labelLimit\": 400, \"orient\": \"top\", \"symbolOffset\": 50, \"symbolStrokeWidth\": 10, \"titleAnchor\": \"middle\", \"titleFontSize\": 22, \"titleLimit\": 300}, \"title\": {\"fontSize\": 24}}, \"data\": {\"name\": \"data-e0962c56686a91e4398e69b76ade5a7c\"}, \"facet\": {\"column\": {\"field\": \"Model_Name\", \"sort\": [\"dt_clf\", \"lr_clf\", \"lgbm_clf\", \"rf_clf\", \"mlp_clf\"], \"title\": null, \"type\": \"nominal\"}}, \"spec\": {\"layer\": [{\"mark\": {\"type\": \"boxplot\", \"median\": {\"stroke\": \"black\", \"strokeWidth\": 0.7}, \"ticks\": true}, \"encoding\": {\"color\": {\"field\": \"Null_Imputer_Name\", \"sort\": [\"deletion\", \"median-mode\", \"median-dummy\", \"miss_forest\", \"k_means_clustering\", \"datawig\", \"automl\", \"boost_clean\"], \"title\": null, \"type\": \"nominal\"}, \"x\": {\"axis\": {\"labels\": false}, \"field\": \"Null_Imputer_Name\", \"sort\": [\"deletion\", \"median-mode\", \"median-dummy\", \"miss_forest\", \"k_means_clustering\", \"datawig\", \"automl\", \"boost_clean\"], \"title\": null, \"type\": \"nominal\"}, \"y\": {\"field\": \"Metric_Value\", \"scale\": {\"zero\": false}, \"title\": \"Aleatoric Uncertainty\", \"type\": \"quantitative\"}}}, {\"mark\": \"rule\", \"encoding\": {\"color\": {\"value\": \"blue\"}, \"size\": {\"value\": 2}, \"y\": {\"field\": \"Baseline_Median\", \"type\": \"quantitative\"}}}], \"width\": 150}, \"resolve\": {\"scale\": {\"x\": \"independent\"}}, \"$schema\": \"https://vega.github.io/schema/vega-lite/v4.17.0.json\", \"datasets\": {\"data-e0962c56686a91e4398e69b76ade5a7c\": [{\"Dataset_Name\": \"heart\", \"Null_Imputer_Name\": \"deletion\", \"Evaluation_Scenario\": \"mixed_exp\", \"Virny_Random_State\": 400, \"Model_Name\": \"gandalf_clf\", \"Subgroup\": \"overall\", \"Metric\": \"Aleatoric_Uncertainty\", \"Metric_Value\": 0.8420764167917306, \"Test_Set_Index\": 0, \"Baseline_Median\": 0.8598621762013134}, {\"Dataset_Name\": \"heart\", \"Null_Imputer_Name\": \"datawig\", \"Evaluation_Scenario\": \"mixed_exp\", \"Virny_Random_State\": 500, \"Model_Name\": \"gandalf_clf\", \"Subgroup\": \"overall\", \"Metric\": \"Aleatoric_Uncertainty\", \"Metric_Value\": 0.8640198893454505, \"Test_Set_Index\": 0, \"Baseline_Median\": 0.8598621762013134}, {\"Dataset_Name\": \"heart\", \"Null_Imputer_Name\": \"deletion\", \"Evaluation_Scenario\": \"mixed_exp\", \"Virny_Random_State\": 100, \"Model_Name\": \"gandalf_clf\", \"Subgroup\": \"overall\", \"Metric\": \"Aleatoric_Uncertainty\", \"Metric_Value\": 0.8634959598099898, \"Test_Set_Index\": 0, \"Baseline_Median\": 0.8598621762013134}, {\"Dataset_Name\": \"heart\", \"Null_Imputer_Name\": \"datawig\", \"Evaluation_Scenario\": \"mixed_exp\", \"Virny_Random_State\": 300, \"Model_Name\": \"gandalf_clf\", \"Subgroup\": \"overall\", \"Metric\": \"Aleatoric_Uncertainty\", \"Metric_Value\": 0.8756172429813266, \"Test_Set_Index\": 0, \"Baseline_Median\": 0.8598621762013134}, {\"Dataset_Name\": \"heart\", \"Null_Imputer_Name\": \"datawig\", \"Evaluation_Scenario\": \"mixed_exp\", \"Virny_Random_State\": 200, \"Model_Name\": \"gandalf_clf\", \"Subgroup\": \"overall\", \"Metric\": \"Aleatoric_Uncertainty\", \"Metric_Value\": 0.8612432904693056, \"Test_Set_Index\": 0, \"Baseline_Median\": 0.8598621762013134}, {\"Dataset_Name\": \"heart\", \"Null_Imputer_Name\": \"datawig\", \"Evaluation_Scenario\": \"mixed_exp\", \"Virny_Random_State\": 400, \"Model_Name\": \"gandalf_clf\", \"Subgroup\": \"overall\", \"Metric\": \"Aleatoric_Uncertainty\", \"Metric_Value\": 0.8641226741806838, \"Test_Set_Index\": 0, \"Baseline_Median\": 0.8598621762013134}, {\"Dataset_Name\": \"heart\", \"Null_Imputer_Name\": \"datawig\", \"Evaluation_Scenario\": \"mixed_exp\", \"Virny_Random_State\": 100, \"Model_Name\": \"gandalf_clf\", \"Subgroup\": \"overall\", \"Metric\": \"Aleatoric_Uncertainty\", \"Metric_Value\": 0.8684704637117889, \"Test_Set_Index\": 0, \"Baseline_Median\": 0.8598621762013134}, {\"Dataset_Name\": \"heart\", \"Null_Imputer_Name\": \"deletion\", \"Evaluation_Scenario\": \"mixed_exp\", \"Virny_Random_State\": 500, \"Model_Name\": \"gandalf_clf\", \"Subgroup\": \"overall\", \"Metric\": \"Aleatoric_Uncertainty\", \"Metric_Value\": 0.8456352591623074, \"Test_Set_Index\": 0, \"Baseline_Median\": 0.8598621762013134}, {\"Dataset_Name\": \"heart\", \"Null_Imputer_Name\": \"k_means_clustering\", \"Evaluation_Scenario\": \"mixed_exp\", \"Virny_Random_State\": 200, \"Model_Name\": \"gandalf_clf\", \"Subgroup\": \"overall\", \"Metric\": \"Aleatoric_Uncertainty\", \"Metric_Value\": 0.8701106420808602, \"Test_Set_Index\": 0, \"Baseline_Median\": 0.8598621762013134}, {\"Dataset_Name\": \"heart\", \"Null_Imputer_Name\": \"automl\", \"Evaluation_Scenario\": \"mixed_exp\", \"Virny_Random_State\": 200, \"Model_Name\": \"gandalf_clf\", \"Subgroup\": \"overall\", \"Metric\": \"Aleatoric_Uncertainty\", \"Metric_Value\": 0.8614352109029366, \"Test_Set_Index\": 0, \"Baseline_Median\": 0.8598621762013134}, {\"Dataset_Name\": \"heart\", \"Null_Imputer_Name\": \"median-dummy\", \"Evaluation_Scenario\": \"mixed_exp\", \"Virny_Random_State\": 100, \"Model_Name\": \"gandalf_clf\", \"Subgroup\": \"overall\", \"Metric\": \"Aleatoric_Uncertainty\", \"Metric_Value\": 0.8643552476755597, \"Test_Set_Index\": 0, \"Baseline_Median\": 0.8598621762013134}, {\"Dataset_Name\": \"heart\", \"Null_Imputer_Name\": \"miss_forest\", \"Evaluation_Scenario\": \"mixed_exp\", \"Virny_Random_State\": 500, \"Model_Name\": \"gandalf_clf\", \"Subgroup\": \"overall\", \"Metric\": \"Aleatoric_Uncertainty\", \"Metric_Value\": 0.8640144789725962, \"Test_Set_Index\": 0, \"Baseline_Median\": 0.8598621762013134}, {\"Dataset_Name\": \"heart\", \"Null_Imputer_Name\": \"automl\", \"Evaluation_Scenario\": \"mixed_exp\", \"Virny_Random_State\": 300, \"Model_Name\": \"gandalf_clf\", \"Subgroup\": \"overall\", \"Metric\": \"Aleatoric_Uncertainty\", \"Metric_Value\": 0.8760183015515548, \"Test_Set_Index\": 0, \"Baseline_Median\": 0.8598621762013134}, {\"Dataset_Name\": \"heart\", \"Null_Imputer_Name\": \"miss_forest\", \"Evaluation_Scenario\": \"mixed_exp\", \"Virny_Random_State\": 100, \"Model_Name\": \"gandalf_clf\", \"Subgroup\": \"overall\", \"Metric\": \"Aleatoric_Uncertainty\", \"Metric_Value\": 0.8688098401143715, \"Test_Set_Index\": 0, \"Baseline_Median\": 0.8598621762013134}, {\"Dataset_Name\": \"heart\", \"Null_Imputer_Name\": \"k_means_clustering\", \"Evaluation_Scenario\": \"mixed_exp\", \"Virny_Random_State\": 300, \"Model_Name\": \"gandalf_clf\", \"Subgroup\": \"overall\", \"Metric\": \"Aleatoric_Uncertainty\", \"Metric_Value\": 0.8828513544239063, \"Test_Set_Index\": 0, \"Baseline_Median\": 0.8598621762013134}, {\"Dataset_Name\": \"heart\", \"Null_Imputer_Name\": \"automl\", \"Evaluation_Scenario\": \"mixed_exp\", \"Virny_Random_State\": 600, \"Model_Name\": \"gandalf_clf\", \"Subgroup\": \"overall\", \"Metric\": \"Aleatoric_Uncertainty\", \"Metric_Value\": 0.8615080386806064, \"Test_Set_Index\": 0, \"Baseline_Median\": 0.8598621762013134}, {\"Dataset_Name\": \"heart\", \"Null_Imputer_Name\": \"miss_forest\", \"Evaluation_Scenario\": \"mixed_exp\", \"Virny_Random_State\": 300, \"Model_Name\": \"gandalf_clf\", \"Subgroup\": \"overall\", \"Metric\": \"Aleatoric_Uncertainty\", \"Metric_Value\": 0.8761298297346857, \"Test_Set_Index\": 0, \"Baseline_Median\": 0.8598621762013134}, {\"Dataset_Name\": \"heart\", \"Null_Imputer_Name\": \"median-dummy\", \"Evaluation_Scenario\": \"mixed_exp\", \"Virny_Random_State\": 300, \"Model_Name\": \"gandalf_clf\", \"Subgroup\": \"overall\", \"Metric\": \"Aleatoric_Uncertainty\", \"Metric_Value\": 0.8789272697782039, \"Test_Set_Index\": 0, \"Baseline_Median\": 0.8598621762013134}, {\"Dataset_Name\": \"heart\", \"Null_Imputer_Name\": \"median-mode\", \"Evaluation_Scenario\": \"mixed_exp\", \"Virny_Random_State\": 100, \"Model_Name\": \"gandalf_clf\", \"Subgroup\": \"overall\", \"Metric\": \"Aleatoric_Uncertainty\", \"Metric_Value\": 0.8696851146184086, \"Test_Set_Index\": 0, \"Baseline_Median\": 0.8598621762013134}, {\"Dataset_Name\": \"heart\", \"Null_Imputer_Name\": \"median-mode\", \"Evaluation_Scenario\": \"mixed_exp\", \"Virny_Random_State\": 400, \"Model_Name\": \"gandalf_clf\", \"Subgroup\": \"overall\", \"Metric\": \"Aleatoric_Uncertainty\", \"Metric_Value\": 0.8650357232049436, \"Test_Set_Index\": 0, \"Baseline_Median\": 0.8598621762013134}, {\"Dataset_Name\": \"heart\", \"Null_Imputer_Name\": \"median-dummy\", \"Evaluation_Scenario\": \"mixed_exp\", \"Virny_Random_State\": 500, \"Model_Name\": \"gandalf_clf\", \"Subgroup\": \"overall\", \"Metric\": \"Aleatoric_Uncertainty\", \"Metric_Value\": 0.8556045598176734, \"Test_Set_Index\": 0, \"Baseline_Median\": 0.8598621762013134}, {\"Dataset_Name\": \"heart\", \"Null_Imputer_Name\": \"median-dummy\", \"Evaluation_Scenario\": \"mixed_exp\", \"Virny_Random_State\": 200, \"Model_Name\": \"gandalf_clf\", \"Subgroup\": \"overall\", \"Metric\": \"Aleatoric_Uncertainty\", \"Metric_Value\": 0.863085684930609, \"Test_Set_Index\": 0, \"Baseline_Median\": 0.8598621762013134}, {\"Dataset_Name\": \"heart\", \"Null_Imputer_Name\": \"deletion\", \"Evaluation_Scenario\": \"mixed_exp\", \"Virny_Random_State\": 200, \"Model_Name\": \"gandalf_clf\", \"Subgroup\": \"overall\", \"Metric\": \"Aleatoric_Uncertainty\", \"Metric_Value\": 0.8692334173361501, \"Test_Set_Index\": 0, \"Baseline_Median\": 0.8598621762013134}, {\"Dataset_Name\": \"heart\", \"Null_Imputer_Name\": \"median-mode\", \"Evaluation_Scenario\": \"mixed_exp\", \"Virny_Random_State\": 600, \"Model_Name\": \"gandalf_clf\", \"Subgroup\": \"overall\", \"Metric\": \"Aleatoric_Uncertainty\", \"Metric_Value\": 0.8622934517407245, \"Test_Set_Index\": 0, \"Baseline_Median\": 0.8598621762013134}, {\"Dataset_Name\": \"heart\", \"Null_Imputer_Name\": \"k_means_clustering\", \"Evaluation_Scenario\": \"mixed_exp\", \"Virny_Random_State\": 400, \"Model_Name\": \"gandalf_clf\", \"Subgroup\": \"overall\", \"Metric\": \"Aleatoric_Uncertainty\", \"Metric_Value\": 0.8731842825760315, \"Test_Set_Index\": 0, \"Baseline_Median\": 0.8598621762013134}, {\"Dataset_Name\": \"heart\", \"Null_Imputer_Name\": \"median-dummy\", \"Evaluation_Scenario\": \"mixed_exp\", \"Virny_Random_State\": 400, \"Model_Name\": \"gandalf_clf\", \"Subgroup\": \"overall\", \"Metric\": \"Aleatoric_Uncertainty\", \"Metric_Value\": 0.8660772185823336, \"Test_Set_Index\": 0, \"Baseline_Median\": 0.8598621762013134}, {\"Dataset_Name\": \"heart\", \"Null_Imputer_Name\": \"median-mode\", \"Evaluation_Scenario\": \"mixed_exp\", \"Virny_Random_State\": 300, \"Model_Name\": \"gandalf_clf\", \"Subgroup\": \"overall\", \"Metric\": \"Aleatoric_Uncertainty\", \"Metric_Value\": 0.8769622184948532, \"Test_Set_Index\": 0, \"Baseline_Median\": 0.8598621762013134}, {\"Dataset_Name\": \"heart\", \"Null_Imputer_Name\": \"median-mode\", \"Evaluation_Scenario\": \"mixed_exp\", \"Virny_Random_State\": 500, \"Model_Name\": \"gandalf_clf\", \"Subgroup\": \"overall\", \"Metric\": \"Aleatoric_Uncertainty\", \"Metric_Value\": 0.8639859526941555, \"Test_Set_Index\": 0, \"Baseline_Median\": 0.8598621762013134}, {\"Dataset_Name\": \"heart\", \"Null_Imputer_Name\": \"datawig\", \"Evaluation_Scenario\": \"mixed_exp\", \"Virny_Random_State\": 600, \"Model_Name\": \"gandalf_clf\", \"Subgroup\": \"overall\", \"Metric\": \"Aleatoric_Uncertainty\", \"Metric_Value\": 0.8620533634155735, \"Test_Set_Index\": 0, \"Baseline_Median\": 0.8598621762013134}, {\"Dataset_Name\": \"heart\", \"Null_Imputer_Name\": \"k_means_clustering\", \"Evaluation_Scenario\": \"mixed_exp\", \"Virny_Random_State\": 500, \"Model_Name\": \"gandalf_clf\", \"Subgroup\": \"overall\", \"Metric\": \"Aleatoric_Uncertainty\", \"Metric_Value\": 0.8704556453585033, \"Test_Set_Index\": 0, \"Baseline_Median\": 0.8598621762013134}, {\"Dataset_Name\": \"heart\", \"Null_Imputer_Name\": \"k_means_clustering\", \"Evaluation_Scenario\": \"mixed_exp\", \"Virny_Random_State\": 600, \"Model_Name\": \"gandalf_clf\", \"Subgroup\": \"overall\", \"Metric\": \"Aleatoric_Uncertainty\", \"Metric_Value\": 0.8690521084441208, \"Test_Set_Index\": 0, \"Baseline_Median\": 0.8598621762013134}, {\"Dataset_Name\": \"heart\", \"Null_Imputer_Name\": \"automl\", \"Evaluation_Scenario\": \"mixed_exp\", \"Virny_Random_State\": 100, \"Model_Name\": \"gandalf_clf\", \"Subgroup\": \"overall\", \"Metric\": \"Aleatoric_Uncertainty\", \"Metric_Value\": 0.86930319232465, \"Test_Set_Index\": 0, \"Baseline_Median\": 0.8598621762013134}, {\"Dataset_Name\": \"heart\", \"Null_Imputer_Name\": \"automl\", \"Evaluation_Scenario\": \"mixed_exp\", \"Virny_Random_State\": 400, \"Model_Name\": \"gandalf_clf\", \"Subgroup\": \"overall\", \"Metric\": \"Aleatoric_Uncertainty\", \"Metric_Value\": 0.8642063854148052, \"Test_Set_Index\": 0, \"Baseline_Median\": 0.8598621762013134}, {\"Dataset_Name\": \"heart\", \"Null_Imputer_Name\": \"k_means_clustering\", \"Evaluation_Scenario\": \"mixed_exp\", \"Virny_Random_State\": 100, \"Model_Name\": \"gandalf_clf\", \"Subgroup\": \"overall\", \"Metric\": \"Aleatoric_Uncertainty\", \"Metric_Value\": 0.874639748157981, \"Test_Set_Index\": 0, \"Baseline_Median\": 0.8598621762013134}, {\"Dataset_Name\": \"heart\", \"Null_Imputer_Name\": \"median-mode\", \"Evaluation_Scenario\": \"mixed_exp\", \"Virny_Random_State\": 200, \"Model_Name\": \"gandalf_clf\", \"Subgroup\": \"overall\", \"Metric\": \"Aleatoric_Uncertainty\", \"Metric_Value\": 0.8624116044237387, \"Test_Set_Index\": 0, \"Baseline_Median\": 0.8598621762013134}, {\"Dataset_Name\": \"heart\", \"Null_Imputer_Name\": \"median-dummy\", \"Evaluation_Scenario\": \"mixed_exp\", \"Virny_Random_State\": 600, \"Model_Name\": \"gandalf_clf\", \"Subgroup\": \"overall\", \"Metric\": \"Aleatoric_Uncertainty\", \"Metric_Value\": 0.8571094554371864, \"Test_Set_Index\": 0, \"Baseline_Median\": 0.8598621762013134}, {\"Dataset_Name\": \"heart\", \"Null_Imputer_Name\": \"deletion\", \"Evaluation_Scenario\": \"mixed_exp\", \"Virny_Random_State\": 300, \"Model_Name\": \"gandalf_clf\", \"Subgroup\": \"overall\", \"Metric\": \"Aleatoric_Uncertainty\", \"Metric_Value\": 0.8847486788402307, \"Test_Set_Index\": 0, \"Baseline_Median\": 0.8598621762013134}, {\"Dataset_Name\": \"heart\", \"Null_Imputer_Name\": \"deletion\", \"Evaluation_Scenario\": \"mixed_exp\", \"Virny_Random_State\": 600, \"Model_Name\": \"gandalf_clf\", \"Subgroup\": \"overall\", \"Metric\": \"Aleatoric_Uncertainty\", \"Metric_Value\": 0.8463165627012316, \"Test_Set_Index\": 0, \"Baseline_Median\": 0.8598621762013134}, {\"Dataset_Name\": \"heart\", \"Null_Imputer_Name\": \"miss_forest\", \"Evaluation_Scenario\": \"mixed_exp\", \"Virny_Random_State\": 200, \"Model_Name\": \"gandalf_clf\", \"Subgroup\": \"overall\", \"Metric\": \"Aleatoric_Uncertainty\", \"Metric_Value\": 0.8609766491212647, \"Test_Set_Index\": 0, \"Baseline_Median\": 0.8598621762013134}, {\"Dataset_Name\": \"heart\", \"Null_Imputer_Name\": \"miss_forest\", \"Evaluation_Scenario\": \"mixed_exp\", \"Virny_Random_State\": 600, \"Model_Name\": \"gandalf_clf\", \"Subgroup\": \"overall\", \"Metric\": \"Aleatoric_Uncertainty\", \"Metric_Value\": 0.8618937901181466, \"Test_Set_Index\": 0, \"Baseline_Median\": 0.8598621762013134}, {\"Dataset_Name\": \"heart\", \"Null_Imputer_Name\": \"miss_forest\", \"Evaluation_Scenario\": \"mixed_exp\", \"Virny_Random_State\": 400, \"Model_Name\": \"gandalf_clf\", \"Subgroup\": \"overall\", \"Metric\": \"Aleatoric_Uncertainty\", \"Metric_Value\": 0.8634787335623495, \"Test_Set_Index\": 0, \"Baseline_Median\": 0.8598621762013134}, {\"Dataset_Name\": \"heart\", \"Null_Imputer_Name\": \"automl\", \"Evaluation_Scenario\": \"mixed_exp\", \"Virny_Random_State\": 500, \"Model_Name\": \"gandalf_clf\", \"Subgroup\": \"overall\", \"Metric\": \"Aleatoric_Uncertainty\", \"Metric_Value\": 0.8638047880797215, \"Test_Set_Index\": 0, \"Baseline_Median\": 0.8598621762013134}]}}, {\"mode\": \"vega-lite\"});\n",
       "</script>"
      ],
      "text/plain": [
       "alt.FacetChart(...)"
      ]
     },
     "execution_count": 10,
     "metadata": {},
     "output_type": "execute_result"
    }
   ],
   "execution_count": 10
  },
  {
   "cell_type": "code",
   "id": "5dc6c15989048c38",
   "metadata": {
    "collapsed": false,
    "jupyter": {
     "outputs_hidden": false
    },
    "ExecuteTime": {
     "end_time": "2024-09-22T09:27:59.640800Z",
     "start_time": "2024-09-22T09:27:59.231842Z"
    }
   },
   "source": [
    "create_box_plots_for_diff_imputers_and_models(dataset_name=DATASET_NAME,\n",
    "                                              metric_name='std',\n",
    "                                              db_client=db_client)"
   ],
   "outputs": [
    {
     "data": {
      "text/html": [
       "\n",
       "<div id=\"altair-viz-f7acd1c058bf4520a2173d311ecf959c\"></div>\n",
       "<script type=\"text/javascript\">\n",
       "  var VEGA_DEBUG = (typeof VEGA_DEBUG == \"undefined\") ? {} : VEGA_DEBUG;\n",
       "  (function(spec, embedOpt){\n",
       "    let outputDiv = document.currentScript.previousElementSibling;\n",
       "    if (outputDiv.id !== \"altair-viz-f7acd1c058bf4520a2173d311ecf959c\") {\n",
       "      outputDiv = document.getElementById(\"altair-viz-f7acd1c058bf4520a2173d311ecf959c\");\n",
       "    }\n",
       "    const paths = {\n",
       "      \"vega\": \"https://cdn.jsdelivr.net/npm//vega@5?noext\",\n",
       "      \"vega-lib\": \"https://cdn.jsdelivr.net/npm//vega-lib?noext\",\n",
       "      \"vega-lite\": \"https://cdn.jsdelivr.net/npm//vega-lite@4.17.0?noext\",\n",
       "      \"vega-embed\": \"https://cdn.jsdelivr.net/npm//vega-embed@6?noext\",\n",
       "    };\n",
       "\n",
       "    function maybeLoadScript(lib, version) {\n",
       "      var key = `${lib.replace(\"-\", \"\")}_version`;\n",
       "      return (VEGA_DEBUG[key] == version) ?\n",
       "        Promise.resolve(paths[lib]) :\n",
       "        new Promise(function(resolve, reject) {\n",
       "          var s = document.createElement('script');\n",
       "          document.getElementsByTagName(\"head\")[0].appendChild(s);\n",
       "          s.async = true;\n",
       "          s.onload = () => {\n",
       "            VEGA_DEBUG[key] = version;\n",
       "            return resolve(paths[lib]);\n",
       "          };\n",
       "          s.onerror = () => reject(`Error loading script: ${paths[lib]}`);\n",
       "          s.src = paths[lib];\n",
       "        });\n",
       "    }\n",
       "\n",
       "    function showError(err) {\n",
       "      outputDiv.innerHTML = `<div class=\"error\" style=\"color:red;\">${err}</div>`;\n",
       "      throw err;\n",
       "    }\n",
       "\n",
       "    function displayChart(vegaEmbed) {\n",
       "      vegaEmbed(outputDiv, spec, embedOpt)\n",
       "        .catch(err => showError(`Javascript Error: ${err.message}<br>This usually means there's a typo in your chart specification. See the javascript console for the full traceback.`));\n",
       "    }\n",
       "\n",
       "    if(typeof define === \"function\" && define.amd) {\n",
       "      requirejs.config({paths});\n",
       "      require([\"vega-embed\"], displayChart, err => showError(`Error loading script: ${err.message}`));\n",
       "    } else {\n",
       "      maybeLoadScript(\"vega\", \"5\")\n",
       "        .then(() => maybeLoadScript(\"vega-lite\", \"4.17.0\"))\n",
       "        .then(() => maybeLoadScript(\"vega-embed\", \"6\"))\n",
       "        .catch(showError)\n",
       "        .then(() => displayChart(vegaEmbed));\n",
       "    }\n",
       "  })({\"config\": {\"view\": {\"continuousWidth\": 400, \"continuousHeight\": 300, \"stroke\": null}, \"axis\": {\"labelFontSize\": 22, \"labelFontWeight\": \"normal\", \"titleFontSize\": 24, \"titleFontWeight\": \"normal\"}, \"facet\": {\"spacing\": 5}, \"header\": {\"labelFontSize\": 20, \"labelOrient\": \"bottom\", \"labelPadding\": 5, \"titleFontSize\": 24}, \"legend\": {\"columns\": 4, \"direction\": \"horizontal\", \"labelFontSize\": 20, \"labelLimit\": 400, \"orient\": \"top\", \"symbolOffset\": 50, \"symbolStrokeWidth\": 10, \"titleAnchor\": \"middle\", \"titleFontSize\": 22, \"titleLimit\": 300}, \"title\": {\"fontSize\": 24}}, \"data\": {\"name\": \"data-6eddea76fe26ba610f4e26cb558012a7\"}, \"facet\": {\"column\": {\"field\": \"Model_Name\", \"sort\": [\"dt_clf\", \"lr_clf\", \"lgbm_clf\", \"rf_clf\", \"mlp_clf\"], \"title\": null, \"type\": \"nominal\"}}, \"spec\": {\"layer\": [{\"mark\": {\"type\": \"boxplot\", \"median\": {\"stroke\": \"black\", \"strokeWidth\": 0.7}, \"ticks\": true}, \"encoding\": {\"color\": {\"field\": \"Null_Imputer_Name\", \"sort\": [\"deletion\", \"median-mode\", \"median-dummy\", \"miss_forest\", \"k_means_clustering\", \"datawig\", \"automl\", \"boost_clean\"], \"title\": null, \"type\": \"nominal\"}, \"x\": {\"axis\": {\"labels\": false}, \"field\": \"Null_Imputer_Name\", \"sort\": [\"deletion\", \"median-mode\", \"median-dummy\", \"miss_forest\", \"k_means_clustering\", \"datawig\", \"automl\", \"boost_clean\"], \"title\": null, \"type\": \"nominal\"}, \"y\": {\"field\": \"Metric_Value\", \"scale\": {\"zero\": false}, \"title\": \"Std\", \"type\": \"quantitative\"}}}, {\"mark\": \"rule\", \"encoding\": {\"color\": {\"value\": \"blue\"}, \"size\": {\"value\": 2}, \"y\": {\"field\": \"Baseline_Median\", \"type\": \"quantitative\"}}}], \"width\": 150}, \"resolve\": {\"scale\": {\"x\": \"independent\"}}, \"$schema\": \"https://vega.github.io/schema/vega-lite/v4.17.0.json\", \"datasets\": {\"data-6eddea76fe26ba610f4e26cb558012a7\": [{\"Dataset_Name\": \"heart\", \"Null_Imputer_Name\": \"deletion\", \"Evaluation_Scenario\": \"mixed_exp\", \"Virny_Random_State\": 400, \"Model_Name\": \"gandalf_clf\", \"Subgroup\": \"overall\", \"Metric\": \"Std\", \"Metric_Value\": 0.04730992612248325, \"Test_Set_Index\": 0, \"Baseline_Median\": 0.04380175110799439}, {\"Dataset_Name\": \"heart\", \"Null_Imputer_Name\": \"datawig\", \"Evaluation_Scenario\": \"mixed_exp\", \"Virny_Random_State\": 500, \"Model_Name\": \"gandalf_clf\", \"Subgroup\": \"overall\", \"Metric\": \"Std\", \"Metric_Value\": 0.040699822670222284, \"Test_Set_Index\": 0, \"Baseline_Median\": 0.04380175110799439}, {\"Dataset_Name\": \"heart\", \"Null_Imputer_Name\": \"deletion\", \"Evaluation_Scenario\": \"mixed_exp\", \"Virny_Random_State\": 100, \"Model_Name\": \"gandalf_clf\", \"Subgroup\": \"overall\", \"Metric\": \"Std\", \"Metric_Value\": 0.05361996811396563, \"Test_Set_Index\": 0, \"Baseline_Median\": 0.04380175110799439}, {\"Dataset_Name\": \"heart\", \"Null_Imputer_Name\": \"datawig\", \"Evaluation_Scenario\": \"mixed_exp\", \"Virny_Random_State\": 300, \"Model_Name\": \"gandalf_clf\", \"Subgroup\": \"overall\", \"Metric\": \"Std\", \"Metric_Value\": 0.04430789402536462, \"Test_Set_Index\": 0, \"Baseline_Median\": 0.04380175110799439}, {\"Dataset_Name\": \"heart\", \"Null_Imputer_Name\": \"datawig\", \"Evaluation_Scenario\": \"mixed_exp\", \"Virny_Random_State\": 200, \"Model_Name\": \"gandalf_clf\", \"Subgroup\": \"overall\", \"Metric\": \"Std\", \"Metric_Value\": 0.042192969343521486, \"Test_Set_Index\": 0, \"Baseline_Median\": 0.04380175110799439}, {\"Dataset_Name\": \"heart\", \"Null_Imputer_Name\": \"datawig\", \"Evaluation_Scenario\": \"mixed_exp\", \"Virny_Random_State\": 400, \"Model_Name\": \"gandalf_clf\", \"Subgroup\": \"overall\", \"Metric\": \"Std\", \"Metric_Value\": 0.046290790871700925, \"Test_Set_Index\": 0, \"Baseline_Median\": 0.04380175110799439}, {\"Dataset_Name\": \"heart\", \"Null_Imputer_Name\": \"datawig\", \"Evaluation_Scenario\": \"mixed_exp\", \"Virny_Random_State\": 100, \"Model_Name\": \"gandalf_clf\", \"Subgroup\": \"overall\", \"Metric\": \"Std\", \"Metric_Value\": 0.04380333085287904, \"Test_Set_Index\": 0, \"Baseline_Median\": 0.04380175110799439}, {\"Dataset_Name\": \"heart\", \"Null_Imputer_Name\": \"deletion\", \"Evaluation_Scenario\": \"mixed_exp\", \"Virny_Random_State\": 500, \"Model_Name\": \"gandalf_clf\", \"Subgroup\": \"overall\", \"Metric\": \"Std\", \"Metric_Value\": 0.05222299918804952, \"Test_Set_Index\": 0, \"Baseline_Median\": 0.04380175110799439}, {\"Dataset_Name\": \"heart\", \"Null_Imputer_Name\": \"k_means_clustering\", \"Evaluation_Scenario\": \"mixed_exp\", \"Virny_Random_State\": 200, \"Model_Name\": \"gandalf_clf\", \"Subgroup\": \"overall\", \"Metric\": \"Std\", \"Metric_Value\": 0.04324786223045227, \"Test_Set_Index\": 0, \"Baseline_Median\": 0.04380175110799439}, {\"Dataset_Name\": \"heart\", \"Null_Imputer_Name\": \"automl\", \"Evaluation_Scenario\": \"mixed_exp\", \"Virny_Random_State\": 200, \"Model_Name\": \"gandalf_clf\", \"Subgroup\": \"overall\", \"Metric\": \"Std\", \"Metric_Value\": 0.04239299979931978, \"Test_Set_Index\": 0, \"Baseline_Median\": 0.04380175110799439}, {\"Dataset_Name\": \"heart\", \"Null_Imputer_Name\": \"median-dummy\", \"Evaluation_Scenario\": \"mixed_exp\", \"Virny_Random_State\": 100, \"Model_Name\": \"gandalf_clf\", \"Subgroup\": \"overall\", \"Metric\": \"Std\", \"Metric_Value\": 0.04301692520011039, \"Test_Set_Index\": 0, \"Baseline_Median\": 0.04380175110799439}, {\"Dataset_Name\": \"heart\", \"Null_Imputer_Name\": \"miss_forest\", \"Evaluation_Scenario\": \"mixed_exp\", \"Virny_Random_State\": 500, \"Model_Name\": \"gandalf_clf\", \"Subgroup\": \"overall\", \"Metric\": \"Std\", \"Metric_Value\": 0.04071009156083073, \"Test_Set_Index\": 0, \"Baseline_Median\": 0.04380175110799439}, {\"Dataset_Name\": \"heart\", \"Null_Imputer_Name\": \"automl\", \"Evaluation_Scenario\": \"mixed_exp\", \"Virny_Random_State\": 300, \"Model_Name\": \"gandalf_clf\", \"Subgroup\": \"overall\", \"Metric\": \"Std\", \"Metric_Value\": 0.044433638307623424, \"Test_Set_Index\": 0, \"Baseline_Median\": 0.04380175110799439}, {\"Dataset_Name\": \"heart\", \"Null_Imputer_Name\": \"miss_forest\", \"Evaluation_Scenario\": \"mixed_exp\", \"Virny_Random_State\": 100, \"Model_Name\": \"gandalf_clf\", \"Subgroup\": \"overall\", \"Metric\": \"Std\", \"Metric_Value\": 0.04373169693212705, \"Test_Set_Index\": 0, \"Baseline_Median\": 0.04380175110799439}, {\"Dataset_Name\": \"heart\", \"Null_Imputer_Name\": \"k_means_clustering\", \"Evaluation_Scenario\": \"mixed_exp\", \"Virny_Random_State\": 300, \"Model_Name\": \"gandalf_clf\", \"Subgroup\": \"overall\", \"Metric\": \"Std\", \"Metric_Value\": 0.045659236417068864, \"Test_Set_Index\": 0, \"Baseline_Median\": 0.04380175110799439}, {\"Dataset_Name\": \"heart\", \"Null_Imputer_Name\": \"automl\", \"Evaluation_Scenario\": \"mixed_exp\", \"Virny_Random_State\": 600, \"Model_Name\": \"gandalf_clf\", \"Subgroup\": \"overall\", \"Metric\": \"Std\", \"Metric_Value\": 0.048135638369484146, \"Test_Set_Index\": 0, \"Baseline_Median\": 0.04380175110799439}, {\"Dataset_Name\": \"heart\", \"Null_Imputer_Name\": \"miss_forest\", \"Evaluation_Scenario\": \"mixed_exp\", \"Virny_Random_State\": 300, \"Model_Name\": \"gandalf_clf\", \"Subgroup\": \"overall\", \"Metric\": \"Std\", \"Metric_Value\": 0.04493686418881288, \"Test_Set_Index\": 0, \"Baseline_Median\": 0.04380175110799439}, {\"Dataset_Name\": \"heart\", \"Null_Imputer_Name\": \"median-dummy\", \"Evaluation_Scenario\": \"mixed_exp\", \"Virny_Random_State\": 300, \"Model_Name\": \"gandalf_clf\", \"Subgroup\": \"overall\", \"Metric\": \"Std\", \"Metric_Value\": 0.04305408205113745, \"Test_Set_Index\": 0, \"Baseline_Median\": 0.04380175110799439}, {\"Dataset_Name\": \"heart\", \"Null_Imputer_Name\": \"median-mode\", \"Evaluation_Scenario\": \"mixed_exp\", \"Virny_Random_State\": 100, \"Model_Name\": \"gandalf_clf\", \"Subgroup\": \"overall\", \"Metric\": \"Std\", \"Metric_Value\": 0.044062223343332936, \"Test_Set_Index\": 0, \"Baseline_Median\": 0.04380175110799439}, {\"Dataset_Name\": \"heart\", \"Null_Imputer_Name\": \"median-mode\", \"Evaluation_Scenario\": \"mixed_exp\", \"Virny_Random_State\": 400, \"Model_Name\": \"gandalf_clf\", \"Subgroup\": \"overall\", \"Metric\": \"Std\", \"Metric_Value\": 0.046117559726741926, \"Test_Set_Index\": 0, \"Baseline_Median\": 0.04380175110799439}, {\"Dataset_Name\": \"heart\", \"Null_Imputer_Name\": \"median-dummy\", \"Evaluation_Scenario\": \"mixed_exp\", \"Virny_Random_State\": 500, \"Model_Name\": \"gandalf_clf\", \"Subgroup\": \"overall\", \"Metric\": \"Std\", \"Metric_Value\": 0.04738803331190538, \"Test_Set_Index\": 0, \"Baseline_Median\": 0.04380175110799439}, {\"Dataset_Name\": \"heart\", \"Null_Imputer_Name\": \"median-dummy\", \"Evaluation_Scenario\": \"mixed_exp\", \"Virny_Random_State\": 200, \"Model_Name\": \"gandalf_clf\", \"Subgroup\": \"overall\", \"Metric\": \"Std\", \"Metric_Value\": 0.04419425152283506, \"Test_Set_Index\": 0, \"Baseline_Median\": 0.04380175110799439}, {\"Dataset_Name\": \"heart\", \"Null_Imputer_Name\": \"deletion\", \"Evaluation_Scenario\": \"mixed_exp\", \"Virny_Random_State\": 200, \"Model_Name\": \"gandalf_clf\", \"Subgroup\": \"overall\", \"Metric\": \"Std\", \"Metric_Value\": 0.04609092065876432, \"Test_Set_Index\": 0, \"Baseline_Median\": 0.04380175110799439}, {\"Dataset_Name\": \"heart\", \"Null_Imputer_Name\": \"median-mode\", \"Evaluation_Scenario\": \"mixed_exp\", \"Virny_Random_State\": 600, \"Model_Name\": \"gandalf_clf\", \"Subgroup\": \"overall\", \"Metric\": \"Std\", \"Metric_Value\": 0.048553975048017846, \"Test_Set_Index\": 0, \"Baseline_Median\": 0.04380175110799439}, {\"Dataset_Name\": \"heart\", \"Null_Imputer_Name\": \"k_means_clustering\", \"Evaluation_Scenario\": \"mixed_exp\", \"Virny_Random_State\": 400, \"Model_Name\": \"gandalf_clf\", \"Subgroup\": \"overall\", \"Metric\": \"Std\", \"Metric_Value\": 0.04614723723975803, \"Test_Set_Index\": 0, \"Baseline_Median\": 0.04380175110799439}, {\"Dataset_Name\": \"heart\", \"Null_Imputer_Name\": \"median-dummy\", \"Evaluation_Scenario\": \"mixed_exp\", \"Virny_Random_State\": 400, \"Model_Name\": \"gandalf_clf\", \"Subgroup\": \"overall\", \"Metric\": \"Std\", \"Metric_Value\": 0.04324473156192023, \"Test_Set_Index\": 0, \"Baseline_Median\": 0.04380175110799439}, {\"Dataset_Name\": \"heart\", \"Null_Imputer_Name\": \"median-mode\", \"Evaluation_Scenario\": \"mixed_exp\", \"Virny_Random_State\": 300, \"Model_Name\": \"gandalf_clf\", \"Subgroup\": \"overall\", \"Metric\": \"Std\", \"Metric_Value\": 0.044822279137875905, \"Test_Set_Index\": 0, \"Baseline_Median\": 0.04380175110799439}, {\"Dataset_Name\": \"heart\", \"Null_Imputer_Name\": \"median-mode\", \"Evaluation_Scenario\": \"mixed_exp\", \"Virny_Random_State\": 500, \"Model_Name\": \"gandalf_clf\", \"Subgroup\": \"overall\", \"Metric\": \"Std\", \"Metric_Value\": 0.04002625334916504, \"Test_Set_Index\": 0, \"Baseline_Median\": 0.04380175110799439}, {\"Dataset_Name\": \"heart\", \"Null_Imputer_Name\": \"datawig\", \"Evaluation_Scenario\": \"mixed_exp\", \"Virny_Random_State\": 600, \"Model_Name\": \"gandalf_clf\", \"Subgroup\": \"overall\", \"Metric\": \"Std\", \"Metric_Value\": 0.0482791210455689, \"Test_Set_Index\": 0, \"Baseline_Median\": 0.04380175110799439}, {\"Dataset_Name\": \"heart\", \"Null_Imputer_Name\": \"k_means_clustering\", \"Evaluation_Scenario\": \"mixed_exp\", \"Virny_Random_State\": 500, \"Model_Name\": \"gandalf_clf\", \"Subgroup\": \"overall\", \"Metric\": \"Std\", \"Metric_Value\": 0.04078914310848685, \"Test_Set_Index\": 0, \"Baseline_Median\": 0.04380175110799439}, {\"Dataset_Name\": \"heart\", \"Null_Imputer_Name\": \"k_means_clustering\", \"Evaluation_Scenario\": \"mixed_exp\", \"Virny_Random_State\": 600, \"Model_Name\": \"gandalf_clf\", \"Subgroup\": \"overall\", \"Metric\": \"Std\", \"Metric_Value\": 0.04919562703398537, \"Test_Set_Index\": 0, \"Baseline_Median\": 0.04380175110799439}, {\"Dataset_Name\": \"heart\", \"Null_Imputer_Name\": \"automl\", \"Evaluation_Scenario\": \"mixed_exp\", \"Virny_Random_State\": 100, \"Model_Name\": \"gandalf_clf\", \"Subgroup\": \"overall\", \"Metric\": \"Std\", \"Metric_Value\": 0.04382817663929712, \"Test_Set_Index\": 0, \"Baseline_Median\": 0.04380175110799439}, {\"Dataset_Name\": \"heart\", \"Null_Imputer_Name\": \"automl\", \"Evaluation_Scenario\": \"mixed_exp\", \"Virny_Random_State\": 400, \"Model_Name\": \"gandalf_clf\", \"Subgroup\": \"overall\", \"Metric\": \"Std\", \"Metric_Value\": 0.04565582619878023, \"Test_Set_Index\": 0, \"Baseline_Median\": 0.04380175110799439}, {\"Dataset_Name\": \"heart\", \"Null_Imputer_Name\": \"k_means_clustering\", \"Evaluation_Scenario\": \"mixed_exp\", \"Virny_Random_State\": 100, \"Model_Name\": \"gandalf_clf\", \"Subgroup\": \"overall\", \"Metric\": \"Std\", \"Metric_Value\": 0.04439431797988175, \"Test_Set_Index\": 0, \"Baseline_Median\": 0.04380175110799439}, {\"Dataset_Name\": \"heart\", \"Null_Imputer_Name\": \"median-mode\", \"Evaluation_Scenario\": \"mixed_exp\", \"Virny_Random_State\": 200, \"Model_Name\": \"gandalf_clf\", \"Subgroup\": \"overall\", \"Metric\": \"Std\", \"Metric_Value\": 0.04228782400684503, \"Test_Set_Index\": 0, \"Baseline_Median\": 0.04380175110799439}, {\"Dataset_Name\": \"heart\", \"Null_Imputer_Name\": \"median-dummy\", \"Evaluation_Scenario\": \"mixed_exp\", \"Virny_Random_State\": 600, \"Model_Name\": \"gandalf_clf\", \"Subgroup\": \"overall\", \"Metric\": \"Std\", \"Metric_Value\": 0.04985526383411702, \"Test_Set_Index\": 0, \"Baseline_Median\": 0.04380175110799439}, {\"Dataset_Name\": \"heart\", \"Null_Imputer_Name\": \"deletion\", \"Evaluation_Scenario\": \"mixed_exp\", \"Virny_Random_State\": 300, \"Model_Name\": \"gandalf_clf\", \"Subgroup\": \"overall\", \"Metric\": \"Std\", \"Metric_Value\": 0.043654529067087285, \"Test_Set_Index\": 0, \"Baseline_Median\": 0.04380175110799439}, {\"Dataset_Name\": \"heart\", \"Null_Imputer_Name\": \"deletion\", \"Evaluation_Scenario\": \"mixed_exp\", \"Virny_Random_State\": 600, \"Model_Name\": \"gandalf_clf\", \"Subgroup\": \"overall\", \"Metric\": \"Std\", \"Metric_Value\": 0.050257125131258296, \"Test_Set_Index\": 0, \"Baseline_Median\": 0.04380175110799439}, {\"Dataset_Name\": \"heart\", \"Null_Imputer_Name\": \"miss_forest\", \"Evaluation_Scenario\": \"mixed_exp\", \"Virny_Random_State\": 200, \"Model_Name\": \"gandalf_clf\", \"Subgroup\": \"overall\", \"Metric\": \"Std\", \"Metric_Value\": 0.0423357154161451, \"Test_Set_Index\": 0, \"Baseline_Median\": 0.04380175110799439}, {\"Dataset_Name\": \"heart\", \"Null_Imputer_Name\": \"miss_forest\", \"Evaluation_Scenario\": \"mixed_exp\", \"Virny_Random_State\": 600, \"Model_Name\": \"gandalf_clf\", \"Subgroup\": \"overall\", \"Metric\": \"Std\", \"Metric_Value\": 0.04829182096213477, \"Test_Set_Index\": 0, \"Baseline_Median\": 0.04380175110799439}, {\"Dataset_Name\": \"heart\", \"Null_Imputer_Name\": \"miss_forest\", \"Evaluation_Scenario\": \"mixed_exp\", \"Virny_Random_State\": 400, \"Model_Name\": \"gandalf_clf\", \"Subgroup\": \"overall\", \"Metric\": \"Std\", \"Metric_Value\": 0.045874140567152166, \"Test_Set_Index\": 0, \"Baseline_Median\": 0.04380175110799439}, {\"Dataset_Name\": \"heart\", \"Null_Imputer_Name\": \"automl\", \"Evaluation_Scenario\": \"mixed_exp\", \"Virny_Random_State\": 500, \"Model_Name\": \"gandalf_clf\", \"Subgroup\": \"overall\", \"Metric\": \"Std\", \"Metric_Value\": 0.039909520430757024, \"Test_Set_Index\": 0, \"Baseline_Median\": 0.04380175110799439}]}}, {\"mode\": \"vega-lite\"});\n",
       "</script>"
      ],
      "text/plain": [
       "alt.FacetChart(...)"
      ]
     },
     "execution_count": 11,
     "metadata": {},
     "output_type": "execute_result"
    }
   ],
   "execution_count": 11
  },
  {
   "cell_type": "markdown",
   "id": "80cd3c80b3abe6d0",
   "metadata": {
    "collapsed": false,
    "jupyter": {
     "outputs_hidden": false
    }
   },
   "source": [
    "### Disparity Metrics"
   ]
  },
  {
   "cell_type": "code",
   "id": "c472cfe0eef9471f",
   "metadata": {
    "collapsed": false,
    "jupyter": {
     "outputs_hidden": false
    },
    "ExecuteTime": {
     "end_time": "2024-09-22T09:28:01.741196Z",
     "start_time": "2024-09-22T09:27:59.655750Z"
    }
   },
   "source": [
    "create_box_plots_for_diff_imputers_and_models(dataset_name=DATASET_NAME,\n",
    "                                              metric_name='Equalized_Odds_TPR',\n",
    "                                              db_client=db_client,\n",
    "                                              group=SENSITIVE_ATTR_FOR_DISPARITY_METRICS)"
   ],
   "outputs": [
    {
     "data": {
      "text/html": [
       "\n",
       "<div id=\"altair-viz-ab1b8e9433dd498c815739d0ced670d5\"></div>\n",
       "<script type=\"text/javascript\">\n",
       "  var VEGA_DEBUG = (typeof VEGA_DEBUG == \"undefined\") ? {} : VEGA_DEBUG;\n",
       "  (function(spec, embedOpt){\n",
       "    let outputDiv = document.currentScript.previousElementSibling;\n",
       "    if (outputDiv.id !== \"altair-viz-ab1b8e9433dd498c815739d0ced670d5\") {\n",
       "      outputDiv = document.getElementById(\"altair-viz-ab1b8e9433dd498c815739d0ced670d5\");\n",
       "    }\n",
       "    const paths = {\n",
       "      \"vega\": \"https://cdn.jsdelivr.net/npm//vega@5?noext\",\n",
       "      \"vega-lib\": \"https://cdn.jsdelivr.net/npm//vega-lib?noext\",\n",
       "      \"vega-lite\": \"https://cdn.jsdelivr.net/npm//vega-lite@4.17.0?noext\",\n",
       "      \"vega-embed\": \"https://cdn.jsdelivr.net/npm//vega-embed@6?noext\",\n",
       "    };\n",
       "\n",
       "    function maybeLoadScript(lib, version) {\n",
       "      var key = `${lib.replace(\"-\", \"\")}_version`;\n",
       "      return (VEGA_DEBUG[key] == version) ?\n",
       "        Promise.resolve(paths[lib]) :\n",
       "        new Promise(function(resolve, reject) {\n",
       "          var s = document.createElement('script');\n",
       "          document.getElementsByTagName(\"head\")[0].appendChild(s);\n",
       "          s.async = true;\n",
       "          s.onload = () => {\n",
       "            VEGA_DEBUG[key] = version;\n",
       "            return resolve(paths[lib]);\n",
       "          };\n",
       "          s.onerror = () => reject(`Error loading script: ${paths[lib]}`);\n",
       "          s.src = paths[lib];\n",
       "        });\n",
       "    }\n",
       "\n",
       "    function showError(err) {\n",
       "      outputDiv.innerHTML = `<div class=\"error\" style=\"color:red;\">${err}</div>`;\n",
       "      throw err;\n",
       "    }\n",
       "\n",
       "    function displayChart(vegaEmbed) {\n",
       "      vegaEmbed(outputDiv, spec, embedOpt)\n",
       "        .catch(err => showError(`Javascript Error: ${err.message}<br>This usually means there's a typo in your chart specification. See the javascript console for the full traceback.`));\n",
       "    }\n",
       "\n",
       "    if(typeof define === \"function\" && define.amd) {\n",
       "      requirejs.config({paths});\n",
       "      require([\"vega-embed\"], displayChart, err => showError(`Error loading script: ${err.message}`));\n",
       "    } else {\n",
       "      maybeLoadScript(\"vega\", \"5\")\n",
       "        .then(() => maybeLoadScript(\"vega-lite\", \"4.17.0\"))\n",
       "        .then(() => maybeLoadScript(\"vega-embed\", \"6\"))\n",
       "        .catch(showError)\n",
       "        .then(() => displayChart(vegaEmbed));\n",
       "    }\n",
       "  })({\"config\": {\"view\": {\"continuousWidth\": 400, \"continuousHeight\": 300, \"stroke\": null}, \"axis\": {\"labelFontSize\": 22, \"labelFontWeight\": \"normal\", \"titleFontSize\": 24, \"titleFontWeight\": \"normal\"}, \"facet\": {\"spacing\": 5}, \"header\": {\"labelFontSize\": 20, \"labelOrient\": \"bottom\", \"labelPadding\": 5, \"titleFontSize\": 24}, \"legend\": {\"columns\": 4, \"direction\": \"horizontal\", \"labelFontSize\": 20, \"labelLimit\": 400, \"orient\": \"top\", \"symbolOffset\": 50, \"symbolStrokeWidth\": 10, \"titleAnchor\": \"middle\", \"titleFontSize\": 22, \"titleLimit\": 300}, \"title\": {\"fontSize\": 24}}, \"data\": {\"name\": \"data-a3454547872d9823c1283b17dfdc8bbc\"}, \"facet\": {\"column\": {\"field\": \"Model_Name\", \"sort\": [\"dt_clf\", \"lr_clf\", \"lgbm_clf\", \"rf_clf\", \"mlp_clf\"], \"title\": null, \"type\": \"nominal\"}}, \"spec\": {\"layer\": [{\"mark\": {\"type\": \"boxplot\", \"median\": {\"stroke\": \"black\", \"strokeWidth\": 0.7}, \"ticks\": true}, \"encoding\": {\"color\": {\"field\": \"Null_Imputer_Name\", \"sort\": [\"deletion\", \"median-mode\", \"median-dummy\", \"miss_forest\", \"k_means_clustering\", \"datawig\", \"automl\", \"boost_clean\"], \"title\": null, \"type\": \"nominal\"}, \"x\": {\"axis\": {\"labels\": false}, \"field\": \"Null_Imputer_Name\", \"sort\": [\"deletion\", \"median-mode\", \"median-dummy\", \"miss_forest\", \"k_means_clustering\", \"datawig\", \"automl\", \"boost_clean\"], \"title\": null, \"type\": \"nominal\"}, \"y\": {\"field\": \"Metric_Value\", \"scale\": {\"zero\": false}, \"title\": \"TPRD\", \"type\": \"quantitative\"}}}, {\"mark\": \"rule\", \"encoding\": {\"color\": {\"value\": \"blue\"}, \"size\": {\"value\": 2}, \"y\": {\"field\": \"Baseline_Median\", \"type\": \"quantitative\"}}}], \"width\": 150}, \"resolve\": {\"scale\": {\"x\": \"independent\"}}, \"$schema\": \"https://vega.github.io/schema/vega-lite/v4.17.0.json\", \"datasets\": {\"data-a3454547872d9823c1283b17dfdc8bbc\": [{\"Metric\": \"Equalized_Odds_TPR\", \"Metric_Value\": 0.013011302767965693, \"Model_Name\": \"gandalf_clf\", \"Null_Imputer_Name\": \"deletion\", \"Evaluation_Scenario\": \"mixed_exp\", \"Virny_Random_State\": 400, \"Test_Set_Index\": 0, \"Dataset_Name\": \"heart\", \"Baseline_Median\": 0.011231212915868871}, {\"Metric\": \"Equalized_Odds_TPR\", \"Metric_Value\": -0.013641042158256234, \"Model_Name\": \"gandalf_clf\", \"Null_Imputer_Name\": \"deletion\", \"Evaluation_Scenario\": \"mixed_exp\", \"Virny_Random_State\": 500, \"Test_Set_Index\": 0, \"Dataset_Name\": \"heart\", \"Baseline_Median\": 0.011231212915868871}, {\"Metric\": \"Equalized_Odds_TPR\", \"Metric_Value\": 0.006691700746889295, \"Model_Name\": \"gandalf_clf\", \"Null_Imputer_Name\": \"deletion\", \"Evaluation_Scenario\": \"mixed_exp\", \"Virny_Random_State\": 100, \"Test_Set_Index\": 0, \"Dataset_Name\": \"heart\", \"Baseline_Median\": 0.011231212915868871}, {\"Metric\": \"Equalized_Odds_TPR\", \"Metric_Value\": 0.022816052184081892, \"Model_Name\": \"gandalf_clf\", \"Null_Imputer_Name\": \"deletion\", \"Evaluation_Scenario\": \"mixed_exp\", \"Virny_Random_State\": 300, \"Test_Set_Index\": 0, \"Dataset_Name\": \"heart\", \"Baseline_Median\": 0.011231212915868871}, {\"Metric\": \"Equalized_Odds_TPR\", \"Metric_Value\": 0.01968759287598132, \"Model_Name\": \"gandalf_clf\", \"Null_Imputer_Name\": \"deletion\", \"Evaluation_Scenario\": \"mixed_exp\", \"Virny_Random_State\": 200, \"Test_Set_Index\": 0, \"Dataset_Name\": \"heart\", \"Baseline_Median\": 0.011231212915868871}, {\"Metric\": \"Equalized_Odds_TPR\", \"Metric_Value\": 0.0019733939364543485, \"Model_Name\": \"gandalf_clf\", \"Null_Imputer_Name\": \"deletion\", \"Evaluation_Scenario\": \"mixed_exp\", \"Virny_Random_State\": 600, \"Test_Set_Index\": 0, \"Dataset_Name\": \"heart\", \"Baseline_Median\": 0.011231212915868871}, {\"Metric\": \"Equalized_Odds_TPR\", \"Metric_Value\": 0.02022238186924552, \"Model_Name\": \"gandalf_clf\", \"Null_Imputer_Name\": \"datawig\", \"Evaluation_Scenario\": \"mixed_exp\", \"Virny_Random_State\": 400, \"Test_Set_Index\": 0, \"Dataset_Name\": \"heart\", \"Baseline_Median\": 0.011231212915868871}, {\"Metric\": \"Equalized_Odds_TPR\", \"Metric_Value\": -0.006975962582009387, \"Model_Name\": \"gandalf_clf\", \"Null_Imputer_Name\": \"datawig\", \"Evaluation_Scenario\": \"mixed_exp\", \"Virny_Random_State\": 500, \"Test_Set_Index\": 0, \"Dataset_Name\": \"heart\", \"Baseline_Median\": 0.011231212915868871}, {\"Metric\": \"Equalized_Odds_TPR\", \"Metric_Value\": 0.004568095283571494, \"Model_Name\": \"gandalf_clf\", \"Null_Imputer_Name\": \"datawig\", \"Evaluation_Scenario\": \"mixed_exp\", \"Virny_Random_State\": 100, \"Test_Set_Index\": 0, \"Dataset_Name\": \"heart\", \"Baseline_Median\": 0.011231212915868871}, {\"Metric\": \"Equalized_Odds_TPR\", \"Metric_Value\": 0.0014620447705949724, \"Model_Name\": \"gandalf_clf\", \"Null_Imputer_Name\": \"datawig\", \"Evaluation_Scenario\": \"mixed_exp\", \"Virny_Random_State\": 300, \"Test_Set_Index\": 0, \"Dataset_Name\": \"heart\", \"Baseline_Median\": 0.011231212915868871}, {\"Metric\": \"Equalized_Odds_TPR\", \"Metric_Value\": 0.016274977169722482, \"Model_Name\": \"gandalf_clf\", \"Null_Imputer_Name\": \"datawig\", \"Evaluation_Scenario\": \"mixed_exp\", \"Virny_Random_State\": 200, \"Test_Set_Index\": 0, \"Dataset_Name\": \"heart\", \"Baseline_Median\": 0.011231212915868871}, {\"Metric\": \"Equalized_Odds_TPR\", \"Metric_Value\": 0.015127039544870824, \"Model_Name\": \"gandalf_clf\", \"Null_Imputer_Name\": \"datawig\", \"Evaluation_Scenario\": \"mixed_exp\", \"Virny_Random_State\": 600, \"Test_Set_Index\": 0, \"Dataset_Name\": \"heart\", \"Baseline_Median\": 0.011231212915868871}, {\"Metric\": \"Equalized_Odds_TPR\", \"Metric_Value\": 0.022536680612658455, \"Model_Name\": \"gandalf_clf\", \"Null_Imputer_Name\": \"k_means_clustering\", \"Evaluation_Scenario\": \"mixed_exp\", \"Virny_Random_State\": 400, \"Test_Set_Index\": 0, \"Dataset_Name\": \"heart\", \"Baseline_Median\": 0.011231212915868871}, {\"Metric\": \"Equalized_Odds_TPR\", \"Metric_Value\": -0.010204174514595432, \"Model_Name\": \"gandalf_clf\", \"Null_Imputer_Name\": \"k_means_clustering\", \"Evaluation_Scenario\": \"mixed_exp\", \"Virny_Random_State\": 500, \"Test_Set_Index\": 0, \"Dataset_Name\": \"heart\", \"Baseline_Median\": 0.011231212915868871}, {\"Metric\": \"Equalized_Odds_TPR\", \"Metric_Value\": 0.012592402647344292, \"Model_Name\": \"gandalf_clf\", \"Null_Imputer_Name\": \"k_means_clustering\", \"Evaluation_Scenario\": \"mixed_exp\", \"Virny_Random_State\": 100, \"Test_Set_Index\": 0, \"Dataset_Name\": \"heart\", \"Baseline_Median\": 0.011231212915868871}, {\"Metric\": \"Equalized_Odds_TPR\", \"Metric_Value\": 0.007894129827215268, \"Model_Name\": \"gandalf_clf\", \"Null_Imputer_Name\": \"k_means_clustering\", \"Evaluation_Scenario\": \"mixed_exp\", \"Virny_Random_State\": 300, \"Test_Set_Index\": 0, \"Dataset_Name\": \"heart\", \"Baseline_Median\": 0.011231212915868871}, {\"Metric\": \"Equalized_Odds_TPR\", \"Metric_Value\": 0.009494839268185395, \"Model_Name\": \"gandalf_clf\", \"Null_Imputer_Name\": \"k_means_clustering\", \"Evaluation_Scenario\": \"mixed_exp\", \"Virny_Random_State\": 200, \"Test_Set_Index\": 0, \"Dataset_Name\": \"heart\", \"Baseline_Median\": 0.011231212915868871}, {\"Metric\": \"Equalized_Odds_TPR\", \"Metric_Value\": 0.009533577988863784, \"Model_Name\": \"gandalf_clf\", \"Null_Imputer_Name\": \"k_means_clustering\", \"Evaluation_Scenario\": \"mixed_exp\", \"Virny_Random_State\": 600, \"Test_Set_Index\": 0, \"Dataset_Name\": \"heart\", \"Baseline_Median\": 0.011231212915868871}, {\"Metric\": \"Equalized_Odds_TPR\", \"Metric_Value\": 0.02288312872777809, \"Model_Name\": \"gandalf_clf\", \"Null_Imputer_Name\": \"automl\", \"Evaluation_Scenario\": \"mixed_exp\", \"Virny_Random_State\": 400, \"Test_Set_Index\": 0, \"Dataset_Name\": \"heart\", \"Baseline_Median\": 0.011231212915868871}, {\"Metric\": \"Equalized_Odds_TPR\", \"Metric_Value\": -0.00939248279290572, \"Model_Name\": \"gandalf_clf\", \"Null_Imputer_Name\": \"automl\", \"Evaluation_Scenario\": \"mixed_exp\", \"Virny_Random_State\": 500, \"Test_Set_Index\": 0, \"Dataset_Name\": \"heart\", \"Baseline_Median\": 0.011231212915868871}, {\"Metric\": \"Equalized_Odds_TPR\", \"Metric_Value\": 0.003835574951075893, \"Model_Name\": \"gandalf_clf\", \"Null_Imputer_Name\": \"automl\", \"Evaluation_Scenario\": \"mixed_exp\", \"Virny_Random_State\": 100, \"Test_Set_Index\": 0, \"Dataset_Name\": \"heart\", \"Baseline_Median\": 0.011231212915868871}, {\"Metric\": \"Equalized_Odds_TPR\", \"Metric_Value\": 0.002977196285746442, \"Model_Name\": \"gandalf_clf\", \"Null_Imputer_Name\": \"automl\", \"Evaluation_Scenario\": \"mixed_exp\", \"Virny_Random_State\": 300, \"Test_Set_Index\": 0, \"Dataset_Name\": \"heart\", \"Baseline_Median\": 0.011231212915868871}, {\"Metric\": \"Equalized_Odds_TPR\", \"Metric_Value\": 0.019233507520895587, \"Model_Name\": \"gandalf_clf\", \"Null_Imputer_Name\": \"automl\", \"Evaluation_Scenario\": \"mixed_exp\", \"Virny_Random_State\": 200, \"Test_Set_Index\": 0, \"Dataset_Name\": \"heart\", \"Baseline_Median\": 0.011231212915868871}, {\"Metric\": \"Equalized_Odds_TPR\", \"Metric_Value\": 0.015575829120258788, \"Model_Name\": \"gandalf_clf\", \"Null_Imputer_Name\": \"automl\", \"Evaluation_Scenario\": \"mixed_exp\", \"Virny_Random_State\": 600, \"Test_Set_Index\": 0, \"Dataset_Name\": \"heart\", \"Baseline_Median\": 0.011231212915868871}, {\"Metric\": \"Equalized_Odds_TPR\", \"Metric_Value\": 0.021450829521107218, \"Model_Name\": \"gandalf_clf\", \"Null_Imputer_Name\": \"median-dummy\", \"Evaluation_Scenario\": \"mixed_exp\", \"Virny_Random_State\": 400, \"Test_Set_Index\": 0, \"Dataset_Name\": \"heart\", \"Baseline_Median\": 0.011231212915868871}, {\"Metric\": \"Equalized_Odds_TPR\", \"Metric_Value\": -0.010241459469678471, \"Model_Name\": \"gandalf_clf\", \"Null_Imputer_Name\": \"median-dummy\", \"Evaluation_Scenario\": \"mixed_exp\", \"Virny_Random_State\": 500, \"Test_Set_Index\": 0, \"Dataset_Name\": \"heart\", \"Baseline_Median\": 0.011231212915868871}, {\"Metric\": \"Equalized_Odds_TPR\", \"Metric_Value\": 0.013748342595802265, \"Model_Name\": \"gandalf_clf\", \"Null_Imputer_Name\": \"median-dummy\", \"Evaluation_Scenario\": \"mixed_exp\", \"Virny_Random_State\": 100, \"Test_Set_Index\": 0, \"Dataset_Name\": \"heart\", \"Baseline_Median\": 0.011231212915868871}, {\"Metric\": \"Equalized_Odds_TPR\", \"Metric_Value\": 0.004095388296131763, \"Model_Name\": \"gandalf_clf\", \"Null_Imputer_Name\": \"median-dummy\", \"Evaluation_Scenario\": \"mixed_exp\", \"Virny_Random_State\": 300, \"Test_Set_Index\": 0, \"Dataset_Name\": \"heart\", \"Baseline_Median\": 0.011231212915868871}, {\"Metric\": \"Equalized_Odds_TPR\", \"Metric_Value\": 0.014381319729554143, \"Model_Name\": \"gandalf_clf\", \"Null_Imputer_Name\": \"median-dummy\", \"Evaluation_Scenario\": \"mixed_exp\", \"Virny_Random_State\": 200, \"Test_Set_Index\": 0, \"Dataset_Name\": \"heart\", \"Baseline_Median\": 0.011231212915868871}, {\"Metric\": \"Equalized_Odds_TPR\", \"Metric_Value\": 0.015441318464075926, \"Model_Name\": \"gandalf_clf\", \"Null_Imputer_Name\": \"median-dummy\", \"Evaluation_Scenario\": \"mixed_exp\", \"Virny_Random_State\": 600, \"Test_Set_Index\": 0, \"Dataset_Name\": \"heart\", \"Baseline_Median\": 0.011231212915868871}, {\"Metric\": \"Equalized_Odds_TPR\", \"Metric_Value\": 0.02020455729920667, \"Model_Name\": \"gandalf_clf\", \"Null_Imputer_Name\": \"miss_forest\", \"Evaluation_Scenario\": \"mixed_exp\", \"Virny_Random_State\": 400, \"Test_Set_Index\": 0, \"Dataset_Name\": \"heart\", \"Baseline_Median\": 0.011231212915868871}, {\"Metric\": \"Equalized_Odds_TPR\", \"Metric_Value\": -0.010245135451165455, \"Model_Name\": \"gandalf_clf\", \"Null_Imputer_Name\": \"miss_forest\", \"Evaluation_Scenario\": \"mixed_exp\", \"Virny_Random_State\": 500, \"Test_Set_Index\": 0, \"Dataset_Name\": \"heart\", \"Baseline_Median\": 0.011231212915868871}, {\"Metric\": \"Equalized_Odds_TPR\", \"Metric_Value\": 0.005945813896921948, \"Model_Name\": \"gandalf_clf\", \"Null_Imputer_Name\": \"miss_forest\", \"Evaluation_Scenario\": \"mixed_exp\", \"Virny_Random_State\": 100, \"Test_Set_Index\": 0, \"Dataset_Name\": \"heart\", \"Baseline_Median\": 0.011231212915868871}, {\"Metric\": \"Equalized_Odds_TPR\", \"Metric_Value\": 0.003743757275355808, \"Model_Name\": \"gandalf_clf\", \"Null_Imputer_Name\": \"miss_forest\", \"Evaluation_Scenario\": \"mixed_exp\", \"Virny_Random_State\": 300, \"Test_Set_Index\": 0, \"Dataset_Name\": \"heart\", \"Baseline_Median\": 0.011231212915868871}, {\"Metric\": \"Equalized_Odds_TPR\", \"Metric_Value\": 0.01904044248885217, \"Model_Name\": \"gandalf_clf\", \"Null_Imputer_Name\": \"miss_forest\", \"Evaluation_Scenario\": \"mixed_exp\", \"Virny_Random_State\": 200, \"Test_Set_Index\": 0, \"Dataset_Name\": \"heart\", \"Baseline_Median\": 0.011231212915868871}, {\"Metric\": \"Equalized_Odds_TPR\", \"Metric_Value\": 0.016291115679344714, \"Model_Name\": \"gandalf_clf\", \"Null_Imputer_Name\": \"miss_forest\", \"Evaluation_Scenario\": \"mixed_exp\", \"Virny_Random_State\": 600, \"Test_Set_Index\": 0, \"Dataset_Name\": \"heart\", \"Baseline_Median\": 0.011231212915868871}, {\"Metric\": \"Equalized_Odds_TPR\", \"Metric_Value\": 0.0220080961549598, \"Model_Name\": \"gandalf_clf\", \"Null_Imputer_Name\": \"median-mode\", \"Evaluation_Scenario\": \"mixed_exp\", \"Virny_Random_State\": 400, \"Test_Set_Index\": 0, \"Dataset_Name\": \"heart\", \"Baseline_Median\": 0.011231212915868871}, {\"Metric\": \"Equalized_Odds_TPR\", \"Metric_Value\": -0.009198881101253997, \"Model_Name\": \"gandalf_clf\", \"Null_Imputer_Name\": \"median-mode\", \"Evaluation_Scenario\": \"mixed_exp\", \"Virny_Random_State\": 500, \"Test_Set_Index\": 0, \"Dataset_Name\": \"heart\", \"Baseline_Median\": 0.011231212915868871}, {\"Metric\": \"Equalized_Odds_TPR\", \"Metric_Value\": 0.006422963395615988, \"Model_Name\": \"gandalf_clf\", \"Null_Imputer_Name\": \"median-mode\", \"Evaluation_Scenario\": \"mixed_exp\", \"Virny_Random_State\": 100, \"Test_Set_Index\": 0, \"Dataset_Name\": \"heart\", \"Baseline_Median\": 0.011231212915868871}, {\"Metric\": \"Equalized_Odds_TPR\", \"Metric_Value\": 0.0026038397785609346, \"Model_Name\": \"gandalf_clf\", \"Null_Imputer_Name\": \"median-mode\", \"Evaluation_Scenario\": \"mixed_exp\", \"Virny_Random_State\": 300, \"Test_Set_Index\": 0, \"Dataset_Name\": \"heart\", \"Baseline_Median\": 0.011231212915868871}, {\"Metric\": \"Equalized_Odds_TPR\", \"Metric_Value\": 0.017149485258922237, \"Model_Name\": \"gandalf_clf\", \"Null_Imputer_Name\": \"median-mode\", \"Evaluation_Scenario\": \"mixed_exp\", \"Virny_Random_State\": 200, \"Test_Set_Index\": 0, \"Dataset_Name\": \"heart\", \"Baseline_Median\": 0.011231212915868871}, {\"Metric\": \"Equalized_Odds_TPR\", \"Metric_Value\": 0.015888845875129842, \"Model_Name\": \"gandalf_clf\", \"Null_Imputer_Name\": \"median-mode\", \"Evaluation_Scenario\": \"mixed_exp\", \"Virny_Random_State\": 600, \"Test_Set_Index\": 0, \"Dataset_Name\": \"heart\", \"Baseline_Median\": 0.011231212915868871}, {\"Metric\": \"Equalized_Odds_TPR\", \"Metric_Value\": -0.02737808717933876, \"Model_Name\": \"boost_clean\", \"Null_Imputer_Name\": \"boost_clean\", \"Evaluation_Scenario\": \"mixed_exp\", \"Virny_Random_State\": 400, \"Test_Set_Index\": 0, \"Dataset_Name\": \"heart\", \"Baseline_Median\": null}, {\"Metric\": \"Equalized_Odds_TPR\", \"Metric_Value\": -0.0322994489528704, \"Model_Name\": \"boost_clean\", \"Null_Imputer_Name\": \"boost_clean\", \"Evaluation_Scenario\": \"mixed_exp\", \"Virny_Random_State\": 500, \"Test_Set_Index\": 0, \"Dataset_Name\": \"heart\", \"Baseline_Median\": null}, {\"Metric\": \"Equalized_Odds_TPR\", \"Metric_Value\": -0.017428443843654606, \"Model_Name\": \"boost_clean\", \"Null_Imputer_Name\": \"boost_clean\", \"Evaluation_Scenario\": \"mixed_exp\", \"Virny_Random_State\": 100, \"Test_Set_Index\": 0, \"Dataset_Name\": \"heart\", \"Baseline_Median\": null}, {\"Metric\": \"Equalized_Odds_TPR\", \"Metric_Value\": -0.0241139488351384, \"Model_Name\": \"boost_clean\", \"Null_Imputer_Name\": \"boost_clean\", \"Evaluation_Scenario\": \"mixed_exp\", \"Virny_Random_State\": 300, \"Test_Set_Index\": 0, \"Dataset_Name\": \"heart\", \"Baseline_Median\": null}, {\"Metric\": \"Equalized_Odds_TPR\", \"Metric_Value\": -0.003950317571726147, \"Model_Name\": \"boost_clean\", \"Null_Imputer_Name\": \"boost_clean\", \"Evaluation_Scenario\": \"mixed_exp\", \"Virny_Random_State\": 200, \"Test_Set_Index\": 0, \"Dataset_Name\": \"heart\", \"Baseline_Median\": null}, {\"Metric\": \"Equalized_Odds_TPR\", \"Metric_Value\": -0.016905699555483822, \"Model_Name\": \"boost_clean\", \"Null_Imputer_Name\": \"boost_clean\", \"Evaluation_Scenario\": \"mixed_exp\", \"Virny_Random_State\": 600, \"Test_Set_Index\": 0, \"Dataset_Name\": \"heart\", \"Baseline_Median\": null}]}}, {\"mode\": \"vega-lite\"});\n",
       "</script>"
      ],
      "text/plain": [
       "alt.FacetChart(...)"
      ]
     },
     "execution_count": 12,
     "metadata": {},
     "output_type": "execute_result"
    }
   ],
   "execution_count": 12
  },
  {
   "cell_type": "code",
   "id": "bfdaa4025dbeb95a",
   "metadata": {
    "collapsed": false,
    "jupyter": {
     "outputs_hidden": false
    },
    "ExecuteTime": {
     "end_time": "2024-09-22T09:28:03.503065Z",
     "start_time": "2024-09-22T09:28:01.759709Z"
    }
   },
   "source": [
    "create_box_plots_for_diff_imputers_and_models(dataset_name=DATASET_NAME,\n",
    "                                              metric_name='Equalized_Odds_FNR',\n",
    "                                              db_client=db_client,\n",
    "                                              group=SENSITIVE_ATTR_FOR_DISPARITY_METRICS)"
   ],
   "outputs": [
    {
     "data": {
      "text/html": [
       "\n",
       "<div id=\"altair-viz-62738096b0604f758696b90dadcec182\"></div>\n",
       "<script type=\"text/javascript\">\n",
       "  var VEGA_DEBUG = (typeof VEGA_DEBUG == \"undefined\") ? {} : VEGA_DEBUG;\n",
       "  (function(spec, embedOpt){\n",
       "    let outputDiv = document.currentScript.previousElementSibling;\n",
       "    if (outputDiv.id !== \"altair-viz-62738096b0604f758696b90dadcec182\") {\n",
       "      outputDiv = document.getElementById(\"altair-viz-62738096b0604f758696b90dadcec182\");\n",
       "    }\n",
       "    const paths = {\n",
       "      \"vega\": \"https://cdn.jsdelivr.net/npm//vega@5?noext\",\n",
       "      \"vega-lib\": \"https://cdn.jsdelivr.net/npm//vega-lib?noext\",\n",
       "      \"vega-lite\": \"https://cdn.jsdelivr.net/npm//vega-lite@4.17.0?noext\",\n",
       "      \"vega-embed\": \"https://cdn.jsdelivr.net/npm//vega-embed@6?noext\",\n",
       "    };\n",
       "\n",
       "    function maybeLoadScript(lib, version) {\n",
       "      var key = `${lib.replace(\"-\", \"\")}_version`;\n",
       "      return (VEGA_DEBUG[key] == version) ?\n",
       "        Promise.resolve(paths[lib]) :\n",
       "        new Promise(function(resolve, reject) {\n",
       "          var s = document.createElement('script');\n",
       "          document.getElementsByTagName(\"head\")[0].appendChild(s);\n",
       "          s.async = true;\n",
       "          s.onload = () => {\n",
       "            VEGA_DEBUG[key] = version;\n",
       "            return resolve(paths[lib]);\n",
       "          };\n",
       "          s.onerror = () => reject(`Error loading script: ${paths[lib]}`);\n",
       "          s.src = paths[lib];\n",
       "        });\n",
       "    }\n",
       "\n",
       "    function showError(err) {\n",
       "      outputDiv.innerHTML = `<div class=\"error\" style=\"color:red;\">${err}</div>`;\n",
       "      throw err;\n",
       "    }\n",
       "\n",
       "    function displayChart(vegaEmbed) {\n",
       "      vegaEmbed(outputDiv, spec, embedOpt)\n",
       "        .catch(err => showError(`Javascript Error: ${err.message}<br>This usually means there's a typo in your chart specification. See the javascript console for the full traceback.`));\n",
       "    }\n",
       "\n",
       "    if(typeof define === \"function\" && define.amd) {\n",
       "      requirejs.config({paths});\n",
       "      require([\"vega-embed\"], displayChart, err => showError(`Error loading script: ${err.message}`));\n",
       "    } else {\n",
       "      maybeLoadScript(\"vega\", \"5\")\n",
       "        .then(() => maybeLoadScript(\"vega-lite\", \"4.17.0\"))\n",
       "        .then(() => maybeLoadScript(\"vega-embed\", \"6\"))\n",
       "        .catch(showError)\n",
       "        .then(() => displayChart(vegaEmbed));\n",
       "    }\n",
       "  })({\"config\": {\"view\": {\"continuousWidth\": 400, \"continuousHeight\": 300, \"stroke\": null}, \"axis\": {\"labelFontSize\": 22, \"labelFontWeight\": \"normal\", \"titleFontSize\": 24, \"titleFontWeight\": \"normal\"}, \"facet\": {\"spacing\": 5}, \"header\": {\"labelFontSize\": 20, \"labelOrient\": \"bottom\", \"labelPadding\": 5, \"titleFontSize\": 24}, \"legend\": {\"columns\": 4, \"direction\": \"horizontal\", \"labelFontSize\": 20, \"labelLimit\": 400, \"orient\": \"top\", \"symbolOffset\": 50, \"symbolStrokeWidth\": 10, \"titleAnchor\": \"middle\", \"titleFontSize\": 22, \"titleLimit\": 300}, \"title\": {\"fontSize\": 24}}, \"data\": {\"name\": \"data-c70671e4654c23dcc41ef4e9c75e7dc3\"}, \"facet\": {\"column\": {\"field\": \"Model_Name\", \"sort\": [\"dt_clf\", \"lr_clf\", \"lgbm_clf\", \"rf_clf\", \"mlp_clf\"], \"title\": null, \"type\": \"nominal\"}}, \"spec\": {\"layer\": [{\"mark\": {\"type\": \"boxplot\", \"median\": {\"stroke\": \"black\", \"strokeWidth\": 0.7}, \"ticks\": true}, \"encoding\": {\"color\": {\"field\": \"Null_Imputer_Name\", \"sort\": [\"deletion\", \"median-mode\", \"median-dummy\", \"miss_forest\", \"k_means_clustering\", \"datawig\", \"automl\", \"boost_clean\"], \"title\": null, \"type\": \"nominal\"}, \"x\": {\"axis\": {\"labels\": false}, \"field\": \"Null_Imputer_Name\", \"sort\": [\"deletion\", \"median-mode\", \"median-dummy\", \"miss_forest\", \"k_means_clustering\", \"datawig\", \"automl\", \"boost_clean\"], \"title\": null, \"type\": \"nominal\"}, \"y\": {\"field\": \"Metric_Value\", \"scale\": {\"zero\": false}, \"title\": \"FNRD\", \"type\": \"quantitative\"}}}, {\"mark\": \"rule\", \"encoding\": {\"color\": {\"value\": \"blue\"}, \"size\": {\"value\": 2}, \"y\": {\"field\": \"Baseline_Median\", \"type\": \"quantitative\"}}}], \"width\": 150}, \"resolve\": {\"scale\": {\"x\": \"independent\"}}, \"$schema\": \"https://vega.github.io/schema/vega-lite/v4.17.0.json\", \"datasets\": {\"data-c70671e4654c23dcc41ef4e9c75e7dc3\": [{\"Metric\": \"Equalized_Odds_FNR\", \"Metric_Value\": -0.013011302767965693, \"Model_Name\": \"gandalf_clf\", \"Null_Imputer_Name\": \"deletion\", \"Evaluation_Scenario\": \"mixed_exp\", \"Virny_Random_State\": 400, \"Test_Set_Index\": 0, \"Dataset_Name\": \"heart\", \"Baseline_Median\": -0.011231212915868871}, {\"Metric\": \"Equalized_Odds_FNR\", \"Metric_Value\": 0.013641042158256234, \"Model_Name\": \"gandalf_clf\", \"Null_Imputer_Name\": \"deletion\", \"Evaluation_Scenario\": \"mixed_exp\", \"Virny_Random_State\": 500, \"Test_Set_Index\": 0, \"Dataset_Name\": \"heart\", \"Baseline_Median\": -0.011231212915868871}, {\"Metric\": \"Equalized_Odds_FNR\", \"Metric_Value\": -0.006691700746889351, \"Model_Name\": \"gandalf_clf\", \"Null_Imputer_Name\": \"deletion\", \"Evaluation_Scenario\": \"mixed_exp\", \"Virny_Random_State\": 100, \"Test_Set_Index\": 0, \"Dataset_Name\": \"heart\", \"Baseline_Median\": -0.011231212915868871}, {\"Metric\": \"Equalized_Odds_FNR\", \"Metric_Value\": -0.022816052184081947, \"Model_Name\": \"gandalf_clf\", \"Null_Imputer_Name\": \"deletion\", \"Evaluation_Scenario\": \"mixed_exp\", \"Virny_Random_State\": 300, \"Test_Set_Index\": 0, \"Dataset_Name\": \"heart\", \"Baseline_Median\": -0.011231212915868871}, {\"Metric\": \"Equalized_Odds_FNR\", \"Metric_Value\": -0.01968759287598132, \"Model_Name\": \"gandalf_clf\", \"Null_Imputer_Name\": \"deletion\", \"Evaluation_Scenario\": \"mixed_exp\", \"Virny_Random_State\": 200, \"Test_Set_Index\": 0, \"Dataset_Name\": \"heart\", \"Baseline_Median\": -0.011231212915868871}, {\"Metric\": \"Equalized_Odds_FNR\", \"Metric_Value\": -0.0019733939364543485, \"Model_Name\": \"gandalf_clf\", \"Null_Imputer_Name\": \"deletion\", \"Evaluation_Scenario\": \"mixed_exp\", \"Virny_Random_State\": 600, \"Test_Set_Index\": 0, \"Dataset_Name\": \"heart\", \"Baseline_Median\": -0.011231212915868871}, {\"Metric\": \"Equalized_Odds_FNR\", \"Metric_Value\": -0.020222381869245465, \"Model_Name\": \"gandalf_clf\", \"Null_Imputer_Name\": \"datawig\", \"Evaluation_Scenario\": \"mixed_exp\", \"Virny_Random_State\": 400, \"Test_Set_Index\": 0, \"Dataset_Name\": \"heart\", \"Baseline_Median\": -0.011231212915868871}, {\"Metric\": \"Equalized_Odds_FNR\", \"Metric_Value\": 0.006975962582009387, \"Model_Name\": \"gandalf_clf\", \"Null_Imputer_Name\": \"datawig\", \"Evaluation_Scenario\": \"mixed_exp\", \"Virny_Random_State\": 500, \"Test_Set_Index\": 0, \"Dataset_Name\": \"heart\", \"Baseline_Median\": -0.011231212915868871}, {\"Metric\": \"Equalized_Odds_FNR\", \"Metric_Value\": -0.004568095283571549, \"Model_Name\": \"gandalf_clf\", \"Null_Imputer_Name\": \"datawig\", \"Evaluation_Scenario\": \"mixed_exp\", \"Virny_Random_State\": 100, \"Test_Set_Index\": 0, \"Dataset_Name\": \"heart\", \"Baseline_Median\": -0.011231212915868871}, {\"Metric\": \"Equalized_Odds_FNR\", \"Metric_Value\": -0.0014620447705949169, \"Model_Name\": \"gandalf_clf\", \"Null_Imputer_Name\": \"datawig\", \"Evaluation_Scenario\": \"mixed_exp\", \"Virny_Random_State\": 300, \"Test_Set_Index\": 0, \"Dataset_Name\": \"heart\", \"Baseline_Median\": -0.011231212915868871}, {\"Metric\": \"Equalized_Odds_FNR\", \"Metric_Value\": -0.016274977169722427, \"Model_Name\": \"gandalf_clf\", \"Null_Imputer_Name\": \"datawig\", \"Evaluation_Scenario\": \"mixed_exp\", \"Virny_Random_State\": 200, \"Test_Set_Index\": 0, \"Dataset_Name\": \"heart\", \"Baseline_Median\": -0.011231212915868871}, {\"Metric\": \"Equalized_Odds_FNR\", \"Metric_Value\": -0.015127039544870713, \"Model_Name\": \"gandalf_clf\", \"Null_Imputer_Name\": \"datawig\", \"Evaluation_Scenario\": \"mixed_exp\", \"Virny_Random_State\": 600, \"Test_Set_Index\": 0, \"Dataset_Name\": \"heart\", \"Baseline_Median\": -0.011231212915868871}, {\"Metric\": \"Equalized_Odds_FNR\", \"Metric_Value\": -0.02253668061265851, \"Model_Name\": \"gandalf_clf\", \"Null_Imputer_Name\": \"k_means_clustering\", \"Evaluation_Scenario\": \"mixed_exp\", \"Virny_Random_State\": 400, \"Test_Set_Index\": 0, \"Dataset_Name\": \"heart\", \"Baseline_Median\": -0.011231212915868871}, {\"Metric\": \"Equalized_Odds_FNR\", \"Metric_Value\": 0.010204174514595377, \"Model_Name\": \"gandalf_clf\", \"Null_Imputer_Name\": \"k_means_clustering\", \"Evaluation_Scenario\": \"mixed_exp\", \"Virny_Random_State\": 500, \"Test_Set_Index\": 0, \"Dataset_Name\": \"heart\", \"Baseline_Median\": -0.011231212915868871}, {\"Metric\": \"Equalized_Odds_FNR\", \"Metric_Value\": -0.012592402647344292, \"Model_Name\": \"gandalf_clf\", \"Null_Imputer_Name\": \"k_means_clustering\", \"Evaluation_Scenario\": \"mixed_exp\", \"Virny_Random_State\": 100, \"Test_Set_Index\": 0, \"Dataset_Name\": \"heart\", \"Baseline_Median\": -0.011231212915868871}, {\"Metric\": \"Equalized_Odds_FNR\", \"Metric_Value\": -0.007894129827215324, \"Model_Name\": \"gandalf_clf\", \"Null_Imputer_Name\": \"k_means_clustering\", \"Evaluation_Scenario\": \"mixed_exp\", \"Virny_Random_State\": 300, \"Test_Set_Index\": 0, \"Dataset_Name\": \"heart\", \"Baseline_Median\": -0.011231212915868871}, {\"Metric\": \"Equalized_Odds_FNR\", \"Metric_Value\": -0.009494839268185451, \"Model_Name\": \"gandalf_clf\", \"Null_Imputer_Name\": \"k_means_clustering\", \"Evaluation_Scenario\": \"mixed_exp\", \"Virny_Random_State\": 200, \"Test_Set_Index\": 0, \"Dataset_Name\": \"heart\", \"Baseline_Median\": -0.011231212915868871}, {\"Metric\": \"Equalized_Odds_FNR\", \"Metric_Value\": -0.009533577988863728, \"Model_Name\": \"gandalf_clf\", \"Null_Imputer_Name\": \"k_means_clustering\", \"Evaluation_Scenario\": \"mixed_exp\", \"Virny_Random_State\": 600, \"Test_Set_Index\": 0, \"Dataset_Name\": \"heart\", \"Baseline_Median\": -0.011231212915868871}, {\"Metric\": \"Equalized_Odds_FNR\", \"Metric_Value\": -0.02288312872777809, \"Model_Name\": \"gandalf_clf\", \"Null_Imputer_Name\": \"automl\", \"Evaluation_Scenario\": \"mixed_exp\", \"Virny_Random_State\": 400, \"Test_Set_Index\": 0, \"Dataset_Name\": \"heart\", \"Baseline_Median\": -0.011231212915868871}, {\"Metric\": \"Equalized_Odds_FNR\", \"Metric_Value\": 0.009392482792905665, \"Model_Name\": \"gandalf_clf\", \"Null_Imputer_Name\": \"automl\", \"Evaluation_Scenario\": \"mixed_exp\", \"Virny_Random_State\": 500, \"Test_Set_Index\": 0, \"Dataset_Name\": \"heart\", \"Baseline_Median\": -0.011231212915868871}, {\"Metric\": \"Equalized_Odds_FNR\", \"Metric_Value\": -0.003835574951075893, \"Model_Name\": \"gandalf_clf\", \"Null_Imputer_Name\": \"automl\", \"Evaluation_Scenario\": \"mixed_exp\", \"Virny_Random_State\": 100, \"Test_Set_Index\": 0, \"Dataset_Name\": \"heart\", \"Baseline_Median\": -0.011231212915868871}, {\"Metric\": \"Equalized_Odds_FNR\", \"Metric_Value\": -0.002977196285746442, \"Model_Name\": \"gandalf_clf\", \"Null_Imputer_Name\": \"automl\", \"Evaluation_Scenario\": \"mixed_exp\", \"Virny_Random_State\": 300, \"Test_Set_Index\": 0, \"Dataset_Name\": \"heart\", \"Baseline_Median\": -0.011231212915868871}, {\"Metric\": \"Equalized_Odds_FNR\", \"Metric_Value\": -0.019233507520895587, \"Model_Name\": \"gandalf_clf\", \"Null_Imputer_Name\": \"automl\", \"Evaluation_Scenario\": \"mixed_exp\", \"Virny_Random_State\": 200, \"Test_Set_Index\": 0, \"Dataset_Name\": \"heart\", \"Baseline_Median\": -0.011231212915868871}, {\"Metric\": \"Equalized_Odds_FNR\", \"Metric_Value\": -0.015575829120258844, \"Model_Name\": \"gandalf_clf\", \"Null_Imputer_Name\": \"automl\", \"Evaluation_Scenario\": \"mixed_exp\", \"Virny_Random_State\": 600, \"Test_Set_Index\": 0, \"Dataset_Name\": \"heart\", \"Baseline_Median\": -0.011231212915868871}, {\"Metric\": \"Equalized_Odds_FNR\", \"Metric_Value\": -0.021450829521107162, \"Model_Name\": \"gandalf_clf\", \"Null_Imputer_Name\": \"median-dummy\", \"Evaluation_Scenario\": \"mixed_exp\", \"Virny_Random_State\": 400, \"Test_Set_Index\": 0, \"Dataset_Name\": \"heart\", \"Baseline_Median\": -0.011231212915868871}, {\"Metric\": \"Equalized_Odds_FNR\", \"Metric_Value\": 0.01024145946967836, \"Model_Name\": \"gandalf_clf\", \"Null_Imputer_Name\": \"median-dummy\", \"Evaluation_Scenario\": \"mixed_exp\", \"Virny_Random_State\": 500, \"Test_Set_Index\": 0, \"Dataset_Name\": \"heart\", \"Baseline_Median\": -0.011231212915868871}, {\"Metric\": \"Equalized_Odds_FNR\", \"Metric_Value\": -0.013748342595802265, \"Model_Name\": \"gandalf_clf\", \"Null_Imputer_Name\": \"median-dummy\", \"Evaluation_Scenario\": \"mixed_exp\", \"Virny_Random_State\": 100, \"Test_Set_Index\": 0, \"Dataset_Name\": \"heart\", \"Baseline_Median\": -0.011231212915868871}, {\"Metric\": \"Equalized_Odds_FNR\", \"Metric_Value\": -0.004095388296131819, \"Model_Name\": \"gandalf_clf\", \"Null_Imputer_Name\": \"median-dummy\", \"Evaluation_Scenario\": \"mixed_exp\", \"Virny_Random_State\": 300, \"Test_Set_Index\": 0, \"Dataset_Name\": \"heart\", \"Baseline_Median\": -0.011231212915868871}, {\"Metric\": \"Equalized_Odds_FNR\", \"Metric_Value\": -0.014381319729554143, \"Model_Name\": \"gandalf_clf\", \"Null_Imputer_Name\": \"median-dummy\", \"Evaluation_Scenario\": \"mixed_exp\", \"Virny_Random_State\": 200, \"Test_Set_Index\": 0, \"Dataset_Name\": \"heart\", \"Baseline_Median\": -0.011231212915868871}, {\"Metric\": \"Equalized_Odds_FNR\", \"Metric_Value\": -0.015441318464075815, \"Model_Name\": \"gandalf_clf\", \"Null_Imputer_Name\": \"median-dummy\", \"Evaluation_Scenario\": \"mixed_exp\", \"Virny_Random_State\": 600, \"Test_Set_Index\": 0, \"Dataset_Name\": \"heart\", \"Baseline_Median\": -0.011231212915868871}, {\"Metric\": \"Equalized_Odds_FNR\", \"Metric_Value\": -0.02020455729920667, \"Model_Name\": \"gandalf_clf\", \"Null_Imputer_Name\": \"miss_forest\", \"Evaluation_Scenario\": \"mixed_exp\", \"Virny_Random_State\": 400, \"Test_Set_Index\": 0, \"Dataset_Name\": \"heart\", \"Baseline_Median\": -0.011231212915868871}, {\"Metric\": \"Equalized_Odds_FNR\", \"Metric_Value\": 0.010245135451165455, \"Model_Name\": \"gandalf_clf\", \"Null_Imputer_Name\": \"miss_forest\", \"Evaluation_Scenario\": \"mixed_exp\", \"Virny_Random_State\": 500, \"Test_Set_Index\": 0, \"Dataset_Name\": \"heart\", \"Baseline_Median\": -0.011231212915868871}, {\"Metric\": \"Equalized_Odds_FNR\", \"Metric_Value\": -0.005945813896922003, \"Model_Name\": \"gandalf_clf\", \"Null_Imputer_Name\": \"miss_forest\", \"Evaluation_Scenario\": \"mixed_exp\", \"Virny_Random_State\": 100, \"Test_Set_Index\": 0, \"Dataset_Name\": \"heart\", \"Baseline_Median\": -0.011231212915868871}, {\"Metric\": \"Equalized_Odds_FNR\", \"Metric_Value\": -0.0037437572753557524, \"Model_Name\": \"gandalf_clf\", \"Null_Imputer_Name\": \"miss_forest\", \"Evaluation_Scenario\": \"mixed_exp\", \"Virny_Random_State\": 300, \"Test_Set_Index\": 0, \"Dataset_Name\": \"heart\", \"Baseline_Median\": -0.011231212915868871}, {\"Metric\": \"Equalized_Odds_FNR\", \"Metric_Value\": -0.01904044248885217, \"Model_Name\": \"gandalf_clf\", \"Null_Imputer_Name\": \"miss_forest\", \"Evaluation_Scenario\": \"mixed_exp\", \"Virny_Random_State\": 200, \"Test_Set_Index\": 0, \"Dataset_Name\": \"heart\", \"Baseline_Median\": -0.011231212915868871}, {\"Metric\": \"Equalized_Odds_FNR\", \"Metric_Value\": -0.016291115679344603, \"Model_Name\": \"gandalf_clf\", \"Null_Imputer_Name\": \"miss_forest\", \"Evaluation_Scenario\": \"mixed_exp\", \"Virny_Random_State\": 600, \"Test_Set_Index\": 0, \"Dataset_Name\": \"heart\", \"Baseline_Median\": -0.011231212915868871}, {\"Metric\": \"Equalized_Odds_FNR\", \"Metric_Value\": -0.022008096154959744, \"Model_Name\": \"gandalf_clf\", \"Null_Imputer_Name\": \"median-mode\", \"Evaluation_Scenario\": \"mixed_exp\", \"Virny_Random_State\": 400, \"Test_Set_Index\": 0, \"Dataset_Name\": \"heart\", \"Baseline_Median\": -0.011231212915868871}, {\"Metric\": \"Equalized_Odds_FNR\", \"Metric_Value\": 0.009198881101254053, \"Model_Name\": \"gandalf_clf\", \"Null_Imputer_Name\": \"median-mode\", \"Evaluation_Scenario\": \"mixed_exp\", \"Virny_Random_State\": 500, \"Test_Set_Index\": 0, \"Dataset_Name\": \"heart\", \"Baseline_Median\": -0.011231212915868871}, {\"Metric\": \"Equalized_Odds_FNR\", \"Metric_Value\": -0.006422963395616044, \"Model_Name\": \"gandalf_clf\", \"Null_Imputer_Name\": \"median-mode\", \"Evaluation_Scenario\": \"mixed_exp\", \"Virny_Random_State\": 100, \"Test_Set_Index\": 0, \"Dataset_Name\": \"heart\", \"Baseline_Median\": -0.011231212915868871}, {\"Metric\": \"Equalized_Odds_FNR\", \"Metric_Value\": -0.00260383977856099, \"Model_Name\": \"gandalf_clf\", \"Null_Imputer_Name\": \"median-mode\", \"Evaluation_Scenario\": \"mixed_exp\", \"Virny_Random_State\": 300, \"Test_Set_Index\": 0, \"Dataset_Name\": \"heart\", \"Baseline_Median\": -0.011231212915868871}, {\"Metric\": \"Equalized_Odds_FNR\", \"Metric_Value\": -0.017149485258922237, \"Model_Name\": \"gandalf_clf\", \"Null_Imputer_Name\": \"median-mode\", \"Evaluation_Scenario\": \"mixed_exp\", \"Virny_Random_State\": 200, \"Test_Set_Index\": 0, \"Dataset_Name\": \"heart\", \"Baseline_Median\": -0.011231212915868871}, {\"Metric\": \"Equalized_Odds_FNR\", \"Metric_Value\": -0.01588884587512973, \"Model_Name\": \"gandalf_clf\", \"Null_Imputer_Name\": \"median-mode\", \"Evaluation_Scenario\": \"mixed_exp\", \"Virny_Random_State\": 600, \"Test_Set_Index\": 0, \"Dataset_Name\": \"heart\", \"Baseline_Median\": -0.011231212915868871}, {\"Metric\": \"Equalized_Odds_FNR\", \"Metric_Value\": 0.027378087179338706, \"Model_Name\": \"boost_clean\", \"Null_Imputer_Name\": \"boost_clean\", \"Evaluation_Scenario\": \"mixed_exp\", \"Virny_Random_State\": 400, \"Test_Set_Index\": 0, \"Dataset_Name\": \"heart\", \"Baseline_Median\": null}, {\"Metric\": \"Equalized_Odds_FNR\", \"Metric_Value\": 0.0322994489528704, \"Model_Name\": \"boost_clean\", \"Null_Imputer_Name\": \"boost_clean\", \"Evaluation_Scenario\": \"mixed_exp\", \"Virny_Random_State\": 500, \"Test_Set_Index\": 0, \"Dataset_Name\": \"heart\", \"Baseline_Median\": null}, {\"Metric\": \"Equalized_Odds_FNR\", \"Metric_Value\": 0.017428443843654662, \"Model_Name\": \"boost_clean\", \"Null_Imputer_Name\": \"boost_clean\", \"Evaluation_Scenario\": \"mixed_exp\", \"Virny_Random_State\": 100, \"Test_Set_Index\": 0, \"Dataset_Name\": \"heart\", \"Baseline_Median\": null}, {\"Metric\": \"Equalized_Odds_FNR\", \"Metric_Value\": 0.0241139488351384, \"Model_Name\": \"boost_clean\", \"Null_Imputer_Name\": \"boost_clean\", \"Evaluation_Scenario\": \"mixed_exp\", \"Virny_Random_State\": 300, \"Test_Set_Index\": 0, \"Dataset_Name\": \"heart\", \"Baseline_Median\": null}, {\"Metric\": \"Equalized_Odds_FNR\", \"Metric_Value\": 0.003950317571726147, \"Model_Name\": \"boost_clean\", \"Null_Imputer_Name\": \"boost_clean\", \"Evaluation_Scenario\": \"mixed_exp\", \"Virny_Random_State\": 200, \"Test_Set_Index\": 0, \"Dataset_Name\": \"heart\", \"Baseline_Median\": null}, {\"Metric\": \"Equalized_Odds_FNR\", \"Metric_Value\": 0.016905699555483766, \"Model_Name\": \"boost_clean\", \"Null_Imputer_Name\": \"boost_clean\", \"Evaluation_Scenario\": \"mixed_exp\", \"Virny_Random_State\": 600, \"Test_Set_Index\": 0, \"Dataset_Name\": \"heart\", \"Baseline_Median\": null}]}}, {\"mode\": \"vega-lite\"});\n",
       "</script>"
      ],
      "text/plain": [
       "alt.FacetChart(...)"
      ]
     },
     "execution_count": 13,
     "metadata": {},
     "output_type": "execute_result"
    }
   ],
   "execution_count": 13
  },
  {
   "cell_type": "code",
   "id": "cf55eb93e728b502",
   "metadata": {
    "collapsed": false,
    "jupyter": {
     "outputs_hidden": false
    },
    "ExecuteTime": {
     "end_time": "2024-09-22T09:28:05.196715Z",
     "start_time": "2024-09-22T09:28:03.517778Z"
    }
   },
   "source": [
    "create_box_plots_for_diff_imputers_and_models(dataset_name=DATASET_NAME,\n",
    "                                              metric_name='Disparate_Impact',\n",
    "                                              db_client=db_client,\n",
    "                                              group=SENSITIVE_ATTR_FOR_DISPARITY_METRICS)"
   ],
   "outputs": [
    {
     "data": {
      "text/html": [
       "\n",
       "<div id=\"altair-viz-1af56c35f29b4c82a7527851da3d3128\"></div>\n",
       "<script type=\"text/javascript\">\n",
       "  var VEGA_DEBUG = (typeof VEGA_DEBUG == \"undefined\") ? {} : VEGA_DEBUG;\n",
       "  (function(spec, embedOpt){\n",
       "    let outputDiv = document.currentScript.previousElementSibling;\n",
       "    if (outputDiv.id !== \"altair-viz-1af56c35f29b4c82a7527851da3d3128\") {\n",
       "      outputDiv = document.getElementById(\"altair-viz-1af56c35f29b4c82a7527851da3d3128\");\n",
       "    }\n",
       "    const paths = {\n",
       "      \"vega\": \"https://cdn.jsdelivr.net/npm//vega@5?noext\",\n",
       "      \"vega-lib\": \"https://cdn.jsdelivr.net/npm//vega-lib?noext\",\n",
       "      \"vega-lite\": \"https://cdn.jsdelivr.net/npm//vega-lite@4.17.0?noext\",\n",
       "      \"vega-embed\": \"https://cdn.jsdelivr.net/npm//vega-embed@6?noext\",\n",
       "    };\n",
       "\n",
       "    function maybeLoadScript(lib, version) {\n",
       "      var key = `${lib.replace(\"-\", \"\")}_version`;\n",
       "      return (VEGA_DEBUG[key] == version) ?\n",
       "        Promise.resolve(paths[lib]) :\n",
       "        new Promise(function(resolve, reject) {\n",
       "          var s = document.createElement('script');\n",
       "          document.getElementsByTagName(\"head\")[0].appendChild(s);\n",
       "          s.async = true;\n",
       "          s.onload = () => {\n",
       "            VEGA_DEBUG[key] = version;\n",
       "            return resolve(paths[lib]);\n",
       "          };\n",
       "          s.onerror = () => reject(`Error loading script: ${paths[lib]}`);\n",
       "          s.src = paths[lib];\n",
       "        });\n",
       "    }\n",
       "\n",
       "    function showError(err) {\n",
       "      outputDiv.innerHTML = `<div class=\"error\" style=\"color:red;\">${err}</div>`;\n",
       "      throw err;\n",
       "    }\n",
       "\n",
       "    function displayChart(vegaEmbed) {\n",
       "      vegaEmbed(outputDiv, spec, embedOpt)\n",
       "        .catch(err => showError(`Javascript Error: ${err.message}<br>This usually means there's a typo in your chart specification. See the javascript console for the full traceback.`));\n",
       "    }\n",
       "\n",
       "    if(typeof define === \"function\" && define.amd) {\n",
       "      requirejs.config({paths});\n",
       "      require([\"vega-embed\"], displayChart, err => showError(`Error loading script: ${err.message}`));\n",
       "    } else {\n",
       "      maybeLoadScript(\"vega\", \"5\")\n",
       "        .then(() => maybeLoadScript(\"vega-lite\", \"4.17.0\"))\n",
       "        .then(() => maybeLoadScript(\"vega-embed\", \"6\"))\n",
       "        .catch(showError)\n",
       "        .then(() => displayChart(vegaEmbed));\n",
       "    }\n",
       "  })({\"config\": {\"view\": {\"continuousWidth\": 400, \"continuousHeight\": 300, \"stroke\": null}, \"axis\": {\"labelFontSize\": 22, \"labelFontWeight\": \"normal\", \"titleFontSize\": 24, \"titleFontWeight\": \"normal\"}, \"facet\": {\"spacing\": 5}, \"header\": {\"labelFontSize\": 20, \"labelOrient\": \"bottom\", \"labelPadding\": 5, \"titleFontSize\": 24}, \"legend\": {\"columns\": 4, \"direction\": \"horizontal\", \"labelFontSize\": 20, \"labelLimit\": 400, \"orient\": \"top\", \"symbolOffset\": 50, \"symbolStrokeWidth\": 10, \"titleAnchor\": \"middle\", \"titleFontSize\": 22, \"titleLimit\": 300}, \"title\": {\"fontSize\": 24}}, \"data\": {\"name\": \"data-1c5d42a96cbf15fa444545918dfa5238\"}, \"facet\": {\"column\": {\"field\": \"Model_Name\", \"sort\": [\"dt_clf\", \"lr_clf\", \"lgbm_clf\", \"rf_clf\", \"mlp_clf\"], \"title\": null, \"type\": \"nominal\"}}, \"spec\": {\"layer\": [{\"mark\": {\"type\": \"boxplot\", \"median\": {\"stroke\": \"black\", \"strokeWidth\": 0.7}, \"ticks\": true}, \"encoding\": {\"color\": {\"field\": \"Null_Imputer_Name\", \"sort\": [\"deletion\", \"median-mode\", \"median-dummy\", \"miss_forest\", \"k_means_clustering\", \"datawig\", \"automl\", \"boost_clean\"], \"title\": null, \"type\": \"nominal\"}, \"x\": {\"axis\": {\"labels\": false}, \"field\": \"Null_Imputer_Name\", \"sort\": [\"deletion\", \"median-mode\", \"median-dummy\", \"miss_forest\", \"k_means_clustering\", \"datawig\", \"automl\", \"boost_clean\"], \"title\": null, \"type\": \"nominal\"}, \"y\": {\"field\": \"Metric_Value\", \"scale\": {\"zero\": false}, \"title\": \"Disparate Impact\", \"type\": \"quantitative\"}}}, {\"mark\": \"rule\", \"encoding\": {\"color\": {\"value\": \"blue\"}, \"size\": {\"value\": 2}, \"y\": {\"field\": \"Baseline_Median\", \"type\": \"quantitative\"}}}], \"width\": 150}, \"resolve\": {\"scale\": {\"x\": \"independent\"}}, \"$schema\": \"https://vega.github.io/schema/vega-lite/v4.17.0.json\", \"datasets\": {\"data-1c5d42a96cbf15fa444545918dfa5238\": [{\"Metric\": \"Disparate_Impact\", \"Metric_Value\": 0.9869327107148514, \"Model_Name\": \"gandalf_clf\", \"Null_Imputer_Name\": \"deletion\", \"Evaluation_Scenario\": \"mixed_exp\", \"Virny_Random_State\": 400, \"Test_Set_Index\": 0, \"Dataset_Name\": \"heart\", \"Baseline_Median\": 1.0112670818994312}, {\"Metric\": \"Disparate_Impact\", \"Metric_Value\": 0.9680410305233061, \"Model_Name\": \"gandalf_clf\", \"Null_Imputer_Name\": \"deletion\", \"Evaluation_Scenario\": \"mixed_exp\", \"Virny_Random_State\": 500, \"Test_Set_Index\": 0, \"Dataset_Name\": \"heart\", \"Baseline_Median\": 1.0112670818994312}, {\"Metric\": \"Disparate_Impact\", \"Metric_Value\": 1.0087142575224088, \"Model_Name\": \"gandalf_clf\", \"Null_Imputer_Name\": \"deletion\", \"Evaluation_Scenario\": \"mixed_exp\", \"Virny_Random_State\": 100, \"Test_Set_Index\": 0, \"Dataset_Name\": \"heart\", \"Baseline_Median\": 1.0112670818994312}, {\"Metric\": \"Disparate_Impact\", \"Metric_Value\": 1.0403218890227588, \"Model_Name\": \"gandalf_clf\", \"Null_Imputer_Name\": \"deletion\", \"Evaluation_Scenario\": \"mixed_exp\", \"Virny_Random_State\": 300, \"Test_Set_Index\": 0, \"Dataset_Name\": \"heart\", \"Baseline_Median\": 1.0112670818994312}, {\"Metric\": \"Disparate_Impact\", \"Metric_Value\": 1.0266788268363312, \"Model_Name\": \"gandalf_clf\", \"Null_Imputer_Name\": \"deletion\", \"Evaluation_Scenario\": \"mixed_exp\", \"Virny_Random_State\": 200, \"Test_Set_Index\": 0, \"Dataset_Name\": \"heart\", \"Baseline_Median\": 1.0112670818994312}, {\"Metric\": \"Disparate_Impact\", \"Metric_Value\": 0.9964828363801228, \"Model_Name\": \"gandalf_clf\", \"Null_Imputer_Name\": \"deletion\", \"Evaluation_Scenario\": \"mixed_exp\", \"Virny_Random_State\": 600, \"Test_Set_Index\": 0, \"Dataset_Name\": \"heart\", \"Baseline_Median\": 1.0112670818994312}, {\"Metric\": \"Disparate_Impact\", \"Metric_Value\": 0.9951080915613092, \"Model_Name\": \"gandalf_clf\", \"Null_Imputer_Name\": \"datawig\", \"Evaluation_Scenario\": \"mixed_exp\", \"Virny_Random_State\": 400, \"Test_Set_Index\": 0, \"Dataset_Name\": \"heart\", \"Baseline_Median\": 1.0112670818994312}, {\"Metric\": \"Disparate_Impact\", \"Metric_Value\": 0.9709726486125393, \"Model_Name\": \"gandalf_clf\", \"Null_Imputer_Name\": \"datawig\", \"Evaluation_Scenario\": \"mixed_exp\", \"Virny_Random_State\": 500, \"Test_Set_Index\": 0, \"Dataset_Name\": \"heart\", \"Baseline_Median\": 1.0112670818994312}, {\"Metric\": \"Disparate_Impact\", \"Metric_Value\": 1.0013039982875527, \"Model_Name\": \"gandalf_clf\", \"Null_Imputer_Name\": \"datawig\", \"Evaluation_Scenario\": \"mixed_exp\", \"Virny_Random_State\": 100, \"Test_Set_Index\": 0, \"Dataset_Name\": \"heart\", \"Baseline_Median\": 1.0112670818994312}, {\"Metric\": \"Disparate_Impact\", \"Metric_Value\": 1.002418611278225, \"Model_Name\": \"gandalf_clf\", \"Null_Imputer_Name\": \"datawig\", \"Evaluation_Scenario\": \"mixed_exp\", \"Virny_Random_State\": 300, \"Test_Set_Index\": 0, \"Dataset_Name\": \"heart\", \"Baseline_Median\": 1.0112670818994312}, {\"Metric\": \"Disparate_Impact\", \"Metric_Value\": 1.0237339401635184, \"Model_Name\": \"gandalf_clf\", \"Null_Imputer_Name\": \"datawig\", \"Evaluation_Scenario\": \"mixed_exp\", \"Virny_Random_State\": 200, \"Test_Set_Index\": 0, \"Dataset_Name\": \"heart\", \"Baseline_Median\": 1.0112670818994312}, {\"Metric\": \"Disparate_Impact\", \"Metric_Value\": 1.0133995712443091, \"Model_Name\": \"gandalf_clf\", \"Null_Imputer_Name\": \"datawig\", \"Evaluation_Scenario\": \"mixed_exp\", \"Virny_Random_State\": 600, \"Test_Set_Index\": 0, \"Dataset_Name\": \"heart\", \"Baseline_Median\": 1.0112670818994312}, {\"Metric\": \"Disparate_Impact\", \"Metric_Value\": 0.9983542522311142, \"Model_Name\": \"gandalf_clf\", \"Null_Imputer_Name\": \"k_means_clustering\", \"Evaluation_Scenario\": \"mixed_exp\", \"Virny_Random_State\": 400, \"Test_Set_Index\": 0, \"Dataset_Name\": \"heart\", \"Baseline_Median\": 1.0112670818994312}, {\"Metric\": \"Disparate_Impact\", \"Metric_Value\": 0.971439545460204, \"Model_Name\": \"gandalf_clf\", \"Null_Imputer_Name\": \"k_means_clustering\", \"Evaluation_Scenario\": \"mixed_exp\", \"Virny_Random_State\": 500, \"Test_Set_Index\": 0, \"Dataset_Name\": \"heart\", \"Baseline_Median\": 1.0112670818994312}, {\"Metric\": \"Disparate_Impact\", \"Metric_Value\": 1.0106846043827802, \"Model_Name\": \"gandalf_clf\", \"Null_Imputer_Name\": \"k_means_clustering\", \"Evaluation_Scenario\": \"mixed_exp\", \"Virny_Random_State\": 100, \"Test_Set_Index\": 0, \"Dataset_Name\": \"heart\", \"Baseline_Median\": 1.0112670818994312}, {\"Metric\": \"Disparate_Impact\", \"Metric_Value\": 1.021738225528662, \"Model_Name\": \"gandalf_clf\", \"Null_Imputer_Name\": \"k_means_clustering\", \"Evaluation_Scenario\": \"mixed_exp\", \"Virny_Random_State\": 300, \"Test_Set_Index\": 0, \"Dataset_Name\": \"heart\", \"Baseline_Median\": 1.0112670818994312}, {\"Metric\": \"Disparate_Impact\", \"Metric_Value\": 1.0080255405272414, \"Model_Name\": \"gandalf_clf\", \"Null_Imputer_Name\": \"k_means_clustering\", \"Evaluation_Scenario\": \"mixed_exp\", \"Virny_Random_State\": 200, \"Test_Set_Index\": 0, \"Dataset_Name\": \"heart\", \"Baseline_Median\": 1.0112670818994312}, {\"Metric\": \"Disparate_Impact\", \"Metric_Value\": 0.9971861318522507, \"Model_Name\": \"gandalf_clf\", \"Null_Imputer_Name\": \"k_means_clustering\", \"Evaluation_Scenario\": \"mixed_exp\", \"Virny_Random_State\": 600, \"Test_Set_Index\": 0, \"Dataset_Name\": \"heart\", \"Baseline_Median\": 1.0112670818994312}, {\"Metric\": \"Disparate_Impact\", \"Metric_Value\": 0.99584321967971, \"Model_Name\": \"gandalf_clf\", \"Null_Imputer_Name\": \"automl\", \"Evaluation_Scenario\": \"mixed_exp\", \"Virny_Random_State\": 400, \"Test_Set_Index\": 0, \"Dataset_Name\": \"heart\", \"Baseline_Median\": 1.0112670818994312}, {\"Metric\": \"Disparate_Impact\", \"Metric_Value\": 0.9662776681244832, \"Model_Name\": \"gandalf_clf\", \"Null_Imputer_Name\": \"automl\", \"Evaluation_Scenario\": \"mixed_exp\", \"Virny_Random_State\": 500, \"Test_Set_Index\": 0, \"Dataset_Name\": \"heart\", \"Baseline_Median\": 1.0112670818994312}, {\"Metric\": \"Disparate_Impact\", \"Metric_Value\": 1.0000733204289378, \"Model_Name\": \"gandalf_clf\", \"Null_Imputer_Name\": \"automl\", \"Evaluation_Scenario\": \"mixed_exp\", \"Virny_Random_State\": 100, \"Test_Set_Index\": 0, \"Dataset_Name\": \"heart\", \"Baseline_Median\": 1.0112670818994312}, {\"Metric\": \"Disparate_Impact\", \"Metric_Value\": 1.0048390702632322, \"Model_Name\": \"gandalf_clf\", \"Null_Imputer_Name\": \"automl\", \"Evaluation_Scenario\": \"mixed_exp\", \"Virny_Random_State\": 300, \"Test_Set_Index\": 0, \"Dataset_Name\": \"heart\", \"Baseline_Median\": 1.0112670818994312}, {\"Metric\": \"Disparate_Impact\", \"Metric_Value\": 1.0254998965947573, \"Model_Name\": \"gandalf_clf\", \"Null_Imputer_Name\": \"automl\", \"Evaluation_Scenario\": \"mixed_exp\", \"Virny_Random_State\": 200, \"Test_Set_Index\": 0, \"Dataset_Name\": \"heart\", \"Baseline_Median\": 1.0112670818994312}, {\"Metric\": \"Disparate_Impact\", \"Metric_Value\": 1.0110219551708683, \"Model_Name\": \"gandalf_clf\", \"Null_Imputer_Name\": \"automl\", \"Evaluation_Scenario\": \"mixed_exp\", \"Virny_Random_State\": 600, \"Test_Set_Index\": 0, \"Dataset_Name\": \"heart\", \"Baseline_Median\": 1.0112670818994312}, {\"Metric\": \"Disparate_Impact\", \"Metric_Value\": 0.9936569390251938, \"Model_Name\": \"gandalf_clf\", \"Null_Imputer_Name\": \"median-dummy\", \"Evaluation_Scenario\": \"mixed_exp\", \"Virny_Random_State\": 400, \"Test_Set_Index\": 0, \"Dataset_Name\": \"heart\", \"Baseline_Median\": 1.0112670818994312}, {\"Metric\": \"Disparate_Impact\", \"Metric_Value\": 0.9606468888297276, \"Model_Name\": \"gandalf_clf\", \"Null_Imputer_Name\": \"median-dummy\", \"Evaluation_Scenario\": \"mixed_exp\", \"Virny_Random_State\": 500, \"Test_Set_Index\": 0, \"Dataset_Name\": \"heart\", \"Baseline_Median\": 1.0112670818994312}, {\"Metric\": \"Disparate_Impact\", \"Metric_Value\": 1.0172772295172587, \"Model_Name\": \"gandalf_clf\", \"Null_Imputer_Name\": \"median-dummy\", \"Evaluation_Scenario\": \"mixed_exp\", \"Virny_Random_State\": 100, \"Test_Set_Index\": 0, \"Dataset_Name\": \"heart\", \"Baseline_Median\": 1.0112670818994312}, {\"Metric\": \"Disparate_Impact\", \"Metric_Value\": 1.007522819841443, \"Model_Name\": \"gandalf_clf\", \"Null_Imputer_Name\": \"median-dummy\", \"Evaluation_Scenario\": \"mixed_exp\", \"Virny_Random_State\": 300, \"Test_Set_Index\": 0, \"Dataset_Name\": \"heart\", \"Baseline_Median\": 1.0112670818994312}, {\"Metric\": \"Disparate_Impact\", \"Metric_Value\": 1.0147802201906528, \"Model_Name\": \"gandalf_clf\", \"Null_Imputer_Name\": \"median-dummy\", \"Evaluation_Scenario\": \"mixed_exp\", \"Virny_Random_State\": 200, \"Test_Set_Index\": 0, \"Dataset_Name\": \"heart\", \"Baseline_Median\": 1.0112670818994312}, {\"Metric\": \"Disparate_Impact\", \"Metric_Value\": 1.0102620605594046, \"Model_Name\": \"gandalf_clf\", \"Null_Imputer_Name\": \"median-dummy\", \"Evaluation_Scenario\": \"mixed_exp\", \"Virny_Random_State\": 600, \"Test_Set_Index\": 0, \"Dataset_Name\": \"heart\", \"Baseline_Median\": 1.0112670818994312}, {\"Metric\": \"Disparate_Impact\", \"Metric_Value\": 0.9966642292388622, \"Model_Name\": \"gandalf_clf\", \"Null_Imputer_Name\": \"miss_forest\", \"Evaluation_Scenario\": \"mixed_exp\", \"Virny_Random_State\": 400, \"Test_Set_Index\": 0, \"Dataset_Name\": \"heart\", \"Baseline_Median\": 1.0112670818994312}, {\"Metric\": \"Disparate_Impact\", \"Metric_Value\": 0.9688905850781905, \"Model_Name\": \"gandalf_clf\", \"Null_Imputer_Name\": \"miss_forest\", \"Evaluation_Scenario\": \"mixed_exp\", \"Virny_Random_State\": 500, \"Test_Set_Index\": 0, \"Dataset_Name\": \"heart\", \"Baseline_Median\": 1.0112670818994312}, {\"Metric\": \"Disparate_Impact\", \"Metric_Value\": 1.0032993633980634, \"Model_Name\": \"gandalf_clf\", \"Null_Imputer_Name\": \"miss_forest\", \"Evaluation_Scenario\": \"mixed_exp\", \"Virny_Random_State\": 100, \"Test_Set_Index\": 0, \"Dataset_Name\": \"heart\", \"Baseline_Median\": 1.0112670818994312}, {\"Metric\": \"Disparate_Impact\", \"Metric_Value\": 1.009911688495144, \"Model_Name\": \"gandalf_clf\", \"Null_Imputer_Name\": \"miss_forest\", \"Evaluation_Scenario\": \"mixed_exp\", \"Virny_Random_State\": 300, \"Test_Set_Index\": 0, \"Dataset_Name\": \"heart\", \"Baseline_Median\": 1.0112670818994312}, {\"Metric\": \"Disparate_Impact\", \"Metric_Value\": 1.0242066762686683, \"Model_Name\": \"gandalf_clf\", \"Null_Imputer_Name\": \"miss_forest\", \"Evaluation_Scenario\": \"mixed_exp\", \"Virny_Random_State\": 200, \"Test_Set_Index\": 0, \"Dataset_Name\": \"heart\", \"Baseline_Median\": 1.0112670818994312}, {\"Metric\": \"Disparate_Impact\", \"Metric_Value\": 1.0140156247907224, \"Model_Name\": \"gandalf_clf\", \"Null_Imputer_Name\": \"miss_forest\", \"Evaluation_Scenario\": \"mixed_exp\", \"Virny_Random_State\": 600, \"Test_Set_Index\": 0, \"Dataset_Name\": \"heart\", \"Baseline_Median\": 1.0112670818994312}, {\"Metric\": \"Disparate_Impact\", \"Metric_Value\": 0.9942590695543448, \"Model_Name\": \"gandalf_clf\", \"Null_Imputer_Name\": \"median-mode\", \"Evaluation_Scenario\": \"mixed_exp\", \"Virny_Random_State\": 400, \"Test_Set_Index\": 0, \"Dataset_Name\": \"heart\", \"Baseline_Median\": 1.0112670818994312}, {\"Metric\": \"Disparate_Impact\", \"Metric_Value\": 0.965051739267496, \"Model_Name\": \"gandalf_clf\", \"Null_Imputer_Name\": \"median-mode\", \"Evaluation_Scenario\": \"mixed_exp\", \"Virny_Random_State\": 500, \"Test_Set_Index\": 0, \"Dataset_Name\": \"heart\", \"Baseline_Median\": 1.0112670818994312}, {\"Metric\": \"Disparate_Impact\", \"Metric_Value\": 1.000754760267652, \"Model_Name\": \"gandalf_clf\", \"Null_Imputer_Name\": \"median-mode\", \"Evaluation_Scenario\": \"mixed_exp\", \"Virny_Random_State\": 100, \"Test_Set_Index\": 0, \"Dataset_Name\": \"heart\", \"Baseline_Median\": 1.0112670818994312}, {\"Metric\": \"Disparate_Impact\", \"Metric_Value\": 1.0009529450008237, \"Model_Name\": \"gandalf_clf\", \"Null_Imputer_Name\": \"median-mode\", \"Evaluation_Scenario\": \"mixed_exp\", \"Virny_Random_State\": 300, \"Test_Set_Index\": 0, \"Dataset_Name\": \"heart\", \"Baseline_Median\": 1.0112670818994312}, {\"Metric\": \"Disparate_Impact\", \"Metric_Value\": 1.021232468306847, \"Model_Name\": \"gandalf_clf\", \"Null_Imputer_Name\": \"median-mode\", \"Evaluation_Scenario\": \"mixed_exp\", \"Virny_Random_State\": 200, \"Test_Set_Index\": 0, \"Dataset_Name\": \"heart\", \"Baseline_Median\": 1.0112670818994312}, {\"Metric\": \"Disparate_Impact\", \"Metric_Value\": 1.011274831913452, \"Model_Name\": \"gandalf_clf\", \"Null_Imputer_Name\": \"median-mode\", \"Evaluation_Scenario\": \"mixed_exp\", \"Virny_Random_State\": 600, \"Test_Set_Index\": 0, \"Dataset_Name\": \"heart\", \"Baseline_Median\": 1.0112670818994312}, {\"Metric\": \"Disparate_Impact\", \"Metric_Value\": 0.9259250079295522, \"Model_Name\": \"boost_clean\", \"Null_Imputer_Name\": \"boost_clean\", \"Evaluation_Scenario\": \"mixed_exp\", \"Virny_Random_State\": 400, \"Test_Set_Index\": 0, \"Dataset_Name\": \"heart\", \"Baseline_Median\": null}, {\"Metric\": \"Disparate_Impact\", \"Metric_Value\": 0.9197748415452092, \"Model_Name\": \"boost_clean\", \"Null_Imputer_Name\": \"boost_clean\", \"Evaluation_Scenario\": \"mixed_exp\", \"Virny_Random_State\": 500, \"Test_Set_Index\": 0, \"Dataset_Name\": \"heart\", \"Baseline_Median\": null}, {\"Metric\": \"Disparate_Impact\", \"Metric_Value\": 0.9471938430244246, \"Model_Name\": \"boost_clean\", \"Null_Imputer_Name\": \"boost_clean\", \"Evaluation_Scenario\": \"mixed_exp\", \"Virny_Random_State\": 100, \"Test_Set_Index\": 0, \"Dataset_Name\": \"heart\", \"Baseline_Median\": null}, {\"Metric\": \"Disparate_Impact\", \"Metric_Value\": 0.9572902304710593, \"Model_Name\": \"boost_clean\", \"Null_Imputer_Name\": \"boost_clean\", \"Evaluation_Scenario\": \"mixed_exp\", \"Virny_Random_State\": 300, \"Test_Set_Index\": 0, \"Dataset_Name\": \"heart\", \"Baseline_Median\": null}, {\"Metric\": \"Disparate_Impact\", \"Metric_Value\": 0.9693459677848174, \"Model_Name\": \"boost_clean\", \"Null_Imputer_Name\": \"boost_clean\", \"Evaluation_Scenario\": \"mixed_exp\", \"Virny_Random_State\": 200, \"Test_Set_Index\": 0, \"Dataset_Name\": \"heart\", \"Baseline_Median\": null}, {\"Metric\": \"Disparate_Impact\", \"Metric_Value\": 0.9580475959237165, \"Model_Name\": \"boost_clean\", \"Null_Imputer_Name\": \"boost_clean\", \"Evaluation_Scenario\": \"mixed_exp\", \"Virny_Random_State\": 600, \"Test_Set_Index\": 0, \"Dataset_Name\": \"heart\", \"Baseline_Median\": null}]}}, {\"mode\": \"vega-lite\"});\n",
       "</script>"
      ],
      "text/plain": [
       "alt.FacetChart(...)"
      ]
     },
     "execution_count": 14,
     "metadata": {},
     "output_type": "execute_result"
    }
   ],
   "execution_count": 14
  },
  {
   "cell_type": "code",
   "id": "9f09707311a537b9",
   "metadata": {
    "collapsed": false,
    "jupyter": {
     "outputs_hidden": false
    },
    "ExecuteTime": {
     "end_time": "2024-09-22T09:28:06.953992Z",
     "start_time": "2024-09-22T09:28:05.210832Z"
    }
   },
   "source": [
    "create_box_plots_for_diff_imputers_and_models(dataset_name=DATASET_NAME,\n",
    "                                              metric_name='Label_Stability_Difference',\n",
    "                                              db_client=db_client,\n",
    "                                              group=SENSITIVE_ATTR_FOR_DISPARITY_METRICS)"
   ],
   "outputs": [
    {
     "data": {
      "text/html": [
       "\n",
       "<div id=\"altair-viz-b0d0346cb8c74ffb8ea14aff7e779cc1\"></div>\n",
       "<script type=\"text/javascript\">\n",
       "  var VEGA_DEBUG = (typeof VEGA_DEBUG == \"undefined\") ? {} : VEGA_DEBUG;\n",
       "  (function(spec, embedOpt){\n",
       "    let outputDiv = document.currentScript.previousElementSibling;\n",
       "    if (outputDiv.id !== \"altair-viz-b0d0346cb8c74ffb8ea14aff7e779cc1\") {\n",
       "      outputDiv = document.getElementById(\"altair-viz-b0d0346cb8c74ffb8ea14aff7e779cc1\");\n",
       "    }\n",
       "    const paths = {\n",
       "      \"vega\": \"https://cdn.jsdelivr.net/npm//vega@5?noext\",\n",
       "      \"vega-lib\": \"https://cdn.jsdelivr.net/npm//vega-lib?noext\",\n",
       "      \"vega-lite\": \"https://cdn.jsdelivr.net/npm//vega-lite@4.17.0?noext\",\n",
       "      \"vega-embed\": \"https://cdn.jsdelivr.net/npm//vega-embed@6?noext\",\n",
       "    };\n",
       "\n",
       "    function maybeLoadScript(lib, version) {\n",
       "      var key = `${lib.replace(\"-\", \"\")}_version`;\n",
       "      return (VEGA_DEBUG[key] == version) ?\n",
       "        Promise.resolve(paths[lib]) :\n",
       "        new Promise(function(resolve, reject) {\n",
       "          var s = document.createElement('script');\n",
       "          document.getElementsByTagName(\"head\")[0].appendChild(s);\n",
       "          s.async = true;\n",
       "          s.onload = () => {\n",
       "            VEGA_DEBUG[key] = version;\n",
       "            return resolve(paths[lib]);\n",
       "          };\n",
       "          s.onerror = () => reject(`Error loading script: ${paths[lib]}`);\n",
       "          s.src = paths[lib];\n",
       "        });\n",
       "    }\n",
       "\n",
       "    function showError(err) {\n",
       "      outputDiv.innerHTML = `<div class=\"error\" style=\"color:red;\">${err}</div>`;\n",
       "      throw err;\n",
       "    }\n",
       "\n",
       "    function displayChart(vegaEmbed) {\n",
       "      vegaEmbed(outputDiv, spec, embedOpt)\n",
       "        .catch(err => showError(`Javascript Error: ${err.message}<br>This usually means there's a typo in your chart specification. See the javascript console for the full traceback.`));\n",
       "    }\n",
       "\n",
       "    if(typeof define === \"function\" && define.amd) {\n",
       "      requirejs.config({paths});\n",
       "      require([\"vega-embed\"], displayChart, err => showError(`Error loading script: ${err.message}`));\n",
       "    } else {\n",
       "      maybeLoadScript(\"vega\", \"5\")\n",
       "        .then(() => maybeLoadScript(\"vega-lite\", \"4.17.0\"))\n",
       "        .then(() => maybeLoadScript(\"vega-embed\", \"6\"))\n",
       "        .catch(showError)\n",
       "        .then(() => displayChart(vegaEmbed));\n",
       "    }\n",
       "  })({\"config\": {\"view\": {\"continuousWidth\": 400, \"continuousHeight\": 300, \"stroke\": null}, \"axis\": {\"labelFontSize\": 22, \"labelFontWeight\": \"normal\", \"titleFontSize\": 24, \"titleFontWeight\": \"normal\"}, \"facet\": {\"spacing\": 5}, \"header\": {\"labelFontSize\": 20, \"labelOrient\": \"bottom\", \"labelPadding\": 5, \"titleFontSize\": 24}, \"legend\": {\"columns\": 4, \"direction\": \"horizontal\", \"labelFontSize\": 20, \"labelLimit\": 400, \"orient\": \"top\", \"symbolOffset\": 50, \"symbolStrokeWidth\": 10, \"titleAnchor\": \"middle\", \"titleFontSize\": 22, \"titleLimit\": 300}, \"title\": {\"fontSize\": 24}}, \"data\": {\"name\": \"data-cee4572f1c089e5ed465688151f06374\"}, \"facet\": {\"column\": {\"field\": \"Model_Name\", \"sort\": [\"dt_clf\", \"lr_clf\", \"lgbm_clf\", \"rf_clf\", \"mlp_clf\"], \"title\": null, \"type\": \"nominal\"}}, \"spec\": {\"layer\": [{\"mark\": {\"type\": \"boxplot\", \"median\": {\"stroke\": \"black\", \"strokeWidth\": 0.7}, \"ticks\": true}, \"encoding\": {\"color\": {\"field\": \"Null_Imputer_Name\", \"sort\": [\"deletion\", \"median-mode\", \"median-dummy\", \"miss_forest\", \"k_means_clustering\", \"datawig\", \"automl\", \"boost_clean\"], \"title\": null, \"type\": \"nominal\"}, \"x\": {\"axis\": {\"labels\": false}, \"field\": \"Null_Imputer_Name\", \"sort\": [\"deletion\", \"median-mode\", \"median-dummy\", \"miss_forest\", \"k_means_clustering\", \"datawig\", \"automl\", \"boost_clean\"], \"title\": null, \"type\": \"nominal\"}, \"y\": {\"field\": \"Metric_Value\", \"scale\": {\"zero\": false}, \"title\": \"Label Stability Difference\", \"type\": \"quantitative\"}}}, {\"mark\": \"rule\", \"encoding\": {\"color\": {\"value\": \"blue\"}, \"size\": {\"value\": 2}, \"y\": {\"field\": \"Baseline_Median\", \"type\": \"quantitative\"}}}], \"width\": 150}, \"resolve\": {\"scale\": {\"x\": \"independent\"}}, \"$schema\": \"https://vega.github.io/schema/vega-lite/v4.17.0.json\", \"datasets\": {\"data-cee4572f1c089e5ed465688151f06374\": [{\"Metric\": \"Label_Stability_Difference\", \"Metric_Value\": 0.008085602123205082, \"Model_Name\": \"gandalf_clf\", \"Null_Imputer_Name\": \"deletion\", \"Evaluation_Scenario\": \"mixed_exp\", \"Virny_Random_State\": 400, \"Test_Set_Index\": 0, \"Dataset_Name\": \"heart\", \"Baseline_Median\": 0.008423429220491996}, {\"Metric\": \"Label_Stability_Difference\", \"Metric_Value\": 0.011095165760233394, \"Model_Name\": \"gandalf_clf\", \"Null_Imputer_Name\": \"deletion\", \"Evaluation_Scenario\": \"mixed_exp\", \"Virny_Random_State\": 500, \"Test_Set_Index\": 0, \"Dataset_Name\": \"heart\", \"Baseline_Median\": 0.008423429220491996}, {\"Metric\": \"Label_Stability_Difference\", \"Metric_Value\": 0.00952132710145881, \"Model_Name\": \"gandalf_clf\", \"Null_Imputer_Name\": \"deletion\", \"Evaluation_Scenario\": \"mixed_exp\", \"Virny_Random_State\": 100, \"Test_Set_Index\": 0, \"Dataset_Name\": \"heart\", \"Baseline_Median\": 0.008423429220491996}, {\"Metric\": \"Label_Stability_Difference\", \"Metric_Value\": 0.007966754147358479, \"Model_Name\": \"gandalf_clf\", \"Null_Imputer_Name\": \"deletion\", \"Evaluation_Scenario\": \"mixed_exp\", \"Virny_Random_State\": 300, \"Test_Set_Index\": 0, \"Dataset_Name\": \"heart\", \"Baseline_Median\": 0.008423429220491996}, {\"Metric\": \"Label_Stability_Difference\", \"Metric_Value\": 0.007467788033463374, \"Model_Name\": \"gandalf_clf\", \"Null_Imputer_Name\": \"deletion\", \"Evaluation_Scenario\": \"mixed_exp\", \"Virny_Random_State\": 200, \"Test_Set_Index\": 0, \"Dataset_Name\": \"heart\", \"Baseline_Median\": 0.008423429220491996}, {\"Metric\": \"Label_Stability_Difference\", \"Metric_Value\": 0.009930806927245572, \"Model_Name\": \"gandalf_clf\", \"Null_Imputer_Name\": \"deletion\", \"Evaluation_Scenario\": \"mixed_exp\", \"Virny_Random_State\": 600, \"Test_Set_Index\": 0, \"Dataset_Name\": \"heart\", \"Baseline_Median\": 0.008423429220491996}, {\"Metric\": \"Label_Stability_Difference\", \"Metric_Value\": 0.0034558841491015846, \"Model_Name\": \"gandalf_clf\", \"Null_Imputer_Name\": \"datawig\", \"Evaluation_Scenario\": \"mixed_exp\", \"Virny_Random_State\": 400, \"Test_Set_Index\": 0, \"Dataset_Name\": \"heart\", \"Baseline_Median\": 0.008423429220491996}, {\"Metric\": \"Label_Stability_Difference\", \"Metric_Value\": 0.010147869903604834, \"Model_Name\": \"gandalf_clf\", \"Null_Imputer_Name\": \"datawig\", \"Evaluation_Scenario\": \"mixed_exp\", \"Virny_Random_State\": 500, \"Test_Set_Index\": 0, \"Dataset_Name\": \"heart\", \"Baseline_Median\": 0.008423429220491996}, {\"Metric\": \"Label_Stability_Difference\", \"Metric_Value\": 0.0016657512973308197, \"Model_Name\": \"gandalf_clf\", \"Null_Imputer_Name\": \"datawig\", \"Evaluation_Scenario\": \"mixed_exp\", \"Virny_Random_State\": 100, \"Test_Set_Index\": 0, \"Dataset_Name\": \"heart\", \"Baseline_Median\": 0.008423429220491996}, {\"Metric\": \"Label_Stability_Difference\", \"Metric_Value\": 0.007622148049252209, \"Model_Name\": \"gandalf_clf\", \"Null_Imputer_Name\": \"datawig\", \"Evaluation_Scenario\": \"mixed_exp\", \"Virny_Random_State\": 300, \"Test_Set_Index\": 0, \"Dataset_Name\": \"heart\", \"Baseline_Median\": 0.008423429220491996}, {\"Metric\": \"Label_Stability_Difference\", \"Metric_Value\": 0.012278125077198165, \"Model_Name\": \"gandalf_clf\", \"Null_Imputer_Name\": \"datawig\", \"Evaluation_Scenario\": \"mixed_exp\", \"Virny_Random_State\": 200, \"Test_Set_Index\": 0, \"Dataset_Name\": \"heart\", \"Baseline_Median\": 0.008423429220491996}, {\"Metric\": \"Label_Stability_Difference\", \"Metric_Value\": 0.017238499053919387, \"Model_Name\": \"gandalf_clf\", \"Null_Imputer_Name\": \"datawig\", \"Evaluation_Scenario\": \"mixed_exp\", \"Virny_Random_State\": 600, \"Test_Set_Index\": 0, \"Dataset_Name\": \"heart\", \"Baseline_Median\": 0.008423429220491996}, {\"Metric\": \"Label_Stability_Difference\", \"Metric_Value\": 0.00352841309961216, \"Model_Name\": \"gandalf_clf\", \"Null_Imputer_Name\": \"k_means_clustering\", \"Evaluation_Scenario\": \"mixed_exp\", \"Virny_Random_State\": 400, \"Test_Set_Index\": 0, \"Dataset_Name\": \"heart\", \"Baseline_Median\": 0.008423429220491996}, {\"Metric\": \"Label_Stability_Difference\", \"Metric_Value\": 0.01176412575778063, \"Model_Name\": \"gandalf_clf\", \"Null_Imputer_Name\": \"k_means_clustering\", \"Evaluation_Scenario\": \"mixed_exp\", \"Virny_Random_State\": 500, \"Test_Set_Index\": 0, \"Dataset_Name\": \"heart\", \"Baseline_Median\": 0.008423429220491996}, {\"Metric\": \"Label_Stability_Difference\", \"Metric_Value\": -0.0008289263403798985, \"Model_Name\": \"gandalf_clf\", \"Null_Imputer_Name\": \"k_means_clustering\", \"Evaluation_Scenario\": \"mixed_exp\", \"Virny_Random_State\": 100, \"Test_Set_Index\": 0, \"Dataset_Name\": \"heart\", \"Baseline_Median\": 0.008423429220491996}, {\"Metric\": \"Label_Stability_Difference\", \"Metric_Value\": 0.004838611800495607, \"Model_Name\": \"gandalf_clf\", \"Null_Imputer_Name\": \"k_means_clustering\", \"Evaluation_Scenario\": \"mixed_exp\", \"Virny_Random_State\": 300, \"Test_Set_Index\": 0, \"Dataset_Name\": \"heart\", \"Baseline_Median\": 0.008423429220491996}, {\"Metric\": \"Label_Stability_Difference\", \"Metric_Value\": 0.008112066746409963, \"Model_Name\": \"gandalf_clf\", \"Null_Imputer_Name\": \"k_means_clustering\", \"Evaluation_Scenario\": \"mixed_exp\", \"Virny_Random_State\": 200, \"Test_Set_Index\": 0, \"Dataset_Name\": \"heart\", \"Baseline_Median\": 0.008423429220491996}, {\"Metric\": \"Label_Stability_Difference\", \"Metric_Value\": 0.011877192924657165, \"Model_Name\": \"gandalf_clf\", \"Null_Imputer_Name\": \"k_means_clustering\", \"Evaluation_Scenario\": \"mixed_exp\", \"Virny_Random_State\": 600, \"Test_Set_Index\": 0, \"Dataset_Name\": \"heart\", \"Baseline_Median\": 0.008423429220491996}, {\"Metric\": \"Label_Stability_Difference\", \"Metric_Value\": 0.0036575282823394506, \"Model_Name\": \"gandalf_clf\", \"Null_Imputer_Name\": \"automl\", \"Evaluation_Scenario\": \"mixed_exp\", \"Virny_Random_State\": 400, \"Test_Set_Index\": 0, \"Dataset_Name\": \"heart\", \"Baseline_Median\": 0.008423429220491996}, {\"Metric\": \"Label_Stability_Difference\", \"Metric_Value\": 0.009700637209357654, \"Model_Name\": \"gandalf_clf\", \"Null_Imputer_Name\": \"automl\", \"Evaluation_Scenario\": \"mixed_exp\", \"Virny_Random_State\": 500, \"Test_Set_Index\": 0, \"Dataset_Name\": \"heart\", \"Baseline_Median\": 0.008423429220491996}, {\"Metric\": \"Label_Stability_Difference\", \"Metric_Value\": 0.0010464060457887614, \"Model_Name\": \"gandalf_clf\", \"Null_Imputer_Name\": \"automl\", \"Evaluation_Scenario\": \"mixed_exp\", \"Virny_Random_State\": 100, \"Test_Set_Index\": 0, \"Dataset_Name\": \"heart\", \"Baseline_Median\": 0.008423429220491996}, {\"Metric\": \"Label_Stability_Difference\", \"Metric_Value\": 0.005920290949508189, \"Model_Name\": \"gandalf_clf\", \"Null_Imputer_Name\": \"automl\", \"Evaluation_Scenario\": \"mixed_exp\", \"Virny_Random_State\": 300, \"Test_Set_Index\": 0, \"Dataset_Name\": \"heart\", \"Baseline_Median\": 0.008423429220491996}, {\"Metric\": \"Label_Stability_Difference\", \"Metric_Value\": 0.010636040669655289, \"Model_Name\": \"gandalf_clf\", \"Null_Imputer_Name\": \"automl\", \"Evaluation_Scenario\": \"mixed_exp\", \"Virny_Random_State\": 200, \"Test_Set_Index\": 0, \"Dataset_Name\": \"heart\", \"Baseline_Median\": 0.008423429220491996}, {\"Metric\": \"Label_Stability_Difference\", \"Metric_Value\": 0.01770821812267065, \"Model_Name\": \"gandalf_clf\", \"Null_Imputer_Name\": \"automl\", \"Evaluation_Scenario\": \"mixed_exp\", \"Virny_Random_State\": 600, \"Test_Set_Index\": 0, \"Dataset_Name\": \"heart\", \"Baseline_Median\": 0.008423429220491996}, {\"Metric\": \"Label_Stability_Difference\", \"Metric_Value\": 0.007845225590541571, \"Model_Name\": \"gandalf_clf\", \"Null_Imputer_Name\": \"median-dummy\", \"Evaluation_Scenario\": \"mixed_exp\", \"Virny_Random_State\": 400, \"Test_Set_Index\": 0, \"Dataset_Name\": \"heart\", \"Baseline_Median\": 0.008423429220491996}, {\"Metric\": \"Label_Stability_Difference\", \"Metric_Value\": 0.005914387314591152, \"Model_Name\": \"gandalf_clf\", \"Null_Imputer_Name\": \"median-dummy\", \"Evaluation_Scenario\": \"mixed_exp\", \"Virny_Random_State\": 500, \"Test_Set_Index\": 0, \"Dataset_Name\": \"heart\", \"Baseline_Median\": 0.008423429220491996}, {\"Metric\": \"Label_Stability_Difference\", \"Metric_Value\": 0.004601439489401504, \"Model_Name\": \"gandalf_clf\", \"Null_Imputer_Name\": \"median-dummy\", \"Evaluation_Scenario\": \"mixed_exp\", \"Virny_Random_State\": 100, \"Test_Set_Index\": 0, \"Dataset_Name\": \"heart\", \"Baseline_Median\": 0.008423429220491996}, {\"Metric\": \"Label_Stability_Difference\", \"Metric_Value\": 0.008343272898502119, \"Model_Name\": \"gandalf_clf\", \"Null_Imputer_Name\": \"median-dummy\", \"Evaluation_Scenario\": \"mixed_exp\", \"Virny_Random_State\": 300, \"Test_Set_Index\": 0, \"Dataset_Name\": \"heart\", \"Baseline_Median\": 0.008423429220491996}, {\"Metric\": \"Label_Stability_Difference\", \"Metric_Value\": 0.01133257958161027, \"Model_Name\": \"gandalf_clf\", \"Null_Imputer_Name\": \"median-dummy\", \"Evaluation_Scenario\": \"mixed_exp\", \"Virny_Random_State\": 200, \"Test_Set_Index\": 0, \"Dataset_Name\": \"heart\", \"Baseline_Median\": 0.008423429220491996}, {\"Metric\": \"Label_Stability_Difference\", \"Metric_Value\": 0.00850075295806052, \"Model_Name\": \"gandalf_clf\", \"Null_Imputer_Name\": \"median-dummy\", \"Evaluation_Scenario\": \"mixed_exp\", \"Virny_Random_State\": 600, \"Test_Set_Index\": 0, \"Dataset_Name\": \"heart\", \"Baseline_Median\": 0.008423429220491996}, {\"Metric\": \"Label_Stability_Difference\", \"Metric_Value\": 0.0048169928254175876, \"Model_Name\": \"gandalf_clf\", \"Null_Imputer_Name\": \"miss_forest\", \"Evaluation_Scenario\": \"mixed_exp\", \"Virny_Random_State\": 400, \"Test_Set_Index\": 0, \"Dataset_Name\": \"heart\", \"Baseline_Median\": 0.008423429220491996}, {\"Metric\": \"Label_Stability_Difference\", \"Metric_Value\": 0.010148192663821831, \"Model_Name\": \"gandalf_clf\", \"Null_Imputer_Name\": \"miss_forest\", \"Evaluation_Scenario\": \"mixed_exp\", \"Virny_Random_State\": 500, \"Test_Set_Index\": 0, \"Dataset_Name\": \"heart\", \"Baseline_Median\": 0.008423429220491996}, {\"Metric\": \"Label_Stability_Difference\", \"Metric_Value\": 0.0007920839796977663, \"Model_Name\": \"gandalf_clf\", \"Null_Imputer_Name\": \"miss_forest\", \"Evaluation_Scenario\": \"mixed_exp\", \"Virny_Random_State\": 100, \"Test_Set_Index\": 0, \"Dataset_Name\": \"heart\", \"Baseline_Median\": 0.008423429220491996}, {\"Metric\": \"Label_Stability_Difference\", \"Metric_Value\": 0.00777639584906209, \"Model_Name\": \"gandalf_clf\", \"Null_Imputer_Name\": \"miss_forest\", \"Evaluation_Scenario\": \"mixed_exp\", \"Virny_Random_State\": 300, \"Test_Set_Index\": 0, \"Dataset_Name\": \"heart\", \"Baseline_Median\": 0.008423429220491996}, {\"Metric\": \"Label_Stability_Difference\", \"Metric_Value\": 0.011168735247332973, \"Model_Name\": \"gandalf_clf\", \"Null_Imputer_Name\": \"miss_forest\", \"Evaluation_Scenario\": \"mixed_exp\", \"Virny_Random_State\": 200, \"Test_Set_Index\": 0, \"Dataset_Name\": \"heart\", \"Baseline_Median\": 0.008423429220491996}, {\"Metric\": \"Label_Stability_Difference\", \"Metric_Value\": 0.01622204410817185, \"Model_Name\": \"gandalf_clf\", \"Null_Imputer_Name\": \"miss_forest\", \"Evaluation_Scenario\": \"mixed_exp\", \"Virny_Random_State\": 600, \"Test_Set_Index\": 0, \"Dataset_Name\": \"heart\", \"Baseline_Median\": 0.008423429220491996}, {\"Metric\": \"Label_Stability_Difference\", \"Metric_Value\": 0.00382607277466529, \"Model_Name\": \"gandalf_clf\", \"Null_Imputer_Name\": \"median-mode\", \"Evaluation_Scenario\": \"mixed_exp\", \"Virny_Random_State\": 400, \"Test_Set_Index\": 0, \"Dataset_Name\": \"heart\", \"Baseline_Median\": 0.008423429220491996}, {\"Metric\": \"Label_Stability_Difference\", \"Metric_Value\": 0.010237355173680296, \"Model_Name\": \"gandalf_clf\", \"Null_Imputer_Name\": \"median-mode\", \"Evaluation_Scenario\": \"mixed_exp\", \"Virny_Random_State\": 500, \"Test_Set_Index\": 0, \"Dataset_Name\": \"heart\", \"Baseline_Median\": 0.008423429220491996}, {\"Metric\": \"Label_Stability_Difference\", \"Metric_Value\": 0.0007096126052102969, \"Model_Name\": \"gandalf_clf\", \"Null_Imputer_Name\": \"median-mode\", \"Evaluation_Scenario\": \"mixed_exp\", \"Virny_Random_State\": 100, \"Test_Set_Index\": 0, \"Dataset_Name\": \"heart\", \"Baseline_Median\": 0.008423429220491996}, {\"Metric\": \"Label_Stability_Difference\", \"Metric_Value\": 0.006775086031005628, \"Model_Name\": \"gandalf_clf\", \"Null_Imputer_Name\": \"median-mode\", \"Evaluation_Scenario\": \"mixed_exp\", \"Virny_Random_State\": 300, \"Test_Set_Index\": 0, \"Dataset_Name\": \"heart\", \"Baseline_Median\": 0.008423429220491996}, {\"Metric\": \"Label_Stability_Difference\", \"Metric_Value\": 0.010747213081769291, \"Model_Name\": \"gandalf_clf\", \"Null_Imputer_Name\": \"median-mode\", \"Evaluation_Scenario\": \"mixed_exp\", \"Virny_Random_State\": 200, \"Test_Set_Index\": 0, \"Dataset_Name\": \"heart\", \"Baseline_Median\": 0.008423429220491996}, {\"Metric\": \"Label_Stability_Difference\", \"Metric_Value\": 0.01656279312534148, \"Model_Name\": \"gandalf_clf\", \"Null_Imputer_Name\": \"median-mode\", \"Evaluation_Scenario\": \"mixed_exp\", \"Virny_Random_State\": 600, \"Test_Set_Index\": 0, \"Dataset_Name\": \"heart\", \"Baseline_Median\": 0.008423429220491996}, {\"Metric\": \"Label_Stability_Difference\", \"Metric_Value\": 0.007392772825963512, \"Model_Name\": \"boost_clean\", \"Null_Imputer_Name\": \"boost_clean\", \"Evaluation_Scenario\": \"mixed_exp\", \"Virny_Random_State\": 400, \"Test_Set_Index\": 0, \"Dataset_Name\": \"heart\", \"Baseline_Median\": null}, {\"Metric\": \"Label_Stability_Difference\", \"Metric_Value\": 0.006895137267678653, \"Model_Name\": \"boost_clean\", \"Null_Imputer_Name\": \"boost_clean\", \"Evaluation_Scenario\": \"mixed_exp\", \"Virny_Random_State\": 500, \"Test_Set_Index\": 0, \"Dataset_Name\": \"heart\", \"Baseline_Median\": null}, {\"Metric\": \"Label_Stability_Difference\", \"Metric_Value\": 0.008522665292218234, \"Model_Name\": \"boost_clean\", \"Null_Imputer_Name\": \"boost_clean\", \"Evaluation_Scenario\": \"mixed_exp\", \"Virny_Random_State\": 100, \"Test_Set_Index\": 0, \"Dataset_Name\": \"heart\", \"Baseline_Median\": null}, {\"Metric\": \"Label_Stability_Difference\", \"Metric_Value\": 0.003533744493487645, \"Model_Name\": \"boost_clean\", \"Null_Imputer_Name\": \"boost_clean\", \"Evaluation_Scenario\": \"mixed_exp\", \"Virny_Random_State\": 300, \"Test_Set_Index\": 0, \"Dataset_Name\": \"heart\", \"Baseline_Median\": null}, {\"Metric\": \"Label_Stability_Difference\", \"Metric_Value\": 0.004343314099298445, \"Model_Name\": \"boost_clean\", \"Null_Imputer_Name\": \"boost_clean\", \"Evaluation_Scenario\": \"mixed_exp\", \"Virny_Random_State\": 200, \"Test_Set_Index\": 0, \"Dataset_Name\": \"heart\", \"Baseline_Median\": null}, {\"Metric\": \"Label_Stability_Difference\", \"Metric_Value\": 0.00464396983273041, \"Model_Name\": \"boost_clean\", \"Null_Imputer_Name\": \"boost_clean\", \"Evaluation_Scenario\": \"mixed_exp\", \"Virny_Random_State\": 600, \"Test_Set_Index\": 0, \"Dataset_Name\": \"heart\", \"Baseline_Median\": null}]}}, {\"mode\": \"vega-lite\"});\n",
       "</script>"
      ],
      "text/plain": [
       "alt.FacetChart(...)"
      ]
     },
     "execution_count": 15,
     "metadata": {},
     "output_type": "execute_result"
    }
   ],
   "execution_count": 15
  },
  {
   "cell_type": "code",
   "id": "2665dd45e13e7228",
   "metadata": {
    "collapsed": false,
    "jupyter": {
     "outputs_hidden": false
    },
    "ExecuteTime": {
     "end_time": "2024-09-22T09:28:08.061642Z",
     "start_time": "2024-09-22T09:28:06.980235Z"
    }
   },
   "source": [
    "create_box_plots_for_diff_imputers_and_models(dataset_name=DATASET_NAME,\n",
    "                                              metric_name='Aleatoric_Uncertainty_Difference',\n",
    "                                              db_client=db_client,\n",
    "                                              group=SENSITIVE_ATTR_FOR_DISPARITY_METRICS)"
   ],
   "outputs": [
    {
     "data": {
      "text/html": [
       "\n",
       "<div id=\"altair-viz-13e7bf367e064ab98ab3a344b0707918\"></div>\n",
       "<script type=\"text/javascript\">\n",
       "  var VEGA_DEBUG = (typeof VEGA_DEBUG == \"undefined\") ? {} : VEGA_DEBUG;\n",
       "  (function(spec, embedOpt){\n",
       "    let outputDiv = document.currentScript.previousElementSibling;\n",
       "    if (outputDiv.id !== \"altair-viz-13e7bf367e064ab98ab3a344b0707918\") {\n",
       "      outputDiv = document.getElementById(\"altair-viz-13e7bf367e064ab98ab3a344b0707918\");\n",
       "    }\n",
       "    const paths = {\n",
       "      \"vega\": \"https://cdn.jsdelivr.net/npm//vega@5?noext\",\n",
       "      \"vega-lib\": \"https://cdn.jsdelivr.net/npm//vega-lib?noext\",\n",
       "      \"vega-lite\": \"https://cdn.jsdelivr.net/npm//vega-lite@4.17.0?noext\",\n",
       "      \"vega-embed\": \"https://cdn.jsdelivr.net/npm//vega-embed@6?noext\",\n",
       "    };\n",
       "\n",
       "    function maybeLoadScript(lib, version) {\n",
       "      var key = `${lib.replace(\"-\", \"\")}_version`;\n",
       "      return (VEGA_DEBUG[key] == version) ?\n",
       "        Promise.resolve(paths[lib]) :\n",
       "        new Promise(function(resolve, reject) {\n",
       "          var s = document.createElement('script');\n",
       "          document.getElementsByTagName(\"head\")[0].appendChild(s);\n",
       "          s.async = true;\n",
       "          s.onload = () => {\n",
       "            VEGA_DEBUG[key] = version;\n",
       "            return resolve(paths[lib]);\n",
       "          };\n",
       "          s.onerror = () => reject(`Error loading script: ${paths[lib]}`);\n",
       "          s.src = paths[lib];\n",
       "        });\n",
       "    }\n",
       "\n",
       "    function showError(err) {\n",
       "      outputDiv.innerHTML = `<div class=\"error\" style=\"color:red;\">${err}</div>`;\n",
       "      throw err;\n",
       "    }\n",
       "\n",
       "    function displayChart(vegaEmbed) {\n",
       "      vegaEmbed(outputDiv, spec, embedOpt)\n",
       "        .catch(err => showError(`Javascript Error: ${err.message}<br>This usually means there's a typo in your chart specification. See the javascript console for the full traceback.`));\n",
       "    }\n",
       "\n",
       "    if(typeof define === \"function\" && define.amd) {\n",
       "      requirejs.config({paths});\n",
       "      require([\"vega-embed\"], displayChart, err => showError(`Error loading script: ${err.message}`));\n",
       "    } else {\n",
       "      maybeLoadScript(\"vega\", \"5\")\n",
       "        .then(() => maybeLoadScript(\"vega-lite\", \"4.17.0\"))\n",
       "        .then(() => maybeLoadScript(\"vega-embed\", \"6\"))\n",
       "        .catch(showError)\n",
       "        .then(() => displayChart(vegaEmbed));\n",
       "    }\n",
       "  })({\"config\": {\"view\": {\"continuousWidth\": 400, \"continuousHeight\": 300, \"stroke\": null}, \"axis\": {\"labelFontSize\": 22, \"labelFontWeight\": \"normal\", \"titleFontSize\": 24, \"titleFontWeight\": \"normal\"}, \"facet\": {\"spacing\": 5}, \"header\": {\"labelFontSize\": 20, \"labelOrient\": \"bottom\", \"labelPadding\": 5, \"titleFontSize\": 24}, \"legend\": {\"columns\": 4, \"direction\": \"horizontal\", \"labelFontSize\": 20, \"labelLimit\": 400, \"orient\": \"top\", \"symbolOffset\": 50, \"symbolStrokeWidth\": 10, \"titleAnchor\": \"middle\", \"titleFontSize\": 22, \"titleLimit\": 300}, \"title\": {\"fontSize\": 24}}, \"data\": {\"name\": \"data-3794facc4e2e88774f4150445f83fe79\"}, \"facet\": {\"column\": {\"field\": \"Model_Name\", \"sort\": [\"dt_clf\", \"lr_clf\", \"lgbm_clf\", \"rf_clf\", \"mlp_clf\"], \"title\": null, \"type\": \"nominal\"}}, \"spec\": {\"layer\": [{\"mark\": {\"type\": \"boxplot\", \"median\": {\"stroke\": \"black\", \"strokeWidth\": 0.7}, \"ticks\": true}, \"encoding\": {\"color\": {\"field\": \"Null_Imputer_Name\", \"sort\": [\"deletion\", \"median-mode\", \"median-dummy\", \"miss_forest\", \"k_means_clustering\", \"datawig\", \"automl\", \"boost_clean\"], \"title\": null, \"type\": \"nominal\"}, \"x\": {\"axis\": {\"labels\": false}, \"field\": \"Null_Imputer_Name\", \"sort\": [\"deletion\", \"median-mode\", \"median-dummy\", \"miss_forest\", \"k_means_clustering\", \"datawig\", \"automl\", \"boost_clean\"], \"title\": null, \"type\": \"nominal\"}, \"y\": {\"field\": \"Metric_Value\", \"scale\": {\"zero\": false}, \"title\": \"Aleatoric Uncertainty Difference\", \"type\": \"quantitative\"}}}, {\"mark\": \"rule\", \"encoding\": {\"color\": {\"value\": \"blue\"}, \"size\": {\"value\": 2}, \"y\": {\"field\": \"Baseline_Median\", \"type\": \"quantitative\"}}}], \"width\": 150}, \"resolve\": {\"scale\": {\"x\": \"independent\"}}, \"$schema\": \"https://vega.github.io/schema/vega-lite/v4.17.0.json\", \"datasets\": {\"data-3794facc4e2e88774f4150445f83fe79\": [{\"Metric\": \"Aleatoric_Uncertainty_Difference\", \"Metric_Value\": 0.001413271247016179, \"Model_Name\": \"gandalf_clf\", \"Null_Imputer_Name\": \"deletion\", \"Evaluation_Scenario\": \"mixed_exp\", \"Virny_Random_State\": 400, \"Test_Set_Index\": 0, \"Dataset_Name\": \"heart\", \"Baseline_Median\": -0.0042594070688791175}, {\"Metric\": \"Aleatoric_Uncertainty_Difference\", \"Metric_Value\": -0.007436892569169684, \"Model_Name\": \"gandalf_clf\", \"Null_Imputer_Name\": \"deletion\", \"Evaluation_Scenario\": \"mixed_exp\", \"Virny_Random_State\": 500, \"Test_Set_Index\": 0, \"Dataset_Name\": \"heart\", \"Baseline_Median\": -0.0042594070688791175}, {\"Metric\": \"Aleatoric_Uncertainty_Difference\", \"Metric_Value\": -0.0009008456812303889, \"Model_Name\": \"gandalf_clf\", \"Null_Imputer_Name\": \"deletion\", \"Evaluation_Scenario\": \"mixed_exp\", \"Virny_Random_State\": 100, \"Test_Set_Index\": 0, \"Dataset_Name\": \"heart\", \"Baseline_Median\": -0.0042594070688791175}, {\"Metric\": \"Aleatoric_Uncertainty_Difference\", \"Metric_Value\": -0.0015610718247531796, \"Model_Name\": \"gandalf_clf\", \"Null_Imputer_Name\": \"deletion\", \"Evaluation_Scenario\": \"mixed_exp\", \"Virny_Random_State\": 300, \"Test_Set_Index\": 0, \"Dataset_Name\": \"heart\", \"Baseline_Median\": -0.0042594070688791175}, {\"Metric\": \"Aleatoric_Uncertainty_Difference\", \"Metric_Value\": -0.0030473089951915666, \"Model_Name\": \"gandalf_clf\", \"Null_Imputer_Name\": \"deletion\", \"Evaluation_Scenario\": \"mixed_exp\", \"Virny_Random_State\": 200, \"Test_Set_Index\": 0, \"Dataset_Name\": \"heart\", \"Baseline_Median\": -0.0042594070688791175}, {\"Metric\": \"Aleatoric_Uncertainty_Difference\", \"Metric_Value\": 0.00027974041554112983, \"Model_Name\": \"gandalf_clf\", \"Null_Imputer_Name\": \"deletion\", \"Evaluation_Scenario\": \"mixed_exp\", \"Virny_Random_State\": 600, \"Test_Set_Index\": 0, \"Dataset_Name\": \"heart\", \"Baseline_Median\": -0.0042594070688791175}, {\"Metric\": \"Aleatoric_Uncertainty_Difference\", \"Metric_Value\": -0.00033960523777931684, \"Model_Name\": \"gandalf_clf\", \"Null_Imputer_Name\": \"datawig\", \"Evaluation_Scenario\": \"mixed_exp\", \"Virny_Random_State\": 400, \"Test_Set_Index\": 0, \"Dataset_Name\": \"heart\", \"Baseline_Median\": -0.0042594070688791175}, {\"Metric\": \"Aleatoric_Uncertainty_Difference\", \"Metric_Value\": -0.008943253688774244, \"Model_Name\": \"gandalf_clf\", \"Null_Imputer_Name\": \"datawig\", \"Evaluation_Scenario\": \"mixed_exp\", \"Virny_Random_State\": 500, \"Test_Set_Index\": 0, \"Dataset_Name\": \"heart\", \"Baseline_Median\": -0.0042594070688791175}, {\"Metric\": \"Aleatoric_Uncertainty_Difference\", \"Metric_Value\": -0.001985043239056461, \"Model_Name\": \"gandalf_clf\", \"Null_Imputer_Name\": \"datawig\", \"Evaluation_Scenario\": \"mixed_exp\", \"Virny_Random_State\": 100, \"Test_Set_Index\": 0, \"Dataset_Name\": \"heart\", \"Baseline_Median\": -0.0042594070688791175}, {\"Metric\": \"Aleatoric_Uncertainty_Difference\", \"Metric_Value\": -0.005005778915009751, \"Model_Name\": \"gandalf_clf\", \"Null_Imputer_Name\": \"datawig\", \"Evaluation_Scenario\": \"mixed_exp\", \"Virny_Random_State\": 300, \"Test_Set_Index\": 0, \"Dataset_Name\": \"heart\", \"Baseline_Median\": -0.0042594070688791175}, {\"Metric\": \"Aleatoric_Uncertainty_Difference\", \"Metric_Value\": -0.0052185095453038954, \"Model_Name\": \"gandalf_clf\", \"Null_Imputer_Name\": \"datawig\", \"Evaluation_Scenario\": \"mixed_exp\", \"Virny_Random_State\": 200, \"Test_Set_Index\": 0, \"Dataset_Name\": \"heart\", \"Baseline_Median\": -0.0042594070688791175}, {\"Metric\": \"Aleatoric_Uncertainty_Difference\", \"Metric_Value\": -0.0035555258730404216, \"Model_Name\": \"gandalf_clf\", \"Null_Imputer_Name\": \"datawig\", \"Evaluation_Scenario\": \"mixed_exp\", \"Virny_Random_State\": 600, \"Test_Set_Index\": 0, \"Dataset_Name\": \"heart\", \"Baseline_Median\": -0.0042594070688791175}, {\"Metric\": \"Aleatoric_Uncertainty_Difference\", \"Metric_Value\": 0.0006569222621511939, \"Model_Name\": \"gandalf_clf\", \"Null_Imputer_Name\": \"k_means_clustering\", \"Evaluation_Scenario\": \"mixed_exp\", \"Virny_Random_State\": 400, \"Test_Set_Index\": 0, \"Dataset_Name\": \"heart\", \"Baseline_Median\": -0.0042594070688791175}, {\"Metric\": \"Aleatoric_Uncertainty_Difference\", \"Metric_Value\": -0.00786113053823001, \"Model_Name\": \"gandalf_clf\", \"Null_Imputer_Name\": \"k_means_clustering\", \"Evaluation_Scenario\": \"mixed_exp\", \"Virny_Random_State\": 500, \"Test_Set_Index\": 0, \"Dataset_Name\": \"heart\", \"Baseline_Median\": -0.0042594070688791175}, {\"Metric\": \"Aleatoric_Uncertainty_Difference\", \"Metric_Value\": -0.0009685613355163714, \"Model_Name\": \"gandalf_clf\", \"Null_Imputer_Name\": \"k_means_clustering\", \"Evaluation_Scenario\": \"mixed_exp\", \"Virny_Random_State\": 100, \"Test_Set_Index\": 0, \"Dataset_Name\": \"heart\", \"Baseline_Median\": -0.0042594070688791175}, {\"Metric\": \"Aleatoric_Uncertainty_Difference\", \"Metric_Value\": -0.003298637916952618, \"Model_Name\": \"gandalf_clf\", \"Null_Imputer_Name\": \"k_means_clustering\", \"Evaluation_Scenario\": \"mixed_exp\", \"Virny_Random_State\": 300, \"Test_Set_Index\": 0, \"Dataset_Name\": \"heart\", \"Baseline_Median\": -0.0042594070688791175}, {\"Metric\": \"Aleatoric_Uncertainty_Difference\", \"Metric_Value\": -0.0026458235778816785, \"Model_Name\": \"gandalf_clf\", \"Null_Imputer_Name\": \"k_means_clustering\", \"Evaluation_Scenario\": \"mixed_exp\", \"Virny_Random_State\": 200, \"Test_Set_Index\": 0, \"Dataset_Name\": \"heart\", \"Baseline_Median\": -0.0042594070688791175}, {\"Metric\": \"Aleatoric_Uncertainty_Difference\", \"Metric_Value\": 0.00029277176109476777, \"Model_Name\": \"gandalf_clf\", \"Null_Imputer_Name\": \"k_means_clustering\", \"Evaluation_Scenario\": \"mixed_exp\", \"Virny_Random_State\": 600, \"Test_Set_Index\": 0, \"Dataset_Name\": \"heart\", \"Baseline_Median\": -0.0042594070688791175}, {\"Metric\": \"Aleatoric_Uncertainty_Difference\", \"Metric_Value\": -0.0005015723698845731, \"Model_Name\": \"gandalf_clf\", \"Null_Imputer_Name\": \"automl\", \"Evaluation_Scenario\": \"mixed_exp\", \"Virny_Random_State\": 400, \"Test_Set_Index\": 0, \"Dataset_Name\": \"heart\", \"Baseline_Median\": -0.0042594070688791175}, {\"Metric\": \"Aleatoric_Uncertainty_Difference\", \"Metric_Value\": -0.008526104780849142, \"Model_Name\": \"gandalf_clf\", \"Null_Imputer_Name\": \"automl\", \"Evaluation_Scenario\": \"mixed_exp\", \"Virny_Random_State\": 500, \"Test_Set_Index\": 0, \"Dataset_Name\": \"heart\", \"Baseline_Median\": -0.0042594070688791175}, {\"Metric\": \"Aleatoric_Uncertainty_Difference\", \"Metric_Value\": -0.0026352219552071565, \"Model_Name\": \"gandalf_clf\", \"Null_Imputer_Name\": \"automl\", \"Evaluation_Scenario\": \"mixed_exp\", \"Virny_Random_State\": 100, \"Test_Set_Index\": 0, \"Dataset_Name\": \"heart\", \"Baseline_Median\": -0.0042594070688791175}, {\"Metric\": \"Aleatoric_Uncertainty_Difference\", \"Metric_Value\": -0.0037691161655498684, \"Model_Name\": \"gandalf_clf\", \"Null_Imputer_Name\": \"automl\", \"Evaluation_Scenario\": \"mixed_exp\", \"Virny_Random_State\": 300, \"Test_Set_Index\": 0, \"Dataset_Name\": \"heart\", \"Baseline_Median\": -0.0042594070688791175}, {\"Metric\": \"Aleatoric_Uncertainty_Difference\", \"Metric_Value\": -0.004844005143261776, \"Model_Name\": \"gandalf_clf\", \"Null_Imputer_Name\": \"automl\", \"Evaluation_Scenario\": \"mixed_exp\", \"Virny_Random_State\": 200, \"Test_Set_Index\": 0, \"Dataset_Name\": \"heart\", \"Baseline_Median\": -0.0042594070688791175}, {\"Metric\": \"Aleatoric_Uncertainty_Difference\", \"Metric_Value\": -0.0034286053098764313, \"Model_Name\": \"gandalf_clf\", \"Null_Imputer_Name\": \"automl\", \"Evaluation_Scenario\": \"mixed_exp\", \"Virny_Random_State\": 600, \"Test_Set_Index\": 0, \"Dataset_Name\": \"heart\", \"Baseline_Median\": -0.0042594070688791175}, {\"Metric\": \"Aleatoric_Uncertainty_Difference\", \"Metric_Value\": -0.0010900949625173295, \"Model_Name\": \"gandalf_clf\", \"Null_Imputer_Name\": \"median-dummy\", \"Evaluation_Scenario\": \"mixed_exp\", \"Virny_Random_State\": 400, \"Test_Set_Index\": 0, \"Dataset_Name\": \"heart\", \"Baseline_Median\": -0.0042594070688791175}, {\"Metric\": \"Aleatoric_Uncertainty_Difference\", \"Metric_Value\": -0.008332835676738481, \"Model_Name\": \"gandalf_clf\", \"Null_Imputer_Name\": \"median-dummy\", \"Evaluation_Scenario\": \"mixed_exp\", \"Virny_Random_State\": 500, \"Test_Set_Index\": 0, \"Dataset_Name\": \"heart\", \"Baseline_Median\": -0.0042594070688791175}, {\"Metric\": \"Aleatoric_Uncertainty_Difference\", \"Metric_Value\": -0.002127996047779357, \"Model_Name\": \"gandalf_clf\", \"Null_Imputer_Name\": \"median-dummy\", \"Evaluation_Scenario\": \"mixed_exp\", \"Virny_Random_State\": 100, \"Test_Set_Index\": 0, \"Dataset_Name\": \"heart\", \"Baseline_Median\": -0.0042594070688791175}, {\"Metric\": \"Aleatoric_Uncertainty_Difference\", \"Metric_Value\": -0.004093876513665329, \"Model_Name\": \"gandalf_clf\", \"Null_Imputer_Name\": \"median-dummy\", \"Evaluation_Scenario\": \"mixed_exp\", \"Virny_Random_State\": 300, \"Test_Set_Index\": 0, \"Dataset_Name\": \"heart\", \"Baseline_Median\": -0.0042594070688791175}, {\"Metric\": \"Aleatoric_Uncertainty_Difference\", \"Metric_Value\": -0.004901100444213324, \"Model_Name\": \"gandalf_clf\", \"Null_Imputer_Name\": \"median-dummy\", \"Evaluation_Scenario\": \"mixed_exp\", \"Virny_Random_State\": 200, \"Test_Set_Index\": 0, \"Dataset_Name\": \"heart\", \"Baseline_Median\": -0.0042594070688791175}, {\"Metric\": \"Aleatoric_Uncertainty_Difference\", \"Metric_Value\": -0.002598957989713435, \"Model_Name\": \"gandalf_clf\", \"Null_Imputer_Name\": \"median-dummy\", \"Evaluation_Scenario\": \"mixed_exp\", \"Virny_Random_State\": 600, \"Test_Set_Index\": 0, \"Dataset_Name\": \"heart\", \"Baseline_Median\": -0.0042594070688791175}, {\"Metric\": \"Aleatoric_Uncertainty_Difference\", \"Metric_Value\": -0.0010333018061876587, \"Model_Name\": \"gandalf_clf\", \"Null_Imputer_Name\": \"miss_forest\", \"Evaluation_Scenario\": \"mixed_exp\", \"Virny_Random_State\": 400, \"Test_Set_Index\": 0, \"Dataset_Name\": \"heart\", \"Baseline_Median\": -0.0042594070688791175}, {\"Metric\": \"Aleatoric_Uncertainty_Difference\", \"Metric_Value\": -0.008906489847035015, \"Model_Name\": \"gandalf_clf\", \"Null_Imputer_Name\": \"miss_forest\", \"Evaluation_Scenario\": \"mixed_exp\", \"Virny_Random_State\": 500, \"Test_Set_Index\": 0, \"Dataset_Name\": \"heart\", \"Baseline_Median\": -0.0042594070688791175}, {\"Metric\": \"Aleatoric_Uncertainty_Difference\", \"Metric_Value\": -0.002516503186419161, \"Model_Name\": \"gandalf_clf\", \"Null_Imputer_Name\": \"miss_forest\", \"Evaluation_Scenario\": \"mixed_exp\", \"Virny_Random_State\": 100, \"Test_Set_Index\": 0, \"Dataset_Name\": \"heart\", \"Baseline_Median\": -0.0042594070688791175}, {\"Metric\": \"Aleatoric_Uncertainty_Difference\", \"Metric_Value\": -0.00456257889818712, \"Model_Name\": \"gandalf_clf\", \"Null_Imputer_Name\": \"miss_forest\", \"Evaluation_Scenario\": \"mixed_exp\", \"Virny_Random_State\": 300, \"Test_Set_Index\": 0, \"Dataset_Name\": \"heart\", \"Baseline_Median\": -0.0042594070688791175}, {\"Metric\": \"Aleatoric_Uncertainty_Difference\", \"Metric_Value\": -0.0047999764247375065, \"Model_Name\": \"gandalf_clf\", \"Null_Imputer_Name\": \"miss_forest\", \"Evaluation_Scenario\": \"mixed_exp\", \"Virny_Random_State\": 200, \"Test_Set_Index\": 0, \"Dataset_Name\": \"heart\", \"Baseline_Median\": -0.0042594070688791175}, {\"Metric\": \"Aleatoric_Uncertainty_Difference\", \"Metric_Value\": -0.0035605648156942227, \"Model_Name\": \"gandalf_clf\", \"Null_Imputer_Name\": \"miss_forest\", \"Evaluation_Scenario\": \"mixed_exp\", \"Virny_Random_State\": 600, \"Test_Set_Index\": 0, \"Dataset_Name\": \"heart\", \"Baseline_Median\": -0.0042594070688791175}, {\"Metric\": \"Aleatoric_Uncertainty_Difference\", \"Metric_Value\": -0.00045161722097863954, \"Model_Name\": \"gandalf_clf\", \"Null_Imputer_Name\": \"median-mode\", \"Evaluation_Scenario\": \"mixed_exp\", \"Virny_Random_State\": 400, \"Test_Set_Index\": 0, \"Dataset_Name\": \"heart\", \"Baseline_Median\": -0.0042594070688791175}, {\"Metric\": \"Aleatoric_Uncertainty_Difference\", \"Metric_Value\": -0.00855302917240186, \"Model_Name\": \"gandalf_clf\", \"Null_Imputer_Name\": \"median-mode\", \"Evaluation_Scenario\": \"mixed_exp\", \"Virny_Random_State\": 500, \"Test_Set_Index\": 0, \"Dataset_Name\": \"heart\", \"Baseline_Median\": -0.0042594070688791175}, {\"Metric\": \"Aleatoric_Uncertainty_Difference\", \"Metric_Value\": -0.002543438376736651, \"Model_Name\": \"gandalf_clf\", \"Null_Imputer_Name\": \"median-mode\", \"Evaluation_Scenario\": \"mixed_exp\", \"Virny_Random_State\": 100, \"Test_Set_Index\": 0, \"Dataset_Name\": \"heart\", \"Baseline_Median\": -0.0042594070688791175}, {\"Metric\": \"Aleatoric_Uncertainty_Difference\", \"Metric_Value\": -0.004266126307176377, \"Model_Name\": \"gandalf_clf\", \"Null_Imputer_Name\": \"median-mode\", \"Evaluation_Scenario\": \"mixed_exp\", \"Virny_Random_State\": 300, \"Test_Set_Index\": 0, \"Dataset_Name\": \"heart\", \"Baseline_Median\": -0.0042594070688791175}, {\"Metric\": \"Aleatoric_Uncertainty_Difference\", \"Metric_Value\": -0.005370748129955416, \"Model_Name\": \"gandalf_clf\", \"Null_Imputer_Name\": \"median-mode\", \"Evaluation_Scenario\": \"mixed_exp\", \"Virny_Random_State\": 200, \"Test_Set_Index\": 0, \"Dataset_Name\": \"heart\", \"Baseline_Median\": -0.0042594070688791175}, {\"Metric\": \"Aleatoric_Uncertainty_Difference\", \"Metric_Value\": -0.0027264136573905695, \"Model_Name\": \"gandalf_clf\", \"Null_Imputer_Name\": \"median-mode\", \"Evaluation_Scenario\": \"mixed_exp\", \"Virny_Random_State\": 600, \"Test_Set_Index\": 0, \"Dataset_Name\": \"heart\", \"Baseline_Median\": -0.0042594070688791175}]}}, {\"mode\": \"vega-lite\"});\n",
       "</script>"
      ],
      "text/plain": [
       "alt.FacetChart(...)"
      ]
     },
     "execution_count": 16,
     "metadata": {},
     "output_type": "execute_result"
    }
   ],
   "execution_count": 16
  },
  {
   "cell_type": "code",
   "id": "3bb4e97bfc45b36e",
   "metadata": {
    "collapsed": false,
    "jupyter": {
     "outputs_hidden": false
    },
    "ExecuteTime": {
     "end_time": "2024-09-22T09:28:09.079829Z",
     "start_time": "2024-09-22T09:28:08.067353Z"
    }
   },
   "source": [
    "create_box_plots_for_diff_imputers_and_models(dataset_name=DATASET_NAME,\n",
    "                                              metric_name='Std_Difference',\n",
    "                                              db_client=db_client,\n",
    "                                              group=SENSITIVE_ATTR_FOR_DISPARITY_METRICS)"
   ],
   "outputs": [
    {
     "data": {
      "text/html": [
       "\n",
       "<div id=\"altair-viz-ba95789530eb4056ad7ac3916ea71070\"></div>\n",
       "<script type=\"text/javascript\">\n",
       "  var VEGA_DEBUG = (typeof VEGA_DEBUG == \"undefined\") ? {} : VEGA_DEBUG;\n",
       "  (function(spec, embedOpt){\n",
       "    let outputDiv = document.currentScript.previousElementSibling;\n",
       "    if (outputDiv.id !== \"altair-viz-ba95789530eb4056ad7ac3916ea71070\") {\n",
       "      outputDiv = document.getElementById(\"altair-viz-ba95789530eb4056ad7ac3916ea71070\");\n",
       "    }\n",
       "    const paths = {\n",
       "      \"vega\": \"https://cdn.jsdelivr.net/npm//vega@5?noext\",\n",
       "      \"vega-lib\": \"https://cdn.jsdelivr.net/npm//vega-lib?noext\",\n",
       "      \"vega-lite\": \"https://cdn.jsdelivr.net/npm//vega-lite@4.17.0?noext\",\n",
       "      \"vega-embed\": \"https://cdn.jsdelivr.net/npm//vega-embed@6?noext\",\n",
       "    };\n",
       "\n",
       "    function maybeLoadScript(lib, version) {\n",
       "      var key = `${lib.replace(\"-\", \"\")}_version`;\n",
       "      return (VEGA_DEBUG[key] == version) ?\n",
       "        Promise.resolve(paths[lib]) :\n",
       "        new Promise(function(resolve, reject) {\n",
       "          var s = document.createElement('script');\n",
       "          document.getElementsByTagName(\"head\")[0].appendChild(s);\n",
       "          s.async = true;\n",
       "          s.onload = () => {\n",
       "            VEGA_DEBUG[key] = version;\n",
       "            return resolve(paths[lib]);\n",
       "          };\n",
       "          s.onerror = () => reject(`Error loading script: ${paths[lib]}`);\n",
       "          s.src = paths[lib];\n",
       "        });\n",
       "    }\n",
       "\n",
       "    function showError(err) {\n",
       "      outputDiv.innerHTML = `<div class=\"error\" style=\"color:red;\">${err}</div>`;\n",
       "      throw err;\n",
       "    }\n",
       "\n",
       "    function displayChart(vegaEmbed) {\n",
       "      vegaEmbed(outputDiv, spec, embedOpt)\n",
       "        .catch(err => showError(`Javascript Error: ${err.message}<br>This usually means there's a typo in your chart specification. See the javascript console for the full traceback.`));\n",
       "    }\n",
       "\n",
       "    if(typeof define === \"function\" && define.amd) {\n",
       "      requirejs.config({paths});\n",
       "      require([\"vega-embed\"], displayChart, err => showError(`Error loading script: ${err.message}`));\n",
       "    } else {\n",
       "      maybeLoadScript(\"vega\", \"5\")\n",
       "        .then(() => maybeLoadScript(\"vega-lite\", \"4.17.0\"))\n",
       "        .then(() => maybeLoadScript(\"vega-embed\", \"6\"))\n",
       "        .catch(showError)\n",
       "        .then(() => displayChart(vegaEmbed));\n",
       "    }\n",
       "  })({\"config\": {\"view\": {\"continuousWidth\": 400, \"continuousHeight\": 300, \"stroke\": null}, \"axis\": {\"labelFontSize\": 22, \"labelFontWeight\": \"normal\", \"titleFontSize\": 24, \"titleFontWeight\": \"normal\"}, \"facet\": {\"spacing\": 5}, \"header\": {\"labelFontSize\": 20, \"labelOrient\": \"bottom\", \"labelPadding\": 5, \"titleFontSize\": 24}, \"legend\": {\"columns\": 4, \"direction\": \"horizontal\", \"labelFontSize\": 20, \"labelLimit\": 400, \"orient\": \"top\", \"symbolOffset\": 50, \"symbolStrokeWidth\": 10, \"titleAnchor\": \"middle\", \"titleFontSize\": 22, \"titleLimit\": 300}, \"title\": {\"fontSize\": 24}}, \"data\": {\"name\": \"data-0feb9c4b57072695c2b9369c27f22ebd\"}, \"facet\": {\"column\": {\"field\": \"Model_Name\", \"sort\": [\"dt_clf\", \"lr_clf\", \"lgbm_clf\", \"rf_clf\", \"mlp_clf\"], \"title\": null, \"type\": \"nominal\"}}, \"spec\": {\"layer\": [{\"mark\": {\"type\": \"boxplot\", \"median\": {\"stroke\": \"black\", \"strokeWidth\": 0.7}, \"ticks\": true}, \"encoding\": {\"color\": {\"field\": \"Null_Imputer_Name\", \"sort\": [\"deletion\", \"median-mode\", \"median-dummy\", \"miss_forest\", \"k_means_clustering\", \"datawig\", \"automl\", \"boost_clean\"], \"title\": null, \"type\": \"nominal\"}, \"x\": {\"axis\": {\"labels\": false}, \"field\": \"Null_Imputer_Name\", \"sort\": [\"deletion\", \"median-mode\", \"median-dummy\", \"miss_forest\", \"k_means_clustering\", \"datawig\", \"automl\", \"boost_clean\"], \"title\": null, \"type\": \"nominal\"}, \"y\": {\"field\": \"Metric_Value\", \"scale\": {\"zero\": false}, \"title\": \"Std Difference\", \"type\": \"quantitative\"}}}, {\"mark\": \"rule\", \"encoding\": {\"color\": {\"value\": \"blue\"}, \"size\": {\"value\": 2}, \"y\": {\"field\": \"Baseline_Median\", \"type\": \"quantitative\"}}}], \"width\": 150}, \"resolve\": {\"scale\": {\"x\": \"independent\"}}, \"$schema\": \"https://vega.github.io/schema/vega-lite/v4.17.0.json\", \"datasets\": {\"data-0feb9c4b57072695c2b9369c27f22ebd\": [{\"Metric\": \"Std_Difference\", \"Metric_Value\": -0.0028880541421238554, \"Model_Name\": \"gandalf_clf\", \"Null_Imputer_Name\": \"deletion\", \"Evaluation_Scenario\": \"mixed_exp\", \"Virny_Random_State\": 400, \"Test_Set_Index\": 0, \"Dataset_Name\": \"heart\", \"Baseline_Median\": -0.00223514189444805}, {\"Metric\": \"Std_Difference\", \"Metric_Value\": -0.00375358706044851, \"Model_Name\": \"gandalf_clf\", \"Null_Imputer_Name\": \"deletion\", \"Evaluation_Scenario\": \"mixed_exp\", \"Virny_Random_State\": 500, \"Test_Set_Index\": 0, \"Dataset_Name\": \"heart\", \"Baseline_Median\": -0.00223514189444805}, {\"Metric\": \"Std_Difference\", \"Metric_Value\": -0.003845307943395146, \"Model_Name\": \"gandalf_clf\", \"Null_Imputer_Name\": \"deletion\", \"Evaluation_Scenario\": \"mixed_exp\", \"Virny_Random_State\": 100, \"Test_Set_Index\": 0, \"Dataset_Name\": \"heart\", \"Baseline_Median\": -0.00223514189444805}, {\"Metric\": \"Std_Difference\", \"Metric_Value\": -0.0016489874988028438, \"Model_Name\": \"gandalf_clf\", \"Null_Imputer_Name\": \"deletion\", \"Evaluation_Scenario\": \"mixed_exp\", \"Virny_Random_State\": 300, \"Test_Set_Index\": 0, \"Dataset_Name\": \"heart\", \"Baseline_Median\": -0.00223514189444805}, {\"Metric\": \"Std_Difference\", \"Metric_Value\": -0.002700049961958273, \"Model_Name\": \"gandalf_clf\", \"Null_Imputer_Name\": \"deletion\", \"Evaluation_Scenario\": \"mixed_exp\", \"Virny_Random_State\": 200, \"Test_Set_Index\": 0, \"Dataset_Name\": \"heart\", \"Baseline_Median\": -0.00223514189444805}, {\"Metric\": \"Std_Difference\", \"Metric_Value\": -0.0021238373795685953, \"Model_Name\": \"gandalf_clf\", \"Null_Imputer_Name\": \"deletion\", \"Evaluation_Scenario\": \"mixed_exp\", \"Virny_Random_State\": 600, \"Test_Set_Index\": 0, \"Dataset_Name\": \"heart\", \"Baseline_Median\": -0.00223514189444805}, {\"Metric\": \"Std_Difference\", \"Metric_Value\": -0.0011766118151335311, \"Model_Name\": \"gandalf_clf\", \"Null_Imputer_Name\": \"datawig\", \"Evaluation_Scenario\": \"mixed_exp\", \"Virny_Random_State\": 400, \"Test_Set_Index\": 0, \"Dataset_Name\": \"heart\", \"Baseline_Median\": -0.00223514189444805}, {\"Metric\": \"Std_Difference\", \"Metric_Value\": -0.0027895747521370987, \"Model_Name\": \"gandalf_clf\", \"Null_Imputer_Name\": \"datawig\", \"Evaluation_Scenario\": \"mixed_exp\", \"Virny_Random_State\": 500, \"Test_Set_Index\": 0, \"Dataset_Name\": \"heart\", \"Baseline_Median\": -0.00223514189444805}, {\"Metric\": \"Std_Difference\", \"Metric_Value\": -0.0025493669122438334, \"Model_Name\": \"gandalf_clf\", \"Null_Imputer_Name\": \"datawig\", \"Evaluation_Scenario\": \"mixed_exp\", \"Virny_Random_State\": 100, \"Test_Set_Index\": 0, \"Dataset_Name\": \"heart\", \"Baseline_Median\": -0.00223514189444805}, {\"Metric\": \"Std_Difference\", \"Metric_Value\": -0.0016578845945627585, \"Model_Name\": \"gandalf_clf\", \"Null_Imputer_Name\": \"datawig\", \"Evaluation_Scenario\": \"mixed_exp\", \"Virny_Random_State\": 300, \"Test_Set_Index\": 0, \"Dataset_Name\": \"heart\", \"Baseline_Median\": -0.00223514189444805}, {\"Metric\": \"Std_Difference\", \"Metric_Value\": -0.0030783378729035762, \"Model_Name\": \"gandalf_clf\", \"Null_Imputer_Name\": \"datawig\", \"Evaluation_Scenario\": \"mixed_exp\", \"Virny_Random_State\": 200, \"Test_Set_Index\": 0, \"Dataset_Name\": \"heart\", \"Baseline_Median\": -0.00223514189444805}, {\"Metric\": \"Std_Difference\", \"Metric_Value\": -0.002538523409562621, \"Model_Name\": \"gandalf_clf\", \"Null_Imputer_Name\": \"datawig\", \"Evaluation_Scenario\": \"mixed_exp\", \"Virny_Random_State\": 600, \"Test_Set_Index\": 0, \"Dataset_Name\": \"heart\", \"Baseline_Median\": -0.00223514189444805}, {\"Metric\": \"Std_Difference\", \"Metric_Value\": -0.0017029469519205045, \"Model_Name\": \"gandalf_clf\", \"Null_Imputer_Name\": \"k_means_clustering\", \"Evaluation_Scenario\": \"mixed_exp\", \"Virny_Random_State\": 400, \"Test_Set_Index\": 0, \"Dataset_Name\": \"heart\", \"Baseline_Median\": -0.00223514189444805}, {\"Metric\": \"Std_Difference\", \"Metric_Value\": -0.003402268792626763, \"Model_Name\": \"gandalf_clf\", \"Null_Imputer_Name\": \"k_means_clustering\", \"Evaluation_Scenario\": \"mixed_exp\", \"Virny_Random_State\": 500, \"Test_Set_Index\": 0, \"Dataset_Name\": \"heart\", \"Baseline_Median\": -0.00223514189444805}, {\"Metric\": \"Std_Difference\", \"Metric_Value\": -0.0021517171778767524, \"Model_Name\": \"gandalf_clf\", \"Null_Imputer_Name\": \"k_means_clustering\", \"Evaluation_Scenario\": \"mixed_exp\", \"Virny_Random_State\": 100, \"Test_Set_Index\": 0, \"Dataset_Name\": \"heart\", \"Baseline_Median\": -0.00223514189444805}, {\"Metric\": \"Std_Difference\", \"Metric_Value\": -0.001675513289423683, \"Model_Name\": \"gandalf_clf\", \"Null_Imputer_Name\": \"k_means_clustering\", \"Evaluation_Scenario\": \"mixed_exp\", \"Virny_Random_State\": 300, \"Test_Set_Index\": 0, \"Dataset_Name\": \"heart\", \"Baseline_Median\": -0.00223514189444805}, {\"Metric\": \"Std_Difference\", \"Metric_Value\": -0.0027815898683467913, \"Model_Name\": \"gandalf_clf\", \"Null_Imputer_Name\": \"k_means_clustering\", \"Evaluation_Scenario\": \"mixed_exp\", \"Virny_Random_State\": 200, \"Test_Set_Index\": 0, \"Dataset_Name\": \"heart\", \"Baseline_Median\": -0.00223514189444805}, {\"Metric\": \"Std_Difference\", \"Metric_Value\": -0.0024950839019298385, \"Model_Name\": \"gandalf_clf\", \"Null_Imputer_Name\": \"k_means_clustering\", \"Evaluation_Scenario\": \"mixed_exp\", \"Virny_Random_State\": 600, \"Test_Set_Index\": 0, \"Dataset_Name\": \"heart\", \"Baseline_Median\": -0.00223514189444805}, {\"Metric\": \"Std_Difference\", \"Metric_Value\": -0.001152115329153526, \"Model_Name\": \"gandalf_clf\", \"Null_Imputer_Name\": \"automl\", \"Evaluation_Scenario\": \"mixed_exp\", \"Virny_Random_State\": 400, \"Test_Set_Index\": 0, \"Dataset_Name\": \"heart\", \"Baseline_Median\": -0.00223514189444805}, {\"Metric\": \"Std_Difference\", \"Metric_Value\": -0.002815330001154491, \"Model_Name\": \"gandalf_clf\", \"Null_Imputer_Name\": \"automl\", \"Evaluation_Scenario\": \"mixed_exp\", \"Virny_Random_State\": 500, \"Test_Set_Index\": 0, \"Dataset_Name\": \"heart\", \"Baseline_Median\": -0.00223514189444805}, {\"Metric\": \"Std_Difference\", \"Metric_Value\": -0.0023473333716024364, \"Model_Name\": \"gandalf_clf\", \"Null_Imputer_Name\": \"automl\", \"Evaluation_Scenario\": \"mixed_exp\", \"Virny_Random_State\": 100, \"Test_Set_Index\": 0, \"Dataset_Name\": \"heart\", \"Baseline_Median\": -0.00223514189444805}, {\"Metric\": \"Std_Difference\", \"Metric_Value\": -0.0012571034893065006, \"Model_Name\": \"gandalf_clf\", \"Null_Imputer_Name\": \"automl\", \"Evaluation_Scenario\": \"mixed_exp\", \"Virny_Random_State\": 300, \"Test_Set_Index\": 0, \"Dataset_Name\": \"heart\", \"Baseline_Median\": -0.00223514189444805}, {\"Metric\": \"Std_Difference\", \"Metric_Value\": -0.0031378726171938306, \"Model_Name\": \"gandalf_clf\", \"Null_Imputer_Name\": \"automl\", \"Evaluation_Scenario\": \"mixed_exp\", \"Virny_Random_State\": 200, \"Test_Set_Index\": 0, \"Dataset_Name\": \"heart\", \"Baseline_Median\": -0.00223514189444805}, {\"Metric\": \"Std_Difference\", \"Metric_Value\": -0.002752035664216869, \"Model_Name\": \"gandalf_clf\", \"Null_Imputer_Name\": \"automl\", \"Evaluation_Scenario\": \"mixed_exp\", \"Virny_Random_State\": 600, \"Test_Set_Index\": 0, \"Dataset_Name\": \"heart\", \"Baseline_Median\": -0.00223514189444805}, {\"Metric\": \"Std_Difference\", \"Metric_Value\": -0.002810097513144094, \"Model_Name\": \"gandalf_clf\", \"Null_Imputer_Name\": \"median-dummy\", \"Evaluation_Scenario\": \"mixed_exp\", \"Virny_Random_State\": 400, \"Test_Set_Index\": 0, \"Dataset_Name\": \"heart\", \"Baseline_Median\": -0.00223514189444805}, {\"Metric\": \"Std_Difference\", \"Metric_Value\": -0.0014022108283889903, \"Model_Name\": \"gandalf_clf\", \"Null_Imputer_Name\": \"median-dummy\", \"Evaluation_Scenario\": \"mixed_exp\", \"Virny_Random_State\": 500, \"Test_Set_Index\": 0, \"Dataset_Name\": \"heart\", \"Baseline_Median\": -0.00223514189444805}, {\"Metric\": \"Std_Difference\", \"Metric_Value\": -0.002212511648068599, \"Model_Name\": \"gandalf_clf\", \"Null_Imputer_Name\": \"median-dummy\", \"Evaluation_Scenario\": \"mixed_exp\", \"Virny_Random_State\": 100, \"Test_Set_Index\": 0, \"Dataset_Name\": \"heart\", \"Baseline_Median\": -0.00223514189444805}, {\"Metric\": \"Std_Difference\", \"Metric_Value\": -0.0022818283138058004, \"Model_Name\": \"gandalf_clf\", \"Null_Imputer_Name\": \"median-dummy\", \"Evaluation_Scenario\": \"mixed_exp\", \"Virny_Random_State\": 300, \"Test_Set_Index\": 0, \"Dataset_Name\": \"heart\", \"Baseline_Median\": -0.00223514189444805}, {\"Metric\": \"Std_Difference\", \"Metric_Value\": -0.003415653233997701, \"Model_Name\": \"gandalf_clf\", \"Null_Imputer_Name\": \"median-dummy\", \"Evaluation_Scenario\": \"mixed_exp\", \"Virny_Random_State\": 200, \"Test_Set_Index\": 0, \"Dataset_Name\": \"heart\", \"Baseline_Median\": -0.00223514189444805}, {\"Metric\": \"Std_Difference\", \"Metric_Value\": -0.0010855113397609181, \"Model_Name\": \"gandalf_clf\", \"Null_Imputer_Name\": \"median-dummy\", \"Evaluation_Scenario\": \"mixed_exp\", \"Virny_Random_State\": 600, \"Test_Set_Index\": 0, \"Dataset_Name\": \"heart\", \"Baseline_Median\": -0.00223514189444805}, {\"Metric\": \"Std_Difference\", \"Metric_Value\": -0.0013571829260314722, \"Model_Name\": \"gandalf_clf\", \"Null_Imputer_Name\": \"miss_forest\", \"Evaluation_Scenario\": \"mixed_exp\", \"Virny_Random_State\": 400, \"Test_Set_Index\": 0, \"Dataset_Name\": \"heart\", \"Baseline_Median\": -0.00223514189444805}, {\"Metric\": \"Std_Difference\", \"Metric_Value\": -0.0027756391046838205, \"Model_Name\": \"gandalf_clf\", \"Null_Imputer_Name\": \"miss_forest\", \"Evaluation_Scenario\": \"mixed_exp\", \"Virny_Random_State\": 500, \"Test_Set_Index\": 0, \"Dataset_Name\": \"heart\", \"Baseline_Median\": -0.00223514189444805}, {\"Metric\": \"Std_Difference\", \"Metric_Value\": -0.0022906531347487574, \"Model_Name\": \"gandalf_clf\", \"Null_Imputer_Name\": \"miss_forest\", \"Evaluation_Scenario\": \"mixed_exp\", \"Virny_Random_State\": 100, \"Test_Set_Index\": 0, \"Dataset_Name\": \"heart\", \"Baseline_Median\": -0.00223514189444805}, {\"Metric\": \"Std_Difference\", \"Metric_Value\": -0.0013697201237955411, \"Model_Name\": \"gandalf_clf\", \"Null_Imputer_Name\": \"miss_forest\", \"Evaluation_Scenario\": \"mixed_exp\", \"Virny_Random_State\": 300, \"Test_Set_Index\": 0, \"Dataset_Name\": \"heart\", \"Baseline_Median\": -0.00223514189444805}, {\"Metric\": \"Std_Difference\", \"Metric_Value\": -0.0029678726231519223, \"Model_Name\": \"gandalf_clf\", \"Null_Imputer_Name\": \"miss_forest\", \"Evaluation_Scenario\": \"mixed_exp\", \"Virny_Random_State\": 200, \"Test_Set_Index\": 0, \"Dataset_Name\": \"heart\", \"Baseline_Median\": -0.00223514189444805}, {\"Metric\": \"Std_Difference\", \"Metric_Value\": -0.0023671608195519472, \"Model_Name\": \"gandalf_clf\", \"Null_Imputer_Name\": \"miss_forest\", \"Evaluation_Scenario\": \"mixed_exp\", \"Virny_Random_State\": 600, \"Test_Set_Index\": 0, \"Dataset_Name\": \"heart\", \"Baseline_Median\": -0.00223514189444805}, {\"Metric\": \"Std_Difference\", \"Metric_Value\": -0.0011623633336592526, \"Model_Name\": \"gandalf_clf\", \"Null_Imputer_Name\": \"median-mode\", \"Evaluation_Scenario\": \"mixed_exp\", \"Virny_Random_State\": 400, \"Test_Set_Index\": 0, \"Dataset_Name\": \"heart\", \"Baseline_Median\": -0.00223514189444805}, {\"Metric\": \"Std_Difference\", \"Metric_Value\": -0.002798845144728737, \"Model_Name\": \"gandalf_clf\", \"Null_Imputer_Name\": \"median-mode\", \"Evaluation_Scenario\": \"mixed_exp\", \"Virny_Random_State\": 500, \"Test_Set_Index\": 0, \"Dataset_Name\": \"heart\", \"Baseline_Median\": -0.00223514189444805}, {\"Metric\": \"Std_Difference\", \"Metric_Value\": -0.002485140412293564, \"Model_Name\": \"gandalf_clf\", \"Null_Imputer_Name\": \"median-mode\", \"Evaluation_Scenario\": \"mixed_exp\", \"Virny_Random_State\": 100, \"Test_Set_Index\": 0, \"Dataset_Name\": \"heart\", \"Baseline_Median\": -0.00223514189444805}, {\"Metric\": \"Std_Difference\", \"Metric_Value\": -0.0012017977367941093, \"Model_Name\": \"gandalf_clf\", \"Null_Imputer_Name\": \"median-mode\", \"Evaluation_Scenario\": \"mixed_exp\", \"Virny_Random_State\": 300, \"Test_Set_Index\": 0, \"Dataset_Name\": \"heart\", \"Baseline_Median\": -0.00223514189444805}, {\"Metric\": \"Std_Difference\", \"Metric_Value\": -0.0032025072786813907, \"Model_Name\": \"gandalf_clf\", \"Null_Imputer_Name\": \"median-mode\", \"Evaluation_Scenario\": \"mixed_exp\", \"Virny_Random_State\": 200, \"Test_Set_Index\": 0, \"Dataset_Name\": \"heart\", \"Baseline_Median\": -0.00223514189444805}, {\"Metric\": \"Std_Difference\", \"Metric_Value\": -0.0027434669676463797, \"Model_Name\": \"gandalf_clf\", \"Null_Imputer_Name\": \"median-mode\", \"Evaluation_Scenario\": \"mixed_exp\", \"Virny_Random_State\": 600, \"Test_Set_Index\": 0, \"Dataset_Name\": \"heart\", \"Baseline_Median\": -0.00223514189444805}]}}, {\"mode\": \"vega-lite\"});\n",
       "</script>"
      ],
      "text/plain": [
       "alt.FacetChart(...)"
      ]
     },
     "execution_count": 17,
     "metadata": {},
     "output_type": "execute_result"
    }
   ],
   "execution_count": 17
  },
  {
   "cell_type": "code",
   "id": "5e7dd03257cbb178",
   "metadata": {
    "collapsed": false,
    "jupyter": {
     "outputs_hidden": false
    },
    "ExecuteTime": {
     "end_time": "2024-09-22T09:28:09.143626Z",
     "start_time": "2024-09-22T09:28:09.093907Z"
    }
   },
   "source": [
    "db_client.close()"
   ],
   "outputs": [],
   "execution_count": 18
  },
  {
   "cell_type": "code",
   "id": "146c7cdf70e31894",
   "metadata": {
    "collapsed": false,
    "jupyter": {
     "outputs_hidden": false
    },
    "ExecuteTime": {
     "end_time": "2024-09-22T09:28:09.159002Z",
     "start_time": "2024-09-22T09:28:09.157186Z"
    }
   },
   "source": [],
   "outputs": [],
   "execution_count": null
  }
 ],
 "metadata": {
  "kernelspec": {
   "display_name": "Python 3 (ipykernel)",
   "language": "python",
   "name": "python3"
  },
  "language_info": {
   "codemirror_mode": {
    "name": "ipython",
    "version": 3
   },
   "file_extension": ".py",
   "mimetype": "text/x-python",
   "name": "python",
   "nbconvert_exporter": "python",
   "pygments_lexer": "ipython3",
   "version": "3.9.6"
  }
 },
 "nbformat": 4,
 "nbformat_minor": 5
}
