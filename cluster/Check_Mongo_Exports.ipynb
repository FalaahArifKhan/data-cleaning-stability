{
 "cells": [
  {
   "cell_type": "code",
   "execution_count": 1,
   "id": "initial_id",
   "metadata": {
    "collapsed": true,
    "ExecuteTime": {
     "end_time": "2024-05-19T16:19:37.303916Z",
     "start_time": "2024-05-19T16:19:37.062433Z"
    }
   },
   "outputs": [],
   "source": [
    "import pandas as pd"
   ]
  },
  {
   "cell_type": "code",
   "execution_count": 2,
   "outputs": [],
   "source": [
    "df = pd.read_csv('/Users/denys_herasymuk/Research/NYU/Uncertainty_Project/mongo_exports/exp_one_repair_lvl_many_models_collection.csv',\n",
    "                 delimiter=',')"
   ],
   "metadata": {
    "collapsed": false,
    "ExecuteTime": {
     "end_time": "2024-05-19T16:19:37.525221Z",
     "start_time": "2024-05-19T16:19:37.306786Z"
    }
   },
   "id": "1a9232dc7aada6d0"
  },
  {
   "cell_type": "code",
   "execution_count": 3,
   "outputs": [
    {
     "data": {
      "text/plain": "_id                             65664\nbootstrap_model_seed            65664\ndataset_name                    65664\ndataset_split_seed              65664\nexperiment_iteration            65664\nfair_intervention_params_lst    65664\nintervention_param              65664\nmetric                          65664\nmetric_value                    65664\nmodel_init_seed                 65664\nmodel_name                      65664\nmodel_params                    65664\nnum_estimators                  65664\nrecord_create_date_time         65664\nrun_number                      65664\nsession_uuid                    65664\nsubgroup                        65664\ntag                             65664\ntest_set_index                  65664\ndtype: int64"
     },
     "execution_count": 3,
     "metadata": {},
     "output_type": "execute_result"
    }
   ],
   "source": [
    "df.count()"
   ],
   "metadata": {
    "collapsed": false,
    "ExecuteTime": {
     "end_time": "2024-05-19T16:19:37.581479Z",
     "start_time": "2024-05-19T16:19:37.526138Z"
    }
   },
   "id": "4140d7991e82db9"
  },
  {
   "cell_type": "code",
   "execution_count": 5,
   "outputs": [
    {
     "data": {
      "text/plain": "                                  _id  bootstrap_model_seed  \\\n0  ObjectId(64b1c11ae6b04d6f8f7e252c)                   100   \n1  ObjectId(64b1c11ae6b04d6f8f7e2526)                   100   \n2  ObjectId(64b1c11ae6b04d6f8f7e2521)                   100   \n3  ObjectId(64b1c11ae6b04d6f8f7e2532)                   100   \n4  ObjectId(64b1c11ae6b04d6f8f7e2525)                   100   \n\n                    dataset_name  dataset_split_seed experiment_iteration  \\\n0  Folktables_NY_2018_Employment                 100           Exp_iter_1   \n1  Folktables_NY_2018_Employment                 100           Exp_iter_1   \n2  Folktables_NY_2018_Employment                 100           Exp_iter_1   \n3  Folktables_NY_2018_Employment                 100           Exp_iter_1   \n4  Folktables_NY_2018_Employment                 100           Exp_iter_1   \n\n  fair_intervention_params_lst  intervention_param               metric  \\\n0                   [0.0, 0.5]                 0.0                  FPR   \n1                   [0.0, 0.5]                 0.0  Per_Sample_Accuracy   \n2                   [0.0, 0.5]                 0.0                  Std   \n3                   [0.0, 0.5]                 0.0                 Mean   \n4                   [0.0, 0.5]                 0.0               Jitter   \n\n   metric_value  model_init_seed      model_name  \\\n0      0.295943              100  LGBMClassifier   \n1      0.802021              100  LGBMClassifier   \n2      0.056178              100  LGBMClassifier   \n3      0.395942              100  LGBMClassifier   \n4      0.052654              100  LGBMClassifier   \n\n                                        model_params  num_estimators  \\\n0  {'boosting_type': 'gbdt', 'class_weight': None...             200   \n1  {'boosting_type': 'gbdt', 'class_weight': None...             200   \n2  {'boosting_type': 'gbdt', 'class_weight': None...             200   \n3  {'boosting_type': 'gbdt', 'class_weight': None...             200   \n4  {'boosting_type': 'gbdt', 'class_weight': None...             200   \n\n    record_create_date_time run_number                          session_uuid  \\\n0  2023-07-14T21:41:46.704Z      Run_1  42eab82d-3396-491d-a457-6260b1caecae   \n1  2023-07-14T21:41:46.704Z      Run_1  42eab82d-3396-491d-a457-6260b1caecae   \n2  2023-07-14T21:41:46.704Z      Run_1  42eab82d-3396-491d-a457-6260b1caecae   \n3  2023-07-14T21:41:46.704Z      Run_1  42eab82d-3396-491d-a457-6260b1caecae   \n4  2023-07-14T21:41:46.704Z      Run_1  42eab82d-3396-491d-a457-6260b1caecae   \n\n           subgroup tag  test_set_index  \n0          SEX_priv  OK               0  \n1          SEX_priv  OK               0  \n2          SEX_priv  OK               0  \n3  SEX_priv_correct  OK               0  \n4          SEX_priv  OK               0  ",
      "text/html": "<div>\n<style scoped>\n    .dataframe tbody tr th:only-of-type {\n        vertical-align: middle;\n    }\n\n    .dataframe tbody tr th {\n        vertical-align: top;\n    }\n\n    .dataframe thead th {\n        text-align: right;\n    }\n</style>\n<table border=\"1\" class=\"dataframe\">\n  <thead>\n    <tr style=\"text-align: right;\">\n      <th></th>\n      <th>_id</th>\n      <th>bootstrap_model_seed</th>\n      <th>dataset_name</th>\n      <th>dataset_split_seed</th>\n      <th>experiment_iteration</th>\n      <th>fair_intervention_params_lst</th>\n      <th>intervention_param</th>\n      <th>metric</th>\n      <th>metric_value</th>\n      <th>model_init_seed</th>\n      <th>model_name</th>\n      <th>model_params</th>\n      <th>num_estimators</th>\n      <th>record_create_date_time</th>\n      <th>run_number</th>\n      <th>session_uuid</th>\n      <th>subgroup</th>\n      <th>tag</th>\n      <th>test_set_index</th>\n    </tr>\n  </thead>\n  <tbody>\n    <tr>\n      <th>0</th>\n      <td>ObjectId(64b1c11ae6b04d6f8f7e252c)</td>\n      <td>100</td>\n      <td>Folktables_NY_2018_Employment</td>\n      <td>100</td>\n      <td>Exp_iter_1</td>\n      <td>[0.0, 0.5]</td>\n      <td>0.0</td>\n      <td>FPR</td>\n      <td>0.295943</td>\n      <td>100</td>\n      <td>LGBMClassifier</td>\n      <td>{'boosting_type': 'gbdt', 'class_weight': None...</td>\n      <td>200</td>\n      <td>2023-07-14T21:41:46.704Z</td>\n      <td>Run_1</td>\n      <td>42eab82d-3396-491d-a457-6260b1caecae</td>\n      <td>SEX_priv</td>\n      <td>OK</td>\n      <td>0</td>\n    </tr>\n    <tr>\n      <th>1</th>\n      <td>ObjectId(64b1c11ae6b04d6f8f7e2526)</td>\n      <td>100</td>\n      <td>Folktables_NY_2018_Employment</td>\n      <td>100</td>\n      <td>Exp_iter_1</td>\n      <td>[0.0, 0.5]</td>\n      <td>0.0</td>\n      <td>Per_Sample_Accuracy</td>\n      <td>0.802021</td>\n      <td>100</td>\n      <td>LGBMClassifier</td>\n      <td>{'boosting_type': 'gbdt', 'class_weight': None...</td>\n      <td>200</td>\n      <td>2023-07-14T21:41:46.704Z</td>\n      <td>Run_1</td>\n      <td>42eab82d-3396-491d-a457-6260b1caecae</td>\n      <td>SEX_priv</td>\n      <td>OK</td>\n      <td>0</td>\n    </tr>\n    <tr>\n      <th>2</th>\n      <td>ObjectId(64b1c11ae6b04d6f8f7e2521)</td>\n      <td>100</td>\n      <td>Folktables_NY_2018_Employment</td>\n      <td>100</td>\n      <td>Exp_iter_1</td>\n      <td>[0.0, 0.5]</td>\n      <td>0.0</td>\n      <td>Std</td>\n      <td>0.056178</td>\n      <td>100</td>\n      <td>LGBMClassifier</td>\n      <td>{'boosting_type': 'gbdt', 'class_weight': None...</td>\n      <td>200</td>\n      <td>2023-07-14T21:41:46.704Z</td>\n      <td>Run_1</td>\n      <td>42eab82d-3396-491d-a457-6260b1caecae</td>\n      <td>SEX_priv</td>\n      <td>OK</td>\n      <td>0</td>\n    </tr>\n    <tr>\n      <th>3</th>\n      <td>ObjectId(64b1c11ae6b04d6f8f7e2532)</td>\n      <td>100</td>\n      <td>Folktables_NY_2018_Employment</td>\n      <td>100</td>\n      <td>Exp_iter_1</td>\n      <td>[0.0, 0.5]</td>\n      <td>0.0</td>\n      <td>Mean</td>\n      <td>0.395942</td>\n      <td>100</td>\n      <td>LGBMClassifier</td>\n      <td>{'boosting_type': 'gbdt', 'class_weight': None...</td>\n      <td>200</td>\n      <td>2023-07-14T21:41:46.704Z</td>\n      <td>Run_1</td>\n      <td>42eab82d-3396-491d-a457-6260b1caecae</td>\n      <td>SEX_priv_correct</td>\n      <td>OK</td>\n      <td>0</td>\n    </tr>\n    <tr>\n      <th>4</th>\n      <td>ObjectId(64b1c11ae6b04d6f8f7e2525)</td>\n      <td>100</td>\n      <td>Folktables_NY_2018_Employment</td>\n      <td>100</td>\n      <td>Exp_iter_1</td>\n      <td>[0.0, 0.5]</td>\n      <td>0.0</td>\n      <td>Jitter</td>\n      <td>0.052654</td>\n      <td>100</td>\n      <td>LGBMClassifier</td>\n      <td>{'boosting_type': 'gbdt', 'class_weight': None...</td>\n      <td>200</td>\n      <td>2023-07-14T21:41:46.704Z</td>\n      <td>Run_1</td>\n      <td>42eab82d-3396-491d-a457-6260b1caecae</td>\n      <td>SEX_priv</td>\n      <td>OK</td>\n      <td>0</td>\n    </tr>\n  </tbody>\n</table>\n</div>"
     },
     "execution_count": 5,
     "metadata": {},
     "output_type": "execute_result"
    }
   ],
   "source": [
    "df.head()"
   ],
   "metadata": {
    "collapsed": false,
    "ExecuteTime": {
     "end_time": "2024-05-19T16:20:15.619070Z",
     "start_time": "2024-05-19T16:20:15.610746Z"
    }
   },
   "id": "8417d36829cc37f8"
  },
  {
   "cell_type": "code",
   "execution_count": 4,
   "outputs": [],
   "source": [],
   "metadata": {
    "collapsed": false,
    "ExecuteTime": {
     "end_time": "2024-05-19T16:19:37.592177Z",
     "start_time": "2024-05-19T16:19:37.590279Z"
    }
   },
   "id": "2ff21b645e3971a2"
  }
 ],
 "metadata": {
  "kernelspec": {
   "display_name": "Python 3",
   "language": "python",
   "name": "python3"
  },
  "language_info": {
   "codemirror_mode": {
    "name": "ipython",
    "version": 2
   },
   "file_extension": ".py",
   "mimetype": "text/x-python",
   "name": "python",
   "nbconvert_exporter": "python",
   "pygments_lexer": "ipython2",
   "version": "2.7.6"
  }
 },
 "nbformat": 4,
 "nbformat_minor": 5
}
